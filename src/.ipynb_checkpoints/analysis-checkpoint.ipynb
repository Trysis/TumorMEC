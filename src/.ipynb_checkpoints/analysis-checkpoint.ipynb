{
 "cells": [
  {
   "cell_type": "markdown",
   "id": "56fcffa2-cf65-4360-ac6c-809d60635b64",
   "metadata": {},
   "source": []
  },
  {
   "cell_type": "code",
   "execution_count": 12,
   "id": "9d7d24b2-c4e6-4236-a198-d15d0bcea981",
   "metadata": {},
   "outputs": [],
   "source": [
    "# Import modules\n",
    "import auxiliary\n",
    "import gzip"
   ]
  },
  {
   "cell_type": "code",
   "execution_count": 47,
   "id": "c3f1f689-42f8-4da1-9429-2eb5f52c310a",
   "metadata": {},
   "outputs": [],
   "source": [
    "filepath_wt = \"../data/WTconcatenate.csv.gz\"\n",
    "filepath_ki = \"../data/KIconcatenate.csv.gz\"\n",
    "\n",
    "df_wt = auxiliary.read_dataframe(filepath_wt, low_memory=False)\n",
    "df_ki = auxiliary.read_dataframe(filepath_ki, low_memory=False)"
   ]
  },
  {
   "cell_type": "code",
   "execution_count": null,
   "id": "1c4f6d42-50c1-48bd-a722-ff168d35d890",
   "metadata": {},
   "outputs": [],
   "source": [
    "df_wt"
   ]
  },
  {
   "cell_type": "code",
   "execution_count": 46,
   "id": "b52d8bba-1a84-42a8-942a-1fcbd4cb6387",
   "metadata": {},
   "outputs": [
    {
     "name": "stdout",
     "output_type": "stream",
     "text": [
      "Index(['Condition', 'FileName', 'X', 'Y', 'Coherency100', 'Energy100',\n",
      "       'MeanInt100', 'VarInt100', 'Density100', 'VarDensity100',\n",
      "       'Coherency140', 'Energy140', 'MeanInt140', 'VarInt140', 'Density140',\n",
      "       'VarDensity140', 'Coherency20', 'Energy20', 'MeanInt20', 'VarInt20',\n",
      "       'Density20', 'VarDensity20', 'Coherency60', 'Energy60', 'MeanInt60',\n",
      "       'VarInt60', 'Density60', 'VarDensity60', 'OrientationRef20',\n",
      "       'OrientationRef60', 'OrientationRef100', 'OrientationRef140', 'Dist',\n",
      "       'Angle20', 'Angle60', 'Angle100', 'Angle140', 'Mask', 'Type', 'Cells',\n",
      "       'MinDist', 'MedDist', 'CellArea', 'CellEcc', 'Cells100um',\n",
      "       'MinDist100um', 'MedDist100um', 'CellArea100um', 'CellEcc100um',\n",
      "       'Frac'],\n",
      "      dtype='object')\n",
      "Coherency100\n",
      "2.000000e-03    19038\n",
      "3.000000e-03    14173\n",
      "1.000000e-03    13469\n",
      "9.200000e-02    12693\n",
      "9.300000e-02    12653\n",
      "                ...  \n",
      "4.162000e-07        1\n",
      "2.589000e-09        1\n",
      "7.767000e-10        1\n",
      "3.542000e-11        1\n",
      "9.955000e-06        1\n",
      "Name: count, Length: 65511, dtype: int64\n"
     ]
    }
   ],
   "source": [
    "print(df_wt.columns)\n",
    "{\n",
    "    **dict.fromkeys(['bar', 'delta_bar'], lambda ax: ax.bar)\n",
    "}\n",
    "{\"Condition\": ,\n",
    "\"FileName\",\n",
    "\"X\",\n",
    "\"Y\",\n",
    "\"Coherency100\",\n",
    "'Energy100',\n",
    "'MeanInt100',\n",
    "'VarInt100',\n",
    "'Density100',\n",
    "'VarDensity100',\n",
    "'Coherency140',\n",
    "'Energy140',\n",
    "'MeanInt140',\n",
    "'VarInt140',\n",
    "'Density140',\n",
    "'VarDensity140',\n",
    "'Coherency20',\n",
    "'Energy20',\n",
    "'MeanInt20',\n",
    "'VarInt20',\n",
    "'Density20',\n",
    "'VarDensity20',\n",
    "'Coherency60',\n",
    "'Energy60',\n",
    "'MeanInt60',\n",
    "'VarInt60',\n",
    "'Density60',\n",
    "'VarDensity60',\n",
    "'OrientationRef20',\n",
    "'OrientationRef60',\n",
    "'OrientationRef100',\n",
    "'OrientationRef140',\n",
    "'Dist',\n",
    "'Angle20',\n",
    "'Angle60',\n",
    "'Angle100',\n",
    "'Angle140',\n",
    "'Mask',\n",
    "'Type',\n",
    "'Cells',\n",
    "'MinDist',\n",
    "'MedDist',\n",
    "'CellArea',\n",
    "'CellEcc',\n",
    "'Cells100um',\n",
    "'MinDist100um',\n",
    "'MedDist100um',\n",
    "'CellArea100um',\n",
    "'CellEcc100um',\n",
    "'Frac'\n",
    "print(df_wt[\"Coherency100\"].value_counts())"
   ]
  },
  {
   "cell_type": "code",
   "execution_count": 39,
   "id": "90c48041-adb5-4f2d-8df1-ebce103cb505",
   "metadata": {},
   "outputs": [
    {
     "data": {
      "text/plain": [
       "Type\n",
       "CD3    2273788\n",
       "Ly6    1342185\n",
       "Name: count, dtype: int64"
      ]
     },
     "execution_count": 39,
     "metadata": {},
     "output_type": "execute_result"
    }
   ],
   "source": [
    "df_ki.iloc[:, 38].value_counts()"
   ]
  }
 ],
 "metadata": {
  "kernelspec": {
   "display_name": "Python 3 (ipykernel)",
   "language": "python",
   "name": "python3"
  },
  "language_info": {
   "codemirror_mode": {
    "name": "ipython",
    "version": 3
   },
   "file_extension": ".py",
   "mimetype": "text/x-python",
   "name": "python",
   "nbconvert_exporter": "python",
   "pygments_lexer": "ipython3",
   "version": "3.11.5"
  }
 },
 "nbformat": 4,
 "nbformat_minor": 5
}
