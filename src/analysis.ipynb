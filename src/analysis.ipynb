{
 "cells": [
  {
   "cell_type": "markdown",
   "id": "56fcffa2-cf65-4360-ac6c-809d60635b64",
   "metadata": {},
   "source": [
    "# Prediction of tumor immune cell infiltration based on extracellular matrix organization"
   ]
  },
  {
   "cell_type": "code",
   "execution_count": 32,
   "id": "9d7d24b2-c4e6-4236-a198-d15d0bcea981",
   "metadata": {},
   "outputs": [],
   "source": [
    "# Import modules\n",
    "import auxiliary\n",
    "import numpy as np\n",
    "import pandas as pd\n",
    "import matplotlib.pyplot as plt\n",
    "#\n",
    "import ExtractMap"
   ]
  },
  {
   "cell_type": "markdown",
   "id": "009b82e2-30d2-444c-a649-b0fffbd49573",
   "metadata": {},
   "source": [
    "## Lecture du jeu de données\n",
    "\n",
    "On s'intéresse ici à des descripteurs qui sont extraits à partir de différentes positions au sein d'images de coupe histologique de tumeurs."
   ]
  },
  {
   "cell_type": "code",
   "execution_count": 2,
   "id": "c3f1f689-42f8-4da1-9429-2eb5f52c310a",
   "metadata": {},
   "outputs": [],
   "source": [
    "filepath_wt = \"../data/WTconcatenate.csv.gz\"\n",
    "filepath_ki = \"../data/KIconcatenate.csv.gz\"\n",
    "\n",
    "df_wt = auxiliary.read_dataframe(filepath_wt, low_memory=False)\n",
    "df_ki = auxiliary.read_dataframe(filepath_ki, low_memory=False)"
   ]
  },
  {
   "cell_type": "markdown",
   "id": "405a70a8-585c-4f44-99f2-a8b88a904ed3",
   "metadata": {},
   "source": [
    "### Conversion du type des colonnes\n",
    "\n",
    "On attribut à chaque colonne un type spécifique, pour les entier nous les convertissons en type int32 ou uint32 pour les variables strictements positives (ici, X et Y).\n",
    "\n",
    "Les variables à valeurs flottantes sont convertis en float64. Et les variables informant sur la condition (WT/CD64-hDTR), le fichier associé ainsi que le type cellulaire étudié (Ly6/CD3) sont convertis en np.object.\n",
    "\n",
    "Cela est pratique afin de clarifier les types associés aux variables, et pour la gestion de l'espace mémoire."
   ]
  },
  {
   "cell_type": "code",
   "execution_count": 3,
   "id": "b52d8bba-1a84-42a8-942a-1fcbd4cb6387",
   "metadata": {},
   "outputs": [],
   "source": [
    "# Assigned columns to types\n",
    "str_columns = [\"Condition\", \"FileName\", \"Type\"]\n",
    "integer_columns = [\"Mask\"]\n",
    "nonsigned_columns = [\"X\", \"Y\"]\n",
    "float_columns = [\n",
    "    \"Coherency100\", \"Energy100\", \"MeanInt100\", \"VarInt100\", \"Density100\", \"VarDensity100\",\n",
    "    \"Coherency140\", \"Energy140\", \"MeanInt140\", \"VarInt140\", \"Density140\", \"VarDensity140\",\n",
    "    \"Coherency20\", \"Energy20\", \"MeanInt20\", \"VarInt20\", \"Density20\", \"VarDensity20\",\n",
    "    \"Coherency60\", \"Energy60\", \"MeanInt60\", \"VarInt60\", \"Density60\", \"VarDensity60\",\n",
    "    \"OrientationRef20\", \"OrientationRef60\", \"OrientationRef100\", \"OrientationRef140\",\n",
    "    \"Angle20\", \"Angle60\", \"Angle100\", \"Angle140\",\n",
    "    \"Dist\", \"MinDist\", \"MedDist\", \"CellArea\", \"CellEcc\",\n",
    "    \"Cells100um\", \"MinDist100um\", \"MedDist100um\", \"CellArea100um\", \"CellEcc100um\",\n",
    "    \"Frac\", \"Cells\"\n",
    "]\n",
    "\n",
    "# Associate a type to each columns\n",
    "data_type = {\n",
    "    **dict.fromkeys(str_columns, object),\n",
    "    **dict.fromkeys(nonsigned_columns, np.uint32),\n",
    "    **dict.fromkeys(float_columns, np.float64),\n",
    "    **dict.fromkeys(integer_columns, np.int32)\n",
    "}\n",
    "\n",
    "df_wt = df_wt.astype(data_type)\n",
    "df_ki = df_ki.astype(data_type)\n",
    "\n",
    "# Fusion des deux jeu de données\n",
    "df_all = pd.concat([df_wt, df_ki])\n",
    "print(f\"Nombre de lignes au sein du jeu de données total: {df_all.shape[0]}\")\n",
    "print(f\"Nombre de colonnes au sein du jeu de données total: {df_all.shape[1]}\")"
   ]
  },
  {
   "cell_type": "markdown",
   "id": "24d1dc32-3aeb-47aa-9861-cbc4deb6dc53",
   "metadata": {},
   "source": [
    "## Lymphocytes T\n",
    "\n",
    "Dans un premier temps, nous nous intéressons seulement au lymphocytes T dans l'étude de la corrélation des descripteurs (forme de la matrice, distribution) avec leur présence."
   ]
  },
  {
   "cell_type": "code",
   "execution_count": null,
   "id": "1a70de6f-aae4-4498-876c-8f5f6b871839",
   "metadata": {},
   "outputs": [],
   "source": [
    "# Keep only T cells\n",
    "df_all_cd3 = df_all[df_all[\"Type\"] == \"CD3\"]"
   ]
  },
  {
   "cell_type": "code",
   "execution_count": 82,
   "id": "4800f5b4-e552-44d3-bf3f-bfd8fd75eeb8",
   "metadata": {},
   "outputs": [
    {
     "name": "stdout",
     "output_type": "stream",
     "text": [
      "Lymphocytes T\n",
      "Nombre de lignes au sein du jeu de données : 3896365\n",
      "Nombre de colonnes au sein du jeu de données : 50\n",
      "\n",
      "['Condition' 'FileName' 'X' 'Y' 'Coherency100' 'Energy100' 'MeanInt100'\n",
      " 'VarInt100' 'Density100' 'VarDensity100' 'Coherency140' 'Energy140'\n",
      " 'MeanInt140' 'VarInt140' 'Density140' 'VarDensity140' 'Coherency20'\n",
      " 'Energy20' 'MeanInt20' 'VarInt20' 'Density20' 'VarDensity20'\n",
      " 'Coherency60' 'Energy60' 'MeanInt60' 'VarInt60' 'Density60'\n",
      " 'VarDensity60' 'OrientationRef20' 'OrientationRef60' 'OrientationRef100'\n",
      " 'OrientationRef140' 'Dist' 'Angle20' 'Angle60' 'Angle100' 'Angle140'\n",
      " 'Mask' 'Type' 'Cells' 'MinDist' 'MedDist' 'CellArea' 'CellEcc'\n",
      " 'Cells100um' 'MinDist100um' 'MedDist100um' 'CellArea100um' 'CellEcc100um'\n",
      " 'Frac']\n"
     ]
    }
   ],
   "source": [
    "# Print\n",
    "print(\"Lymphocytes T\")\n",
    "print(f\"Nombre de lignes au sein du jeu de données : {df_all_cd3.shape[0]}\")\n",
    "print(f\"Nombre de colonnes au sein du jeu de données : {df_all_cd3.shape[1]}\")\n",
    "print(f\"\\nColonnes :\\n{df_all_cd3.columns.values}\")"
   ]
  },
  {
   "cell_type": "code",
   "execution_count": 74,
   "id": "3866f618-e0b7-4b04-b914-2af940911195",
   "metadata": {},
   "outputs": [],
   "source": [
    "# Condition\n",
    "names = df_all_cd3[\"Condition\"].value_counts().index\n",
    "values = df_all_cd3[\"Condition\"].value_counts().values\n",
    "titre = \"Nombre d'observations par conditions\\n\"\\\n",
    "        \"WT (avec macrophages), CD64-hDTR (sans macrophages)\"\n",
    "\n",
    "# Plot\n",
    "plt.bar(names, values)\n",
    "plt.title(titre)\n",
    "plt.show()"
   ]
  },
  {
   "cell_type": "code",
   "execution_count": 83,
   "id": "3d7489ed-4ab3-45c9-a7e1-bb906923139b",
   "metadata": {},
   "outputs": [],
   "source": [
    "plt.hist(df_all_cd3[float_columns], bins=50)\n",
    "plt.show()"
   ]
  },
  {
   "cell_type": "code",
   "execution_count": 60,
   "id": "0773094c-87d2-44f5-b7b7-c1069f18b33c",
   "metadata": {},
   "outputs": [],
   "source": [
    "# Dataframe, count data by filename\n",
    "dt_byfile = df_all_cd3[[\"Condition\", \"FileName\"]].groupby([\"FileName\"]).value_counts().to_frame()\n",
    "dt_byfile.reset_index(level=1, inplace=True)\n",
    "dt_byfile"
   ]
  },
  {
   "cell_type": "code",
   "execution_count": 72,
   "id": "90fe89f0-e655-4246-982d-6c37374a1022",
   "metadata": {},
   "outputs": [],
   "source": [
    "condition_names = dt_byfile[\"Condition\"].value_counts().index\n",
    "condition_count = dt_byfile[\"Condition\"].value_counts().values\n",
    "\n",
    "titre = \"Nombre d'observations par conditions\\n\" \\\n",
    "        \"WT (avec macrophages), CD64-hDTR (sans macrophages)\"\n",
    "\n",
    "# Plot\n",
    "plt.bar(condition_names, condition_count)\n",
    "plt.title(titre)\n",
    "plt.show()"
   ]
  },
  {
   "cell_type": "code",
   "execution_count": null,
   "id": "467d5e2a-4821-4ff5-9bb9-db69336008f0",
   "metadata": {},
   "outputs": [],
   "source": []
  },
  {
   "cell_type": "code",
   "execution_count": null,
   "id": "3673466d-437a-4388-9d1e-7092ce9968b6",
   "metadata": {},
   "outputs": [],
   "source": []
  }
 ],
 "metadata": {
  "kernelspec": {
   "display_name": "Python 3 (ipykernel)",
   "language": "python",
   "name": "python3"
  },
  "language_info": {
   "codemirror_mode": {
    "name": "ipython",
    "version": 3
   },
   "file_extension": ".py",
   "mimetype": "text/x-python",
   "name": "python",
   "nbconvert_exporter": "python",
   "pygments_lexer": "ipython3",
   "version": "3.11.5"
  }
 },
 "nbformat": 4,
 "nbformat_minor": 5
}
