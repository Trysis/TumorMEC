{
 "cells": [
  {
   "cell_type": "markdown",
   "id": "56fcffa2-cf65-4360-ac6c-809d60635b64",
   "metadata": {},
   "source": []
  },
  {
   "cell_type": "code",
   "execution_count": 117,
   "id": "9d7d24b2-c4e6-4236-a198-d15d0bcea981",
   "metadata": {},
   "outputs": [],
   "source": [
    "# Import modules\n",
    "import auxiliary\n",
    "import gzip\n",
    "import pandas as pd"
   ]
  },
  {
   "cell_type": "code",
   "execution_count": 47,
   "id": "c3f1f689-42f8-4da1-9429-2eb5f52c310a",
   "metadata": {},
   "outputs": [],
   "source": [
    "filepath_wt = \"../data/WTconcatenate.csv.gz\"\n",
    "filepath_ki = \"../data/KIconcatenate.csv.gz\"\n",
    "\n",
    "df_wt = auxiliary.read_dataframe(filepath_wt, low_memory=False)\n",
    "df_ki = auxiliary.read_dataframe(filepath_ki, low_memory=False)"
   ]
  },
  {
   "cell_type": "code",
   "execution_count": 118,
   "id": "b6339a0c-e2da-43e8-b9b6-af1c199aef7b",
   "metadata": {},
   "outputs": [
    {
     "data": {
      "text/plain": [
       "'2.1.0'"
      ]
     },
     "execution_count": 118,
     "metadata": {},
     "output_type": "execute_result"
    }
   ],
   "source": [
    "pd.__version__"
   ]
  },
  {
   "cell_type": "code",
   "execution_count": 80,
   "id": "974c5014-25dd-48f9-9faf-6162663362c7",
   "metadata": {},
   "outputs": [
    {
     "data": {
      "text/plain": [
       "Coherency100\n",
       "2.000000e-03    19714\n",
       "3.000000e-03    14870\n",
       "8.800000e-02    14066\n",
       "1.000000e-01    14059\n",
       "1.000000e-03    14054\n",
       "                ...  \n",
       "1.409000e-12        1\n",
       "8.697000e-13        1\n",
       "6.362000e-13        1\n",
       "4.462000e-13        1\n",
       "8.526000e-04        1\n",
       "Name: count, Length: 58540, dtype: int64"
      ]
     },
     "execution_count": 80,
     "metadata": {},
     "output_type": "execute_result"
    }
   ],
   "source": [
    "df_ki[\"Coherency100\"].value_counts()"
   ]
  },
  {
   "cell_type": "code",
   "execution_count": 133,
   "id": "b52d8bba-1a84-42a8-942a-1fcbd4cb6387",
   "metadata": {},
   "outputs": [],
   "source": [
    "import numpy as np\n",
    "\n",
    "# Assigned columns to types\n",
    "str_columns = [\"Condition\", \"FileName\", \"Type\"]\n",
    "integer_columns = [\"Mask\"]\n",
    "nonsigned_columns = [\"X\", \"Y\"]\n",
    "float_columns = [\n",
    "    \"Coherency100\", \"Energy100\", \"MeanInt100\", \"VarInt100\", \"Density100\", \"VarDensity100\",\n",
    "    \"Coherency140\", \"Energy140\", \"MeanInt140\", \"VarInt140\", \"Density140\", \"VarDensity140\",\n",
    "    \"Coherency20\", \"Energy20\", \"MeanInt20\", \"VarInt20\", \"Density20\", \"VarDensity20\",\n",
    "    \"Coherency60\", \"Energy60\", \"MeanInt60\", \"VarInt60\", \"Density60\", \"VarDensity60\",\n",
    "    \"OrientationRef20\", \"OrientationRef60\", \"OrientationRef100\", \"OrientationRef140\",\n",
    "    \"Angle20\", \"Angle60\", \"Angle100\", \"Angle140\",\n",
    "    \"Dist\", \"MinDist\", \"MedDist\", \"CellArea\", \"CellEcc\",\n",
    "    \"Cells100um\", \"MinDist100um\", \"MedDist100um\", \"CellArea100um\", \"CellEcc100um\",\n",
    "    \"Frac\", \"Cells\"\n",
    "]\n",
    "\n",
    "# Associate a type to each columns\n",
    "data_type = {\n",
    "    **dict.fromkeys(str_columns, object),\n",
    "    **dict.fromkeys(nonsigned_columns, np.uint32),\n",
    "    **dict.fromkeys(float_columns, np.float64),\n",
    "    **dict.fromkeys(integer_columns, np.int32)\n",
    "}\n",
    "\n",
    "df_wt = df_wt.astype(data_type)\n",
    "df_ki = df_ki.astype(data_type)"
   ]
  },
  {
   "cell_type": "code",
   "execution_count": 134,
   "id": "90c48041-adb5-4f2d-8df1-ebce103cb505",
   "metadata": {},
   "outputs": [
    {
     "data": {
      "text/plain": [
       "Condition             object\n",
       "FileName              object\n",
       "X                     uint32\n",
       "Y                     uint32\n",
       "Coherency100         float64\n",
       "Energy100            float64\n",
       "MeanInt100           float64\n",
       "VarInt100            float64\n",
       "Density100           float64\n",
       "VarDensity100        float64\n",
       "Coherency140         float64\n",
       "Energy140            float64\n",
       "MeanInt140           float64\n",
       "VarInt140            float64\n",
       "Density140           float64\n",
       "VarDensity140        float64\n",
       "Coherency20          float64\n",
       "Energy20             float64\n",
       "MeanInt20            float64\n",
       "VarInt20             float64\n",
       "Density20            float64\n",
       "VarDensity20         float64\n",
       "Coherency60          float64\n",
       "Energy60             float64\n",
       "MeanInt60            float64\n",
       "VarInt60             float64\n",
       "Density60            float64\n",
       "VarDensity60         float64\n",
       "OrientationRef20     float64\n",
       "OrientationRef60     float64\n",
       "OrientationRef100    float64\n",
       "OrientationRef140    float64\n",
       "Dist                 float64\n",
       "Angle20              float64\n",
       "Angle60              float64\n",
       "Angle100             float64\n",
       "Angle140             float64\n",
       "Mask                   int32\n",
       "Type                  object\n",
       "Cells                float64\n",
       "MinDist              float64\n",
       "MedDist              float64\n",
       "CellArea             float64\n",
       "CellEcc              float64\n",
       "Cells100um           float64\n",
       "MinDist100um         float64\n",
       "MedDist100um         float64\n",
       "CellArea100um        float64\n",
       "CellEcc100um         float64\n",
       "Frac                 float64\n",
       "dtype: object"
      ]
     },
     "execution_count": 134,
     "metadata": {},
     "output_type": "execute_result"
    }
   ],
   "source": [
    "df_ki.dtypes"
   ]
  }
 ],
 "metadata": {
  "kernelspec": {
   "display_name": "Python 3 (ipykernel)",
   "language": "python",
   "name": "python3"
  },
  "language_info": {
   "codemirror_mode": {
    "name": "ipython",
    "version": 3
   },
   "file_extension": ".py",
   "mimetype": "text/x-python",
   "name": "python",
   "nbconvert_exporter": "python",
   "pygments_lexer": "ipython3",
   "version": "3.11.5"
  }
 },
 "nbformat": 4,
 "nbformat_minor": 5
}
