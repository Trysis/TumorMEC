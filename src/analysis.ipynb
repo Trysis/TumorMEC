{
 "cells": [
  {
   "cell_type": "markdown",
   "id": "56fcffa2-cf65-4360-ac6c-809d60635b64",
   "metadata": {},
   "source": [
    "# Prediction of tumor immune cell infiltration based on extracellular matrix organization"
   ]
  },
  {
   "cell_type": "code",
   "execution_count": 1,
   "id": "9d7d24b2-c4e6-4236-a198-d15d0bcea981",
   "metadata": {},
   "outputs": [],
   "source": [
    "# Import modules\n",
    "import auxiliary\n",
    "import numpy as np\n",
    "import pandas as pd\n",
    "import matplotlib.pyplot as plt"
   ]
  },
  {
   "cell_type": "markdown",
   "id": "009b82e2-30d2-444c-a649-b0fffbd49573",
   "metadata": {},
   "source": [
    "## Lecture du jeu de données\n",
    "\n",
    "On s'intéresse ici à des descripteurs qui sont extraits à partir de différentes positions au sein d'images de coupe histologique de tumeurs."
   ]
  },
  {
   "cell_type": "code",
   "execution_count": 2,
   "id": "c3f1f689-42f8-4da1-9429-2eb5f52c310a",
   "metadata": {},
   "outputs": [],
   "source": [
    "filepath_wt = \"../data/WTconcatenate.csv.gz\"\n",
    "filepath_ki = \"../data/KIconcatenate.csv.gz\"\n",
    "\n",
    "df_wt = auxiliary.read_dataframe(filepath_wt, low_memory=False)\n",
    "df_ki = auxiliary.read_dataframe(filepath_ki, low_memory=False)"
   ]
  },
  {
   "cell_type": "markdown",
   "id": "405a70a8-585c-4f44-99f2-a8b88a904ed3",
   "metadata": {},
   "source": [
    "### Conversion du type des colonnes\n",
    "\n",
    "On attribut à chaque colonne un type spécifique, pour les entier nous les convertissons en type int32 ou uint32 pour les variables strictements positives (ici, X et Y).\n",
    "\n",
    "Les variables à valeurs flottantes sont convertis en float64. Et les variables informant sur la condition (WT/CD64-hDTR), le fichier associé ainsi que le type cellulaire étudié (Ly6/CD3) sont convertis en np.object.\n",
    "\n",
    "Cela est pratique afin de clarifier les types associés aux variables, et pour la gestion de l'espace mémoire."
   ]
  },
  {
   "cell_type": "code",
   "execution_count": 3,
   "id": "b52d8bba-1a84-42a8-942a-1fcbd4cb6387",
   "metadata": {},
   "outputs": [],
   "source": [
    "# Assigned columns to types\n",
    "str_columns = [\"Condition\", \"FileName\", \"Type\"]\n",
    "integer_columns = [\"Mask\"]\n",
    "nonsigned_columns = [\"X\", \"Y\"]\n",
    "float_columns = [\n",
    "    \"Coherency100\", \"Energy100\", \"MeanInt100\", \"VarInt100\", \"Density100\", \"VarDensity100\",\n",
    "    \"Coherency140\", \"Energy140\", \"MeanInt140\", \"VarInt140\", \"Density140\", \"VarDensity140\",\n",
    "    \"Coherency20\", \"Energy20\", \"MeanInt20\", \"VarInt20\", \"Density20\", \"VarDensity20\",\n",
    "    \"Coherency60\", \"Energy60\", \"MeanInt60\", \"VarInt60\", \"Density60\", \"VarDensity60\",\n",
    "    \"OrientationRef20\", \"OrientationRef60\", \"OrientationRef100\", \"OrientationRef140\",\n",
    "    \"Angle20\", \"Angle60\", \"Angle100\", \"Angle140\",\n",
    "    \"Dist\", \"MinDist\", \"MedDist\", \"CellArea\", \"CellEcc\",\n",
    "    \"Cells100um\", \"MinDist100um\", \"MedDist100um\", \"CellArea100um\", \"CellEcc100um\",\n",
    "    \"Frac\", \"Cells\"\n",
    "]\n",
    "\n",
    "# Associate a type to each columns\n",
    "data_type = {\n",
    "    **dict.fromkeys(str_columns, object),\n",
    "    **dict.fromkeys(nonsigned_columns, np.uint32),\n",
    "    **dict.fromkeys(float_columns, np.float64),\n",
    "    **dict.fromkeys(integer_columns, np.int32)\n",
    "}\n",
    "\n",
    "df_wt = df_wt.astype(data_type)\n",
    "df_ki = df_ki.astype(data_type)\n",
    "\n",
    "# Fusion des deux jeu de données\n",
    "df_all = pd.concat([df_wt, df_ki])\n",
    "print(f\"Nombre de lignes au sein du jeu de données total: {df_all.shape[0]}\")\n",
    "print(f\"Nombre de colonnes au sein du jeu de données total: {df_all.shape[1]}\")"
   ]
  },
  {
   "cell_type": "markdown",
   "id": "24d1dc32-3aeb-47aa-9861-cbc4deb6dc53",
   "metadata": {},
   "source": [
    "## Lymphocytes T\n",
    "\n",
    "Dans un premier temps, nous nous intéressons seulement au lymphocytes T dans l'étude de la corrélation des descripteurs (forme de la matrice, distribution) avec leur présence."
   ]
  },
  {
   "cell_type": "code",
   "execution_count": 4,
   "id": "4800f5b4-e552-44d3-bf3f-bfd8fd75eeb8",
   "metadata": {},
   "outputs": [
    {
     "name": "stdout",
     "output_type": "stream",
     "text": [
      "Lymphocytes T\n",
      "Nombre de lignes au sein du jeu de données : 3896365\n",
      "Nombre de colonnes au sein du jeu de données : 50\n"
     ]
    }
   ],
   "source": [
    "# Keep only T cells\n",
    "df_all_cd3 = df_all[df_all[\"Type\"] == \"CD3\"]\n",
    "\n",
    "# Print\n",
    "print(\"Lymphocytes T\")\n",
    "print(f\"Nombre de lignes au sein du jeu de données : {df_all_cd3.shape[0]}\")\n",
    "print(f\"Nombre de colonnes au sein du jeu de données : {df_all_cd3.shape[1]}\")"
   ]
  },
  {
   "cell_type": "code",
   "execution_count": 16,
   "id": "3866f618-e0b7-4b04-b914-2af940911195",
   "metadata": {},
   "outputs": [],
   "source": [
    "# Condition\n",
    "names = df_all_cd3[\"Condition\"].value_counts().index\n",
    "values = df_all_cd3[\"Condition\"].value_counts().values\n",
    "titre = \"Nombre d'observations par conditions\\n\"\n",
    "        \"WT (avec macrophages), CD64-hDTR (sans macrophages)\"\n",
    "\n",
    "# Plot\n",
    "plt.bar(names, values)\n",
    "plt.title(titre)\n",
    "plt.show()"
   ]
  },
  {
   "cell_type": "code",
   "execution_count": null,
   "id": "7830e32b-394e-4e1e-a9aa-3ff543a6df47",
   "metadata": {},
   "outputs": [],
   "source": [
    "# Condition\n",
    "names = df_all_cd3[\"Condition\"].value_counts().index\n",
    "values = df_all_cd3[\"Condition\"].value_counts().values\n",
    "titre = \"Nombre d'observations par conditions\\n\"\n",
    "        \"WT (avec macrophages), CD64-hDTR (sans macrophages)\"\n",
    "\n",
    "# Plot\n",
    "plt.bar(names, values)\n",
    "plt.title(titre)\n",
    "plt.show()"
   ]
  },
  {
   "cell_type": "code",
   "execution_count": 10,
   "id": "3d7489ed-4ab3-45c9-a7e1-bb906923139b",
   "metadata": {},
   "outputs": [],
   "source": [
    "plt.plot([1, 2, 3])\n",
    "plt.show()"
   ]
  },
  {
   "cell_type": "code",
   "execution_count": 31,
   "id": "0773094c-87d2-44f5-b7b7-c1069f18b33c",
   "metadata": {},
   "outputs": [
    {
     "data": {
      "text/plain": [
       "FileName                                                         Condition\n",
       "./12a_MKI152_CD3_SHG.tif                                         CD64-hDTR     79542\n",
       "./12c_MKI138_CD3eFITC_SHG_phal546_F480647.tif_SHG.tif            CD64-hDTR    159190\n",
       "./12c_ZF_ MAX_12c_MKI856_CD3FITC_SHG.tif                         CD64-hDTR    176409\n",
       "./12c_ZF_ MAX_12c_MKI857_CD3FITC_SHG.tif                         CD64-hDTR    134473\n",
       "./12c_ZF_ MAX_12c_MW137_CD3FITC_SHG.tif                          WT           118949\n",
       "./FKI_140_left_bottom_CD3FITC.tif_max.tif_SHG.tif                CD64-hDTR     34807\n",
       "./FKI_141_bottom_CD3FITC_F480_AF647_Phal546.tif_max.tif_SHG.tif  CD64-hDTR    108770\n",
       "./FKI_860_CD3FITC.tif_max.tif_SHG.tif                            CD64-hDTR    127012\n",
       "./FKI_860bis_left_CD3FITC.tif_max.tif_SHG.tif                    CD64-hDTR    106107\n",
       "./FWT_507_down_CD3FITC.tif_max.tif_SHG.tif                       WT            76503\n",
       "./FWT_511_CD3FITC_F480_AF647_Phal546.tif_max.tif_SHG.tif         WT            62151\n",
       "./FWT_861_big_CD3FITC.tif_max.tif_SHG.tif                        WT           102595\n",
       "./FWT_928_right_CD3FITC.tif_max.tif_SHG.tif                      WT           105086\n",
       "./MAX_ 12a_FKI158_CD3_SHG.tif                                    CD64-hDTR     79178\n",
       "./MAX_ 12a_MKI353_CD3_SHG.tif                                    CD64-hDTR     59118\n",
       "./MAX_12b_183_CD3eFITC_SHG.tif                                   CD64-hDTR    144821\n",
       "./MAX_12b_184_CD3eFITC.tif_SHG.tif                               WT           130062\n",
       "./MAX_12b_187_CD3eFITC.tif_SHG.tif                               WT           162252\n",
       "./MAX_12b_188_CD3eFITC.tif_SHG.tif                               CD64-hDTR     92843\n",
       "./MAX_12b_189_CD3eFITC.tif_SHG.tif                               WT           153919\n",
       "./MAX_12b_330_CD3eFITC.tif_SHG.tif                               WT           137797\n",
       "./MAX_12b_FKI192_CD3_SHG.tif                                     CD64-hDTR    144233\n",
       "./MAX_12b_FKI193_CD3_SHG.tif                                     CD64-hDTR     74256\n",
       "./MAX_12b_FKI194_CD3_SHG.tif                                     CD64-hDTR    112557\n",
       "./MAX_12b_FKI332_CD3_SHG.tif                                     CD64-hDTR    101944\n",
       "./MAX_12b_FWT331_CD3_SHG.tif                                     WT           152904\n",
       "./MAX_12b_FWT_333_CD3_SHG.tif                                    WT           105724\n",
       "./MAX_12b_MKI183_CD3eFITC_SHG.tif                                CD64-hDTR    144821\n",
       "./MAX_12b_MKI185_CD3_SHG.tif                                     CD64-hDTR    130714\n",
       "./MAX_MWT738_CD3_SHG.tif                                         WT           124915\n",
       "./MAX_MWT854_CD3_SHG.tif                                         WT            74628\n",
       "./MAX_MWT929_CD3_SHG.tif                                         WT           115092\n",
       "./MKI139_CD3eFITC_SHG.tif                                        CD64-hDTR    104277\n",
       "./MKI855_CD3_SHG_HyD3_laser_10 - Copie.tif_SHG.tif               CD64-hDTR    158716\n",
       "Name: count, dtype: int64"
      ]
     },
     "execution_count": 31,
     "metadata": {},
     "output_type": "execute_result"
    }
   ],
   "source": [
    "df_all_cd3[[\"Condition\", \"FileName\"]].groupby([\"FileName\"]).value_counts()"
   ]
  }
 ],
 "metadata": {
  "kernelspec": {
   "display_name": "Python 3 (ipykernel)",
   "language": "python",
   "name": "python3"
  },
  "language_info": {
   "codemirror_mode": {
    "name": "ipython",
    "version": 3
   },
   "file_extension": ".py",
   "mimetype": "text/x-python",
   "name": "python",
   "nbconvert_exporter": "python",
   "pygments_lexer": "ipython3",
   "version": "3.11.5"
  }
 },
 "nbformat": 4,
 "nbformat_minor": 5
}
