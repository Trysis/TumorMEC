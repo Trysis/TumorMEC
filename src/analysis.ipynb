{
 "cells": [
  {
   "cell_type": "markdown",
   "id": "56fcffa2-cf65-4360-ac6c-809d60635b64",
   "metadata": {},
   "source": [
    "# Prediction of tumor immune cell infiltration based on extracellular matrix organization"
   ]
  },
  {
   "cell_type": "code",
   "execution_count": 89,
   "id": "9d7d24b2-c4e6-4236-a198-d15d0bcea981",
   "metadata": {},
   "outputs": [],
   "source": [
    "# Import modules\n",
    "\n",
    "#\n",
    "import numpy as np\n",
    "import pandas as pd\n",
    "import matplotlib.pyplot as plt\n",
    "import seaborn as sns\n",
    "import scipy.stats as stats\n",
    "\n",
    "# Local modules\n",
    "import auxiliary\n",
    "import plots\n",
    "import ExtractMap"
   ]
  },
  {
   "cell_type": "markdown",
   "id": "009b82e2-30d2-444c-a649-b0fffbd49573",
   "metadata": {},
   "source": [
    "## Lecture du jeu de données\n",
    "\n",
    "On s'intéresse ici à des descripteurs qui sont extraits à partir de différentes positions au sein d'images de coupe histologique de tumeurs."
   ]
  },
  {
   "cell_type": "code",
   "execution_count": 2,
   "id": "c3f1f689-42f8-4da1-9429-2eb5f52c310a",
   "metadata": {},
   "outputs": [],
   "source": [
    "filepath_wt = \"../data/WTconcatenate.csv.gz\"\n",
    "filepath_ki = \"../data/KIconcatenate.csv.gz\"\n",
    "\n",
    "df_wt = auxiliary.read_dataframe(filepath_wt, low_memory=False)\n",
    "df_ki = auxiliary.read_dataframe(filepath_ki, low_memory=False)"
   ]
  },
  {
   "cell_type": "markdown",
   "id": "405a70a8-585c-4f44-99f2-a8b88a904ed3",
   "metadata": {},
   "source": [
    "### Conversion du type des colonnes\n",
    "\n",
    "On attribut à chaque colonne un type spécifique, pour les entier nous les convertissons en type int32 ou uint32 pour les variables strictements positives (ici, X et Y).\n",
    "\n",
    "Les variables à valeurs flottantes sont convertis en float64. Et les variables informant sur la condition (WT/CD64-hDTR), le fichier associé ainsi que le type cellulaire étudié (Ly6/CD3) sont convertis en np.object.\n",
    "\n",
    "Cela est pratique afin de clarifier les types associés aux variables, et pour la gestion de l'espace mémoire."
   ]
  },
  {
   "cell_type": "code",
   "execution_count": 3,
   "id": "b52d8bba-1a84-42a8-942a-1fcbd4cb6387",
   "metadata": {},
   "outputs": [
    {
     "name": "stdout",
     "output_type": "stream",
     "text": [
      "Nombre de lignes au sein du jeu de données total: 6697691\n",
      "Nombre de colonnes au sein du jeu de données total: 50\n"
     ]
    }
   ],
   "source": [
    "# Assigned columns to types\n",
    "str_columns = [\"Condition\", \"FileName\", \"Type\"]\n",
    "integer_columns = [\"Mask\"]\n",
    "nonsigned_columns = [\"X\", \"Y\"]\n",
    "float_columns = [\n",
    "    \"Angle100\", \"Coherency100\", \"Energy100\", \"MeanInt100\", \"VarInt100\", \"Density100\", \"VarDensity100\", \"OrientationRef100\",\n",
    "    \"Angle140\", \"Coherency140\", \"Energy140\", \"MeanInt140\", \"VarInt140\", \"Density140\", \"VarDensity140\", \"OrientationRef140\",\n",
    "    \"Angle20\", \"Coherency20\", \"Energy20\", \"MeanInt20\", \"VarInt20\", \"Density20\", \"VarDensity20\", \"OrientationRef20\",\n",
    "    \"Angle60\", \"Coherency60\", \"Energy60\", \"MeanInt60\", \"VarInt60\", \"Density60\", \"VarDensity60\", \"OrientationRef60\",\n",
    "    \"Dist\", \"MinDist\", \"MedDist\", \"CellArea\", \"CellEcc\",\n",
    "    \"Cells100um\", \"MinDist100um\", \"MedDist100um\", \"CellArea100um\", \"CellEcc100um\",\n",
    "    \"Frac\", \"Cells\"\n",
    "]\n",
    "\n",
    "# Associate a type to each columns\n",
    "data_type = {\n",
    "    **dict.fromkeys(str_columns, object),\n",
    "    **dict.fromkeys(nonsigned_columns, np.uint32),\n",
    "    **dict.fromkeys(float_columns, np.float64),\n",
    "    **dict.fromkeys(integer_columns, np.int32)\n",
    "}\n",
    "\n",
    "df_wt = df_wt.astype(data_type)\n",
    "df_ki = df_ki.astype(data_type)\n",
    "\n",
    "# Fusion des deux jeu de données\n",
    "df_all = pd.concat([df_wt, df_ki])\n",
    "print(f\"Nombre de lignes au sein du jeu de données total: {df_all.shape[0]}\")\n",
    "print(f\"Nombre de colonnes au sein du jeu de données total: {df_all.shape[1]}\")"
   ]
  },
  {
   "cell_type": "markdown",
   "id": "24d1dc32-3aeb-47aa-9861-cbc4deb6dc53",
   "metadata": {},
   "source": [
    "## Lymphocytes T\n",
    "\n",
    "Dans un premier temps, nous nous intéressons seulement au lymphocytes T dans l'étude de la corrélation des descripteurs (forme de la matrice, distribution) avec leur présence."
   ]
  },
  {
   "cell_type": "code",
   "execution_count": 80,
   "id": "1a70de6f-aae4-4498-876c-8f5f6b871839",
   "metadata": {},
   "outputs": [],
   "source": [
    "# Keep only T cells\n",
    "df_all_cd3 = df_all[df_all[\"Type\"] == \"CD3\"]\n",
    "dt_byfile = df_all_cd3[[\"Condition\", \"FileName\"]]\\\n",
    "    .groupby([\"FileName\"]).value_counts().to_frame()\\\n",
    "    .reset_index(level=1).sort_values(by=\"Condition\", ascending=False)\n",
    "dt_byfile[\"Name\"] = [filename[2:filename.find(\".tif\")] for filename in dt_byfile.index]\n",
    "dt_byfile"
   ]
  },
  {
   "cell_type": "code",
   "execution_count": 139,
   "id": "52f9f176-fb17-4e71-82fc-cee772938e33",
   "metadata": {
    "tags": []
   },
   "outputs": [
    {
     "data": {
      "text/html": [
       "<div>\n",
       "<style scoped>\n",
       "    .dataframe tbody tr th:only-of-type {\n",
       "        vertical-align: middle;\n",
       "    }\n",
       "\n",
       "    .dataframe tbody tr th {\n",
       "        vertical-align: top;\n",
       "    }\n",
       "\n",
       "    .dataframe thead th {\n",
       "        text-align: right;\n",
       "    }\n",
       "</style>\n",
       "<table border=\"1\" class=\"dataframe\">\n",
       "  <thead>\n",
       "    <tr style=\"text-align: right;\">\n",
       "      <th></th>\n",
       "      <th>Condition</th>\n",
       "      <th>count</th>\n",
       "      <th>Name</th>\n",
       "    </tr>\n",
       "    <tr>\n",
       "      <th>FileName</th>\n",
       "      <th></th>\n",
       "      <th></th>\n",
       "      <th></th>\n",
       "    </tr>\n",
       "  </thead>\n",
       "  <tbody>\n",
       "    <tr>\n",
       "      <th>./MAX_12b_187_CD3eFITC.tif_SHG.tif</th>\n",
       "      <td>WT</td>\n",
       "      <td>162252</td>\n",
       "      <td>MAX_12b_187_CD3eFITC</td>\n",
       "    </tr>\n",
       "    <tr>\n",
       "      <th>./FWT_507_down_CD3FITC.tif_max.tif_SHG.tif</th>\n",
       "      <td>WT</td>\n",
       "      <td>76503</td>\n",
       "      <td>FWT_507_down_CD3FITC</td>\n",
       "    </tr>\n",
       "    <tr>\n",
       "      <th>./MAX_12b_189_CD3eFITC.tif_SHG.tif</th>\n",
       "      <td>WT</td>\n",
       "      <td>153919</td>\n",
       "      <td>MAX_12b_189_CD3eFITC</td>\n",
       "    </tr>\n",
       "    <tr>\n",
       "      <th>./MAX_12b_184_CD3eFITC.tif_SHG.tif</th>\n",
       "      <td>WT</td>\n",
       "      <td>130062</td>\n",
       "      <td>MAX_12b_184_CD3eFITC</td>\n",
       "    </tr>\n",
       "    <tr>\n",
       "      <th>./MAX_12b_FWT331_CD3_SHG.tif</th>\n",
       "      <td>WT</td>\n",
       "      <td>152904</td>\n",
       "      <td>MAX_12b_FWT331_CD3_SHG</td>\n",
       "    </tr>\n",
       "    <tr>\n",
       "      <th>./MAX_12b_FWT_333_CD3_SHG.tif</th>\n",
       "      <td>WT</td>\n",
       "      <td>105724</td>\n",
       "      <td>MAX_12b_FWT_333_CD3_SHG</td>\n",
       "    </tr>\n",
       "    <tr>\n",
       "      <th>./FWT_928_right_CD3FITC.tif_max.tif_SHG.tif</th>\n",
       "      <td>WT</td>\n",
       "      <td>105086</td>\n",
       "      <td>FWT_928_right_CD3FITC</td>\n",
       "    </tr>\n",
       "    <tr>\n",
       "      <th>./FWT_861_big_CD3FITC.tif_max.tif_SHG.tif</th>\n",
       "      <td>WT</td>\n",
       "      <td>102595</td>\n",
       "      <td>FWT_861_big_CD3FITC</td>\n",
       "    </tr>\n",
       "    <tr>\n",
       "      <th>./FWT_511_CD3FITC_F480_AF647_Phal546.tif_max.tif_SHG.tif</th>\n",
       "      <td>WT</td>\n",
       "      <td>62151</td>\n",
       "      <td>FWT_511_CD3FITC_F480_AF647_Phal546</td>\n",
       "    </tr>\n",
       "    <tr>\n",
       "      <th>./MAX_MWT738_CD3_SHG.tif</th>\n",
       "      <td>WT</td>\n",
       "      <td>124915</td>\n",
       "      <td>MAX_MWT738_CD3_SHG</td>\n",
       "    </tr>\n",
       "    <tr>\n",
       "      <th>./MAX_MWT854_CD3_SHG.tif</th>\n",
       "      <td>WT</td>\n",
       "      <td>74628</td>\n",
       "      <td>MAX_MWT854_CD3_SHG</td>\n",
       "    </tr>\n",
       "    <tr>\n",
       "      <th>./12c_ZF_ MAX_12c_MW137_CD3FITC_SHG.tif</th>\n",
       "      <td>WT</td>\n",
       "      <td>118949</td>\n",
       "      <td>12c_ZF_ MAX_12c_MW137_CD3FITC_SHG</td>\n",
       "    </tr>\n",
       "    <tr>\n",
       "      <th>./MAX_MWT929_CD3_SHG.tif</th>\n",
       "      <td>WT</td>\n",
       "      <td>115092</td>\n",
       "      <td>MAX_MWT929_CD3_SHG</td>\n",
       "    </tr>\n",
       "    <tr>\n",
       "      <th>./MAX_12b_330_CD3eFITC.tif_SHG.tif</th>\n",
       "      <td>WT</td>\n",
       "      <td>137797</td>\n",
       "      <td>MAX_12b_330_CD3eFITC</td>\n",
       "    </tr>\n",
       "    <tr>\n",
       "      <th>./MAX_12b_MKI183_CD3eFITC_SHG.tif</th>\n",
       "      <td>CD64-hDTR</td>\n",
       "      <td>144821</td>\n",
       "      <td>MAX_12b_MKI183_CD3eFITC_SHG</td>\n",
       "    </tr>\n",
       "    <tr>\n",
       "      <th>./MAX_12b_FKI192_CD3_SHG.tif</th>\n",
       "      <td>CD64-hDTR</td>\n",
       "      <td>144233</td>\n",
       "      <td>MAX_12b_FKI192_CD3_SHG</td>\n",
       "    </tr>\n",
       "    <tr>\n",
       "      <th>./MAX_12b_MKI185_CD3_SHG.tif</th>\n",
       "      <td>CD64-hDTR</td>\n",
       "      <td>130714</td>\n",
       "      <td>MAX_12b_MKI185_CD3_SHG</td>\n",
       "    </tr>\n",
       "    <tr>\n",
       "      <th>./MAX_12b_FKI332_CD3_SHG.tif</th>\n",
       "      <td>CD64-hDTR</td>\n",
       "      <td>101944</td>\n",
       "      <td>MAX_12b_FKI332_CD3_SHG</td>\n",
       "    </tr>\n",
       "    <tr>\n",
       "      <th>./MAX_12b_FKI194_CD3_SHG.tif</th>\n",
       "      <td>CD64-hDTR</td>\n",
       "      <td>112557</td>\n",
       "      <td>MAX_12b_FKI194_CD3_SHG</td>\n",
       "    </tr>\n",
       "    <tr>\n",
       "      <th>./MAX_12b_FKI193_CD3_SHG.tif</th>\n",
       "      <td>CD64-hDTR</td>\n",
       "      <td>74256</td>\n",
       "      <td>MAX_12b_FKI193_CD3_SHG</td>\n",
       "    </tr>\n",
       "    <tr>\n",
       "      <th>./MKI139_CD3eFITC_SHG.tif</th>\n",
       "      <td>CD64-hDTR</td>\n",
       "      <td>104277</td>\n",
       "      <td>MKI139_CD3eFITC_SHG</td>\n",
       "    </tr>\n",
       "    <tr>\n",
       "      <th>./12a_MKI152_CD3_SHG.tif</th>\n",
       "      <td>CD64-hDTR</td>\n",
       "      <td>79542</td>\n",
       "      <td>12a_MKI152_CD3_SHG</td>\n",
       "    </tr>\n",
       "    <tr>\n",
       "      <th>./MAX_12b_188_CD3eFITC.tif_SHG.tif</th>\n",
       "      <td>CD64-hDTR</td>\n",
       "      <td>92843</td>\n",
       "      <td>MAX_12b_188_CD3eFITC</td>\n",
       "    </tr>\n",
       "    <tr>\n",
       "      <th>./12c_MKI138_CD3eFITC_SHG_phal546_F480647.tif_SHG.tif</th>\n",
       "      <td>CD64-hDTR</td>\n",
       "      <td>159190</td>\n",
       "      <td>12c_MKI138_CD3eFITC_SHG_phal546_F480647</td>\n",
       "    </tr>\n",
       "    <tr>\n",
       "      <th>./MAX_12b_183_CD3eFITC_SHG.tif</th>\n",
       "      <td>CD64-hDTR</td>\n",
       "      <td>144821</td>\n",
       "      <td>MAX_12b_183_CD3eFITC_SHG</td>\n",
       "    </tr>\n",
       "    <tr>\n",
       "      <th>./MAX_ 12a_MKI353_CD3_SHG.tif</th>\n",
       "      <td>CD64-hDTR</td>\n",
       "      <td>59118</td>\n",
       "      <td>MAX_ 12a_MKI353_CD3_SHG</td>\n",
       "    </tr>\n",
       "    <tr>\n",
       "      <th>./MAX_ 12a_FKI158_CD3_SHG.tif</th>\n",
       "      <td>CD64-hDTR</td>\n",
       "      <td>79178</td>\n",
       "      <td>MAX_ 12a_FKI158_CD3_SHG</td>\n",
       "    </tr>\n",
       "    <tr>\n",
       "      <th>./FKI_860bis_left_CD3FITC.tif_max.tif_SHG.tif</th>\n",
       "      <td>CD64-hDTR</td>\n",
       "      <td>106107</td>\n",
       "      <td>FKI_860bis_left_CD3FITC</td>\n",
       "    </tr>\n",
       "    <tr>\n",
       "      <th>./FKI_860_CD3FITC.tif_max.tif_SHG.tif</th>\n",
       "      <td>CD64-hDTR</td>\n",
       "      <td>127012</td>\n",
       "      <td>FKI_860_CD3FITC</td>\n",
       "    </tr>\n",
       "    <tr>\n",
       "      <th>./FKI_141_bottom_CD3FITC_F480_AF647_Phal546.tif_max.tif_SHG.tif</th>\n",
       "      <td>CD64-hDTR</td>\n",
       "      <td>108770</td>\n",
       "      <td>FKI_141_bottom_CD3FITC_F480_AF647_Phal546</td>\n",
       "    </tr>\n",
       "    <tr>\n",
       "      <th>./FKI_140_left_bottom_CD3FITC.tif_max.tif_SHG.tif</th>\n",
       "      <td>CD64-hDTR</td>\n",
       "      <td>34807</td>\n",
       "      <td>FKI_140_left_bottom_CD3FITC</td>\n",
       "    </tr>\n",
       "    <tr>\n",
       "      <th>./12c_ZF_ MAX_12c_MKI857_CD3FITC_SHG.tif</th>\n",
       "      <td>CD64-hDTR</td>\n",
       "      <td>134473</td>\n",
       "      <td>12c_ZF_ MAX_12c_MKI857_CD3FITC_SHG</td>\n",
       "    </tr>\n",
       "    <tr>\n",
       "      <th>./12c_ZF_ MAX_12c_MKI856_CD3FITC_SHG.tif</th>\n",
       "      <td>CD64-hDTR</td>\n",
       "      <td>176409</td>\n",
       "      <td>12c_ZF_ MAX_12c_MKI856_CD3FITC_SHG</td>\n",
       "    </tr>\n",
       "    <tr>\n",
       "      <th>./MKI855_CD3_SHG_HyD3_laser_10 - Copie.tif_SHG.tif</th>\n",
       "      <td>CD64-hDTR</td>\n",
       "      <td>158716</td>\n",
       "      <td>MKI855_CD3_SHG_HyD3_laser_10 - Copie</td>\n",
       "    </tr>\n",
       "  </tbody>\n",
       "</table>\n",
       "</div>"
      ],
      "text/plain": [
       "                                                    Condition   count  \\\n",
       "FileName                                                                \n",
       "./MAX_12b_187_CD3eFITC.tif_SHG.tif                         WT  162252   \n",
       "./FWT_507_down_CD3FITC.tif_max.tif_SHG.tif                 WT   76503   \n",
       "./MAX_12b_189_CD3eFITC.tif_SHG.tif                         WT  153919   \n",
       "./MAX_12b_184_CD3eFITC.tif_SHG.tif                         WT  130062   \n",
       "./MAX_12b_FWT331_CD3_SHG.tif                               WT  152904   \n",
       "./MAX_12b_FWT_333_CD3_SHG.tif                              WT  105724   \n",
       "./FWT_928_right_CD3FITC.tif_max.tif_SHG.tif                WT  105086   \n",
       "./FWT_861_big_CD3FITC.tif_max.tif_SHG.tif                  WT  102595   \n",
       "./FWT_511_CD3FITC_F480_AF647_Phal546.tif_max.ti...         WT   62151   \n",
       "./MAX_MWT738_CD3_SHG.tif                                   WT  124915   \n",
       "./MAX_MWT854_CD3_SHG.tif                                   WT   74628   \n",
       "./12c_ZF_ MAX_12c_MW137_CD3FITC_SHG.tif                    WT  118949   \n",
       "./MAX_MWT929_CD3_SHG.tif                                   WT  115092   \n",
       "./MAX_12b_330_CD3eFITC.tif_SHG.tif                         WT  137797   \n",
       "./MAX_12b_MKI183_CD3eFITC_SHG.tif                   CD64-hDTR  144821   \n",
       "./MAX_12b_FKI192_CD3_SHG.tif                        CD64-hDTR  144233   \n",
       "./MAX_12b_MKI185_CD3_SHG.tif                        CD64-hDTR  130714   \n",
       "./MAX_12b_FKI332_CD3_SHG.tif                        CD64-hDTR  101944   \n",
       "./MAX_12b_FKI194_CD3_SHG.tif                        CD64-hDTR  112557   \n",
       "./MAX_12b_FKI193_CD3_SHG.tif                        CD64-hDTR   74256   \n",
       "./MKI139_CD3eFITC_SHG.tif                           CD64-hDTR  104277   \n",
       "./12a_MKI152_CD3_SHG.tif                            CD64-hDTR   79542   \n",
       "./MAX_12b_188_CD3eFITC.tif_SHG.tif                  CD64-hDTR   92843   \n",
       "./12c_MKI138_CD3eFITC_SHG_phal546_F480647.tif_S...  CD64-hDTR  159190   \n",
       "./MAX_12b_183_CD3eFITC_SHG.tif                      CD64-hDTR  144821   \n",
       "./MAX_ 12a_MKI353_CD3_SHG.tif                       CD64-hDTR   59118   \n",
       "./MAX_ 12a_FKI158_CD3_SHG.tif                       CD64-hDTR   79178   \n",
       "./FKI_860bis_left_CD3FITC.tif_max.tif_SHG.tif       CD64-hDTR  106107   \n",
       "./FKI_860_CD3FITC.tif_max.tif_SHG.tif               CD64-hDTR  127012   \n",
       "./FKI_141_bottom_CD3FITC_F480_AF647_Phal546.tif...  CD64-hDTR  108770   \n",
       "./FKI_140_left_bottom_CD3FITC.tif_max.tif_SHG.tif   CD64-hDTR   34807   \n",
       "./12c_ZF_ MAX_12c_MKI857_CD3FITC_SHG.tif            CD64-hDTR  134473   \n",
       "./12c_ZF_ MAX_12c_MKI856_CD3FITC_SHG.tif            CD64-hDTR  176409   \n",
       "./MKI855_CD3_SHG_HyD3_laser_10 - Copie.tif_SHG.tif  CD64-hDTR  158716   \n",
       "\n",
       "                                                                                         Name  \n",
       "FileName                                                                                       \n",
       "./MAX_12b_187_CD3eFITC.tif_SHG.tif                                       MAX_12b_187_CD3eFITC  \n",
       "./FWT_507_down_CD3FITC.tif_max.tif_SHG.tif                               FWT_507_down_CD3FITC  \n",
       "./MAX_12b_189_CD3eFITC.tif_SHG.tif                                       MAX_12b_189_CD3eFITC  \n",
       "./MAX_12b_184_CD3eFITC.tif_SHG.tif                                       MAX_12b_184_CD3eFITC  \n",
       "./MAX_12b_FWT331_CD3_SHG.tif                                           MAX_12b_FWT331_CD3_SHG  \n",
       "./MAX_12b_FWT_333_CD3_SHG.tif                                         MAX_12b_FWT_333_CD3_SHG  \n",
       "./FWT_928_right_CD3FITC.tif_max.tif_SHG.tif                             FWT_928_right_CD3FITC  \n",
       "./FWT_861_big_CD3FITC.tif_max.tif_SHG.tif                                 FWT_861_big_CD3FITC  \n",
       "./FWT_511_CD3FITC_F480_AF647_Phal546.tif_max.ti...         FWT_511_CD3FITC_F480_AF647_Phal546  \n",
       "./MAX_MWT738_CD3_SHG.tif                                                   MAX_MWT738_CD3_SHG  \n",
       "./MAX_MWT854_CD3_SHG.tif                                                   MAX_MWT854_CD3_SHG  \n",
       "./12c_ZF_ MAX_12c_MW137_CD3FITC_SHG.tif                     12c_ZF_ MAX_12c_MW137_CD3FITC_SHG  \n",
       "./MAX_MWT929_CD3_SHG.tif                                                   MAX_MWT929_CD3_SHG  \n",
       "./MAX_12b_330_CD3eFITC.tif_SHG.tif                                       MAX_12b_330_CD3eFITC  \n",
       "./MAX_12b_MKI183_CD3eFITC_SHG.tif                                 MAX_12b_MKI183_CD3eFITC_SHG  \n",
       "./MAX_12b_FKI192_CD3_SHG.tif                                           MAX_12b_FKI192_CD3_SHG  \n",
       "./MAX_12b_MKI185_CD3_SHG.tif                                           MAX_12b_MKI185_CD3_SHG  \n",
       "./MAX_12b_FKI332_CD3_SHG.tif                                           MAX_12b_FKI332_CD3_SHG  \n",
       "./MAX_12b_FKI194_CD3_SHG.tif                                           MAX_12b_FKI194_CD3_SHG  \n",
       "./MAX_12b_FKI193_CD3_SHG.tif                                           MAX_12b_FKI193_CD3_SHG  \n",
       "./MKI139_CD3eFITC_SHG.tif                                                 MKI139_CD3eFITC_SHG  \n",
       "./12a_MKI152_CD3_SHG.tif                                                   12a_MKI152_CD3_SHG  \n",
       "./MAX_12b_188_CD3eFITC.tif_SHG.tif                                       MAX_12b_188_CD3eFITC  \n",
       "./12c_MKI138_CD3eFITC_SHG_phal546_F480647.tif_S...    12c_MKI138_CD3eFITC_SHG_phal546_F480647  \n",
       "./MAX_12b_183_CD3eFITC_SHG.tif                                       MAX_12b_183_CD3eFITC_SHG  \n",
       "./MAX_ 12a_MKI353_CD3_SHG.tif                                         MAX_ 12a_MKI353_CD3_SHG  \n",
       "./MAX_ 12a_FKI158_CD3_SHG.tif                                         MAX_ 12a_FKI158_CD3_SHG  \n",
       "./FKI_860bis_left_CD3FITC.tif_max.tif_SHG.tif                         FKI_860bis_left_CD3FITC  \n",
       "./FKI_860_CD3FITC.tif_max.tif_SHG.tif                                         FKI_860_CD3FITC  \n",
       "./FKI_141_bottom_CD3FITC_F480_AF647_Phal546.tif...  FKI_141_bottom_CD3FITC_F480_AF647_Phal546  \n",
       "./FKI_140_left_bottom_CD3FITC.tif_max.tif_SHG.tif                 FKI_140_left_bottom_CD3FITC  \n",
       "./12c_ZF_ MAX_12c_MKI857_CD3FITC_SHG.tif                   12c_ZF_ MAX_12c_MKI857_CD3FITC_SHG  \n",
       "./12c_ZF_ MAX_12c_MKI856_CD3FITC_SHG.tif                   12c_ZF_ MAX_12c_MKI856_CD3FITC_SHG  \n",
       "./MKI855_CD3_SHG_HyD3_laser_10 - Copie.tif_SHG.tif       MKI855_CD3_SHG_HyD3_laser_10 - Copie  "
      ]
     },
     "execution_count": 139,
     "metadata": {},
     "output_type": "execute_result"
    }
   ],
   "source": [
    "# View cell with density\n",
    "m = ExtractMap.ExtractMap(df_all_cd3, \"Density20\", choose=\"./MAX_12b_187_CD3eFITC.tif_SHG.tif\")\n",
    "plt.imshow(m)\n",
    "plt.show()"
   ]
  },
  {
   "cell_type": "code",
   "execution_count": 105,
   "id": "4800f5b4-e552-44d3-bf3f-bfd8fd75eeb8",
   "metadata": {},
   "outputs": [
    {
     "name": "stdout",
     "output_type": "stream",
     "text": [
      "Lymphocytes T\n",
      "Nombre de lignes au sein du jeu de données : 3896365\n",
      "Nombre de colonnes au sein du jeu de données : 50\n",
      "\n",
      "Nombre d'images uniques : 34\n",
      "Nombre de tissus WT : 14\n",
      "Nombre de tissus CD64-hDTR : 20\n",
      "\n",
      "Nombre d'observations en dehors de la tumeur (Mask=0): 2028501\n",
      "Nombre d'observations au sein de la tumeur (Mask=1): 1867864\n",
      "Mask             0        1\n",
      "Condition                  \n",
      "WT          851811   770766\n",
      "CD64-hDTR  1176690  1097098\n",
      "\n",
      "Colonnes du jeu de données :\n",
      "['Condition' 'FileName' 'X' 'Y' 'Coherency100' 'Energy100' 'MeanInt100'\n",
      " 'VarInt100' 'Density100' 'VarDensity100' 'Coherency140' 'Energy140'\n",
      " 'MeanInt140' 'VarInt140' 'Density140' 'VarDensity140' 'Coherency20'\n",
      " 'Energy20' 'MeanInt20' 'VarInt20' 'Density20' 'VarDensity20'\n",
      " 'Coherency60' 'Energy60' 'MeanInt60' 'VarInt60' 'Density60'\n",
      " 'VarDensity60' 'OrientationRef20' 'OrientationRef60' 'OrientationRef100'\n",
      " 'OrientationRef140' 'Dist' 'Angle20' 'Angle60' 'Angle100' 'Angle140'\n",
      " 'Mask' 'Type' 'Cells' 'MinDist' 'MedDist' 'CellArea' 'CellEcc'\n",
      " 'Cells100um' 'MinDist100um' 'MedDist100um' 'CellArea100um' 'CellEcc100um'\n",
      " 'Frac']\n"
     ]
    }
   ],
   "source": [
    "table_cond_mask = pd.crosstab(df_all_cd3[\"Condition\"], df_all_cd3[\"Mask\"]).sort_index(ascending=False)\n",
    "table_byfile_condition = dt_byfile[\"Condition\"].value_counts()\n",
    "table_mask = df_all_cd3['Mask'].value_counts()\n",
    "\n",
    "# Print\n",
    "print(\"Lymphocytes T\")\n",
    "print(f\"Nombre de lignes au sein du jeu de données : {df_all_cd3.shape[0]}\")\n",
    "print(f\"Nombre de colonnes au sein du jeu de données : {df_all_cd3.shape[1]}\")\n",
    "#\n",
    "print()\n",
    "print(f\"Nombre d'images uniques : {dt_byfile.shape[0]}\")\n",
    "print(f\"Nombre de tissus WT : {table_byfile_condition['WT']}\\n\"\n",
    "      f\"Nombre de tissus CD64-hDTR : {table_byfile_condition['CD64-hDTR']}\")\n",
    "# \n",
    "print()\n",
    "print(f\"Nombre d'observations en dehors de la tumeur (Mask=0): {table_mask[0]}\")\n",
    "print(f\"Nombre d'observations au sein de la tumeur (Mask=1): {table_mask[1]}\")\n",
    "#\n",
    "print(f\"\\nColonnes du jeu de données :\\n{df_all_cd3.columns.values}\")"
   ]
  },
  {
   "cell_type": "code",
   "execution_count": 106,
   "id": "070778a0-c298-4344-856f-a72ee16797ac",
   "metadata": {
    "tags": []
   },
   "outputs": [],
   "source": [
    "# \n",
    "table_cond_mask.plot(kind=\"bar\")\n",
    "plt.title(\"Jeu de données CD3\\n\"\n",
    "          \"Nombre d'observation en fonction de Condition et Mask\")\n",
    "plt.show()\n",
    "print(table_cond_mask)"
   ]
  },
  {
   "cell_type": "code",
   "execution_count": 81,
   "id": "39fda6db-2c91-4fc8-b62a-5ed6d339913a",
   "metadata": {
    "tags": []
   },
   "outputs": [
    {
     "name": "stderr",
     "output_type": "stream",
     "text": [
      "/home/etudiant/.conda/envs/BI/lib/python3.11/site-packages/seaborn/_oldcore.py:1498: FutureWarning: is_categorical_dtype is deprecated and will be removed in a future version. Use isinstance(dtype, CategoricalDtype) instead\n",
      "  if pd.api.types.is_categorical_dtype(vector):\n",
      "/home/etudiant/.conda/envs/BI/lib/python3.11/site-packages/seaborn/_oldcore.py:1498: FutureWarning: is_categorical_dtype is deprecated and will be removed in a future version. Use isinstance(dtype, CategoricalDtype) instead\n",
      "  if pd.api.types.is_categorical_dtype(vector):\n",
      "/home/etudiant/.conda/envs/BI/lib/python3.11/site-packages/seaborn/_oldcore.py:1498: FutureWarning: is_categorical_dtype is deprecated and will be removed in a future version. Use isinstance(dtype, CategoricalDtype) instead\n",
      "  if pd.api.types.is_categorical_dtype(vector):\n",
      "/home/etudiant/.conda/envs/BI/lib/python3.11/site-packages/seaborn/_oldcore.py:1498: FutureWarning: is_categorical_dtype is deprecated and will be removed in a future version. Use isinstance(dtype, CategoricalDtype) instead\n",
      "  if pd.api.types.is_categorical_dtype(vector):\n"
     ]
    }
   ],
   "source": [
    "# Nombre d'observations par image\n",
    "sns.barplot(data=dt_byfile, x=\"Name\", y=\"count\", hue=\"Condition\")\n",
    "plt.title(\"Jeu de données CD3\\n\"\n",
    "          \"Nombre d'observations au sein des tissus WT/CD64-hDTR\"\n",
    "          )\n",
    "plt.xticks(rotation=90)\n",
    "plt.ylabel(\"Nombre d'observations\")\n",
    "plt.show()"
   ]
  },
  {
   "cell_type": "code",
   "execution_count": 79,
   "id": "8b97208f-4404-4efb-ba27-cab7c2d51601",
   "metadata": {
    "tags": []
   },
   "outputs": [
    {
     "name": "stderr",
     "output_type": "stream",
     "text": [
      "/home/etudiant/.conda/envs/BI/lib/python3.11/site-packages/seaborn/_oldcore.py:1498: FutureWarning: is_categorical_dtype is deprecated and will be removed in a future version. Use isinstance(dtype, CategoricalDtype) instead\n",
      "  if pd.api.types.is_categorical_dtype(vector):\n",
      "/home/etudiant/.conda/envs/BI/lib/python3.11/site-packages/seaborn/_oldcore.py:1498: FutureWarning: is_categorical_dtype is deprecated and will be removed in a future version. Use isinstance(dtype, CategoricalDtype) instead\n",
      "  if pd.api.types.is_categorical_dtype(vector):\n",
      "/home/etudiant/.conda/envs/BI/lib/python3.11/site-packages/seaborn/_oldcore.py:1498: FutureWarning: is_categorical_dtype is deprecated and will be removed in a future version. Use isinstance(dtype, CategoricalDtype) instead\n",
      "  if pd.api.types.is_categorical_dtype(vector):\n",
      "/home/etudiant/.conda/envs/BI/lib/python3.11/site-packages/seaborn/_oldcore.py:1498: FutureWarning: is_categorical_dtype is deprecated and will be removed in a future version. Use isinstance(dtype, CategoricalDtype) instead\n",
      "  if pd.api.types.is_categorical_dtype(vector):\n"
     ]
    }
   ],
   "source": [
    "# Distribution du nombre d'observations par image\n",
    "sns.boxplot(data=dt_byfile, x=\"Condition\", y=\"count\", hue=\"Condition\")\n",
    "plt.title(\"Jeu de données CD3\\n\"\n",
    "          \"Distribution du nombre d'observations\\n\"\n",
    "          \"au sein des tissus WT/CD64-hDTR\")\n",
    "plt.xticks(rotation=90)\n",
    "plt.ylabel(\"Nombre d'observations\")\n",
    "plt.show()"
   ]
  },
  {
   "cell_type": "code",
   "execution_count": 91,
   "id": "db7c1703-6a24-4ef3-a1b0-58095186a2af",
   "metadata": {
    "tags": []
   },
   "outputs": [
    {
     "data": {
      "text/plain": [
       "TtestResult(statistic=0.19013370919743838, pvalue=0.8504487125901021, df=30.880958038289354)"
      ]
     },
     "execution_count": 91,
     "metadata": {},
     "output_type": "execute_result"
    }
   ],
   "source": [
    "# Statistics\n",
    "stats.ttest_ind(\n",
    "    dt_byfile[dt_byfile[\"Condition\"] == \"WT\"][\"count\"],\n",
    "    dt_byfile[dt_byfile[\"Condition\"] == \"CD64-hDTR\"][\"count\"],\n",
    "    equal_var = False\n",
    ")  # No differences between number of value distribution in the two condition"
   ]
  },
  {
   "cell_type": "code",
   "execution_count": 155,
   "id": "dbd0d6c5-3b3b-41b0-86b0-91c3fef1d03f",
   "metadata": {
    "tags": []
   },
   "outputs": [],
   "source": [
    "plots.single_plot(df_all_cd3[\"Density20\"], title=\"Distribution\", bins=50, mode=\"hist\")\n",
    "plt.show()"
   ]
  },
  {
   "cell_type": "code",
   "execution_count": 151,
   "id": "43134b97-82be-4d34-a0a3-085852d90617",
   "metadata": {
    "tags": []
   },
   "outputs": [],
   "source": []
  },
  {
   "cell_type": "markdown",
   "id": "3f86fefa-0955-4246-992a-b9d7ab480658",
   "metadata": {},
   "source": [
    "## Comparaison des distribution entre WT et CD64-hDTR\n",
    "\n",
    "On s'intéresse ici à la distribution des différents descripteurs selon la Condition étudiée, ici si le tissu est de phénotype WT (avec macrophage) et lorsque le tissu est de phénotype CD64-hDTR (déplété en macrophage)."
   ]
  },
  {
   "cell_type": "code",
   "execution_count": 161,
   "id": "fc59edf8-5ad4-4533-84a5-62eee8bc97b9",
   "metadata": {
    "tags": []
   },
   "outputs": [],
   "source": [
    "pixel_size = 20\n",
    "descriptors = [\"Angle\", \"Coherency\", \"Energy\", \"MeanInt\", \"VarInt\", \"Density\", \"VarDensity\", \"OrientationRef\"]\n",
    "descriptors = [i+str(pixel_size) for i in descriptors]\n",
    "fig, ax = plt.subplots(2, 4, figsize=(15, 10))\n",
    "fig.suptitle(\"Jeu de données CD3\\n\"\n",
    "             \"Distributions des différents descripteurs\")\n",
    "\n",
    "df_tmp = df_all_cd3[df_all_cd3[\"Density20\"] > 0]\n",
    "for i, des in enumerate(descriptors):\n",
    "    idx0, idx1 = i//4, i%4\n",
    "    actual_axis = ax[idx0][idx1]\n",
    "    actual_axis.hist(df_tmp[df_tmp[\"Condition\"] == \"WT\"][des], label=\"WT\", bins=50, alpha=0.5)\n",
    "    actual_axis.hist(df_tmp[df_tmp[\"Condition\"] == \"CD64-hDTR\"][des], label=\"CD64-hDTR\", bins=50, alpha=0.4)\n",
    "    actual_axis.set_title(des)\n",
    "    actual_axis.legend()\n",
    "plt.show()"
   ]
  },
  {
   "cell_type": "code",
   "execution_count": 175,
   "id": "7bb156fa-5486-43ed-a1fb-d6c04e25db84",
   "metadata": {
    "tags": []
   },
   "outputs": [
    {
     "name": "stderr",
     "output_type": "stream",
     "text": [
      "No artists with labels found to put in legend.  Note that artists whose label start with an underscore are ignored when legend() is called with no argument.\n",
      "No artists with labels found to put in legend.  Note that artists whose label start with an underscore are ignored when legend() is called with no argument.\n",
      "No artists with labels found to put in legend.  Note that artists whose label start with an underscore are ignored when legend() is called with no argument.\n",
      "No artists with labels found to put in legend.  Note that artists whose label start with an underscore are ignored when legend() is called with no argument.\n",
      "No artists with labels found to put in legend.  Note that artists whose label start with an underscore are ignored when legend() is called with no argument.\n",
      "No artists with labels found to put in legend.  Note that artists whose label start with an underscore are ignored when legend() is called with no argument.\n",
      "No artists with labels found to put in legend.  Note that artists whose label start with an underscore are ignored when legend() is called with no argument.\n",
      "No artists with labels found to put in legend.  Note that artists whose label start with an underscore are ignored when legend() is called with no argument.\n"
     ]
    }
   ],
   "source": [
    "fig, ax = plt.subplots(2, 4, figsize=(15, 10))\n",
    "fig.suptitle(\"Jeu de données CD3\\n\"\n",
    "             \"Distributions des différents descripteurs\")\n",
    "\n",
    "for i, des in enumerate(descriptors):\n",
    "    idx0, idx1 = i//4, i%4\n",
    "    actual_axis = ax[idx0][idx1]\n",
    "    actual_axis.boxplot([df_tmp[df_tmp[\"Condition\"] == \"WT\"][des], df_tmp[df_tmp[\"Condition\"] == \"CD64-hDTR\"][des]])\n",
    "    actual_axis.set_title(des)\n",
    "    actual_axis.legend()\n",
    "plt.show()"
   ]
  },
  {
   "cell_type": "code",
   "execution_count": 183,
   "id": "bd42c146-831f-4ef2-9f5a-411a11c78007",
   "metadata": {
    "tags": []
   },
   "outputs": [
    {
     "ename": "ValueError",
     "evalue": "operands could not be broadcast together with shapes (1622577,) (2273788,) ",
     "output_type": "error",
     "traceback": [
      "\u001b[0;31m---------------------------------------------------------------------------\u001b[0m",
      "\u001b[0;31mValueError\u001b[0m                                Traceback (most recent call last)",
      "Cell \u001b[0;32mIn[183], line 1\u001b[0m\n\u001b[0;32m----> 1\u001b[0m plots\u001b[38;5;241m.\u001b[39mdual_plot(\n\u001b[1;32m      2\u001b[0m     df_all_cd3\u001b[38;5;241m.\u001b[39mindex,\n\u001b[1;32m      3\u001b[0m     df_all_cd3[df_all_cd3[\u001b[38;5;124m\"\u001b[39m\u001b[38;5;124mCondition\u001b[39m\u001b[38;5;124m\"\u001b[39m] \u001b[38;5;241m==\u001b[39m \u001b[38;5;124m\"\u001b[39m\u001b[38;5;124mWT\u001b[39m\u001b[38;5;124m\"\u001b[39m][\u001b[38;5;124m\"\u001b[39m\u001b[38;5;124mOrientationRef20\u001b[39m\u001b[38;5;124m\"\u001b[39m],\n\u001b[1;32m      4\u001b[0m     df_all_cd3[df_all_cd3[\u001b[38;5;124m\"\u001b[39m\u001b[38;5;124mCondition\u001b[39m\u001b[38;5;124m\"\u001b[39m] \u001b[38;5;241m==\u001b[39m \u001b[38;5;124m\"\u001b[39m\u001b[38;5;124mCD64-hDTR\u001b[39m\u001b[38;5;124m\"\u001b[39m][\u001b[38;5;124m\"\u001b[39m\u001b[38;5;124mOrientationRef20\u001b[39m\u001b[38;5;124m\"\u001b[39m]\n\u001b[1;32m      5\u001b[0m )\n\u001b[1;32m      6\u001b[0m plt\u001b[38;5;241m.\u001b[39mshow()\n",
      "File \u001b[0;32m~/M2BI/Projet Long/TumorMEC/src/plots.py:372\u001b[0m, in \u001b[0;36mdual_plot\u001b[0;34m(indices, observed, predicted, scale, mode, title, metric, xlabel, ylabel, alphas, xleft, xright, ytop, ybottom, r2, loss, normalize, save_to, overwrite, filename, ext, showR2, showLoss, showDelta, showObs, showPred, ignore_nan, forcename, lab_1, lab_2, **kwargs)\u001b[0m\n\u001b[1;32m    369\u001b[0m     predicted \u001b[38;5;241m=\u001b[39m np\u001b[38;5;241m.\u001b[39marray(predicted)\n\u001b[1;32m    371\u001b[0m \u001b[38;5;66;03m# Metrics\u001b[39;00m\n\u001b[0;32m--> 372\u001b[0m isnotnan \u001b[38;5;241m=\u001b[39m \u001b[38;5;241m~\u001b[39mnp\u001b[38;5;241m.\u001b[39misnan(observed) \u001b[38;5;241m&\u001b[39m \u001b[38;5;241m~\u001b[39mnp\u001b[38;5;241m.\u001b[39misnan(predicted)\n\u001b[1;32m    373\u001b[0m r2 \u001b[38;5;241m=\u001b[39m r2 \u001b[38;5;28;01mif\u001b[39;00m r2 \u001b[38;5;28;01melse\u001b[39;00m r2_score(observed[isnotnan], predicted[isnotnan])\n\u001b[1;32m    374\u001b[0m loss \u001b[38;5;241m=\u001b[39m loss \u001b[38;5;28;01mif\u001b[39;00m loss \u001b[38;5;28;01melse\u001b[39;00m ((observed[isnotnan] \u001b[38;5;241m-\u001b[39m predicted[isnotnan]) \u001b[38;5;241m*\u001b[39m\u001b[38;5;241m*\u001b[39m \u001b[38;5;241m2\u001b[39m)\u001b[38;5;241m.\u001b[39mmean()\n",
      "\u001b[0;31mValueError\u001b[0m: operands could not be broadcast together with shapes (1622577,) (2273788,) "
     ]
    }
   ],
   "source": [
    "plots.dual_plot(\n",
    "    df_all_cd3.index,\n",
    "    df_all_cd3[df_all_cd3[\"Condition\"] == \"WT\"][\"OrientationRef20\"],\n",
    "    df_all_cd3[df_all_cd3[\"Condition\"] == \"CD64-hDTR\"][\"OrientationRef20\"]\n",
    ")\n",
    "plt.show()"
   ]
  },
  {
   "cell_type": "code",
   "execution_count": null,
   "id": "3673466d-437a-4388-9d1e-7092ce9968b6",
   "metadata": {},
   "outputs": [],
   "source": [
    "Cells100um"
   ]
  }
 ],
 "metadata": {
  "kernelspec": {
   "display_name": "Python 3 (ipykernel)",
   "language": "python",
   "name": "python3"
  },
  "language_info": {
   "codemirror_mode": {
    "name": "ipython",
    "version": 3
   },
   "file_extension": ".py",
   "mimetype": "text/x-python",
   "name": "python",
   "nbconvert_exporter": "python",
   "pygments_lexer": "ipython3",
   "version": "3.11.5"
  }
 },
 "nbformat": 4,
 "nbformat_minor": 5
}
