{
 "cells": [
  {
   "cell_type": "markdown",
   "id": "603d342a",
   "metadata": {},
   "source": [
    "# KI"
   ]
  },
  {
   "cell_type": "code",
   "execution_count": 45,
   "id": "10764865",
   "metadata": {},
   "outputs": [],
   "source": [
    "%matplotlib inline\n",
    "# Import modules\n",
    "\n",
    "import numpy as np\n",
    "import pandas as pd\n",
    "import matplotlib.pyplot as plt\n",
    "\n",
    "import graphviz\n",
    "from sklearn import tree\n",
    "from sklearn.model_selection import train_test_split\n",
    "from sklearn.tree import DecisionTreeClassifier\n",
    "from sklearn.ensemble import RandomForestClassifier\n",
    "from sklearn.metrics import accuracy_score, matthews_corrcoef,\\\n",
    "    roc_curve, auc, confusion_matrix, ConfusionMatrixDisplay\n",
    "\n",
    "# Local modules\n",
    "import constantes\n",
    "import auxiliary\n",
    "import models\n",
    "import plots"
   ]
  },
  {
   "cell_type": "code",
   "execution_count": 2,
   "id": "97e7313c-d6a8-47e6-bde1-2308e47d360c",
   "metadata": {},
   "outputs": [],
   "source": [
    "seed = 42  # random seed for reproductibility\n",
    "\n",
    "# Selected phenotype\n",
    "type = \"cd3\"\n",
    "condition = \"ki\"\n",
    "sess = f\"{type}_{condition}\"  # session condition"
   ]
  },
  {
   "cell_type": "code",
   "execution_count": 3,
   "id": "11c58b2f-45e1-45e3-97c7-fa9c7b4433cd",
   "metadata": {},
   "outputs": [],
   "source": [
    "data_dirpath = auxiliary.to_dirpath(constantes.DATA_DIR)\n",
    "out_dirpath = auxiliary.to_dirpath(constantes.OUTPUT_DIR)\n",
    "\n",
    "# create path to {sess} output directory\n",
    "sess_dirpath = auxiliary.create_dir(f\"{out_dirpath}{sess}\")\n",
    "sess_perf_dirpath = auxiliary.create_dir(f\"{sess_dirpath}{'performances'}\")\n",
    "sess_tree_dirpath = auxiliary.create_dir(f\"{sess_dirpath}{'tree'}\")\n",
    "sess_imp_dirpath = auxiliary.create_dir(f\"{sess_dirpath}{'importances'}\")"
   ]
  },
  {
   "cell_type": "code",
   "execution_count": 4,
   "id": "5ae0a886",
   "metadata": {},
   "outputs": [
    {
     "data": {
      "text/html": [
       "<div>\n",
       "<style scoped>\n",
       "    .dataframe tbody tr th:only-of-type {\n",
       "        vertical-align: middle;\n",
       "    }\n",
       "\n",
       "    .dataframe tbody tr th {\n",
       "        vertical-align: top;\n",
       "    }\n",
       "\n",
       "    .dataframe thead th {\n",
       "        text-align: right;\n",
       "    }\n",
       "</style>\n",
       "<table border=\"1\" class=\"dataframe\">\n",
       "  <thead>\n",
       "    <tr style=\"text-align: right;\">\n",
       "      <th></th>\n",
       "      <th>Condition</th>\n",
       "      <th>FileName</th>\n",
       "      <th>X</th>\n",
       "      <th>Y</th>\n",
       "      <th>Coherency100</th>\n",
       "      <th>Energy100</th>\n",
       "      <th>MeanInt100</th>\n",
       "      <th>VarInt100</th>\n",
       "      <th>Density100</th>\n",
       "      <th>VarDensity100</th>\n",
       "      <th>...</th>\n",
       "      <th>Cells100um</th>\n",
       "      <th>MinDist100um</th>\n",
       "      <th>MedDist100um</th>\n",
       "      <th>CellArea100um</th>\n",
       "      <th>CellEcc100um</th>\n",
       "      <th>Frac</th>\n",
       "      <th>class_t_plus</th>\n",
       "      <th>class_t_enriched</th>\n",
       "      <th>class_t_enriched_2</th>\n",
       "      <th>class_density</th>\n",
       "    </tr>\n",
       "  </thead>\n",
       "  <tbody>\n",
       "    <tr>\n",
       "      <th>107048</th>\n",
       "      <td>WT</td>\n",
       "      <td>./12c_ZF_ MAX_12c_MW137_CD3FITC_SHG.tif</td>\n",
       "      <td>4987</td>\n",
       "      <td>625</td>\n",
       "      <td>-3.0</td>\n",
       "      <td>-3.0</td>\n",
       "      <td>-3.0</td>\n",
       "      <td>-3.0</td>\n",
       "      <td>0.0</td>\n",
       "      <td>-3.0</td>\n",
       "      <td>...</td>\n",
       "      <td>0.0</td>\n",
       "      <td>0.0</td>\n",
       "      <td>0.0</td>\n",
       "      <td>0.0</td>\n",
       "      <td>0.0</td>\n",
       "      <td>NaN</td>\n",
       "      <td>0</td>\n",
       "      <td>0</td>\n",
       "      <td>0</td>\n",
       "      <td>0</td>\n",
       "    </tr>\n",
       "    <tr>\n",
       "      <th>107205</th>\n",
       "      <td>WT</td>\n",
       "      <td>./12c_ZF_ MAX_12c_MW137_CD3FITC_SHG.tif</td>\n",
       "      <td>4867</td>\n",
       "      <td>665</td>\n",
       "      <td>-3.0</td>\n",
       "      <td>-3.0</td>\n",
       "      <td>-3.0</td>\n",
       "      <td>-3.0</td>\n",
       "      <td>0.0</td>\n",
       "      <td>-3.0</td>\n",
       "      <td>...</td>\n",
       "      <td>0.0</td>\n",
       "      <td>0.0</td>\n",
       "      <td>0.0</td>\n",
       "      <td>0.0</td>\n",
       "      <td>0.0</td>\n",
       "      <td>NaN</td>\n",
       "      <td>0</td>\n",
       "      <td>0</td>\n",
       "      <td>0</td>\n",
       "      <td>0</td>\n",
       "    </tr>\n",
       "    <tr>\n",
       "      <th>107206</th>\n",
       "      <td>WT</td>\n",
       "      <td>./12c_ZF_ MAX_12c_MW137_CD3FITC_SHG.tif</td>\n",
       "      <td>4907</td>\n",
       "      <td>665</td>\n",
       "      <td>-3.0</td>\n",
       "      <td>-3.0</td>\n",
       "      <td>-3.0</td>\n",
       "      <td>-3.0</td>\n",
       "      <td>0.0</td>\n",
       "      <td>-3.0</td>\n",
       "      <td>...</td>\n",
       "      <td>0.0</td>\n",
       "      <td>0.0</td>\n",
       "      <td>0.0</td>\n",
       "      <td>0.0</td>\n",
       "      <td>0.0</td>\n",
       "      <td>NaN</td>\n",
       "      <td>0</td>\n",
       "      <td>0</td>\n",
       "      <td>0</td>\n",
       "      <td>0</td>\n",
       "    </tr>\n",
       "    <tr>\n",
       "      <th>107207</th>\n",
       "      <td>WT</td>\n",
       "      <td>./12c_ZF_ MAX_12c_MW137_CD3FITC_SHG.tif</td>\n",
       "      <td>4947</td>\n",
       "      <td>665</td>\n",
       "      <td>-3.0</td>\n",
       "      <td>-3.0</td>\n",
       "      <td>-3.0</td>\n",
       "      <td>-3.0</td>\n",
       "      <td>0.0</td>\n",
       "      <td>-3.0</td>\n",
       "      <td>...</td>\n",
       "      <td>0.0</td>\n",
       "      <td>0.0</td>\n",
       "      <td>0.0</td>\n",
       "      <td>0.0</td>\n",
       "      <td>0.0</td>\n",
       "      <td>NaN</td>\n",
       "      <td>0</td>\n",
       "      <td>0</td>\n",
       "      <td>0</td>\n",
       "      <td>0</td>\n",
       "    </tr>\n",
       "    <tr>\n",
       "      <th>107208</th>\n",
       "      <td>WT</td>\n",
       "      <td>./12c_ZF_ MAX_12c_MW137_CD3FITC_SHG.tif</td>\n",
       "      <td>4987</td>\n",
       "      <td>665</td>\n",
       "      <td>-3.0</td>\n",
       "      <td>-3.0</td>\n",
       "      <td>-3.0</td>\n",
       "      <td>-3.0</td>\n",
       "      <td>0.0</td>\n",
       "      <td>-3.0</td>\n",
       "      <td>...</td>\n",
       "      <td>0.0</td>\n",
       "      <td>0.0</td>\n",
       "      <td>0.0</td>\n",
       "      <td>0.0</td>\n",
       "      <td>0.0</td>\n",
       "      <td>NaN</td>\n",
       "      <td>0</td>\n",
       "      <td>0</td>\n",
       "      <td>0</td>\n",
       "      <td>0</td>\n",
       "    </tr>\n",
       "  </tbody>\n",
       "</table>\n",
       "<p>5 rows × 54 columns</p>\n",
       "</div>"
      ],
      "text/plain": [
       "       Condition                                 FileName     X    Y  \\\n",
       "107048        WT  ./12c_ZF_ MAX_12c_MW137_CD3FITC_SHG.tif  4987  625   \n",
       "107205        WT  ./12c_ZF_ MAX_12c_MW137_CD3FITC_SHG.tif  4867  665   \n",
       "107206        WT  ./12c_ZF_ MAX_12c_MW137_CD3FITC_SHG.tif  4907  665   \n",
       "107207        WT  ./12c_ZF_ MAX_12c_MW137_CD3FITC_SHG.tif  4947  665   \n",
       "107208        WT  ./12c_ZF_ MAX_12c_MW137_CD3FITC_SHG.tif  4987  665   \n",
       "\n",
       "        Coherency100  Energy100  MeanInt100  VarInt100  Density100  \\\n",
       "107048          -3.0       -3.0        -3.0       -3.0         0.0   \n",
       "107205          -3.0       -3.0        -3.0       -3.0         0.0   \n",
       "107206          -3.0       -3.0        -3.0       -3.0         0.0   \n",
       "107207          -3.0       -3.0        -3.0       -3.0         0.0   \n",
       "107208          -3.0       -3.0        -3.0       -3.0         0.0   \n",
       "\n",
       "        VarDensity100  ...  Cells100um  MinDist100um  MedDist100um  \\\n",
       "107048           -3.0  ...         0.0           0.0           0.0   \n",
       "107205           -3.0  ...         0.0           0.0           0.0   \n",
       "107206           -3.0  ...         0.0           0.0           0.0   \n",
       "107207           -3.0  ...         0.0           0.0           0.0   \n",
       "107208           -3.0  ...         0.0           0.0           0.0   \n",
       "\n",
       "        CellArea100um  CellEcc100um  Frac  class_t_plus  class_t_enriched  \\\n",
       "107048            0.0           0.0   NaN             0                 0   \n",
       "107205            0.0           0.0   NaN             0                 0   \n",
       "107206            0.0           0.0   NaN             0                 0   \n",
       "107207            0.0           0.0   NaN             0                 0   \n",
       "107208            0.0           0.0   NaN             0                 0   \n",
       "\n",
       "        class_t_enriched_2  class_density  \n",
       "107048                   0              0  \n",
       "107205                   0              0  \n",
       "107206                   0              0  \n",
       "107207                   0              0  \n",
       "107208                   0              0  \n",
       "\n",
       "[5 rows x 54 columns]"
      ]
     },
     "execution_count": 4,
     "metadata": {},
     "output_type": "execute_result"
    }
   ],
   "source": [
    "# Used dataset\n",
    "data_frame = auxiliary.read_dataframe(\n",
    "    filepath=f\"{data_dirpath}{'WT_KI_CD3_in-tumor'}.csv\",\n",
    "    index_col=0\n",
    ")\n",
    "\n",
    "# Data first values\n",
    "data_frame.head()"
   ]
  },
  {
   "cell_type": "code",
   "execution_count": 5,
   "id": "9f34ca5e",
   "metadata": {},
   "outputs": [],
   "source": [
    "# Mask for the studied phenotype\n",
    "MASK_TYPE = data_frame[\"Type\"] == type.upper()\n",
    "MASK_COND = data_frame[\"Condition\"] == condition.upper()"
   ]
  },
  {
   "cell_type": "code",
   "execution_count": 6,
   "id": "66aa292c-34a2-42be-b56b-5442d00a9be5",
   "metadata": {},
   "outputs": [],
   "source": [
    "# Main data with selected phenotype\n",
    "data = data_frame[MASK_TYPE & MASK_COND]"
   ]
  },
  {
   "cell_type": "code",
   "execution_count": 7,
   "id": "1769ea4f-4680-4c71-acbd-d380cb35704d",
   "metadata": {},
   "outputs": [],
   "source": [
    "# Column features (without Dist & Angle information)\n",
    "x_columns = [\n",
    "    *constantes.float20_columns_unloc,\n",
    "    *constantes.float60_columns_unloc,\n",
    "    *constantes.float100_columns_unloc,\n",
    "    *constantes.float140_columns_unloc\n",
    "]\n",
    "\n",
    "# Features columns with Dist & Angle attributes\n",
    "x_columns_dist = [\n",
    "    *constantes.float20_columns,\n",
    "    *constantes.float60_columns,\n",
    "    *constantes.float100_columns,\n",
    "    *constantes.float140_columns,\n",
    "    *constantes.dist_columns\n",
    "]"
   ]
  },
  {
   "cell_type": "markdown",
   "id": "c48be66a",
   "metadata": {},
   "source": [
    "# T plus\n",
    "\n",
    "Prédiction des fenêtres de classe T+"
   ]
  },
  {
   "cell_type": "markdown",
   "id": "9efc3e89",
   "metadata": {},
   "source": [
    "### Jeu de données d'apprentissage et de validation (avec valeurs abérrantes)"
   ]
  },
  {
   "cell_type": "code",
   "execution_count": 8,
   "id": "4e27ae34",
   "metadata": {},
   "outputs": [],
   "source": [
    "# Target column\n",
    "y_column = \"class_t_plus\"\n",
    "\n",
    "# Define x and y dataframe\n",
    "xy = data[x_columns_dist + [y_column]].dropna()\n",
    "\n",
    "# features\n",
    "x = xy[x_columns].values\n",
    "x_loc = xy[x_columns_dist].values  # with distance/angle\n",
    "\n",
    "# target value\n",
    "y = xy[y_column].values\n",
    "\n",
    "## Train and Validation\n",
    "x_train, x_test, y_train, y_test = train_test_split(\n",
    "    x, y, test_size=0.3, random_state=seed, stratify=y\n",
    ")\n",
    "\n",
    "# With (Angle & Dist)\n",
    "x_loc_train, x_loc_test, y_loc_train, y_loc_test = train_test_split(\n",
    "    x_loc, y, test_size=0.3, random_state=seed, stratify=y\n",
    ")"
   ]
  },
  {
   "cell_type": "code",
   "execution_count": 9,
   "id": "eed6901d",
   "metadata": {},
   "outputs": [
    {
     "name": "stdout",
     "output_type": "stream",
     "text": [
      "----- T plus -----\n",
      "\n",
      "Comptage des classes :        0            1\n",
      "y:                            304962  792136\n",
      "y_train:                      213473  554495\n",
      "y_test:                        91489  237641\n",
      "\n",
      "Nombre d'observations totales : 1_097_098\n"
     ]
    }
   ],
   "source": [
    "print(f\"----- T plus -----\")\n",
    "print(f\"\\n{'Comptage des classes :':<30s}{'0':<6s}{'':2s}{'1':>6s}\")\n",
    "print(f\"{'y:':30s}{sum(y == 0):>6d}{'':2s}{sum(y == 1):>6d}\")\n",
    "print(f\"{'y_train:':30s}{sum(y_train == 0):>6d}{'':2s}{sum(y_train == 1):>6d}\")\n",
    "print(f\"{'y_test:':30s}{sum(y_test == 0):>6d}{'':2s}{sum(y_test == 1):>6d}\")\n",
    "print(f\"\\nNombre d'observations totales : {y.shape[0]:_}\")"
   ]
  },
  {
   "cell_type": "markdown",
   "id": "a105fef5",
   "metadata": {},
   "source": [
    "#### Arbre de décision"
   ]
  },
  {
   "cell_type": "code",
   "execution_count": 10,
   "id": "e6dc3f6a",
   "metadata": {},
   "outputs": [],
   "source": [
    "depths_dtree = [2, 4, 6, 8, 10, 15, 20]\n",
    "\n",
    "# Results with best selected depth\n",
    "results_t_plus = models.forest_depth_acc(\n",
    "    x_train, y_train, x_test, y_test,\n",
    "    depths=depths_dtree, \n",
    "    classifier=DecisionTreeClassifier,\n",
    "    class_weight=\"balanced\"\n",
    ")\n",
    "\n",
    "# Results with best selected depth (with Dist & Angle)\n",
    "results_dist_t_plus = models.forest_depth_acc(\n",
    "    x_loc_train, y_loc_train, x_loc_test, y_loc_test,\n",
    "    depths=depths_dtree, \n",
    "    classifier=DecisionTreeClassifier,\n",
    "    class_weight=\"balanced\"\n",
    ")"
   ]
  },
  {
   "cell_type": "code",
   "execution_count": 11,
   "id": "212a17b5",
   "metadata": {},
   "outputs": [
    {
     "data": {
      "image/png": "[encoded data removed]",
      "text/plain": [
       "<Figure size 1500x800 with 2 Axes>"
      ]
     },
     "metadata": {},
     "output_type": "display_data"
    },
    {
     "data": {
      "image/png": "[encoded data removed]",
      "text/plain": [
       "<Figure size 1500x800 with 2 Axes>"
      ]
     },
     "metadata": {},
     "output_type": "display_data"
    }
   ],
   "source": [
    "# Plot\n",
    "fig, (ax1, ax2) = plt.subplots(1, 2, figsize=(15, 8))\n",
    "plots.plot(\n",
    "    results_t_plus[\"auc_train\"],\n",
    "    results_t_plus[\"auc_test\"],\n",
    "    indices=depths_dtree,\n",
    "    label=(\"Train\", \"Test\"),\n",
    "    title=\"Evolution de l'AUC selon la profondeur de l'arbre de décision\",\n",
    "    xlabel=\"Profondeur de l'arbre\", ylabel=\"score AUC\",\n",
    "    xticks=depths_dtree, showR2=False, showY=False,\n",
    "    ytop=1, ybottom=0.5, figure=(fig, ax1)\n",
    ")\n",
    "\n",
    "plots.plot(\n",
    "    results_dist_t_plus[\"auc_train\"],\n",
    "    results_dist_t_plus[\"auc_test\"],\n",
    "    indices=depths_dtree,\n",
    "    label=(\"Train\", \"Test\"),\n",
    "    title=\"Evolution de l'AUC avec Dist & Angle selon\\nla profondeur de l'arbre de décision\",\n",
    "    xlabel=\"Profondeur de l'arbre\", ylabel=\"score AUC\",\n",
    "    xticks=depths_dtree, showR2=False, showY=False,\n",
    "    ytop=1, ybottom=0.5, figure=(fig, ax2),\n",
    ")\n",
    "\n",
    "# Saving plot\n",
    "fig.savefig(f\"{sess_perf_dirpath}{sess}_t-plus_auc-decisiontree\")\n",
    "\n",
    "# Showing plot\n",
    "plt.show()\n",
    "\n",
    "# Plot\n",
    "fig, (ax1, ax2) = plt.subplots(1, 2, figsize=(15, 8))\n",
    "\n",
    "plots.plot(\n",
    "    results_t_plus[\"acc_train\"],\n",
    "    results_t_plus[\"acc_test\"],\n",
    "    indices=depths_dtree,\n",
    "    label=(\"Train\", \"Test\"),\n",
    "    title=\"Evolution de l'accuracy en fonction de la profondeur de l'arbre de décision\",\n",
    "    xlabel=\"Profondeur de l'arbre\", ylabel=\"Accuracy\",\n",
    "    xticks=depths_dtree, showR2=False, showY=False,\n",
    "    ytop=0.95, ybottom=0.48, figure=(fig, ax1)\n",
    ")\n",
    "\n",
    "plots.plot(\n",
    "    results_dist_t_plus[\"acc_train\"],\n",
    "    results_dist_t_plus[\"acc_test\"],\n",
    "    indices=depths_dtree,\n",
    "    label=(\"Train\", \"Test\"),\n",
    "    title=\"Evolution de l'accuracy (avec Dist & Angle) en fonction de\\nla profondeur de l'arbre de décision\",\n",
    "    xlabel=\"Profondeur de l'arbre\", ylabel=\"Accuracy\",\n",
    "    xticks=depths_dtree, showR2=False, showY=False,\n",
    "    ytop=0.95, ybottom=0.48, figure=(fig, ax2),\n",
    "\n",
    ")\n",
    "# Saving plot\n",
    "fig.savefig(f\"{sess_perf_dirpath}{sess}_t-plus_accuracy-decisiontree\")\n",
    "\n",
    "# Showing plot\n",
    "plt.show()"
   ]
  },
  {
   "cell_type": "code",
   "execution_count": 12,
   "id": "a79d38fd-b71f-4758-8103-92c7c806ed45",
   "metadata": {},
   "outputs": [
    {
     "name": "stdout",
     "output_type": "stream",
     "text": [
      "----- Résumé des performances en classe T plus, arbre de décision -----\n",
      "Profondeur          : 2     4     6     8     10    15    20    \n",
      "\n",
      "AUC_train           : 0.57  0.59  0.59  0.60  0.61  0.63  0.66  \n",
      "AUC_test            : 0.57  0.58  0.59  0.60  0.60  0.62  0.62  \n",
      "\n",
      "Accuracy_train      : 0.64  0.64  0.61  0.62  0.59  0.62  0.64  \n",
      "Accuracy_test       : 0.63  0.64  0.61  0.62  0.59  0.60  0.61  \n",
      "\n",
      "---\n",
      "AUC_train_dist      : 0.57  0.58  0.59  0.61  0.62  0.65  0.68  \n",
      "AUC_test_dist       : 0.57  0.58  0.59  0.60  0.61  0.63  0.64  \n",
      "\n",
      "Accuracy_train_dist : 0.63  0.64  0.61  0.62  0.60  0.62  0.65  \n",
      "Accuracy_test_dist  : 0.63  0.63  0.61  0.62  0.59  0.61  0.61  \n"
     ]
    }
   ],
   "source": [
    "print(\"----- Résumé des performances en classe T plus, arbre de décision -----\")\n",
    "print(f\"{'Profondeur':<20s}:\", end=\" \") ; [print(f\"{i:<4d}\", end=\"  \") for i in results_t_plus[\"depths\"]] ; print(\"\\n\")\n",
    "\n",
    "print(f\"{'AUC_train':<20s}:\", end=\" \") ; [print(f\"{i:<.2f}\", end=\"  \") for i in results_t_plus[\"auc_train\"]] ; print()\n",
    "print(f\"{'AUC_test':<20s}:\", end=\" \") ; [print(f\"{i:<.2f}\", end=\"  \") for i in results_t_plus[\"auc_test\"]] ; print(\"\\n\")\n",
    "print(f\"{'Accuracy_train':<20s}:\", end=\" \") ; [print(f\"{i:<.2f}\", end=\"  \") for i in results_t_plus[\"acc_train\"]] ; print()\n",
    "print(f\"{'Accuracy_test':<20s}:\", end=\" \") ; [print(f\"{i:<.2f}\", end=\"  \") for i in results_t_plus[\"acc_test\"]] ; print(\"\\n\")\n",
    "\n",
    "print(\"---\")\n",
    "print(f\"{'AUC_train_dist':<20s}:\", end=\" \") ; [print(f\"{i:<.2f}\", end=\"  \") for i in results_dist_t_plus[\"auc_train\"]] ; print()\n",
    "print(f\"{'AUC_test_dist':<20s}:\", end=\" \") ; [print(f\"{i:<.2f}\", end=\"  \") for i in results_dist_t_plus[\"auc_test\"]] ; print(\"\\n\")\n",
    "print(f\"{'Accuracy_train_dist':<20s}:\", end=\" \") ; [print(f\"{i:<.2f}\", end=\"  \") for i in results_dist_t_plus[\"acc_train\"]] ; print()\n",
    "print(f\"{'Accuracy_test_dist':<20s}:\", end=\" \") ; [print(f\"{i:<.2f}\", end=\"  \") for i in results_dist_t_plus[\"acc_test\"]] ; print()"
   ]
  },
  {
   "cell_type": "code",
   "execution_count": 13,
   "id": "6b3ab6f1-bf32-4996-8ed1-554caeb197d9",
   "metadata": {},
   "outputs": [],
   "source": [
    "# TODO: Save auc, accuracy, mcc values to performances directory"
   ]
  },
  {
   "cell_type": "code",
   "execution_count": 14,
   "id": "e33c059c",
   "metadata": {},
   "outputs": [],
   "source": [
    "# Decision Tree (CART)\n",
    "dtree_plus = DecisionTreeClassifier(\n",
    "    criterion=\"entropy\",\n",
    "    max_depth=12,\n",
    "    random_state=seed,\n",
    "    class_weight=\"balanced\"\n",
    ")\n",
    "\n",
    "# Decision Tree (CART) with Dist column\n",
    "dtree_dist_plus = DecisionTreeClassifier(\n",
    "    criterion=\"entropy\",\n",
    "    max_depth=12,\n",
    "    random_state=seed,\n",
    "    class_weight=\"balanced\"\n",
    ")"
   ]
  },
  {
   "cell_type": "code",
   "execution_count": 15,
   "id": "05a4deba-93ce-4e47-affc-1fc35c1cc933",
   "metadata": {},
   "outputs": [],
   "source": [
    "# Fitting models on data\n",
    "dtree_plus.fit(x_train, y_train)\n",
    "dtree_dist_plus.fit(x_loc_train, y_loc_train)\n",
    "\n",
    "# Prediction on train and validation\n",
    "y_train_pred = dtree_plus.predict(x_train)\n",
    "y_test_pred = dtree_plus.predict(x_test)\n",
    "\n",
    "y_loc_train_pred = dtree_dist_plus.predict(x_loc_train)\n",
    "y_loc_test_pred = dtree_dist_plus.predict(x_loc_test)\n",
    "\n",
    "# Labels (for re-assignment)\n",
    "labels_class = pd.Series(dtree_plus.classes_).map(\n",
    "    {0: 'not_plus', 1: 'plus'}\n",
    ").values"
   ]
  },
  {
   "cell_type": "code",
   "execution_count": 47,
   "id": "693d8947",
   "metadata": {},
   "outputs": [],
   "source": [
    "# ROC values - false positive rate (fpr), and true positive rate (tpr)\n",
    "fpr_train, tpr_train, _ = roc_curve(y_train, y_train_pred)\n",
    "fpr_test, tpr_test, _ = roc_curve(y_test, y_test_pred)\n",
    "\n",
    "fpr_loc_train, tpr_loc_train, _ = roc_curve(y_loc_train, y_loc_train_pred)\n",
    "fpr_loc_test, tpr_loc_test, _ = roc_curve(y_loc_test, y_loc_test_pred)\n",
    "\n",
    "# Model performances, how often is the classifier correct?\n",
    "# train\n",
    "acc_train = accuracy_score(y_train, y_train_pred)\n",
    "mcc_train = matthews_corrcoef(y_train, y_train_pred)\n",
    "auc_train = auc(fpr_train, tpr_train)\n",
    "# test\n",
    "acc_test = accuracy_score(y_test, y_test_pred)\n",
    "mcc_test = matthews_corrcoef(y_test, y_test_pred)\n",
    "auc_test = auc(fpr_test, tpr_test)"
   ]
  },
  {
   "cell_type": "code",
   "execution_count": 49,
   "id": "11e4c031-116f-42dd-b2c9-33a9f5a3e5ad",
   "metadata": {},
   "outputs": [
    {
     "name": "stdout",
     "output_type": "stream",
     "text": [
      "----- Arbre de décision -----\n",
      "Train\n",
      "Accuracy   = 0.607\n",
      "AUC        = 0.617\n",
      "MCC        = 0.209\n",
      "\n",
      "Test\n",
      "Accuracy   = 0.602\n",
      "AUC        = 0.611\n",
      "MCC        = 0.199\n"
     ]
    }
   ],
   "source": [
    "print(\"----- Arbre de décision -----\")\n",
    "print(\"Train\")\n",
    "print(f\"{'Accuracy':<10s} = {acc_train:2.3f}\")\n",
    "print(f\"{'AUC':<10s} = {auc_train:2.3f}\")\n",
    "print(f\"{'MCC':<10s} = {mcc_train:2.3f}\")\n",
    "print()\n",
    "print(\"Test\")\n",
    "print(f\"{'Accuracy':<10s} = {acc_test:2.3f}\")\n",
    "print(f\"{'AUC':<10s} = {auc_test:2.3f}\")\n",
    "print(f\"{'MCC':<10s} = {mcc_test:2.3f}\")"
   ]
  },
  {
   "cell_type": "code",
   "execution_count": null,
   "id": "4cb5d2a9-aec7-4bd0-94d9-8e2bebc7ecd9",
   "metadata": {},
   "outputs": [],
   "source": [
    "# Confusion matrix\n",
    "fig, (ax1, ax2) = plt.subplots(1, 2, figsize=(16, 5))\n",
    "cm = confusion_matrix(y_test, y_test_pred)\n",
    "cm2 = confusion_matrix(y_test, y_test_pred, normalize=\"true\")\n",
    "ConfusionMatrixDisplay(\n",
    "    confusion_matrix=cm,\n",
    "    display_labels=labels_class,\n",
    ").plot(ax=ax1, cmap=\"Reds\")\n",
    "\n",
    "ConfusionMatrixDisplay(confusion_matrix=cm2, display_labels=labels_class).plot(ax=ax2)\n",
    "fig.savefig(sess_dirpath + \"cd3_ki_t-plus_test-cmatrix.png\")\n",
    "plt.show()"
   ]
  },
  {
   "cell_type": "code",
   "execution_count": null,
   "id": "b3001cd6",
   "metadata": {},
   "outputs": [],
   "source": [
    "# print(\"Arbre de décision acc, Angle avec Dist\")\n",
    "print(\"Accuracy Train:\", accuracy_score(y_loc_train, y_loc_train_pred))\n",
    "print(\"AUC Train:\", auc(fpr_loc_train, tpr_loc_train))\n",
    "print()\n",
    "print(\"Accuracy Test:\", accuracy_score(y_loc_test, y_loc_test_pred))\n",
    "print(\"AUC Test:\", auc(fpr_loc_test, tpr_loc_test))\n",
    "\n",
    "fig, (ax1, ax2) = plt.subplots(1, 2, figsize=(14, 5))\n",
    "cm_dist = confusion_matrix(y_loc_test, y_loc_test_pred)\n",
    "cm2_dist = confusion_matrix(y_loc_test, y_loc_test_pred, normalize=\"true\")\n",
    "ConfusionMatrixDisplay(confusion_matrix=cm_dist, display_labels=labels_class).plot(ax=ax1)\n",
    "ConfusionMatrixDisplay(confusion_matrix=cm2_dist, display_labels=labels_class).plot(ax=ax2)\n",
    "fig.savefig(sess_dirpath + \"cd3_ki_t-plus_test-dist-cmatrix.png\")\n",
    "plt.show()"
   ]
  },
  {
   "cell_type": "code",
   "execution_count": null,
   "id": "7acccabe",
   "metadata": {},
   "outputs": [],
   "source": [
    "# Arbre de Décision\n",
    "fig = plt.figure(figsize=(10, 30))\n",
    "dot_data = tree.export_graphviz(\n",
    "    dtree_plus,\n",
    "    feature_names=x_columns,\n",
    "    class_names=labels_class,\n",
    "    filled=True\n",
    ")\n",
    "graph = graphviz.Source(dot_data, format=\"png\")\n",
    "graph.render(sess_dirpath + \"KI_decision_tree_t-plus\")\n",
    "graph"
   ]
  },
  {
   "cell_type": "code",
   "execution_count": 3,
   "id": "5e50602e",
   "metadata": {},
   "outputs": [
    {
     "ename": "NameError",
     "evalue": "name 'plt' is not defined",
     "output_type": "error",
     "traceback": [
      "\u001b[0;31m---------------------------------------------------------------------------\u001b[0m",
      "\u001b[0;31mNameError\u001b[0m                                 Traceback (most recent call last)",
      "Cell \u001b[0;32mIn[3], line 2\u001b[0m\n\u001b[1;32m      1\u001b[0m \u001b[38;5;66;03m# Arbre de décision avec l'ajout de Dist & Angle\u001b[39;00m\n\u001b[0;32m----> 2\u001b[0m fig \u001b[38;5;241m=\u001b[39m plt\u001b[38;5;241m.\u001b[39mfigure(figsize\u001b[38;5;241m=\u001b[39m(\u001b[38;5;241m10\u001b[39m, \u001b[38;5;241m25\u001b[39m))\n\u001b[1;32m      3\u001b[0m dot_data \u001b[38;5;241m=\u001b[39m tree\u001b[38;5;241m.\u001b[39mexport_graphviz(\n\u001b[1;32m      4\u001b[0m     clf_dist_plus,\n\u001b[1;32m      5\u001b[0m     feature_names\u001b[38;5;241m=\u001b[39mx_columns_dist,\n\u001b[1;32m      6\u001b[0m     class_names\u001b[38;5;241m=\u001b[39mlabels_class,\n\u001b[1;32m      7\u001b[0m     filled\u001b[38;5;241m=\u001b[39m\u001b[38;5;28;01mTrue\u001b[39;00m\n\u001b[1;32m      8\u001b[0m )\n\u001b[1;32m      9\u001b[0m graph \u001b[38;5;241m=\u001b[39m graphviz\u001b[38;5;241m.\u001b[39mSource(dot_data, \u001b[38;5;28mformat\u001b[39m\u001b[38;5;241m=\u001b[39m\u001b[38;5;124m\"\u001b[39m\u001b[38;5;124mpng\u001b[39m\u001b[38;5;124m\"\u001b[39m)\n",
      "\u001b[0;31mNameError\u001b[0m: name 'plt' is not defined"
     ]
    }
   ],
   "source": [
    "# Arbre de décision avec l'ajout de Dist & Angle\n",
    "fig = plt.figure(figsize=(10, 25))\n",
    "dot_data = tree.export_graphviz(\n",
    "    dtree_dist_plus,\n",
    "    feature_names=x_columns_dist,\n",
    "    class_names=labels_class,\n",
    "    filled=True\n",
    ")\n",
    "graph = graphviz.Source(dot_data, format=\"png\")\n",
    "graph.render(\"../out/KI_decision_tree_t-plus_dist\")\n",
    "graph"
   ]
  },
  {
   "cell_type": "markdown",
   "id": "0d0258ec",
   "metadata": {},
   "source": [
    "# Random Forest"
   ]
  },
  {
   "cell_type": "code",
   "execution_count": 4,
   "id": "da4159f3",
   "metadata": {},
   "outputs": [
    {
     "ename": "NameError",
     "evalue": "name 'models' is not defined",
     "output_type": "error",
     "traceback": [
      "\u001b[0;31m---------------------------------------------------------------------------\u001b[0m",
      "\u001b[0;31mNameError\u001b[0m                                 Traceback (most recent call last)",
      "Cell \u001b[0;32mIn[4], line 2\u001b[0m\n\u001b[1;32m      1\u001b[0m max_depths_rd \u001b[38;5;241m=\u001b[39m [\u001b[38;5;241m2\u001b[39m, \u001b[38;5;241m6\u001b[39m, \u001b[38;5;241m10\u001b[39m, \u001b[38;5;241m15\u001b[39m, \u001b[38;5;241m20\u001b[39m]\n\u001b[0;32m----> 2\u001b[0m results_t_plus_rf \u001b[38;5;241m=\u001b[39m models\u001b[38;5;241m.\u001b[39mforest_depth_acc(\n\u001b[1;32m      3\u001b[0m     X_train, Y_train, X_test, Y_test,\n\u001b[1;32m      4\u001b[0m     depths\u001b[38;5;241m=\u001b[39mmax_depths_rd, \n\u001b[1;32m      5\u001b[0m     classifier\u001b[38;5;241m=\u001b[39mRandomForestClassifier,\n\u001b[1;32m      6\u001b[0m     n_estimators \u001b[38;5;241m=\u001b[39m \u001b[38;5;241m100\u001b[39m,\n\u001b[1;32m      7\u001b[0m     class_weight\u001b[38;5;241m=\u001b[39m\u001b[38;5;124m\"\u001b[39m\u001b[38;5;124mbalanced\u001b[39m\u001b[38;5;124m\"\u001b[39m,\n\u001b[1;32m      8\u001b[0m     n_jobs\u001b[38;5;241m=\u001b[39m\u001b[38;5;241m-\u001b[39m\u001b[38;5;241m1\u001b[39m\n\u001b[1;32m      9\u001b[0m )\n\u001b[1;32m     11\u001b[0m results_dist_t_plus_rf \u001b[38;5;241m=\u001b[39m models\u001b[38;5;241m.\u001b[39mforest_depth_acc(\n\u001b[1;32m     12\u001b[0m     X_dist_train, Y_dist_train, X_dist_test, Y_dist_test,\n\u001b[1;32m     13\u001b[0m     depths\u001b[38;5;241m=\u001b[39mmax_depths_rd, \n\u001b[0;32m   (...)\u001b[0m\n\u001b[1;32m     17\u001b[0m     n_jobs\u001b[38;5;241m=\u001b[39m\u001b[38;5;241m-\u001b[39m\u001b[38;5;241m1\u001b[39m\n\u001b[1;32m     18\u001b[0m )\n",
      "\u001b[0;31mNameError\u001b[0m: name 'models' is not defined"
     ]
    }
   ],
   "source": [
    "# max_depths_rd = [2, 6, 10, 15, 20]\n",
    "results_t_plus_rf = models.forest_depth_acc(\n",
    "    x_train, y_train, x_test, y_test,\n",
    "    depths=max_depths_rd, \n",
    "    classifier=RandomForestClassifier,\n",
    "    n_estimators = 100,\n",
    "    class_weight=\"balanced\",\n",
    "    n_jobs=-1\n",
    ")\n",
    "\n",
    "results_dist_t_plus_rf = models.forest_depth_acc(\n",
    "    x_loc_train, y_loc_train, x_loc_test, y_loc_test,\n",
    "    depths=max_depths_rd, \n",
    "    classifier=RandomForestClassifier,\n",
    "    n_estimators = 100,\n",
    "    class_weight=\"balanced\",\n",
    "    n_jobs=-1\n",
    ")"
   ]
  },
  {
   "cell_type": "code",
   "execution_count": 5,
   "id": "09b892ae",
   "metadata": {},
   "outputs": [
    {
     "ename": "NameError",
     "evalue": "name 'plt' is not defined",
     "output_type": "error",
     "traceback": [
      "\u001b[0;31m---------------------------------------------------------------------------\u001b[0m",
      "\u001b[0;31mNameError\u001b[0m                                 Traceback (most recent call last)",
      "Cell \u001b[0;32mIn[5], line 2\u001b[0m\n\u001b[1;32m      1\u001b[0m \u001b[38;5;66;03m# Plot\u001b[39;00m\n\u001b[0;32m----> 2\u001b[0m fig, (ax1, ax2) \u001b[38;5;241m=\u001b[39m plt\u001b[38;5;241m.\u001b[39msubplots(\u001b[38;5;241m1\u001b[39m, \u001b[38;5;241m2\u001b[39m, figsize\u001b[38;5;241m=\u001b[39m(\u001b[38;5;241m15\u001b[39m, \u001b[38;5;241m8\u001b[39m))\n\u001b[1;32m      4\u001b[0m plots\u001b[38;5;241m.\u001b[39mplot(\n\u001b[1;32m      5\u001b[0m     results_t_plus_rf[\u001b[38;5;124m\"\u001b[39m\u001b[38;5;124mauc_train\u001b[39m\u001b[38;5;124m\"\u001b[39m],\n\u001b[1;32m      6\u001b[0m     results_t_plus_rf[\u001b[38;5;124m\"\u001b[39m\u001b[38;5;124mauc_test\u001b[39m\u001b[38;5;124m\"\u001b[39m],\n\u001b[0;32m   (...)\u001b[0m\n\u001b[1;32m     12\u001b[0m     ytop\u001b[38;5;241m=\u001b[39m\u001b[38;5;241m1\u001b[39m, ybottom\u001b[38;5;241m=\u001b[39m\u001b[38;5;241m0.55\u001b[39m, figure\u001b[38;5;241m=\u001b[39m(fig, ax1)\n\u001b[1;32m     13\u001b[0m )\n\u001b[1;32m     15\u001b[0m plots\u001b[38;5;241m.\u001b[39mplot(\n\u001b[1;32m     16\u001b[0m     results_dist_t_plus_rf[\u001b[38;5;124m\"\u001b[39m\u001b[38;5;124mauc_train\u001b[39m\u001b[38;5;124m\"\u001b[39m],\n\u001b[1;32m     17\u001b[0m     results_dist_t_plus_rf[\u001b[38;5;124m\"\u001b[39m\u001b[38;5;124mauc_test\u001b[39m\u001b[38;5;124m\"\u001b[39m],\n\u001b[0;32m   (...)\u001b[0m\n\u001b[1;32m     23\u001b[0m     ytop\u001b[38;5;241m=\u001b[39m\u001b[38;5;241m1\u001b[39m, ybottom\u001b[38;5;241m=\u001b[39m\u001b[38;5;241m0.55\u001b[39m, figure\u001b[38;5;241m=\u001b[39m(fig, ax2)\n\u001b[1;32m     24\u001b[0m )\n",
      "\u001b[0;31mNameError\u001b[0m: name 'plt' is not defined"
     ]
    }
   ],
   "source": [
    "# Plot\n",
    "fig, (ax1, ax2) = plt.subplots(1, 2, figsize=(15, 8))\n",
    "\n",
    "plots.plot(\n",
    "    results_t_plus_rf[\"auc_train\"],\n",
    "    results_t_plus_rf[\"auc_test\"],\n",
    "    indices=results_t_plus_rf[\"depths\"],\n",
    "    label=(\"Train AUC\", \"Test AUC\"),\n",
    "    title=\"T plus\\nEvolution de l'AUC selon la profondeur des arbres\\ndu RandomForest\",\n",
    "    xlabel=\"AUC\", ylabel=\"Profondeur de l'arbre\",\n",
    "    xticks=results_t_plus_rf[\"depths\"], showR2=False, showY=False,\n",
    "    ytop=1, ybottom=0.55, figure=(fig, ax1)\n",
    ")\n",
    "\n",
    "plots.plot(\n",
    "    results_dist_t_plus_rf[\"auc_train\"],\n",
    "    results_dist_t_plus_rf[\"auc_test\"],\n",
    "    indices=results_dist_t_plus_rf[\"depths\"],\n",
    "    label=(\"Train AUC\", \"Test AUC\"),\n",
    "    title=\"T plus\\nEvolution de l'AUC (avec Dist & Angle) selon la profondeur des arbres\\ndu RandomForest\",\n",
    "    xlabel=\"AUC\", ylabel=\"Profondeur de l'arbre\",\n",
    "    xticks=results_dist_t_plus_rf[\"depths\"], showR2=False, showY=False,\n",
    "    ytop=1, ybottom=0.55, figure=(fig, ax2)\n",
    ")\n",
    "\n",
    "plt.show()\n",
    "\n",
    "# Plot\n",
    "fig, (ax1, ax2) = plt.subplots(1, 2, figsize=(15, 8))\n",
    "\n",
    "plots.plot(\n",
    "    results_t_plus_rf[\"acc_train\"],\n",
    "    results_t_plus_rf[\"acc_test\"],\n",
    "    indices=results_t_plus_rf[\"depths\"],\n",
    "    label=(\"Train Accuracy\", \"Test Accuracy\"),\n",
    "    title=\"T plus\\nEvolution de l'accuracy selon la profondeur des arbres\\ndu RandomForest\",\n",
    "    xlabel=\"Accuracy\", ylabel=\"Profondeur de l'arbre\",\n",
    "    xticks=results_t_plus_rf[\"depths\"], showR2=False, showY=False,\n",
    "    ytop=1, ybottom=0.38, figure=(fig, ax1)\n",
    ")\n",
    "\n",
    "plots.plot(\n",
    "    results_dist_t_plus_rf[\"acc_train\"],\n",
    "    results_dist_t_plus_rf[\"acc_test\"],\n",
    "    indices=results_dist_t_plus_rf[\"depths\"],\n",
    "    label=(\"Train Accuracy\", \"Test Accuracy\"),\n",
    "    title=\"T plus\\nEvolution de l'Accuracy (avec Dist & Angle) selon la profondeur des arbres\\ndu RandomForest\",\n",
    "    xlabel=\"Accuracy\", ylabel=\"Profondeur de l'arbre\",\n",
    "    xticks=results_dist_t_plus_rf[\"depths\"], showR2=False, showY=False,\n",
    "    ytop=1, ybottom=0.38, figure=(fig, ax2)\n",
    ")\n",
    "\n",
    "plt.show()"
   ]
  },
  {
   "cell_type": "code",
   "execution_count": null,
   "id": "857439a4",
   "metadata": {},
   "outputs": [],
   "source": [
    "# print(\"----- Résumé des performances T plus, arbre de décision -----\")\n",
    "print(f\"{'Profondeur':<20s}:\", end=\" \") ; [print(f\"{i:<4d}\", end=\"  \") for i in results_t_plus_rf[\"depths\"]] ; print(\"\\n\")\n",
    "print(f\"{'AUC_train':<20s}:\", end=\" \") ; [print(f\"{i:<.2f}\", end=\"  \") for i in results_t_plus_rf[\"auc_train\"]] ; print()\n",
    "print(f\"{'AUC_test':<20s}:\", end=\" \") ; [print(f\"{i:<.2f}\", end=\"  \") for i in results_t_plus_rf[\"auc_test\"]] ; print(\"\\n\")\n",
    "\n",
    "print(f\"{'Accuracy_train':<20s}:\", end=\" \") ; [print(f\"{i:<.2f}\", end=\"  \") for i in results_t_plus_rf[\"acc_train\"]] ; print()\n",
    "print(f\"{'Accuracy_test':<20s}:\", end=\" \") ; [print(f\"{i:<.2f}\", end=\"  \") for i in results_t_plus_rf[\"acc_test\"]] ; print(\"\\n\")\n",
    "\n",
    "print(\"---\")\n",
    "print(f\"{'AUC_train_dist':<20s}:\", end=\" \") ; [print(f\"{i:<.2f}\", end=\"  \") for i in results_dist_t_plus_rf[\"auc_train\"]] ; print()\n",
    "print(f\"{'AUC_test_dist':<20s}:\", end=\" \") ; [print(f\"{i:<.2f}\", end=\"  \") for i in results_dist_t_plus_rf[\"auc_test\"]] ; print(\"\\n\")\n",
    "\n",
    "print(f\"{'Accuracy_train_dist':<20s}:\", end=\" \") ; [print(f\"{i:<.2f}\", end=\"  \") for i in results_dist_t_plus_rf[\"acc_train\"]] ; print()\n",
    "print(f\"{'Accuracy_test_dist':<20s}:\", end=\" \") ; [print(f\"{i:<.2f}\", end=\"  \") for i in results_dist_t_plus_rf[\"acc_test\"]] ; print()"
   ]
  },
  {
   "cell_type": "code",
   "execution_count": 6,
   "id": "b47dcb7e",
   "metadata": {},
   "outputs": [
    {
     "ename": "NameError",
     "evalue": "name 'models' is not defined",
     "output_type": "error",
     "traceback": [
      "\u001b[0;31m---------------------------------------------------------------------------\u001b[0m",
      "\u001b[0;31mNameError\u001b[0m                                 Traceback (most recent call last)",
      "Cell \u001b[0;32mIn[6], line 2\u001b[0m\n\u001b[1;32m      1\u001b[0m \u001b[38;5;66;03m# RandomForest model (20, 20)\u001b[39;00m\n\u001b[0;32m----> 2\u001b[0m results_rf_plus \u001b[38;5;241m=\u001b[39m models\u001b[38;5;241m.\u001b[39mperform_random_forest(\n\u001b[1;32m      3\u001b[0m     X_train\u001b[38;5;241m=\u001b[39mX_train,\n\u001b[1;32m      4\u001b[0m     X_test\u001b[38;5;241m=\u001b[39mX_test,\n\u001b[1;32m      5\u001b[0m     y_train\u001b[38;5;241m=\u001b[39mY_train,\n\u001b[1;32m      6\u001b[0m     y_test\u001b[38;5;241m=\u001b[39mY_test,\n\u001b[1;32m      7\u001b[0m     columns\u001b[38;5;241m=\u001b[39mx_columns,\n\u001b[1;32m      8\u001b[0m     class_weight\u001b[38;5;241m=\u001b[39m\u001b[38;5;124m\"\u001b[39m\u001b[38;5;124mbalanced\u001b[39m\u001b[38;5;124m\"\u001b[39m,\n\u001b[1;32m      9\u001b[0m     scale\u001b[38;5;241m=\u001b[39m\u001b[38;5;28;01mFalse\u001b[39;00m\n\u001b[1;32m     10\u001b[0m )\n\u001b[1;32m     11\u001b[0m rf_plus \u001b[38;5;241m=\u001b[39m results_rf_plus[\u001b[38;5;124m\"\u001b[39m\u001b[38;5;124mmodel\u001b[39m\u001b[38;5;124m\"\u001b[39m]\n",
      "\u001b[0;31mNameError\u001b[0m: name 'models' is not defined"
     ]
    }
   ],
   "source": [
    "# RandomForest model (20, 20)\n",
    "results_rf_plus = models.perform_random_forest(\n",
    "    x_train=x_train,\n",
    "    x_test=x_test,\n",
    "    y_train=y_train,\n",
    "    y_test=y_test,\n",
    "    columns=x_columns,\n",
    "    class_weight=\"balanced\",\n",
    "    scale=False\n",
    ")\n",
    "rf_plus = results_rf_plus[\"model\"]"
   ]
  },
  {
   "cell_type": "code",
   "execution_count": 7,
   "id": "84d413ed-ccc3-41cc-a5f7-98cca86ed17e",
   "metadata": {},
   "outputs": [
    {
     "ename": "NameError",
     "evalue": "name 'pd' is not defined",
     "output_type": "error",
     "traceback": [
      "\u001b[0;31m---------------------------------------------------------------------------\u001b[0m",
      "\u001b[0;31mNameError\u001b[0m                                 Traceback (most recent call last)",
      "Cell \u001b[0;32mIn[7], line 1\u001b[0m\n\u001b[0;32m----> 1\u001b[0m df_mdi \u001b[38;5;241m=\u001b[39m pd\u001b[38;5;241m.\u001b[39mDataFrame(\n\u001b[1;32m      2\u001b[0m     {\n\u001b[1;32m      3\u001b[0m         \u001b[38;5;124m\"\u001b[39m\u001b[38;5;124mmean\u001b[39m\u001b[38;5;124m\"\u001b[39m: results_rf_plus[\u001b[38;5;124m\"\u001b[39m\u001b[38;5;124mimportance_mdi\u001b[39m\u001b[38;5;124m\"\u001b[39m][\u001b[38;5;124m\"\u001b[39m\u001b[38;5;124mmean\u001b[39m\u001b[38;5;124m\"\u001b[39m],\n\u001b[1;32m      4\u001b[0m         \u001b[38;5;124m\"\u001b[39m\u001b[38;5;124mstd\u001b[39m\u001b[38;5;124m\"\u001b[39m: results_rf_plus[\u001b[38;5;124m\"\u001b[39m\u001b[38;5;124mimportance_mdi\u001b[39m\u001b[38;5;124m\"\u001b[39m][\u001b[38;5;124m\"\u001b[39m\u001b[38;5;124mstd\u001b[39m\u001b[38;5;124m\"\u001b[39m]\n\u001b[1;32m      5\u001b[0m     }, index\u001b[38;5;241m=\u001b[39mx_columns\n\u001b[1;32m      6\u001b[0m )\n\u001b[1;32m      8\u001b[0m df_mdi\u001b[38;5;241m.\u001b[39mto_csv(\u001b[38;5;124m\"\u001b[39m\u001b[38;5;124mKI_CD3_t-plus_importance-mdi.csv\u001b[39m\u001b[38;5;124m\"\u001b[39m)\n\u001b[1;32m     10\u001b[0m df_permutation \u001b[38;5;241m=\u001b[39m pd\u001b[38;5;241m.\u001b[39mDataFrame(\n\u001b[1;32m     11\u001b[0m     {\n\u001b[1;32m     12\u001b[0m         \u001b[38;5;124m\"\u001b[39m\u001b[38;5;124mmean\u001b[39m\u001b[38;5;124m\"\u001b[39m: results_rf_plus[\u001b[38;5;124m\"\u001b[39m\u001b[38;5;124mimportance_permutation\u001b[39m\u001b[38;5;124m\"\u001b[39m][\u001b[38;5;124m\"\u001b[39m\u001b[38;5;124mmean\u001b[39m\u001b[38;5;124m\"\u001b[39m],\n\u001b[1;32m     13\u001b[0m         \u001b[38;5;124m\"\u001b[39m\u001b[38;5;124mstd\u001b[39m\u001b[38;5;124m\"\u001b[39m: results_rf_plus[\u001b[38;5;124m\"\u001b[39m\u001b[38;5;124mimportance_permutation\u001b[39m\u001b[38;5;124m\"\u001b[39m][\u001b[38;5;124m\"\u001b[39m\u001b[38;5;124mstd\u001b[39m\u001b[38;5;124m\"\u001b[39m]\n\u001b[1;32m     14\u001b[0m     }, index\u001b[38;5;241m=\u001b[39mx_columns\n\u001b[1;32m     15\u001b[0m )\n",
      "\u001b[0;31mNameError\u001b[0m: name 'pd' is not defined"
     ]
    }
   ],
   "source": [
    "# df_mdi = pd.DataFrame(\n",
    "    {\n",
    "        \"mean\": results_rf_plus[\"importance_mdi\"][\"mean\"],\n",
    "        \"std\": results_rf_plus[\"importance_mdi\"][\"std\"]\n",
    "    }, index=x_columns\n",
    ")\n",
    "\n",
    "df_mdi.to_csv(\"KI_CD3_t-plus_importance-mdi.csv\")\n",
    "\n",
    "df_permutation = pd.DataFrame(\n",
    "    {\n",
    "        \"mean\": results_rf_plus[\"importance_permutation\"][\"mean\"],\n",
    "        \"std\": results_rf_plus[\"importance_permutation\"][\"std\"]\n",
    "    }, index=x_columns\n",
    ")\n",
    "\n",
    "df_permutation.to_csv(\"KI_CD3_t-plus_importance-permutation.csv\")"
   ]
  },
  {
   "cell_type": "code",
   "execution_count": 8,
   "id": "ad1c7b37",
   "metadata": {},
   "outputs": [
    {
     "ename": "NameError",
     "evalue": "name 'models' is not defined",
     "output_type": "error",
     "traceback": [
      "\u001b[0;31m---------------------------------------------------------------------------\u001b[0m",
      "\u001b[0;31mNameError\u001b[0m                                 Traceback (most recent call last)",
      "Cell \u001b[0;32mIn[8], line 2\u001b[0m\n\u001b[1;32m      1\u001b[0m \u001b[38;5;66;03m# RandomForest model with Dist & Angle columns (40, 20)\u001b[39;00m\n\u001b[0;32m----> 2\u001b[0m results_rf_dist_plus \u001b[38;5;241m=\u001b[39m models\u001b[38;5;241m.\u001b[39mperform_random_forest(\n\u001b[1;32m      3\u001b[0m     X_train\u001b[38;5;241m=\u001b[39mX_dist_train,\n\u001b[1;32m      4\u001b[0m     X_test\u001b[38;5;241m=\u001b[39mX_dist_test,\n\u001b[1;32m      5\u001b[0m     y_train\u001b[38;5;241m=\u001b[39mY_dist_train,\n\u001b[1;32m      6\u001b[0m     y_test\u001b[38;5;241m=\u001b[39mY_dist_test,\n\u001b[1;32m      7\u001b[0m     columns\u001b[38;5;241m=\u001b[39mx_columns_dist,\n\u001b[1;32m      8\u001b[0m     n_estimators\u001b[38;5;241m=\u001b[39m(\u001b[38;5;241m10\u001b[39m, \u001b[38;5;241m15\u001b[39m, \u001b[38;5;241m20\u001b[39m, \u001b[38;5;241m30\u001b[39m),\n\u001b[1;32m      9\u001b[0m     n_depths\u001b[38;5;241m=\u001b[39m(\u001b[38;5;241m2\u001b[39m, \u001b[38;5;241m4\u001b[39m, \u001b[38;5;241m8\u001b[39m, \u001b[38;5;241m10\u001b[39m, \u001b[38;5;241m15\u001b[39m),\n\u001b[1;32m     10\u001b[0m     class_weight\u001b[38;5;241m=\u001b[39m\u001b[38;5;124m\"\u001b[39m\u001b[38;5;124mbalanced\u001b[39m\u001b[38;5;124m\"\u001b[39m,\n\u001b[1;32m     11\u001b[0m     scale\u001b[38;5;241m=\u001b[39m\u001b[38;5;28;01mFalse\u001b[39;00m\n\u001b[1;32m     12\u001b[0m )\n\u001b[1;32m     13\u001b[0m rf_dist_plus \u001b[38;5;241m=\u001b[39m results_rf_dist_plus[\u001b[38;5;124m\"\u001b[39m\u001b[38;5;124mmodel\u001b[39m\u001b[38;5;124m\"\u001b[39m]\n",
      "\u001b[0;31mNameError\u001b[0m: name 'models' is not defined"
     ]
    }
   ],
   "source": [
    "# RandomForest model with Dist & Angle columns (40, 20)\n",
    "results_rf_dist_plus = models.perform_random_forest(\n",
    "    x_train=x_loc_train,\n",
    "    x_test=x_loc_test,\n",
    "    y_train=y_loc_train,\n",
    "    y_test=y_loc_test,\n",
    "    columns=x_columns_dist,\n",
    "    n_estimators=(10, 15, 20, 30),\n",
    "    n_depths=(2, 4, 8, 10, 15),\n",
    "    class_weight=\"balanced\",\n",
    "    scale=False\n",
    ")\n",
    "rf_dist_plus = results_rf_dist_plus[\"model\"]"
   ]
  },
  {
   "cell_type": "code",
   "execution_count": 9,
   "id": "9b643dd4",
   "metadata": {},
   "outputs": [
    {
     "ename": "NameError",
     "evalue": "name 'pd' is not defined",
     "output_type": "error",
     "traceback": [
      "\u001b[0;31m---------------------------------------------------------------------------\u001b[0m",
      "\u001b[0;31mNameError\u001b[0m                                 Traceback (most recent call last)",
      "Cell \u001b[0;32mIn[9], line 1\u001b[0m\n\u001b[0;32m----> 1\u001b[0m df_mdi \u001b[38;5;241m=\u001b[39m pd\u001b[38;5;241m.\u001b[39mDataFrame(\n\u001b[1;32m      2\u001b[0m     {\n\u001b[1;32m      3\u001b[0m         \u001b[38;5;124m\"\u001b[39m\u001b[38;5;124mmean\u001b[39m\u001b[38;5;124m\"\u001b[39m: results_rf_dist_plus[\u001b[38;5;124m\"\u001b[39m\u001b[38;5;124mimportance_mdi\u001b[39m\u001b[38;5;124m\"\u001b[39m][\u001b[38;5;124m\"\u001b[39m\u001b[38;5;124mmean\u001b[39m\u001b[38;5;124m\"\u001b[39m],\n\u001b[1;32m      4\u001b[0m         \u001b[38;5;124m\"\u001b[39m\u001b[38;5;124mstd\u001b[39m\u001b[38;5;124m\"\u001b[39m: results_rf_dist_plus[\u001b[38;5;124m\"\u001b[39m\u001b[38;5;124mimportance_mdi\u001b[39m\u001b[38;5;124m\"\u001b[39m][\u001b[38;5;124m\"\u001b[39m\u001b[38;5;124mstd\u001b[39m\u001b[38;5;124m\"\u001b[39m]\n\u001b[1;32m      5\u001b[0m     }, index\u001b[38;5;241m=\u001b[39mx_columns_dist\n\u001b[1;32m      6\u001b[0m )\n\u001b[1;32m      8\u001b[0m df_mdi\u001b[38;5;241m.\u001b[39mto_csv(\u001b[38;5;124m\"\u001b[39m\u001b[38;5;124mKI_CD3_t-plus-dist_importance-mdi.csv\u001b[39m\u001b[38;5;124m\"\u001b[39m)\n\u001b[1;32m     10\u001b[0m df_permutation \u001b[38;5;241m=\u001b[39m pd\u001b[38;5;241m.\u001b[39mDataFrame(\n\u001b[1;32m     11\u001b[0m     {\n\u001b[1;32m     12\u001b[0m         \u001b[38;5;124m\"\u001b[39m\u001b[38;5;124mmean\u001b[39m\u001b[38;5;124m\"\u001b[39m: results_rf_dist_plus[\u001b[38;5;124m\"\u001b[39m\u001b[38;5;124mimportance_permutation\u001b[39m\u001b[38;5;124m\"\u001b[39m][\u001b[38;5;124m\"\u001b[39m\u001b[38;5;124mmean\u001b[39m\u001b[38;5;124m\"\u001b[39m],\n\u001b[1;32m     13\u001b[0m         \u001b[38;5;124m\"\u001b[39m\u001b[38;5;124mstd\u001b[39m\u001b[38;5;124m\"\u001b[39m: results_rf_dist_plus[\u001b[38;5;124m\"\u001b[39m\u001b[38;5;124mimportance_permutation\u001b[39m\u001b[38;5;124m\"\u001b[39m][\u001b[38;5;124m\"\u001b[39m\u001b[38;5;124mstd\u001b[39m\u001b[38;5;124m\"\u001b[39m]\n\u001b[1;32m     14\u001b[0m     }, index\u001b[38;5;241m=\u001b[39mx_columns_dist\n\u001b[1;32m     15\u001b[0m )\n",
      "\u001b[0;31mNameError\u001b[0m: name 'pd' is not defined"
     ]
    }
   ],
   "source": [
    "# df_mdi = pd.DataFrame(\n",
    "    {\n",
    "        \"mean\": results_rf_dist_plus[\"importance_mdi\"][\"mean\"],\n",
    "        \"std\": results_rf_dist_plus[\"importance_mdi\"][\"std\"]\n",
    "    }, index=x_columns_dist\n",
    ")\n",
    "\n",
    "df_mdi.to_csv(\"KI_CD3_t-plus-dist_importance-mdi.csv\")\n",
    "\n",
    "df_permutation = pd.DataFrame(\n",
    "    {\n",
    "        \"mean\": results_rf_dist_plus[\"importance_permutation\"][\"mean\"],\n",
    "        \"std\": results_rf_dist_plus[\"importance_permutation\"][\"std\"]\n",
    "    }, index=x_columns_dist\n",
    ")\n",
    "\n",
    "df_permutation.to_csv(\"KI_CD3_t-plus-dist_importance-permutation.csv\")"
   ]
  },
  {
   "cell_type": "code",
   "execution_count": 10,
   "id": "c00156bc",
   "metadata": {},
   "outputs": [
    {
     "ename": "NameError",
     "evalue": "name 'rf_plus' is not defined",
     "output_type": "error",
     "traceback": [
      "\u001b[0;31m---------------------------------------------------------------------------\u001b[0m",
      "\u001b[0;31mNameError\u001b[0m                                 Traceback (most recent call last)",
      "Cell \u001b[0;32mIn[10], line 2\u001b[0m\n\u001b[1;32m      1\u001b[0m \u001b[38;5;66;03m# Model Accuracy, how often is the classifier correct?\u001b[39;00m\n\u001b[0;32m----> 2\u001b[0m y_train_pred \u001b[38;5;241m=\u001b[39m rf_plus\u001b[38;5;241m.\u001b[39mpredict(X_train)\n\u001b[1;32m      3\u001b[0m y_test_pred \u001b[38;5;241m=\u001b[39m rf_plus\u001b[38;5;241m.\u001b[39mpredict(X_test)\n\u001b[1;32m      4\u001b[0m y_dist_train_pred \u001b[38;5;241m=\u001b[39m rf_dist_plus\u001b[38;5;241m.\u001b[39mpredict(X_dist_train)\n",
      "\u001b[0;31mNameError\u001b[0m: name 'rf_plus' is not defined"
     ]
    }
   ],
   "source": [
    "# Model Accuracy, how often is the classifier correct?\n",
    "y_train_pred = rf_plus.predict(x_train)\n",
    "y_test_pred = rf_plus.predict(x_test)\n",
    "y_loc_train_pred = rf_dist_plus.predict(x_loc_train)\n",
    "y_loc_test_pred = rf_dist_plus.predict(x_loc_test)"
   ]
  },
  {
   "cell_type": "code",
   "execution_count": 11,
   "id": "676c3440-24ff-4560-a1a2-7760388ec78a",
   "metadata": {},
   "outputs": [
    {
     "ename": "NameError",
     "evalue": "name 'pd' is not defined",
     "output_type": "error",
     "traceback": [
      "\u001b[0;31m---------------------------------------------------------------------------\u001b[0m",
      "\u001b[0;31mNameError\u001b[0m                                 Traceback (most recent call last)",
      "Cell \u001b[0;32mIn[11], line 1\u001b[0m\n\u001b[0;32m----> 1\u001b[0m labels_class \u001b[38;5;241m=\u001b[39m pd\u001b[38;5;241m.\u001b[39mSeries(rf_plus\u001b[38;5;241m.\u001b[39mclasses_)\u001b[38;5;241m.\u001b[39mmap({\u001b[38;5;241m0\u001b[39m: \u001b[38;5;124m'\u001b[39m\u001b[38;5;124mnot_plus\u001b[39m\u001b[38;5;124m'\u001b[39m, \u001b[38;5;241m1\u001b[39m: \u001b[38;5;124m'\u001b[39m\u001b[38;5;124mplus\u001b[39m\u001b[38;5;124m'\u001b[39m})\u001b[38;5;241m.\u001b[39mvalues\n",
      "\u001b[0;31mNameError\u001b[0m: name 'pd' is not defined"
     ]
    }
   ],
   "source": [
    "# labels_class = pd.Series(rf_plus.classes_).map({0: 'not_plus', 1: 'plus'}).values"
   ]
  },
  {
   "cell_type": "code",
   "execution_count": 12,
   "id": "cc61795c",
   "metadata": {},
   "outputs": [
    {
     "ename": "NameError",
     "evalue": "name 'roc_curve' is not defined",
     "output_type": "error",
     "traceback": [
      "\u001b[0;31m---------------------------------------------------------------------------\u001b[0m",
      "\u001b[0;31mNameError\u001b[0m                                 Traceback (most recent call last)",
      "Cell \u001b[0;32mIn[12], line 2\u001b[0m\n\u001b[1;32m      1\u001b[0m \u001b[38;5;66;03m# Model Accuracy, how often is the classifier correct?\u001b[39;00m\n\u001b[0;32m----> 2\u001b[0m false_pos_rate_train, true_pos_rate_train, _ \u001b[38;5;241m=\u001b[39m roc_curve(Y_train, y_train_pred)\n\u001b[1;32m      3\u001b[0m false_pos_rate_test, true_pos_rate_test, _ \u001b[38;5;241m=\u001b[39m roc_curve(Y_test, y_test_pred)\n\u001b[1;32m      5\u001b[0m false_pos_rate_dist_train, true_pos_rate_dist_train, _ \u001b[38;5;241m=\u001b[39m roc_curve(Y_dist_train, y_dist_train_pred)\n",
      "\u001b[0;31mNameError\u001b[0m: name 'roc_curve' is not defined"
     ]
    }
   ],
   "source": [
    "# Model Accuracy, how often is the classifier correct?\n",
    "fpr_train, tpr_train, _ = roc_curve(y_train, y_train_pred)\n",
    "fpr_test, tpr_test, _ = roc_curve(y_test, y_test_pred)\n",
    "\n",
    "fpr_loc_train, tpr_loc_train, _ = roc_curve(y_loc_train, y_loc_train_pred)\n",
    "fpr_loc_test, tpr_loc_test, _ = roc_curve(y_loc_test, y_loc_test_pred)\n",
    "\n",
    "# Model Accuracy, how often is the classifier correct?\n",
    "print(\"----- Random Forest -----\")\n",
    "print(\"Accuracy Train:\", accuracy_score(y_train, y_train_pred))\n",
    "print(\"AUC Train:\", auc(fpr_train, tpr_train))\n",
    "print()\n",
    "print(\"Accuracy Test:\", accuracy_score(y_test, y_test_pred))\n",
    "print(\"AUC Test:\", auc(fpr_test, tpr_test))\n",
    "print()\n",
    "\n",
    "fig, (ax1, ax2) = plt.subplots(1, 2, figsize=(14, 5))\n",
    "cm = confusion_matrix(y_test, y_test_pred)\n",
    "cm2 = confusion_matrix(y_test, y_test_pred, normalize=\"true\")\n",
    "ConfusionMatrixDisplay(confusion_matrix=cm, display_labels=labels_class).plot(ax=ax1)\n",
    "ConfusionMatrixDisplay(confusion_matrix=cm2, display_labels=labels_class).plot(ax=ax2)\n",
    "plt.show()"
   ]
  },
  {
   "cell_type": "code",
   "execution_count": 13,
   "id": "0fe56f4e-5a8c-4e2b-8d4a-9c71f999798c",
   "metadata": {},
   "outputs": [
    {
     "name": "stdout",
     "output_type": "stream",
     "text": [
      "Random Forest, Angle avec Dist\n"
     ]
    },
    {
     "ename": "NameError",
     "evalue": "name 'accuracy_score' is not defined",
     "output_type": "error",
     "traceback": [
      "\u001b[0;31m---------------------------------------------------------------------------\u001b[0m",
      "\u001b[0;31mNameError\u001b[0m                                 Traceback (most recent call last)",
      "Cell \u001b[0;32mIn[13], line 2\u001b[0m\n\u001b[1;32m      1\u001b[0m \u001b[38;5;28mprint\u001b[39m(\u001b[38;5;124m\"\u001b[39m\u001b[38;5;124mRandom Forest, Angle avec Dist\u001b[39m\u001b[38;5;124m\"\u001b[39m)\n\u001b[0;32m----> 2\u001b[0m \u001b[38;5;28mprint\u001b[39m(\u001b[38;5;124m\"\u001b[39m\u001b[38;5;124mAccuracy Train:\u001b[39m\u001b[38;5;124m\"\u001b[39m, accuracy_score(Y_dist_train, y_dist_train_pred))\n\u001b[1;32m      3\u001b[0m \u001b[38;5;28mprint\u001b[39m(\u001b[38;5;124m\"\u001b[39m\u001b[38;5;124mAUC Train:\u001b[39m\u001b[38;5;124m\"\u001b[39m, auc(false_pos_rate_dist_train, true_pos_rate_dist_train))\n\u001b[1;32m      4\u001b[0m \u001b[38;5;28mprint\u001b[39m()\n",
      "\u001b[0;31mNameError\u001b[0m: name 'accuracy_score' is not defined"
     ]
    }
   ],
   "source": [
    "# print(\"Random Forest, Angle avec Dist\")\n",
    "print(\"Accuracy Train:\", accuracy_score(y_loc_train, y_loc_train_pred))\n",
    "print(\"AUC Train:\", auc(fpr_loc_train, tpr_loc_train))\n",
    "print()\n",
    "print(\"Accuracy Test:\", accuracy_score(y_loc_test, y_loc_test_pred))\n",
    "print(\"AUC Test:\", auc(fpr_loc_test, tpr_loc_test))\n",
    "\n",
    "fig, (ax1, ax2) = plt.subplots(1, 2, figsize=(14, 5))\n",
    "cm_dist = confusion_matrix(y_loc_test, y_loc_test_pred)\n",
    "cm2_dist = confusion_matrix(y_loc_test, y_loc_test_pred, normalize=\"true\")\n",
    "ConfusionMatrixDisplay(confusion_matrix=cm_dist, display_labels=labels_class).plot(ax=ax1)\n",
    "ConfusionMatrixDisplay(confusion_matrix=cm2_dist, display_labels=labels_class).plot(ax=ax2)\n",
    "plt.show()"
   ]
  },
  {
   "cell_type": "markdown",
   "id": "4f555229",
   "metadata": {},
   "source": [
    "# T plus & Density20 > 0\n",
    "\n",
    "##### Jeu de données d'apprentissage et de validation (à densité20 > 0)"
   ]
  },
  {
   "cell_type": "code",
   "execution_count": 14,
   "id": "e3c691d1-6d28-4768-b20f-ce88a0f65f58",
   "metadata": {},
   "outputs": [
    {
     "ename": "NameError",
     "evalue": "name 'data' is not defined",
     "output_type": "error",
     "traceback": [
      "\u001b[0;31m---------------------------------------------------------------------------\u001b[0m",
      "\u001b[0;31mNameError\u001b[0m                                 Traceback (most recent call last)",
      "Cell \u001b[0;32mIn[14], line 1\u001b[0m\n\u001b[0;32m----> 1\u001b[0m mask_cd3_density_in \u001b[38;5;241m=\u001b[39m data[\u001b[38;5;124m\"\u001b[39m\u001b[38;5;124mDensity20\u001b[39m\u001b[38;5;124m\"\u001b[39m] \u001b[38;5;241m>\u001b[39m \u001b[38;5;241m0\u001b[39m\n",
      "\u001b[0;31mNameError\u001b[0m: name 'data' is not defined"
     ]
    }
   ],
   "source": [
    "# mask_cd3_density_in = data[\"Density20\"] > 0"
   ]
  },
  {
   "cell_type": "code",
   "execution_count": 15,
   "id": "68516f4f",
   "metadata": {},
   "outputs": [
    {
     "ename": "NameError",
     "evalue": "name 'data' is not defined",
     "output_type": "error",
     "traceback": [
      "\u001b[0;31m---------------------------------------------------------------------------\u001b[0m",
      "\u001b[0;31mNameError\u001b[0m                                 Traceback (most recent call last)",
      "Cell \u001b[0;32mIn[15], line 5\u001b[0m\n\u001b[1;32m      2\u001b[0m y_column \u001b[38;5;241m=\u001b[39m \u001b[38;5;124m\"\u001b[39m\u001b[38;5;124mclass_t_plus\u001b[39m\u001b[38;5;124m\"\u001b[39m\n\u001b[1;32m      4\u001b[0m \u001b[38;5;66;03m# Define X and Y dataframe\u001b[39;00m\n\u001b[0;32m----> 5\u001b[0m dt_XY \u001b[38;5;241m=\u001b[39m data[mask_cd3_density_in][[\u001b[38;5;241m*\u001b[39mx_columns_dist, y_column]]\u001b[38;5;241m.\u001b[39mdropna()\n\u001b[1;32m      6\u001b[0m X_density \u001b[38;5;241m=\u001b[39m dt_XY[x_columns]\u001b[38;5;241m.\u001b[39mvalues  \u001b[38;5;66;03m# X\u001b[39;00m\n\u001b[1;32m      7\u001b[0m X_density_dist \u001b[38;5;241m=\u001b[39m dt_XY[x_columns_dist]\u001b[38;5;241m.\u001b[39mvalues  \u001b[38;5;66;03m# X_dist\u001b[39;00m\n",
      "\u001b[0;31mNameError\u001b[0m: name 'data' is not defined"
     ]
    }
   ],
   "source": [
    "# Target column\n",
    "y_column = \"class_t_plus\"\n",
    "\n",
    "# Define x and y dataframe\n",
    "dt_xy = data[mask_cd3_density_in][[*x_columns_dist, y_column]].dropna()\n",
    "X_density = dt_xy[x_columns].values  # x\n",
    "X_densitY_loc = dt_xy[x_columns_dist].values  # x_loc\n",
    "Y_density = dt_xy[y_column].values  # y\n",
    "\n",
    "# Train and Validation set\n",
    "X_density_train, X_density_test, Y_density_train, Y_density_test = train_test_split(\n",
    "    X_density, Y_density, test_size=0.3, random_state=42, stratify=Y_density\n",
    ")\n",
    "\n",
    "# Train and Validation set (with Angle & Dist)\n",
    "X_densitY_loc_train, X_densitY_loc_test, Y_densitY_loc_train, Y_densitY_loc_test = train_test_split(\n",
    "    X_densitY_loc, Y_density, test_size=0.3, random_state=42, stratify=Y_density\n",
    ")"
   ]
  },
  {
   "cell_type": "code",
   "execution_count": 16,
   "id": "e4b7c348",
   "metadata": {},
   "outputs": [
    {
     "name": "stdout",
     "output_type": "stream",
     "text": [
      "----- T plus (density20 > 0)-----\n",
      "                  Classe :                        0       1\n"
     ]
    },
    {
     "ename": "NameError",
     "evalue": "name 'Y_density' is not defined",
     "output_type": "error",
     "traceback": [
      "\u001b[0;31m---------------------------------------------------------------------------\u001b[0m",
      "\u001b[0;31mNameError\u001b[0m                                 Traceback (most recent call last)",
      "Cell \u001b[0;32mIn[16], line 3\u001b[0m\n\u001b[1;32m      1\u001b[0m \u001b[38;5;28mprint\u001b[39m(\u001b[38;5;124mf\u001b[39m\u001b[38;5;124m\"\u001b[39m\u001b[38;5;124m----- T plus (density20 > 0)-----\u001b[39m\u001b[38;5;124m\"\u001b[39m)\n\u001b[1;32m      2\u001b[0m \u001b[38;5;28mprint\u001b[39m(\u001b[38;5;124mf\u001b[39m\u001b[38;5;124m\"\u001b[39m\u001b[38;5;132;01m{\u001b[39;00m\u001b[38;5;124m'\u001b[39m\u001b[38;5;124mClasse :\u001b[39m\u001b[38;5;124m'\u001b[39m\u001b[38;5;132;01m:\u001b[39;00m\u001b[38;5;124m^45s\u001b[39m\u001b[38;5;132;01m}\u001b[39;00m\u001b[38;5;132;01m{\u001b[39;00m\u001b[38;5;124m'\u001b[39m\u001b[38;5;124m0\u001b[39m\u001b[38;5;124m'\u001b[39m\u001b[38;5;132;01m:\u001b[39;00m\u001b[38;5;124m>6s\u001b[39m\u001b[38;5;132;01m}\u001b[39;00m\u001b[38;5;132;01m{\u001b[39;00m\u001b[38;5;124m'\u001b[39m\u001b[38;5;124m'\u001b[39m\u001b[38;5;132;01m:\u001b[39;00m\u001b[38;5;124m2s\u001b[39m\u001b[38;5;132;01m}\u001b[39;00m\u001b[38;5;132;01m{\u001b[39;00m\u001b[38;5;124m'\u001b[39m\u001b[38;5;124m1\u001b[39m\u001b[38;5;124m'\u001b[39m\u001b[38;5;132;01m:\u001b[39;00m\u001b[38;5;124m>6s\u001b[39m\u001b[38;5;132;01m}\u001b[39;00m\u001b[38;5;124m\"\u001b[39m)\n\u001b[0;32m----> 3\u001b[0m \u001b[38;5;28mprint\u001b[39m(\u001b[38;5;124mf\u001b[39m\u001b[38;5;124m\"\u001b[39m\u001b[38;5;132;01m{\u001b[39;00m\u001b[38;5;124m'\u001b[39m\u001b[38;5;124mComptage des classes au sein de Y:\u001b[39m\u001b[38;5;124m'\u001b[39m\u001b[38;5;132;01m:\u001b[39;00m\u001b[38;5;124m45s\u001b[39m\u001b[38;5;132;01m}\u001b[39;00m\u001b[38;5;132;01m{\u001b[39;00m\u001b[38;5;28msum\u001b[39m(Y_density\u001b[38;5;250m \u001b[39m\u001b[38;5;241m==\u001b[39m\u001b[38;5;250m \u001b[39m\u001b[38;5;241m0\u001b[39m)\u001b[38;5;132;01m:\u001b[39;00m\u001b[38;5;124m>6d\u001b[39m\u001b[38;5;132;01m}\u001b[39;00m\u001b[38;5;132;01m{\u001b[39;00m\u001b[38;5;124m'\u001b[39m\u001b[38;5;124m'\u001b[39m\u001b[38;5;132;01m:\u001b[39;00m\u001b[38;5;124m2s\u001b[39m\u001b[38;5;132;01m}\u001b[39;00m\u001b[38;5;132;01m{\u001b[39;00m\u001b[38;5;28msum\u001b[39m(Y_density\u001b[38;5;250m \u001b[39m\u001b[38;5;241m==\u001b[39m\u001b[38;5;250m \u001b[39m\u001b[38;5;241m1\u001b[39m)\u001b[38;5;132;01m:\u001b[39;00m\u001b[38;5;124m>6d\u001b[39m\u001b[38;5;132;01m}\u001b[39;00m\u001b[38;5;124m\"\u001b[39m)\n\u001b[1;32m      4\u001b[0m \u001b[38;5;28mprint\u001b[39m(\u001b[38;5;124mf\u001b[39m\u001b[38;5;124m\"\u001b[39m\u001b[38;5;132;01m{\u001b[39;00m\u001b[38;5;124m'\u001b[39m\u001b[38;5;124mComptage des classes au sein de Y_train:\u001b[39m\u001b[38;5;124m'\u001b[39m\u001b[38;5;132;01m:\u001b[39;00m\u001b[38;5;124m45s\u001b[39m\u001b[38;5;132;01m}\u001b[39;00m\u001b[38;5;132;01m{\u001b[39;00m\u001b[38;5;28msum\u001b[39m(Y_density_train\u001b[38;5;250m \u001b[39m\u001b[38;5;241m==\u001b[39m\u001b[38;5;250m \u001b[39m\u001b[38;5;241m0\u001b[39m)\u001b[38;5;132;01m:\u001b[39;00m\u001b[38;5;124m>6d\u001b[39m\u001b[38;5;132;01m}\u001b[39;00m\u001b[38;5;132;01m{\u001b[39;00m\u001b[38;5;124m'\u001b[39m\u001b[38;5;124m'\u001b[39m\u001b[38;5;132;01m:\u001b[39;00m\u001b[38;5;124m2s\u001b[39m\u001b[38;5;132;01m}\u001b[39;00m\u001b[38;5;132;01m{\u001b[39;00m\u001b[38;5;28msum\u001b[39m(Y_density_train\u001b[38;5;250m \u001b[39m\u001b[38;5;241m==\u001b[39m\u001b[38;5;250m \u001b[39m\u001b[38;5;241m1\u001b[39m)\u001b[38;5;132;01m:\u001b[39;00m\u001b[38;5;124m>6d\u001b[39m\u001b[38;5;132;01m}\u001b[39;00m\u001b[38;5;124m\"\u001b[39m)\n\u001b[1;32m      5\u001b[0m \u001b[38;5;28mprint\u001b[39m(\u001b[38;5;124mf\u001b[39m\u001b[38;5;124m\"\u001b[39m\u001b[38;5;132;01m{\u001b[39;00m\u001b[38;5;124m'\u001b[39m\u001b[38;5;124mComptage des classes au sein de Y_test:\u001b[39m\u001b[38;5;124m'\u001b[39m\u001b[38;5;132;01m:\u001b[39;00m\u001b[38;5;124m45s\u001b[39m\u001b[38;5;132;01m}\u001b[39;00m\u001b[38;5;132;01m{\u001b[39;00m\u001b[38;5;28msum\u001b[39m(Y_density_test\u001b[38;5;250m \u001b[39m\u001b[38;5;241m==\u001b[39m\u001b[38;5;250m \u001b[39m\u001b[38;5;241m0\u001b[39m)\u001b[38;5;132;01m:\u001b[39;00m\u001b[38;5;124m>6d\u001b[39m\u001b[38;5;132;01m}\u001b[39;00m\u001b[38;5;132;01m{\u001b[39;00m\u001b[38;5;124m'\u001b[39m\u001b[38;5;124m'\u001b[39m\u001b[38;5;132;01m:\u001b[39;00m\u001b[38;5;124m2s\u001b[39m\u001b[38;5;132;01m}\u001b[39;00m\u001b[38;5;132;01m{\u001b[39;00m\u001b[38;5;28msum\u001b[39m(Y_density_test\u001b[38;5;250m \u001b[39m\u001b[38;5;241m==\u001b[39m\u001b[38;5;250m \u001b[39m\u001b[38;5;241m1\u001b[39m)\u001b[38;5;132;01m:\u001b[39;00m\u001b[38;5;124m>6d\u001b[39m\u001b[38;5;132;01m}\u001b[39;00m\u001b[38;5;124m\"\u001b[39m)\n",
      "\u001b[0;31mNameError\u001b[0m: name 'Y_density' is not defined"
     ]
    }
   ],
   "source": [
    "# print(f\"----- T plus (density20 > 0)-----\")\n",
    "print(f\"{'Classe :':^45s}{'0':>6s}{'':2s}{'1':>6s}\")\n",
    "print(f\"{'Comptage des classes au sein de y:':45s}{sum(Y_density == 0):>6d}{'':2s}{sum(Y_density == 1):>6d}\")\n",
    "print(f\"{'Comptage des classes au sein de y_train:':45s}{sum(Y_density_train == 0):>6d}{'':2s}{sum(Y_density_train == 1):>6d}\")\n",
    "print(f\"{'Comptage des classes au sein de y_test:':45s}{sum(Y_density_test == 0):>6d}{'':2s}{sum(Y_density_test == 1):>6d}\")\n",
    "print(f\"\\nNombre d'observations totales : {Y_density.shape[0]:_}\")"
   ]
  },
  {
   "cell_type": "markdown",
   "id": "d10ca672",
   "metadata": {},
   "source": [
    "# Arbre de décision"
   ]
  },
  {
   "cell_type": "code",
   "execution_count": null,
   "id": "3dbaba0b",
   "metadata": {},
   "outputs": [],
   "source": [
    "# depths_dtree = [2, 4, 6, 8, 10, 15, 20]\n",
    "\n",
    "# Best number of depth\n",
    "results_density_t_plus = models.forest_depth_acc(\n",
    "    X_density_train, Y_density_train,\n",
    "    X_density_test, Y_density_test,\n",
    "    depths=depths_dtree, \n",
    "    classifier=DecisionTreeClassifier,\n",
    "    class_weight=\"balanced\",\n",
    ")\n",
    "\n",
    "# Best number of depth with Dist & Angle\n",
    "results_densitY_loc_t_plus = models.forest_depth_acc(\n",
    "    X_densitY_loc_train, Y_densitY_loc_train,\n",
    "    X_densitY_loc_test, Y_densitY_loc_test,\n",
    "    depths=depths_dtree, \n",
    "    classifier=DecisionTreeClassifier,\n",
    "    class_weight=\"balanced\",\n",
    ")"
   ]
  },
  {
   "cell_type": "markdown",
   "id": "e23a16e9",
   "metadata": {},
   "source": [
    "# Performances en fonction de la profondeur"
   ]
  },
  {
   "cell_type": "code",
   "execution_count": 17,
   "id": "4a329cde",
   "metadata": {},
   "outputs": [
    {
     "ename": "NameError",
     "evalue": "name 'plt' is not defined",
     "output_type": "error",
     "traceback": [
      "\u001b[0;31m---------------------------------------------------------------------------\u001b[0m",
      "\u001b[0;31mNameError\u001b[0m                                 Traceback (most recent call last)",
      "Cell \u001b[0;32mIn[17], line 2\u001b[0m\n\u001b[1;32m      1\u001b[0m \u001b[38;5;66;03m# Plot AUC\u001b[39;00m\n\u001b[0;32m----> 2\u001b[0m fig, (ax1, ax2) \u001b[38;5;241m=\u001b[39m plt\u001b[38;5;241m.\u001b[39msubplots(\u001b[38;5;241m1\u001b[39m, \u001b[38;5;241m2\u001b[39m, figsize\u001b[38;5;241m=\u001b[39m(\u001b[38;5;241m15\u001b[39m, \u001b[38;5;241m8\u001b[39m))\n\u001b[1;32m      3\u001b[0m plots\u001b[38;5;241m.\u001b[39mplot(\n\u001b[1;32m      4\u001b[0m     results_density_t_plus[\u001b[38;5;124m\"\u001b[39m\u001b[38;5;124mauc_train\u001b[39m\u001b[38;5;124m\"\u001b[39m],\n\u001b[1;32m      5\u001b[0m     results_density_t_plus[\u001b[38;5;124m\"\u001b[39m\u001b[38;5;124mauc_test\u001b[39m\u001b[38;5;124m\"\u001b[39m],\n\u001b[0;32m   (...)\u001b[0m\n\u001b[1;32m     11\u001b[0m     ytop\u001b[38;5;241m=\u001b[39m\u001b[38;5;241m1\u001b[39m, ybottom\u001b[38;5;241m=\u001b[39m\u001b[38;5;241m0.55\u001b[39m, figure\u001b[38;5;241m=\u001b[39m(fig, ax1)\n\u001b[1;32m     12\u001b[0m )\n\u001b[1;32m     14\u001b[0m plots\u001b[38;5;241m.\u001b[39mplot(\n\u001b[1;32m     15\u001b[0m     results_density_dist_t_plus[\u001b[38;5;124m\"\u001b[39m\u001b[38;5;124mauc_train\u001b[39m\u001b[38;5;124m\"\u001b[39m],\n\u001b[1;32m     16\u001b[0m     results_density_dist_t_plus[\u001b[38;5;124m\"\u001b[39m\u001b[38;5;124mauc_test\u001b[39m\u001b[38;5;124m\"\u001b[39m],\n\u001b[0;32m   (...)\u001b[0m\n\u001b[1;32m     22\u001b[0m     ytop\u001b[38;5;241m=\u001b[39m\u001b[38;5;241m1\u001b[39m, ybottom\u001b[38;5;241m=\u001b[39m\u001b[38;5;241m0.55\u001b[39m, figure\u001b[38;5;241m=\u001b[39m(fig, ax2)\n\u001b[1;32m     23\u001b[0m )\n",
      "\u001b[0;31mNameError\u001b[0m: name 'plt' is not defined"
     ]
    }
   ],
   "source": [
    "# Plot AUC\n",
    "fig, (ax1, ax2) = plt.subplots(1, 2, figsize=(15, 8))\n",
    "plots.plot(\n",
    "    results_density_t_plus[\"auc_train\"],\n",
    "    results_density_t_plus[\"auc_test\"],\n",
    "    indices=results_density_t_plus[\"depths\"],\n",
    "    label=(\"Train AUC\", \"Test AUC\"),\n",
    "    title=\"T plus density\\nEvolution de l'AUC selon la profondeur de l'arbre de décision\",\n",
    "    xlabel=\"AUC score\", ylabel=\"Profondeur de l'arbre\",\n",
    "    xticks=results_density_t_plus[\"depths\"], showR2=False, showY=False,\n",
    "    ytop=1, ybottom=0.55, figure=(fig, ax1)\n",
    ")\n",
    "\n",
    "plots.plot(\n",
    "    results_densitY_loc_t_plus[\"auc_train\"],\n",
    "    results_densitY_loc_t_plus[\"auc_test\"],\n",
    "    indices=results_densitY_loc_t_plus[\"depths\"],\n",
    "    label=(\"Train AUC\", \"Test AUC\"),\n",
    "    title=\"T plus density\\nEvolution de l'AUC (avec Dist & Angle) selon\\nla profondeur de l'arbre de décision\",\n",
    "    xlabel=\"AUC score\", ylabel=\"Profondeur de l'arbre\",\n",
    "    xticks=results_densitY_loc_t_plus[\"depths\"], showR2=False, showY=False,\n",
    "    ytop=1, ybottom=0.55, figure=(fig, ax2)\n",
    ")\n",
    "plt.show()\n",
    "\n",
    "# Plot accuracy\n",
    "fig, (ax1, ax2) = plt.subplots(1, 2, figsize=(15, 8))\n",
    "\n",
    "plots.plot(\n",
    "    results_density_t_plus[\"acc_train\"],\n",
    "    results_density_t_plus[\"acc_test\"],\n",
    "    indices=results_density_t_plus[\"depths\"],\n",
    "    label=(\"Train Accuracy\", \"Test Accuracy\"),\n",
    "    title=\"T plus density\\nEvolution de l'accuracy en fonction de la profondeur de l'arbre de décision\",\n",
    "    xlabel=\"Accuracy\", ylabel=\"Profondeur de l'arbre\",\n",
    "    xticks=results_density_t_plus[\"depths\"], showR2=False, showY=False,\n",
    "    ytop=0.95, ybottom=0.49, figure=(fig, ax1)\n",
    ")\n",
    "\n",
    "plots.plot(\n",
    "    results_densitY_loc_t_plus[\"acc_train\"],\n",
    "    results_densitY_loc_t_plus[\"acc_test\"],\n",
    "    indices=results_densitY_loc_t_plus[\"depths\"],\n",
    "    label=(\"Train Accuracy\", \"Test Accuracy\"),\n",
    "    title=\"T plus density\\nEvolution de l'accuracy (avec Dist & Angle) en fonction de\\nla profondeur de l'arbre de décision\",\n",
    "    xlabel=\"Accuracy\", ylabel=\"Profondeur de l'arbre\",\n",
    "    xticks=results_densitY_loc_t_plus[\"depths\"], showR2=False, showY=False,\n",
    "    ytop=0.95, ybottom=0.49, figure=(fig, ax2)\n",
    ")\n",
    "plt.show()"
   ]
  },
  {
   "cell_type": "code",
   "execution_count": 18,
   "id": "b48cc2a2",
   "metadata": {},
   "outputs": [
    {
     "name": "stdout",
     "output_type": "stream",
     "text": [
      "----- Résumé des performances T plus (density20 > 0), arbre de décision -----\n",
      "Profondeur          : "
     ]
    },
    {
     "ename": "NameError",
     "evalue": "name 'results_density_t_plus' is not defined",
     "output_type": "error",
     "traceback": [
      "\u001b[0;31m---------------------------------------------------------------------------\u001b[0m",
      "\u001b[0;31mNameError\u001b[0m                                 Traceback (most recent call last)",
      "Cell \u001b[0;32mIn[18], line 2\u001b[0m\n\u001b[1;32m      1\u001b[0m \u001b[38;5;28mprint\u001b[39m(\u001b[38;5;124m\"\u001b[39m\u001b[38;5;124m----- Résumé des performances T plus (density20 > 0), arbre de décision -----\u001b[39m\u001b[38;5;124m\"\u001b[39m)\n\u001b[0;32m----> 2\u001b[0m \u001b[38;5;28mprint\u001b[39m(\u001b[38;5;124mf\u001b[39m\u001b[38;5;124m\"\u001b[39m\u001b[38;5;132;01m{\u001b[39;00m\u001b[38;5;124m'\u001b[39m\u001b[38;5;124mProfondeur\u001b[39m\u001b[38;5;124m'\u001b[39m\u001b[38;5;132;01m:\u001b[39;00m\u001b[38;5;124m<20s\u001b[39m\u001b[38;5;132;01m}\u001b[39;00m\u001b[38;5;124m:\u001b[39m\u001b[38;5;124m\"\u001b[39m, end\u001b[38;5;241m=\u001b[39m\u001b[38;5;124m\"\u001b[39m\u001b[38;5;124m \u001b[39m\u001b[38;5;124m\"\u001b[39m) ; [\u001b[38;5;28mprint\u001b[39m(\u001b[38;5;124mf\u001b[39m\u001b[38;5;124m\"\u001b[39m\u001b[38;5;132;01m{\u001b[39;00mi\u001b[38;5;132;01m:\u001b[39;00m\u001b[38;5;124m<4d\u001b[39m\u001b[38;5;132;01m}\u001b[39;00m\u001b[38;5;124m\"\u001b[39m, end\u001b[38;5;241m=\u001b[39m\u001b[38;5;124m\"\u001b[39m\u001b[38;5;124m  \u001b[39m\u001b[38;5;124m\"\u001b[39m) \u001b[38;5;28;01mfor\u001b[39;00m i \u001b[38;5;129;01min\u001b[39;00m results_density_t_plus[\u001b[38;5;124m\"\u001b[39m\u001b[38;5;124mdepths\u001b[39m\u001b[38;5;124m\"\u001b[39m]] ; \u001b[38;5;28mprint\u001b[39m(\u001b[38;5;124m\"\u001b[39m\u001b[38;5;130;01m\\n\u001b[39;00m\u001b[38;5;124m\"\u001b[39m)\n\u001b[1;32m      3\u001b[0m \u001b[38;5;28mprint\u001b[39m(\u001b[38;5;124mf\u001b[39m\u001b[38;5;124m\"\u001b[39m\u001b[38;5;132;01m{\u001b[39;00m\u001b[38;5;124m'\u001b[39m\u001b[38;5;124mAUC_train\u001b[39m\u001b[38;5;124m'\u001b[39m\u001b[38;5;132;01m:\u001b[39;00m\u001b[38;5;124m<20s\u001b[39m\u001b[38;5;132;01m}\u001b[39;00m\u001b[38;5;124m:\u001b[39m\u001b[38;5;124m\"\u001b[39m, end\u001b[38;5;241m=\u001b[39m\u001b[38;5;124m\"\u001b[39m\u001b[38;5;124m \u001b[39m\u001b[38;5;124m\"\u001b[39m) ; [\u001b[38;5;28mprint\u001b[39m(\u001b[38;5;124mf\u001b[39m\u001b[38;5;124m\"\u001b[39m\u001b[38;5;132;01m{\u001b[39;00mi\u001b[38;5;132;01m:\u001b[39;00m\u001b[38;5;124m<.2f\u001b[39m\u001b[38;5;132;01m}\u001b[39;00m\u001b[38;5;124m\"\u001b[39m, end\u001b[38;5;241m=\u001b[39m\u001b[38;5;124m\"\u001b[39m\u001b[38;5;124m  \u001b[39m\u001b[38;5;124m\"\u001b[39m) \u001b[38;5;28;01mfor\u001b[39;00m i \u001b[38;5;129;01min\u001b[39;00m results_density_t_plus[\u001b[38;5;124m\"\u001b[39m\u001b[38;5;124mauc_train\u001b[39m\u001b[38;5;124m\"\u001b[39m]] ; \u001b[38;5;28mprint\u001b[39m()\n\u001b[1;32m      4\u001b[0m \u001b[38;5;28mprint\u001b[39m(\u001b[38;5;124mf\u001b[39m\u001b[38;5;124m\"\u001b[39m\u001b[38;5;132;01m{\u001b[39;00m\u001b[38;5;124m'\u001b[39m\u001b[38;5;124mAUC_test\u001b[39m\u001b[38;5;124m'\u001b[39m\u001b[38;5;132;01m:\u001b[39;00m\u001b[38;5;124m<20s\u001b[39m\u001b[38;5;132;01m}\u001b[39;00m\u001b[38;5;124m:\u001b[39m\u001b[38;5;124m\"\u001b[39m, end\u001b[38;5;241m=\u001b[39m\u001b[38;5;124m\"\u001b[39m\u001b[38;5;124m \u001b[39m\u001b[38;5;124m\"\u001b[39m) ; [\u001b[38;5;28mprint\u001b[39m(\u001b[38;5;124mf\u001b[39m\u001b[38;5;124m\"\u001b[39m\u001b[38;5;132;01m{\u001b[39;00mi\u001b[38;5;132;01m:\u001b[39;00m\u001b[38;5;124m<.2f\u001b[39m\u001b[38;5;132;01m}\u001b[39;00m\u001b[38;5;124m\"\u001b[39m, end\u001b[38;5;241m=\u001b[39m\u001b[38;5;124m\"\u001b[39m\u001b[38;5;124m  \u001b[39m\u001b[38;5;124m\"\u001b[39m) \u001b[38;5;28;01mfor\u001b[39;00m i \u001b[38;5;129;01min\u001b[39;00m results_density_t_plus[\u001b[38;5;124m\"\u001b[39m\u001b[38;5;124mauc_test\u001b[39m\u001b[38;5;124m\"\u001b[39m]] ; \u001b[38;5;28mprint\u001b[39m(\u001b[38;5;124m\"\u001b[39m\u001b[38;5;130;01m\\n\u001b[39;00m\u001b[38;5;124m\"\u001b[39m)\n",
      "\u001b[0;31mNameError\u001b[0m: name 'results_density_t_plus' is not defined"
     ]
    }
   ],
   "source": [
    "# print(\"----- Résumé des performances T plus (density20 > 0), arbre de décision -----\")\n",
    "print(f\"{'Profondeur':<20s}:\", end=\" \") ; [print(f\"{i:<4d}\", end=\"  \") for i in results_density_t_plus[\"depths\"]] ; print(\"\\n\")\n",
    "print(f\"{'AUC_train':<20s}:\", end=\" \") ; [print(f\"{i:<.2f}\", end=\"  \") for i in results_density_t_plus[\"auc_train\"]] ; print()\n",
    "print(f\"{'AUC_test':<20s}:\", end=\" \") ; [print(f\"{i:<.2f}\", end=\"  \") for i in results_density_t_plus[\"auc_test\"]] ; print(\"\\n\")\n",
    "\n",
    "print(f\"{'Accuracy_train':<20s}:\", end=\" \") ; [print(f\"{i:<.2f}\", end=\"  \") for i in results_density_t_plus[\"acc_train\"]] ; print()\n",
    "print(f\"{'Accuracy_test':<20s}:\", end=\" \") ; [print(f\"{i:<.2f}\", end=\"  \") for i in results_density_t_plus[\"acc_test\"]] ; print(\"\\n\")\n",
    "\n",
    "print(\"---\")\n",
    "print(f\"{'AUC_train_dist':<20s}:\", end=\" \") ; [print(f\"{i:<.2f}\", end=\"  \") for i in results_densitY_loc_t_plus[\"auc_train\"]] ; print()\n",
    "print(f\"{'AUC_test_dist':<20s}:\", end=\" \") ; [print(f\"{i:<.2f}\", end=\"  \") for i in results_densitY_loc_t_plus[\"auc_test\"]] ; print(\"\\n\")\n",
    "\n",
    "print(f\"{'Accuracy_train_dist':<20s}:\", end=\" \") ; [print(f\"{i:<.2f}\", end=\"  \") for i in results_densitY_loc_t_plus[\"acc_train\"]] ; print()\n",
    "print(f\"{'Accuracy_test_dist':<20s}:\", end=\" \") ; [print(f\"{i:<.2f}\", end=\"  \") for i in results_densitY_loc_t_plus[\"acc_test\"]] ; print()"
   ]
  },
  {
   "cell_type": "code",
   "execution_count": null,
   "id": "f36030de",
   "metadata": {},
   "outputs": [],
   "source": [
    "# Decision Tree (CART)\n",
    "dtree_density_plus = DecisionTreeClassifier(\n",
    "    criterion=\"entropy\",\n",
    "    max_depth=10,\n",
    "    random_state=42,\n",
    "    class_weight=\"balanced\",\n",
    ")\n",
    "\n",
    "dtree_density_plus.fit(X_density_train, Y_density_train)\n",
    "y_density_train_pred = dtree_density_plus.predict(X_density_train)\n",
    "y_density_test_pred = dtree_density_plus.predict(X_density_test)\n",
    "\n",
    "# Decision Tree (CART) with Dist column\n",
    "dtree_densitY_loc_plus = DecisionTreeClassifier(\n",
    "    criterion=\"entropy\",\n",
    "    max_depth=10,\n",
    "    random_state=42,\n",
    "    class_weight=\"balanced\",\n",
    ")\n",
    "\n",
    "dtree_densitY_loc_plus.fit(X_densitY_loc_train, Y_densitY_loc_train)\n",
    "y_density_loc_train_pred = dtree_densitY_loc_plus.predict(X_densitY_loc_train)\n",
    "y_density_loc_test_pred = dtree_densitY_loc_plus.predict(X_densitY_loc_test)\n",
    "\n",
    "# Performance\n",
    "fpr_train, tpr_train, _ = roc_curve(Y_density_train, y_density_train_pred)\n",
    "fpr_test, tpr_test, _ = roc_curve(Y_density_test, y_density_test_pred)\n",
    "\n",
    "fpr_loc_train, tpr_loc_train, _ = roc_curve(Y_densitY_loc_train, y_density_loc_train_pred)\n",
    "fpr_loc_test, tpr_loc_test, _ = roc_curve(Y_densitY_loc_test, y_density_loc_test_pred)\n",
    "\n",
    "# Model Accuracy, how often is the classifier correct?\n",
    "print(\"----- Arbre de décision (density20 > 0) -----\")\n",
    "print(\"Accuracy Train:\", accuracy_score(Y_density_train, y_density_train_pred))\n",
    "print(\"AUC Train:\", auc(fpr_train, tpr_train))\n",
    "print()\n",
    "print(\"Accuracy Test:\", accuracy_score(Y_density_test, y_density_test_pred))\n",
    "print(\"AUC Test:\", auc(fpr_test, tpr_test))\n",
    "print()"
   ]
  },
  {
   "cell_type": "code",
   "execution_count": 19,
   "id": "6d7e6a3f-1c36-467b-90a0-7d3d82f237cd",
   "metadata": {},
   "outputs": [
    {
     "ename": "NameError",
     "evalue": "name 'pd' is not defined",
     "output_type": "error",
     "traceback": [
      "\u001b[0;31m---------------------------------------------------------------------------\u001b[0m",
      "\u001b[0;31mNameError\u001b[0m                                 Traceback (most recent call last)",
      "Cell \u001b[0;32mIn[19], line 1\u001b[0m\n\u001b[0;32m----> 1\u001b[0m labels_class \u001b[38;5;241m=\u001b[39m pd\u001b[38;5;241m.\u001b[39mSeries(clf_density_plus\u001b[38;5;241m.\u001b[39mclasses_)\u001b[38;5;241m.\u001b[39mmap({\u001b[38;5;241m0\u001b[39m: \u001b[38;5;124m'\u001b[39m\u001b[38;5;124mnot_plus\u001b[39m\u001b[38;5;124m'\u001b[39m, \u001b[38;5;241m1\u001b[39m: \u001b[38;5;124m'\u001b[39m\u001b[38;5;124mplus\u001b[39m\u001b[38;5;124m'\u001b[39m})\u001b[38;5;241m.\u001b[39mvalues\n",
      "\u001b[0;31mNameError\u001b[0m: name 'pd' is not defined"
     ]
    }
   ],
   "source": [
    "# labels_class = pd.Series(dtree_density_plus.classes_).map({0: 'not_plus', 1: 'plus'}).values"
   ]
  },
  {
   "cell_type": "code",
   "execution_count": 20,
   "id": "96f5ee09-9c6e-43bb-83a6-0978b3bc125e",
   "metadata": {},
   "outputs": [
    {
     "ename": "NameError",
     "evalue": "name 'roc_curve' is not defined",
     "output_type": "error",
     "traceback": [
      "\u001b[0;31m---------------------------------------------------------------------------\u001b[0m",
      "\u001b[0;31mNameError\u001b[0m                                 Traceback (most recent call last)",
      "Cell \u001b[0;32mIn[20], line 2\u001b[0m\n\u001b[1;32m      1\u001b[0m \u001b[38;5;66;03m# Performance\u001b[39;00m\n\u001b[0;32m----> 2\u001b[0m false_pos_rate_train, true_pos_rate_train, _ \u001b[38;5;241m=\u001b[39m roc_curve(Y_density_train, y_density_train_pred)\n\u001b[1;32m      3\u001b[0m false_pos_rate_test, true_pos_rate_test, _ \u001b[38;5;241m=\u001b[39m roc_curve(Y_density_test, y_density_test_pred)\n\u001b[1;32m      5\u001b[0m false_pos_rate_dist_train, true_pos_rate_dist_train, _ \u001b[38;5;241m=\u001b[39m roc_curve(Y_density_dist_train, y_density_dist_train_pred)\n",
      "\u001b[0;31mNameError\u001b[0m: name 'roc_curve' is not defined"
     ]
    }
   ],
   "source": [
    "# Performance\n",
    "fpr_train, tpr_train, _ = roc_curve(Y_density_train, y_density_train_pred)\n",
    "fpr_test, tpr_test, _ = roc_curve(Y_density_test, y_density_test_pred)\n",
    "\n",
    "fpr_loc_train, tpr_loc_train, _ = roc_curve(Y_densitY_loc_train, y_density_loc_train_pred)\n",
    "fpr_loc_test, tpr_loc_test, _ = roc_curve(Y_densitY_loc_test, y_density_loc_test_pred)\n",
    "\n",
    "# Model Accuracy, how often is the classifier correct?\n",
    "print(\"----- Arbre de décision (density20 > 0) -----\")\n",
    "print(\"Accuracy Train:\", accuracy_score(Y_density_train, y_density_train_pred))\n",
    "print(\"AUC Train:\", auc(fpr_train, tpr_train))\n",
    "print()\n",
    "print(\"Accuracy Test:\", accuracy_score(Y_density_test, y_density_test_pred))\n",
    "print(\"AUC Test:\", auc(fpr_test, tpr_test))\n",
    "print()\n",
    "\n",
    "fig, (ax1, ax2) = plt.subplots(1, 2, figsize=(14, 5))\n",
    "cm = confusion_matrix(Y_density_test, y_density_test_pred)\n",
    "cm2 = confusion_matrix(Y_density_test, y_density_test_pred, normalize=\"true\")\n",
    "ConfusionMatrixDisplay(confusion_matrix=cm, display_labels=labels_class).plot(ax=ax1)\n",
    "ConfusionMatrixDisplay(confusion_matrix=cm2, display_labels=labels_class).plot(ax=ax2)\n",
    "plt.show()"
   ]
  },
  {
   "cell_type": "code",
   "execution_count": 21,
   "id": "e81baefa-9023-46c9-a59b-c8765e453e27",
   "metadata": {},
   "outputs": [
    {
     "name": "stdout",
     "output_type": "stream",
     "text": [
      "Arbre de décision acc, Angle avec Dist\n"
     ]
    },
    {
     "ename": "NameError",
     "evalue": "name 'accuracy_score' is not defined",
     "output_type": "error",
     "traceback": [
      "\u001b[0;31m---------------------------------------------------------------------------\u001b[0m",
      "\u001b[0;31mNameError\u001b[0m                                 Traceback (most recent call last)",
      "Cell \u001b[0;32mIn[21], line 2\u001b[0m\n\u001b[1;32m      1\u001b[0m \u001b[38;5;28mprint\u001b[39m(\u001b[38;5;124m\"\u001b[39m\u001b[38;5;124mArbre de décision acc, Angle avec Dist\u001b[39m\u001b[38;5;124m\"\u001b[39m)\n\u001b[0;32m----> 2\u001b[0m \u001b[38;5;28mprint\u001b[39m(\u001b[38;5;124m\"\u001b[39m\u001b[38;5;124mAccuracy Train:\u001b[39m\u001b[38;5;124m\"\u001b[39m, accuracy_score(Y_density_dist_train, y_density_dist_train_pred))\n\u001b[1;32m      3\u001b[0m \u001b[38;5;28mprint\u001b[39m(\u001b[38;5;124m\"\u001b[39m\u001b[38;5;124mAUC Train:\u001b[39m\u001b[38;5;124m\"\u001b[39m, auc(false_pos_rate_dist_train, true_pos_rate_dist_train))\n\u001b[1;32m      4\u001b[0m \u001b[38;5;28mprint\u001b[39m()\n",
      "\u001b[0;31mNameError\u001b[0m: name 'accuracy_score' is not defined"
     ]
    }
   ],
   "source": [
    "# print(\"Arbre de décision acc, Angle avec Dist\")\n",
    "print(\"Accuracy Train:\", accuracy_score(Y_densitY_loc_train, y_density_loc_train_pred))\n",
    "print(\"AUC Train:\", auc(fpr_loc_train, tpr_loc_train))\n",
    "print()\n",
    "print(\"Accuracy Test:\", accuracy_score(Y_densitY_loc_test, y_density_loc_test_pred))\n",
    "print(\"AUC Test:\", auc(fpr_loc_test, tpr_loc_test))\n",
    "\n",
    "fig, (ax1, ax2) = plt.subplots(1, 2, figsize=(14, 5))\n",
    "cm_dist = confusion_matrix(Y_densitY_loc_test, y_density_loc_test_pred)\n",
    "cm2_dist = confusion_matrix(Y_densitY_loc_test, y_density_loc_test_pred, normalize=\"true\")\n",
    "ConfusionMatrixDisplay(confusion_matrix=cm_dist, display_labels=labels_class).plot(ax=ax1)\n",
    "ConfusionMatrixDisplay(confusion_matrix=cm2_dist, display_labels=labels_class).plot(ax=ax2)\n",
    "plt.show()"
   ]
  },
  {
   "cell_type": "code",
   "execution_count": 22,
   "id": "1867e2ce",
   "metadata": {},
   "outputs": [
    {
     "ename": "NameError",
     "evalue": "name 'plt' is not defined",
     "output_type": "error",
     "traceback": [
      "\u001b[0;31m---------------------------------------------------------------------------\u001b[0m",
      "\u001b[0;31mNameError\u001b[0m                                 Traceback (most recent call last)",
      "Cell \u001b[0;32mIn[22], line 2\u001b[0m\n\u001b[1;32m      1\u001b[0m \u001b[38;5;66;03m# Arbre de Décision\u001b[39;00m\n\u001b[0;32m----> 2\u001b[0m fig \u001b[38;5;241m=\u001b[39m plt\u001b[38;5;241m.\u001b[39mfigure(figsize\u001b[38;5;241m=\u001b[39m(\u001b[38;5;241m10\u001b[39m, \u001b[38;5;241m30\u001b[39m))\n\u001b[1;32m      3\u001b[0m dot_data \u001b[38;5;241m=\u001b[39m tree\u001b[38;5;241m.\u001b[39mexport_graphviz(\n\u001b[1;32m      4\u001b[0m     clf_density_plus,\n\u001b[1;32m      5\u001b[0m     feature_names\u001b[38;5;241m=\u001b[39mx_columns,\n\u001b[1;32m      6\u001b[0m     class_names\u001b[38;5;241m=\u001b[39mlabels_class,\n\u001b[1;32m      7\u001b[0m     filled\u001b[38;5;241m=\u001b[39m\u001b[38;5;28;01mTrue\u001b[39;00m\n\u001b[1;32m      8\u001b[0m )\n\u001b[1;32m      9\u001b[0m graph \u001b[38;5;241m=\u001b[39m graphviz\u001b[38;5;241m.\u001b[39mSource(dot_data, \u001b[38;5;28mformat\u001b[39m\u001b[38;5;241m=\u001b[39m\u001b[38;5;124m\"\u001b[39m\u001b[38;5;124mpng\u001b[39m\u001b[38;5;124m\"\u001b[39m)\n",
      "\u001b[0;31mNameError\u001b[0m: name 'plt' is not defined"
     ]
    }
   ],
   "source": [
    "# Arbre de Décision\n",
    "fig = plt.figure(figsize=(10, 30))\n",
    "dot_data = tree.export_graphviz(\n",
    "    dtree_density_plus,\n",
    "    feature_names=x_columns,\n",
    "    class_names=labels_class,\n",
    "    filled=True\n",
    ")\n",
    "graph = graphviz.Source(dot_data, format=\"png\")\n",
    "#graph.render(\"../out/KI_decision_tree_density_t-plus_dist\")\n",
    "graph"
   ]
  },
  {
   "cell_type": "code",
   "execution_count": 23,
   "id": "5dbc0ad4",
   "metadata": {},
   "outputs": [
    {
     "ename": "NameError",
     "evalue": "name 'plt' is not defined",
     "output_type": "error",
     "traceback": [
      "\u001b[0;31m---------------------------------------------------------------------------\u001b[0m",
      "\u001b[0;31mNameError\u001b[0m                                 Traceback (most recent call last)",
      "Cell \u001b[0;32mIn[23], line 2\u001b[0m\n\u001b[1;32m      1\u001b[0m \u001b[38;5;66;03m# Arbre de décision avec l'ajout de Dist & Angle\u001b[39;00m\n\u001b[0;32m----> 2\u001b[0m fig \u001b[38;5;241m=\u001b[39m plt\u001b[38;5;241m.\u001b[39mfigure(figsize\u001b[38;5;241m=\u001b[39m(\u001b[38;5;241m10\u001b[39m, \u001b[38;5;241m30\u001b[39m))\n\u001b[1;32m      3\u001b[0m dot_data \u001b[38;5;241m=\u001b[39m tree\u001b[38;5;241m.\u001b[39mexport_graphviz(\n\u001b[1;32m      4\u001b[0m     clf_density_dist_plus,\n\u001b[1;32m      5\u001b[0m     feature_names\u001b[38;5;241m=\u001b[39mx_columns_dist,\n\u001b[1;32m      6\u001b[0m     class_names\u001b[38;5;241m=\u001b[39mlabels_class,\n\u001b[1;32m      7\u001b[0m     filled\u001b[38;5;241m=\u001b[39m\u001b[38;5;28;01mTrue\u001b[39;00m\n\u001b[1;32m      8\u001b[0m )\n\u001b[1;32m     10\u001b[0m graph \u001b[38;5;241m=\u001b[39m graphviz\u001b[38;5;241m.\u001b[39mSource(dot_data, \u001b[38;5;28mformat\u001b[39m\u001b[38;5;241m=\u001b[39m\u001b[38;5;124m\"\u001b[39m\u001b[38;5;124mpng\u001b[39m\u001b[38;5;124m\"\u001b[39m)\n",
      "\u001b[0;31mNameError\u001b[0m: name 'plt' is not defined"
     ]
    }
   ],
   "source": [
    "# Arbre de décision avec l'ajout de Dist & Angle\n",
    "fig = plt.figure(figsize=(10, 30))\n",
    "dot_data = tree.export_graphviz(\n",
    "    dtree_densitY_loc_plus,\n",
    "    feature_names=x_columns_dist,\n",
    "    class_names=labels_class,\n",
    "    filled=True\n",
    ")\n",
    "\n",
    "graph = graphviz.Source(dot_data, format=\"png\")\n",
    "#graph.render(\"../out/KI_decision_tree_density_t-plus_dist\")\n",
    "graph"
   ]
  },
  {
   "cell_type": "markdown",
   "id": "b2fe248f",
   "metadata": {},
   "source": [
    "# Random Forest"
   ]
  },
  {
   "cell_type": "code",
   "execution_count": 24,
   "id": "63e18712",
   "metadata": {},
   "outputs": [
    {
     "ename": "NameError",
     "evalue": "name 'models' is not defined",
     "output_type": "error",
     "traceback": [
      "\u001b[0;31m---------------------------------------------------------------------------\u001b[0m",
      "\u001b[0;31mNameError\u001b[0m                                 Traceback (most recent call last)",
      "Cell \u001b[0;32mIn[24], line 2\u001b[0m\n\u001b[1;32m      1\u001b[0m max_depths_rd \u001b[38;5;241m=\u001b[39m [\u001b[38;5;241m2\u001b[39m, \u001b[38;5;241m6\u001b[39m, \u001b[38;5;241m10\u001b[39m, \u001b[38;5;241m20\u001b[39m, \u001b[38;5;241m25\u001b[39m]\n\u001b[0;32m----> 2\u001b[0m results_density_t_plus_rf \u001b[38;5;241m=\u001b[39m models\u001b[38;5;241m.\u001b[39mforest_depth_acc(\n\u001b[1;32m      3\u001b[0m     X_density_train, Y_density_train,\n\u001b[1;32m      4\u001b[0m     X_density_test, Y_density_test,\n\u001b[1;32m      5\u001b[0m     depths\u001b[38;5;241m=\u001b[39mmax_depths_rd, \n\u001b[1;32m      6\u001b[0m     classifier\u001b[38;5;241m=\u001b[39mRandomForestClassifier,\n\u001b[1;32m      7\u001b[0m     n_estimators \u001b[38;5;241m=\u001b[39m \u001b[38;5;241m40\u001b[39m,\n\u001b[1;32m      8\u001b[0m     class_weight\u001b[38;5;241m=\u001b[39m\u001b[38;5;124m\"\u001b[39m\u001b[38;5;124mbalanced\u001b[39m\u001b[38;5;124m\"\u001b[39m,\n\u001b[1;32m      9\u001b[0m     n_jobs\u001b[38;5;241m=\u001b[39m\u001b[38;5;241m-\u001b[39m\u001b[38;5;241m1\u001b[39m\n\u001b[1;32m     10\u001b[0m )\n\u001b[1;32m     12\u001b[0m results_density_dist_t_plus_rf \u001b[38;5;241m=\u001b[39m models\u001b[38;5;241m.\u001b[39mforest_depth_acc(\n\u001b[1;32m     13\u001b[0m     X_density_dist_train, Y_density_dist_train,\n\u001b[1;32m     14\u001b[0m     X_density_dist_test, Y_density_dist_test,\n\u001b[0;32m   (...)\u001b[0m\n\u001b[1;32m     19\u001b[0m     n_jobs\u001b[38;5;241m=\u001b[39m\u001b[38;5;241m-\u001b[39m\u001b[38;5;241m1\u001b[39m\n\u001b[1;32m     20\u001b[0m )\n",
      "\u001b[0;31mNameError\u001b[0m: name 'models' is not defined"
     ]
    }
   ],
   "source": [
    "# max_depths_rd = [2, 6, 10, 20, 25]\n",
    "results_density_t_plus_rf = models.forest_depth_acc(\n",
    "    X_density_train, Y_density_train,\n",
    "    X_density_test, Y_density_test,\n",
    "    depths=max_depths_rd, \n",
    "    classifier=RandomForestClassifier,\n",
    "    n_estimators = 40,\n",
    "    class_weight=\"balanced\",\n",
    "    n_jobs=-1\n",
    ")\n",
    "\n",
    "results_densitY_loc_t_plus_rf = models.forest_depth_acc(\n",
    "    X_densitY_loc_train, Y_densitY_loc_train,\n",
    "    X_densitY_loc_test, Y_densitY_loc_test,\n",
    "    depths=max_depths_rd, \n",
    "    classifier=RandomForestClassifier,\n",
    "    n_estimators = 20,\n",
    "    class_weight=\"balanced\",\n",
    "    n_jobs=-1\n",
    ")"
   ]
  },
  {
   "cell_type": "code",
   "execution_count": 25,
   "id": "c8fcb539",
   "metadata": {},
   "outputs": [
    {
     "ename": "NameError",
     "evalue": "name 'plt' is not defined",
     "output_type": "error",
     "traceback": [
      "\u001b[0;31m---------------------------------------------------------------------------\u001b[0m",
      "\u001b[0;31mNameError\u001b[0m                                 Traceback (most recent call last)",
      "Cell \u001b[0;32mIn[25], line 2\u001b[0m\n\u001b[1;32m      1\u001b[0m \u001b[38;5;66;03m# Plot\u001b[39;00m\n\u001b[0;32m----> 2\u001b[0m fig, (ax1, ax2) \u001b[38;5;241m=\u001b[39m plt\u001b[38;5;241m.\u001b[39msubplots(\u001b[38;5;241m1\u001b[39m, \u001b[38;5;241m2\u001b[39m, figsize\u001b[38;5;241m=\u001b[39m(\u001b[38;5;241m15\u001b[39m, \u001b[38;5;241m8\u001b[39m))\n\u001b[1;32m      4\u001b[0m plots\u001b[38;5;241m.\u001b[39mplot(\n\u001b[1;32m      5\u001b[0m     results_density_t_plus_rf[\u001b[38;5;124m\"\u001b[39m\u001b[38;5;124mauc_train\u001b[39m\u001b[38;5;124m\"\u001b[39m],\n\u001b[1;32m      6\u001b[0m     results_density_t_plus_rf[\u001b[38;5;124m\"\u001b[39m\u001b[38;5;124mauc_test\u001b[39m\u001b[38;5;124m\"\u001b[39m],\n\u001b[0;32m   (...)\u001b[0m\n\u001b[1;32m     12\u001b[0m     ytop\u001b[38;5;241m=\u001b[39m\u001b[38;5;241m1\u001b[39m, ybottom\u001b[38;5;241m=\u001b[39m\u001b[38;5;241m0.55\u001b[39m, figure\u001b[38;5;241m=\u001b[39m(fig, ax1)\n\u001b[1;32m     13\u001b[0m )\n\u001b[1;32m     15\u001b[0m plots\u001b[38;5;241m.\u001b[39mplot(\n\u001b[1;32m     16\u001b[0m     results_density_dist_t_plus_rf[\u001b[38;5;124m\"\u001b[39m\u001b[38;5;124mauc_train\u001b[39m\u001b[38;5;124m\"\u001b[39m],\n\u001b[1;32m     17\u001b[0m     results_density_dist_t_plus_rf[\u001b[38;5;124m\"\u001b[39m\u001b[38;5;124mauc_test\u001b[39m\u001b[38;5;124m\"\u001b[39m],\n\u001b[0;32m   (...)\u001b[0m\n\u001b[1;32m     23\u001b[0m     ytop\u001b[38;5;241m=\u001b[39m\u001b[38;5;241m1\u001b[39m, ybottom\u001b[38;5;241m=\u001b[39m\u001b[38;5;241m0.55\u001b[39m, figure\u001b[38;5;241m=\u001b[39m(fig, ax2)\n\u001b[1;32m     24\u001b[0m )\n",
      "\u001b[0;31mNameError\u001b[0m: name 'plt' is not defined"
     ]
    }
   ],
   "source": [
    "# Plot\n",
    "fig, (ax1, ax2) = plt.subplots(1, 2, figsize=(15, 8))\n",
    "\n",
    "plots.plot(\n",
    "    results_density_t_plus_rf[\"auc_train\"],\n",
    "    results_density_t_plus_rf[\"auc_test\"],\n",
    "    indices=results_density_t_plus_rf[\"depths\"],\n",
    "    label=(\"Train AUC\", \"Test AUC\"),\n",
    "    title=\"T plus density\\nEvolution de l'AUC selon la profondeur des arbres\\ndu RandomForest\",\n",
    "    xlabel=\"AUC\", ylabel=\"Profondeur de l'arbre\",\n",
    "    xticks=results_density_t_plus_rf[\"depths\"], showR2=False, showY=False,\n",
    "    ytop=1, ybottom=0.55, figure=(fig, ax1)\n",
    ")\n",
    "\n",
    "plots.plot(\n",
    "    results_densitY_loc_t_plus_rf[\"auc_train\"],\n",
    "    results_densitY_loc_t_plus_rf[\"auc_test\"],\n",
    "    indices=results_densitY_loc_t_plus_rf[\"depths\"],\n",
    "    label=(\"Train AUC\", \"Test AUC\"),\n",
    "    title=\"T plus density\\nEvolution de l'AUC (avec Dist & Angle) selon la profondeur des arbres\\ndu RandomForest\",\n",
    "    xlabel=\"AUC\", ylabel=\"Profondeur de l'arbre\",\n",
    "    xticks=results_densitY_loc_t_plus_rf[\"depths\"], showR2=False, showY=False,\n",
    "    ytop=1, ybottom=0.55, figure=(fig, ax2)\n",
    ")\n",
    "\n",
    "plt.show()\n",
    "\n",
    "# Plot\n",
    "fig, (ax1, ax2) = plt.subplots(1, 2, figsize=(15, 8))\n",
    "\n",
    "plots.plot(\n",
    "    results_density_t_plus_rf[\"acc_train\"],\n",
    "    results_density_t_plus_rf[\"acc_test\"],\n",
    "    indices=results_density_t_plus_rf[\"depths\"],\n",
    "    label=(\"Train Accuracy\", \"Test Accuracy\"),\n",
    "    title=\"T plus density\\nEvolution de l'accuracy selon la profondeur des arbres\\ndu RandomForest\",\n",
    "    xlabel=\"Accuracy\", ylabel=\"Profondeur de l'arbre\",\n",
    "    xticks=results_density_t_plus_rf[\"depths\"], showR2=False, showY=False,\n",
    "    ytop=1, ybottom=0.44, figure=(fig, ax1)\n",
    ")\n",
    "\n",
    "plots.plot(\n",
    "    results_densitY_loc_t_plus_rf[\"acc_train\"],\n",
    "    results_densitY_loc_t_plus_rf[\"acc_test\"],\n",
    "    indices=results_densitY_loc_t_plus_rf[\"depths\"],\n",
    "    label=(\"Train Accuracy\", \"Test Accuracy\"),\n",
    "    title=\"T plus density\\nEvolution de l'Accuracy (avec Dist & Angle) selon la profondeur des arbres\\ndu RandomForest\",\n",
    "    xlabel=\"Accuracy\", ylabel=\"Profondeur de l'arbre\",\n",
    "    xticks=results_densitY_loc_t_plus_rf[\"depths\"], showR2=False, showY=False,\n",
    "    ytop=1, ybottom=0.44, figure=(fig, ax2)\n",
    ")\n",
    "\n",
    "plt.show()"
   ]
  },
  {
   "cell_type": "code",
   "execution_count": 26,
   "id": "024c8e99",
   "metadata": {},
   "outputs": [
    {
     "name": "stdout",
     "output_type": "stream",
     "text": [
      "----- Résumé des performances T plus (density20 > 0), Random Forest -----\n",
      "Profondeur          : "
     ]
    },
    {
     "ename": "NameError",
     "evalue": "name 'results_density_t_plus_rf' is not defined",
     "output_type": "error",
     "traceback": [
      "\u001b[0;31m---------------------------------------------------------------------------\u001b[0m",
      "\u001b[0;31mNameError\u001b[0m                                 Traceback (most recent call last)",
      "Cell \u001b[0;32mIn[26], line 2\u001b[0m\n\u001b[1;32m      1\u001b[0m \u001b[38;5;28mprint\u001b[39m(\u001b[38;5;124m\"\u001b[39m\u001b[38;5;124m----- Résumé des performances T plus (density20 > 0), Random Forest -----\u001b[39m\u001b[38;5;124m\"\u001b[39m)\n\u001b[0;32m----> 2\u001b[0m \u001b[38;5;28mprint\u001b[39m(\u001b[38;5;124mf\u001b[39m\u001b[38;5;124m\"\u001b[39m\u001b[38;5;132;01m{\u001b[39;00m\u001b[38;5;124m'\u001b[39m\u001b[38;5;124mProfondeur\u001b[39m\u001b[38;5;124m'\u001b[39m\u001b[38;5;132;01m:\u001b[39;00m\u001b[38;5;124m<20s\u001b[39m\u001b[38;5;132;01m}\u001b[39;00m\u001b[38;5;124m:\u001b[39m\u001b[38;5;124m\"\u001b[39m, end\u001b[38;5;241m=\u001b[39m\u001b[38;5;124m\"\u001b[39m\u001b[38;5;124m \u001b[39m\u001b[38;5;124m\"\u001b[39m) ; [\u001b[38;5;28mprint\u001b[39m(\u001b[38;5;124mf\u001b[39m\u001b[38;5;124m\"\u001b[39m\u001b[38;5;132;01m{\u001b[39;00mi\u001b[38;5;132;01m:\u001b[39;00m\u001b[38;5;124m<4d\u001b[39m\u001b[38;5;132;01m}\u001b[39;00m\u001b[38;5;124m\"\u001b[39m, end\u001b[38;5;241m=\u001b[39m\u001b[38;5;124m\"\u001b[39m\u001b[38;5;124m  \u001b[39m\u001b[38;5;124m\"\u001b[39m) \u001b[38;5;28;01mfor\u001b[39;00m i \u001b[38;5;129;01min\u001b[39;00m results_density_t_plus_rf[\u001b[38;5;124m\"\u001b[39m\u001b[38;5;124mdepths\u001b[39m\u001b[38;5;124m\"\u001b[39m]] ; \u001b[38;5;28mprint\u001b[39m(\u001b[38;5;124m\"\u001b[39m\u001b[38;5;130;01m\\n\u001b[39;00m\u001b[38;5;124m\"\u001b[39m)\n\u001b[1;32m      3\u001b[0m \u001b[38;5;28mprint\u001b[39m(\u001b[38;5;124mf\u001b[39m\u001b[38;5;124m\"\u001b[39m\u001b[38;5;132;01m{\u001b[39;00m\u001b[38;5;124m'\u001b[39m\u001b[38;5;124mAUC_train\u001b[39m\u001b[38;5;124m'\u001b[39m\u001b[38;5;132;01m:\u001b[39;00m\u001b[38;5;124m<20s\u001b[39m\u001b[38;5;132;01m}\u001b[39;00m\u001b[38;5;124m:\u001b[39m\u001b[38;5;124m\"\u001b[39m, end\u001b[38;5;241m=\u001b[39m\u001b[38;5;124m\"\u001b[39m\u001b[38;5;124m \u001b[39m\u001b[38;5;124m\"\u001b[39m) ; [\u001b[38;5;28mprint\u001b[39m(\u001b[38;5;124mf\u001b[39m\u001b[38;5;124m\"\u001b[39m\u001b[38;5;132;01m{\u001b[39;00mi\u001b[38;5;132;01m:\u001b[39;00m\u001b[38;5;124m<.2f\u001b[39m\u001b[38;5;132;01m}\u001b[39;00m\u001b[38;5;124m\"\u001b[39m, end\u001b[38;5;241m=\u001b[39m\u001b[38;5;124m\"\u001b[39m\u001b[38;5;124m  \u001b[39m\u001b[38;5;124m\"\u001b[39m) \u001b[38;5;28;01mfor\u001b[39;00m i \u001b[38;5;129;01min\u001b[39;00m results_density_t_plus_rf[\u001b[38;5;124m\"\u001b[39m\u001b[38;5;124mauc_train\u001b[39m\u001b[38;5;124m\"\u001b[39m]] ; \u001b[38;5;28mprint\u001b[39m()\n\u001b[1;32m      4\u001b[0m \u001b[38;5;28mprint\u001b[39m(\u001b[38;5;124mf\u001b[39m\u001b[38;5;124m\"\u001b[39m\u001b[38;5;132;01m{\u001b[39;00m\u001b[38;5;124m'\u001b[39m\u001b[38;5;124mAUC_test\u001b[39m\u001b[38;5;124m'\u001b[39m\u001b[38;5;132;01m:\u001b[39;00m\u001b[38;5;124m<20s\u001b[39m\u001b[38;5;132;01m}\u001b[39;00m\u001b[38;5;124m:\u001b[39m\u001b[38;5;124m\"\u001b[39m, end\u001b[38;5;241m=\u001b[39m\u001b[38;5;124m\"\u001b[39m\u001b[38;5;124m \u001b[39m\u001b[38;5;124m\"\u001b[39m) ; [\u001b[38;5;28mprint\u001b[39m(\u001b[38;5;124mf\u001b[39m\u001b[38;5;124m\"\u001b[39m\u001b[38;5;132;01m{\u001b[39;00mi\u001b[38;5;132;01m:\u001b[39;00m\u001b[38;5;124m<.2f\u001b[39m\u001b[38;5;132;01m}\u001b[39;00m\u001b[38;5;124m\"\u001b[39m, end\u001b[38;5;241m=\u001b[39m\u001b[38;5;124m\"\u001b[39m\u001b[38;5;124m  \u001b[39m\u001b[38;5;124m\"\u001b[39m) \u001b[38;5;28;01mfor\u001b[39;00m i \u001b[38;5;129;01min\u001b[39;00m results_density_t_plus_rf[\u001b[38;5;124m\"\u001b[39m\u001b[38;5;124mauc_test\u001b[39m\u001b[38;5;124m\"\u001b[39m]] ; \u001b[38;5;28mprint\u001b[39m(\u001b[38;5;124m\"\u001b[39m\u001b[38;5;130;01m\\n\u001b[39;00m\u001b[38;5;124m\"\u001b[39m)\n",
      "\u001b[0;31mNameError\u001b[0m: name 'results_density_t_plus_rf' is not defined"
     ]
    }
   ],
   "source": [
    "# print(\"----- Résumé des performances T plus (density20 > 0), Random Forest -----\")\n",
    "print(f\"{'Profondeur':<20s}:\", end=\" \") ; [print(f\"{i:<4d}\", end=\"  \") for i in results_density_t_plus_rf[\"depths\"]] ; print(\"\\n\")\n",
    "print(f\"{'AUC_train':<20s}:\", end=\" \") ; [print(f\"{i:<.2f}\", end=\"  \") for i in results_density_t_plus_rf[\"auc_train\"]] ; print()\n",
    "print(f\"{'AUC_test':<20s}:\", end=\" \") ; [print(f\"{i:<.2f}\", end=\"  \") for i in results_density_t_plus_rf[\"auc_test\"]] ; print(\"\\n\")\n",
    "\n",
    "print(f\"{'Accuracy_train':<20s}:\", end=\" \") ; [print(f\"{i:<.2f}\", end=\"  \") for i in results_density_t_plus_rf[\"acc_train\"]] ; print()\n",
    "print(f\"{'Accuracy_test':<20s}:\", end=\" \") ; [print(f\"{i:<.2f}\", end=\"  \") for i in results_density_t_plus_rf[\"acc_test\"]] ; print(\"\\n\")\n",
    "\n",
    "print(\"---\")\n",
    "\n",
    "print(f\"{'AUC_train_dist':<20s}:\", end=\" \") ; [print(f\"{i:<.2f}\", end=\"  \") for i in results_densitY_loc_t_plus_rf[\"auc_train\"]] ; print()\n",
    "print(f\"{'AUC_test_dist':<20s}:\", end=\" \") ; [print(f\"{i:<.2f}\", end=\"  \") for i in results_densitY_loc_t_plus_rf[\"auc_test\"]] ; print(\"\\n\")\n",
    "\n",
    "print(f\"{'Accuracy_train_dist':<20s}:\", end=\" \") ; [print(f\"{i:<.2f}\", end=\"  \") for i in results_densitY_loc_t_plus_rf[\"acc_train\"]] ; print()\n",
    "print(f\"{'Accuracy_test_dist':<20s}:\", end=\" \") ; [print(f\"{i:<.2f}\", end=\"  \") for i in results_densitY_loc_t_plus_rf[\"acc_test\"]] ; print()"
   ]
  },
  {
   "cell_type": "code",
   "execution_count": null,
   "id": "43bacd44",
   "metadata": {},
   "outputs": [],
   "source": [
    "# Random forest (30, 20)\n",
    "results_density_plus = models.perform_random_forest(\n",
    "    x_train=X_density_train,\n",
    "    x_test=X_density_test,\n",
    "    y_train=Y_density_train,\n",
    "    y_test=Y_density_test,\n",
    "    columns=x_columns,\n",
    "    n_estimators=(10, 15, 20, 30),\n",
    "    n_depths=(2, 4, 8, 10, 15),\n",
    "    class_weight=\"balanced\",\n",
    "    scale=False\n",
    ")\n",
    "\n",
    "rf_density_plus = results_density_plus[\"model\"]"
   ]
  },
  {
   "cell_type": "code",
   "execution_count": 27,
   "id": "2c664c5b",
   "metadata": {},
   "outputs": [
    {
     "ename": "NameError",
     "evalue": "name 'pd' is not defined",
     "output_type": "error",
     "traceback": [
      "\u001b[0;31m---------------------------------------------------------------------------\u001b[0m",
      "\u001b[0;31mNameError\u001b[0m                                 Traceback (most recent call last)",
      "Cell \u001b[0;32mIn[27], line 1\u001b[0m\n\u001b[0;32m----> 1\u001b[0m df_mdi \u001b[38;5;241m=\u001b[39m pd\u001b[38;5;241m.\u001b[39mDataFrame(\n\u001b[1;32m      2\u001b[0m     {\n\u001b[1;32m      3\u001b[0m         \u001b[38;5;124m\"\u001b[39m\u001b[38;5;124mmean\u001b[39m\u001b[38;5;124m\"\u001b[39m: results_density_plus[\u001b[38;5;124m\"\u001b[39m\u001b[38;5;124mimportance_mdi\u001b[39m\u001b[38;5;124m\"\u001b[39m][\u001b[38;5;124m\"\u001b[39m\u001b[38;5;124mmean\u001b[39m\u001b[38;5;124m\"\u001b[39m],\n\u001b[1;32m      4\u001b[0m         \u001b[38;5;124m\"\u001b[39m\u001b[38;5;124mstd\u001b[39m\u001b[38;5;124m\"\u001b[39m: results_density_plus[\u001b[38;5;124m\"\u001b[39m\u001b[38;5;124mimportance_mdi\u001b[39m\u001b[38;5;124m\"\u001b[39m][\u001b[38;5;124m\"\u001b[39m\u001b[38;5;124mstd\u001b[39m\u001b[38;5;124m\"\u001b[39m]\n\u001b[1;32m      5\u001b[0m     }, index\u001b[38;5;241m=\u001b[39mx_columns\n\u001b[1;32m      6\u001b[0m )\n\u001b[1;32m      8\u001b[0m df_mdi\u001b[38;5;241m.\u001b[39mto_csv(\u001b[38;5;124m\"\u001b[39m\u001b[38;5;124mKI_CD3_t-plus_density_importance-mdi.csv\u001b[39m\u001b[38;5;124m\"\u001b[39m)\n\u001b[1;32m     10\u001b[0m df_permutation \u001b[38;5;241m=\u001b[39m pd\u001b[38;5;241m.\u001b[39mDataFrame(\n\u001b[1;32m     11\u001b[0m     {\n\u001b[1;32m     12\u001b[0m         \u001b[38;5;124m\"\u001b[39m\u001b[38;5;124mmean\u001b[39m\u001b[38;5;124m\"\u001b[39m: results_density_plus[\u001b[38;5;124m\"\u001b[39m\u001b[38;5;124mimportance_permutation\u001b[39m\u001b[38;5;124m\"\u001b[39m][\u001b[38;5;124m\"\u001b[39m\u001b[38;5;124mmean\u001b[39m\u001b[38;5;124m\"\u001b[39m],\n\u001b[1;32m     13\u001b[0m         \u001b[38;5;124m\"\u001b[39m\u001b[38;5;124mstd\u001b[39m\u001b[38;5;124m\"\u001b[39m: results_density_plus[\u001b[38;5;124m\"\u001b[39m\u001b[38;5;124mimportance_permutation\u001b[39m\u001b[38;5;124m\"\u001b[39m][\u001b[38;5;124m\"\u001b[39m\u001b[38;5;124mstd\u001b[39m\u001b[38;5;124m\"\u001b[39m]\n\u001b[1;32m     14\u001b[0m     }, index\u001b[38;5;241m=\u001b[39mx_columns\n\u001b[1;32m     15\u001b[0m )\n",
      "\u001b[0;31mNameError\u001b[0m: name 'pd' is not defined"
     ]
    }
   ],
   "source": [
    "# df_mdi = pd.DataFrame(\n",
    "    {\n",
    "        \"mean\": results_density_plus[\"importance_mdi\"][\"mean\"],\n",
    "        \"std\": results_density_plus[\"importance_mdi\"][\"std\"]\n",
    "    }, index=x_columns\n",
    ")\n",
    "\n",
    "df_mdi.to_csv(\"KI_CD3_t-plus_density_importance-mdi.csv\")\n",
    "\n",
    "df_permutation = pd.DataFrame(\n",
    "    {\n",
    "        \"mean\": results_density_plus[\"importance_permutation\"][\"mean\"],\n",
    "        \"std\": results_density_plus[\"importance_permutation\"][\"std\"]\n",
    "    }, index=x_columns\n",
    ")\n",
    "\n",
    "df_permutation.to_csv(\"KI_CD3_t-plus_density_importance-permutation.csv\")"
   ]
  },
  {
   "cell_type": "code",
   "execution_count": 28,
   "id": "28a3a131",
   "metadata": {},
   "outputs": [
    {
     "ename": "NameError",
     "evalue": "name 'models' is not defined",
     "output_type": "error",
     "traceback": [
      "\u001b[0;31m---------------------------------------------------------------------------\u001b[0m",
      "\u001b[0;31mNameError\u001b[0m                                 Traceback (most recent call last)",
      "Cell \u001b[0;32mIn[28], line 2\u001b[0m\n\u001b[1;32m      1\u001b[0m \u001b[38;5;66;03m# Random forest with Dist & Angle (20, 25)\u001b[39;00m\n\u001b[0;32m----> 2\u001b[0m results_density_dist_plus \u001b[38;5;241m=\u001b[39m models\u001b[38;5;241m.\u001b[39mperform_random_forest(\n\u001b[1;32m      3\u001b[0m     X_train\u001b[38;5;241m=\u001b[39mX_density_dist_train,\n\u001b[1;32m      4\u001b[0m     X_test\u001b[38;5;241m=\u001b[39mX_density_dist_test,\n\u001b[1;32m      5\u001b[0m     y_train\u001b[38;5;241m=\u001b[39mY_density_dist_train,\n\u001b[1;32m      6\u001b[0m     y_test\u001b[38;5;241m=\u001b[39mY_density_dist_test,\n\u001b[1;32m      7\u001b[0m     columns\u001b[38;5;241m=\u001b[39mx_columns_dist,\n\u001b[1;32m      8\u001b[0m     n_estimators\u001b[38;5;241m=\u001b[39m(\u001b[38;5;241m10\u001b[39m, \u001b[38;5;241m15\u001b[39m, \u001b[38;5;241m20\u001b[39m, \u001b[38;5;241m30\u001b[39m),\n\u001b[1;32m      9\u001b[0m     n_depths\u001b[38;5;241m=\u001b[39m(\u001b[38;5;241m2\u001b[39m, \u001b[38;5;241m4\u001b[39m, \u001b[38;5;241m8\u001b[39m, \u001b[38;5;241m10\u001b[39m, \u001b[38;5;241m15\u001b[39m),\n\u001b[1;32m     10\u001b[0m     class_weight\u001b[38;5;241m=\u001b[39m\u001b[38;5;124m\"\u001b[39m\u001b[38;5;124mbalanced\u001b[39m\u001b[38;5;124m\"\u001b[39m,\n\u001b[1;32m     11\u001b[0m     scale\u001b[38;5;241m=\u001b[39m\u001b[38;5;28;01mFalse\u001b[39;00m\n\u001b[1;32m     12\u001b[0m )\n\u001b[1;32m     14\u001b[0m rf_density_dist_plus \u001b[38;5;241m=\u001b[39m results_density_dist_plus[\u001b[38;5;124m\"\u001b[39m\u001b[38;5;124mmodel\u001b[39m\u001b[38;5;124m\"\u001b[39m]\n",
      "\u001b[0;31mNameError\u001b[0m: name 'models' is not defined"
     ]
    }
   ],
   "source": [
    "# Random forest with Dist & Angle (20, 25)\n",
    "results_densitY_loc_plus = models.perform_random_forest(\n",
    "    x_train=X_densitY_loc_train,\n",
    "    x_test=X_densitY_loc_test,\n",
    "    y_train=Y_densitY_loc_train,\n",
    "    y_test=Y_densitY_loc_test,\n",
    "    columns=x_columns_dist,\n",
    "    n_estimators=(10, 15, 20, 30),\n",
    "    n_depths=(2, 4, 8, 10, 15),\n",
    "    class_weight=\"balanced\",\n",
    "    scale=False\n",
    ")\n",
    "\n",
    "rf_densitY_loc_plus = results_densitY_loc_plus[\"model\"]"
   ]
  },
  {
   "cell_type": "code",
   "execution_count": 29,
   "id": "b6d06534",
   "metadata": {},
   "outputs": [
    {
     "ename": "NameError",
     "evalue": "name 'pd' is not defined",
     "output_type": "error",
     "traceback": [
      "\u001b[0;31m---------------------------------------------------------------------------\u001b[0m",
      "\u001b[0;31mNameError\u001b[0m                                 Traceback (most recent call last)",
      "Cell \u001b[0;32mIn[29], line 1\u001b[0m\n\u001b[0;32m----> 1\u001b[0m df_mdi \u001b[38;5;241m=\u001b[39m pd\u001b[38;5;241m.\u001b[39mDataFrame(\n\u001b[1;32m      2\u001b[0m     {\n\u001b[1;32m      3\u001b[0m         \u001b[38;5;124m\"\u001b[39m\u001b[38;5;124mmean\u001b[39m\u001b[38;5;124m\"\u001b[39m: results_density_dist_plus[\u001b[38;5;124m\"\u001b[39m\u001b[38;5;124mimportance_mdi\u001b[39m\u001b[38;5;124m\"\u001b[39m][\u001b[38;5;124m\"\u001b[39m\u001b[38;5;124mmean\u001b[39m\u001b[38;5;124m\"\u001b[39m],\n\u001b[1;32m      4\u001b[0m         \u001b[38;5;124m\"\u001b[39m\u001b[38;5;124mstd\u001b[39m\u001b[38;5;124m\"\u001b[39m: results_density_dist_plus[\u001b[38;5;124m\"\u001b[39m\u001b[38;5;124mimportance_mdi\u001b[39m\u001b[38;5;124m\"\u001b[39m][\u001b[38;5;124m\"\u001b[39m\u001b[38;5;124mstd\u001b[39m\u001b[38;5;124m\"\u001b[39m]\n\u001b[1;32m      5\u001b[0m     }, index\u001b[38;5;241m=\u001b[39mx_columns_dist\n\u001b[1;32m      6\u001b[0m )\n\u001b[1;32m      8\u001b[0m df_mdi\u001b[38;5;241m.\u001b[39mto_csv(\u001b[38;5;124m\"\u001b[39m\u001b[38;5;124mKI_CD3_t-plus-dist_density_importance-mdi.csv\u001b[39m\u001b[38;5;124m\"\u001b[39m)\n\u001b[1;32m     10\u001b[0m df_permutation \u001b[38;5;241m=\u001b[39m pd\u001b[38;5;241m.\u001b[39mDataFrame(\n\u001b[1;32m     11\u001b[0m     {\n\u001b[1;32m     12\u001b[0m         \u001b[38;5;124m\"\u001b[39m\u001b[38;5;124mmean\u001b[39m\u001b[38;5;124m\"\u001b[39m: results_density_dist_plus[\u001b[38;5;124m\"\u001b[39m\u001b[38;5;124mimportance_permutation\u001b[39m\u001b[38;5;124m\"\u001b[39m][\u001b[38;5;124m\"\u001b[39m\u001b[38;5;124mmean\u001b[39m\u001b[38;5;124m\"\u001b[39m],\n\u001b[1;32m     13\u001b[0m         \u001b[38;5;124m\"\u001b[39m\u001b[38;5;124mstd\u001b[39m\u001b[38;5;124m\"\u001b[39m: results_density_dist_plus[\u001b[38;5;124m\"\u001b[39m\u001b[38;5;124mimportance_permutation\u001b[39m\u001b[38;5;124m\"\u001b[39m][\u001b[38;5;124m\"\u001b[39m\u001b[38;5;124mstd\u001b[39m\u001b[38;5;124m\"\u001b[39m]\n\u001b[1;32m     14\u001b[0m     }, index\u001b[38;5;241m=\u001b[39mx_columns_dist\n\u001b[1;32m     15\u001b[0m )\n",
      "\u001b[0;31mNameError\u001b[0m: name 'pd' is not defined"
     ]
    }
   ],
   "source": [
    "# df_mdi = pd.DataFrame(\n",
    "    {\n",
    "        \"mean\": results_densitY_loc_plus[\"importance_mdi\"][\"mean\"],\n",
    "        \"std\": results_densitY_loc_plus[\"importance_mdi\"][\"std\"]\n",
    "    }, index=x_columns_dist\n",
    ")\n",
    "\n",
    "df_mdi.to_csv(\"KI_CD3_t-plus-dist_density_importance-mdi.csv\")\n",
    "\n",
    "df_permutation = pd.DataFrame(\n",
    "    {\n",
    "        \"mean\": results_densitY_loc_plus[\"importance_permutation\"][\"mean\"],\n",
    "        \"std\": results_densitY_loc_plus[\"importance_permutation\"][\"std\"]\n",
    "    }, index=x_columns_dist\n",
    ")\n",
    "\n",
    "df_permutation.to_csv(\"KI_CD3_t-plus-dist_density_importance-permutation.csv\")"
   ]
  },
  {
   "cell_type": "code",
   "execution_count": 30,
   "id": "977c94e0",
   "metadata": {},
   "outputs": [
    {
     "ename": "NameError",
     "evalue": "name 'rf_density_plus' is not defined",
     "output_type": "error",
     "traceback": [
      "\u001b[0;31m---------------------------------------------------------------------------\u001b[0m",
      "\u001b[0;31mNameError\u001b[0m                                 Traceback (most recent call last)",
      "Cell \u001b[0;32mIn[30], line 2\u001b[0m\n\u001b[1;32m      1\u001b[0m \u001b[38;5;66;03m# Model Accuracy, how often is the classifier correct?\u001b[39;00m\n\u001b[0;32m----> 2\u001b[0m y_density_train_pred \u001b[38;5;241m=\u001b[39m rf_density_plus\u001b[38;5;241m.\u001b[39mpredict(X_density_train)\n\u001b[1;32m      3\u001b[0m y_density_test_pred \u001b[38;5;241m=\u001b[39m rf_density_plus\u001b[38;5;241m.\u001b[39mpredict(X_density_test)\n\u001b[1;32m      4\u001b[0m y_density_dist_train_pred \u001b[38;5;241m=\u001b[39m rf_density_dist_plus\u001b[38;5;241m.\u001b[39mpredict(X_density_dist_train)\n",
      "\u001b[0;31mNameError\u001b[0m: name 'rf_density_plus' is not defined"
     ]
    }
   ],
   "source": [
    "# Model Accuracy, how often is the classifier correct?\n",
    "y_density_train_pred = rf_density_plus.predict(X_density_train)\n",
    "y_density_test_pred = rf_density_plus.predict(X_density_test)\n",
    "y_density_loc_train_pred = rf_densitY_loc_plus.predict(X_densitY_loc_train)\n",
    "y_density_loc_test_pred = rf_densitY_loc_plus.predict(X_densitY_loc_test)\n",
    "\n",
    "# Performance\n",
    "# Model Accuracy, how often is the classifier correct?\n",
    "fpr_train, tpr_train, _ = roc_curve(Y_density_train, y_density_train_pred)\n",
    "fpr_test, tpr_test, _ = roc_curve(Y_density_test, y_density_test_pred)\n",
    "\n",
    "fpr_loc_train, tpr_loc_train, _ = roc_curve(Y_densitY_loc_train, y_density_loc_train_pred)\n",
    "fpr_loc_test, tpr_loc_test, _ = roc_curve(Y_densitY_loc_test, y_density_loc_test_pred)"
   ]
  },
  {
   "cell_type": "code",
   "execution_count": 31,
   "id": "372a9e37-ce67-4750-b7e2-8d5e0257aeb1",
   "metadata": {},
   "outputs": [
    {
     "ename": "NameError",
     "evalue": "name 'pd' is not defined",
     "output_type": "error",
     "traceback": [
      "\u001b[0;31m---------------------------------------------------------------------------\u001b[0m",
      "\u001b[0;31mNameError\u001b[0m                                 Traceback (most recent call last)",
      "Cell \u001b[0;32mIn[31], line 1\u001b[0m\n\u001b[0;32m----> 1\u001b[0m labels_class \u001b[38;5;241m=\u001b[39m pd\u001b[38;5;241m.\u001b[39mSeries(rf_density_plus\u001b[38;5;241m.\u001b[39mclasses_)\u001b[38;5;241m.\u001b[39mmap({\u001b[38;5;241m0\u001b[39m: \u001b[38;5;124m'\u001b[39m\u001b[38;5;124mnot_plus\u001b[39m\u001b[38;5;124m'\u001b[39m, \u001b[38;5;241m1\u001b[39m: \u001b[38;5;124m'\u001b[39m\u001b[38;5;124mplus\u001b[39m\u001b[38;5;124m'\u001b[39m})\u001b[38;5;241m.\u001b[39mvalues\n",
      "\u001b[0;31mNameError\u001b[0m: name 'pd' is not defined"
     ]
    }
   ],
   "source": [
    "# labels_class = pd.Series(rf_density_plus.classes_).map({0: 'not_plus', 1: 'plus'}).values"
   ]
  },
  {
   "cell_type": "code",
   "execution_count": 32,
   "id": "244a01ec-2bcd-46ad-802a-fede1dd2dc37",
   "metadata": {},
   "outputs": [
    {
     "name": "stdout",
     "output_type": "stream",
     "text": [
      "----- Random Forest -----\n"
     ]
    },
    {
     "ename": "NameError",
     "evalue": "name 'accuracy_score' is not defined",
     "output_type": "error",
     "traceback": [
      "\u001b[0;31m---------------------------------------------------------------------------\u001b[0m",
      "\u001b[0;31mNameError\u001b[0m                                 Traceback (most recent call last)",
      "Cell \u001b[0;32mIn[32], line 2\u001b[0m\n\u001b[1;32m      1\u001b[0m \u001b[38;5;28mprint\u001b[39m(\u001b[38;5;124m\"\u001b[39m\u001b[38;5;124m----- Random Forest -----\u001b[39m\u001b[38;5;124m\"\u001b[39m)\n\u001b[0;32m----> 2\u001b[0m \u001b[38;5;28mprint\u001b[39m(\u001b[38;5;124m\"\u001b[39m\u001b[38;5;124mAccuracy Train:\u001b[39m\u001b[38;5;124m\"\u001b[39m, accuracy_score(Y_density_train, y_density_train_pred))\n\u001b[1;32m      3\u001b[0m \u001b[38;5;28mprint\u001b[39m(\u001b[38;5;124m\"\u001b[39m\u001b[38;5;124mAUC Train:\u001b[39m\u001b[38;5;124m\"\u001b[39m, auc(false_pos_rate_train, true_pos_rate_train))\n\u001b[1;32m      4\u001b[0m \u001b[38;5;28mprint\u001b[39m()\n",
      "\u001b[0;31mNameError\u001b[0m: name 'accuracy_score' is not defined"
     ]
    }
   ],
   "source": [
    "# print(\"----- Random Forest -----\")\n",
    "print(\"Accuracy Train:\", accuracy_score(Y_density_train, y_density_train_pred))\n",
    "print(\"AUC Train:\", auc(fpr_train, tpr_train))\n",
    "print()\n",
    "print(\"Accuracy Test:\", accuracy_score(Y_density_test, y_density_test_pred))\n",
    "print(\"AUC Test:\", auc(fpr_test, tpr_test))\n",
    "print()\n",
    "\n",
    "fig, (ax1, ax2) = plt.subplots(1, 2, figsize=(14, 5))\n",
    "cm = confusion_matrix(Y_density_test, y_density_test_pred)\n",
    "cm2 = confusion_matrix(Y_density_test, y_density_test_pred, normalize=\"true\")\n",
    "ConfusionMatrixDisplay(confusion_matrix=cm, display_labels=labels_class).plot(ax=ax1)\n",
    "ConfusionMatrixDisplay(confusion_matrix=cm2, display_labels=labels_class).plot(ax=ax2)\n",
    "plt.show()"
   ]
  },
  {
   "cell_type": "code",
   "execution_count": 33,
   "id": "e7e4c7eb-850f-40b8-9863-d99d21d16366",
   "metadata": {},
   "outputs": [
    {
     "name": "stdout",
     "output_type": "stream",
     "text": [
      "Random Forest, Angle avec Dist\n"
     ]
    },
    {
     "ename": "NameError",
     "evalue": "name 'accuracy_score' is not defined",
     "output_type": "error",
     "traceback": [
      "\u001b[0;31m---------------------------------------------------------------------------\u001b[0m",
      "\u001b[0;31mNameError\u001b[0m                                 Traceback (most recent call last)",
      "Cell \u001b[0;32mIn[33], line 2\u001b[0m\n\u001b[1;32m      1\u001b[0m \u001b[38;5;28mprint\u001b[39m(\u001b[38;5;124m\"\u001b[39m\u001b[38;5;124mRandom Forest, Angle avec Dist\u001b[39m\u001b[38;5;124m\"\u001b[39m)\n\u001b[0;32m----> 2\u001b[0m \u001b[38;5;28mprint\u001b[39m(\u001b[38;5;124m\"\u001b[39m\u001b[38;5;124mAccuracy Train:\u001b[39m\u001b[38;5;124m\"\u001b[39m, accuracy_score(Y_density_dist_train, y_density_dist_train_pred))\n\u001b[1;32m      3\u001b[0m \u001b[38;5;28mprint\u001b[39m(\u001b[38;5;124m\"\u001b[39m\u001b[38;5;124mAUC Train:\u001b[39m\u001b[38;5;124m\"\u001b[39m, auc(false_pos_rate_dist_train, true_pos_rate_dist_train))\n\u001b[1;32m      4\u001b[0m \u001b[38;5;28mprint\u001b[39m()\n",
      "\u001b[0;31mNameError\u001b[0m: name 'accuracy_score' is not defined"
     ]
    }
   ],
   "source": [
    "# print(\"Random Forest, Angle avec Dist\")\n",
    "print(\"Accuracy Train:\", accuracy_score(Y_densitY_loc_train, y_density_loc_train_pred))\n",
    "print(\"AUC Train:\", auc(fpr_loc_train, tpr_loc_train))\n",
    "print()\n",
    "print(\"Accuracy Test:\", accuracy_score(Y_densitY_loc_test, y_density_loc_test_pred))\n",
    "print(\"AUC Test:\", auc(fpr_loc_test, tpr_loc_test))\n",
    "\n",
    "fig, (ax1, ax2) = plt.subplots(1, 2, figsize=(14, 5))\n",
    "cm_dist = confusion_matrix(Y_densitY_loc_test, y_density_loc_test_pred)\n",
    "cm2_dist = confusion_matrix(Y_densitY_loc_test, y_density_loc_test_pred, normalize=\"true\")\n",
    "ConfusionMatrixDisplay(confusion_matrix=cm_dist, display_labels=labels_class).plot(ax=ax1)\n",
    "ConfusionMatrixDisplay(confusion_matrix=cm2_dist, display_labels=labels_class).plot(ax=ax2)\n",
    "plt.show()"
   ]
  },
  {
   "cell_type": "markdown",
   "id": "0586d821",
   "metadata": {},
   "source": [
    "# T enrichie\n",
    "\n",
    "##### Arbre de décision"
   ]
  },
  {
   "cell_type": "code",
   "execution_count": 34,
   "id": "d2815f87",
   "metadata": {},
   "outputs": [
    {
     "ename": "NameError",
     "evalue": "name 'data' is not defined",
     "output_type": "error",
     "traceback": [
      "\u001b[0;31m---------------------------------------------------------------------------\u001b[0m",
      "\u001b[0;31mNameError\u001b[0m                                 Traceback (most recent call last)",
      "Cell \u001b[0;32mIn[34], line 5\u001b[0m\n\u001b[1;32m      2\u001b[0m y_column \u001b[38;5;241m=\u001b[39m \u001b[38;5;124m\"\u001b[39m\u001b[38;5;124mclass_t_enriched\u001b[39m\u001b[38;5;124m\"\u001b[39m\n\u001b[1;32m      4\u001b[0m \u001b[38;5;66;03m# Define X and Y dataframe\u001b[39;00m\n\u001b[0;32m----> 5\u001b[0m X \u001b[38;5;241m=\u001b[39m data\u001b[38;5;241m.\u001b[39mdropna()[x_columns]\u001b[38;5;241m.\u001b[39mvalues\n\u001b[1;32m      6\u001b[0m X_dist \u001b[38;5;241m=\u001b[39m data\u001b[38;5;241m.\u001b[39mdropna()[x_columns_dist]\u001b[38;5;241m.\u001b[39mvalues\n\u001b[1;32m      7\u001b[0m Y \u001b[38;5;241m=\u001b[39m data\u001b[38;5;241m.\u001b[39mdropna()[y_column]\u001b[38;5;241m.\u001b[39mvalues  \u001b[38;5;66;03m# t plus class\u001b[39;00m\n",
      "\u001b[0;31mNameError\u001b[0m: name 'data' is not defined"
     ]
    }
   ],
   "source": [
    "# Target column\n",
    "y_column = \"class_t_enriched\"\n",
    "\n",
    "# Define x and y dataframe\n",
    "x = data.dropna()[x_columns].values\n",
    "x_loc = data.dropna()[x_columns_dist].values\n",
    "y = data.dropna()[y_column].values  # t plus class\n",
    "\n",
    "# Train and Validation set\n",
    "x_train, x_test, y_train, y_test = train_test_split(\n",
    "    x, y, test_size=0.3, random_state=42, stratify=y\n",
    ")\n",
    "\n",
    "# Train and Validation set & (Angle & Dist) (to validate the model)\n",
    "x_loc_train, x_loc_test, y_loc_train, y_loc_test = train_test_split(\n",
    "    x_loc, y, test_size=0.3, random_state=42, stratify=y\n",
    ")"
   ]
  },
  {
   "cell_type": "code",
   "execution_count": 35,
   "id": "da6415bc",
   "metadata": {},
   "outputs": [
    {
     "name": "stdout",
     "output_type": "stream",
     "text": [
      "----- T enrichie -----\n",
      "                  Classe :                        0       1\n"
     ]
    },
    {
     "ename": "NameError",
     "evalue": "name 'Y' is not defined",
     "output_type": "error",
     "traceback": [
      "\u001b[0;31m---------------------------------------------------------------------------\u001b[0m",
      "\u001b[0;31mNameError\u001b[0m                                 Traceback (most recent call last)",
      "Cell \u001b[0;32mIn[35], line 3\u001b[0m\n\u001b[1;32m      1\u001b[0m \u001b[38;5;28mprint\u001b[39m(\u001b[38;5;124mf\u001b[39m\u001b[38;5;124m\"\u001b[39m\u001b[38;5;124m----- T enrichie -----\u001b[39m\u001b[38;5;124m\"\u001b[39m)\n\u001b[1;32m      2\u001b[0m \u001b[38;5;28mprint\u001b[39m(\u001b[38;5;124mf\u001b[39m\u001b[38;5;124m\"\u001b[39m\u001b[38;5;132;01m{\u001b[39;00m\u001b[38;5;124m'\u001b[39m\u001b[38;5;124mClasse :\u001b[39m\u001b[38;5;124m'\u001b[39m\u001b[38;5;132;01m:\u001b[39;00m\u001b[38;5;124m^45s\u001b[39m\u001b[38;5;132;01m}\u001b[39;00m\u001b[38;5;132;01m{\u001b[39;00m\u001b[38;5;124m'\u001b[39m\u001b[38;5;124m0\u001b[39m\u001b[38;5;124m'\u001b[39m\u001b[38;5;132;01m:\u001b[39;00m\u001b[38;5;124m>6s\u001b[39m\u001b[38;5;132;01m}\u001b[39;00m\u001b[38;5;132;01m{\u001b[39;00m\u001b[38;5;124m'\u001b[39m\u001b[38;5;124m'\u001b[39m\u001b[38;5;132;01m:\u001b[39;00m\u001b[38;5;124m2s\u001b[39m\u001b[38;5;132;01m}\u001b[39;00m\u001b[38;5;132;01m{\u001b[39;00m\u001b[38;5;124m'\u001b[39m\u001b[38;5;124m1\u001b[39m\u001b[38;5;124m'\u001b[39m\u001b[38;5;132;01m:\u001b[39;00m\u001b[38;5;124m>6s\u001b[39m\u001b[38;5;132;01m}\u001b[39;00m\u001b[38;5;124m\"\u001b[39m)\n\u001b[0;32m----> 3\u001b[0m \u001b[38;5;28mprint\u001b[39m(\u001b[38;5;124mf\u001b[39m\u001b[38;5;124m\"\u001b[39m\u001b[38;5;132;01m{\u001b[39;00m\u001b[38;5;124m'\u001b[39m\u001b[38;5;124mComptage des classes au sein de Y:\u001b[39m\u001b[38;5;124m'\u001b[39m\u001b[38;5;132;01m:\u001b[39;00m\u001b[38;5;124m45s\u001b[39m\u001b[38;5;132;01m}\u001b[39;00m\u001b[38;5;132;01m{\u001b[39;00m\u001b[38;5;28msum\u001b[39m(Y\u001b[38;5;250m \u001b[39m\u001b[38;5;241m==\u001b[39m\u001b[38;5;250m \u001b[39m\u001b[38;5;241m0\u001b[39m)\u001b[38;5;132;01m:\u001b[39;00m\u001b[38;5;124m>6d\u001b[39m\u001b[38;5;132;01m}\u001b[39;00m\u001b[38;5;132;01m{\u001b[39;00m\u001b[38;5;124m'\u001b[39m\u001b[38;5;124m'\u001b[39m\u001b[38;5;132;01m:\u001b[39;00m\u001b[38;5;124m2s\u001b[39m\u001b[38;5;132;01m}\u001b[39;00m\u001b[38;5;132;01m{\u001b[39;00m\u001b[38;5;28msum\u001b[39m(Y\u001b[38;5;250m \u001b[39m\u001b[38;5;241m==\u001b[39m\u001b[38;5;250m \u001b[39m\u001b[38;5;241m1\u001b[39m)\u001b[38;5;132;01m:\u001b[39;00m\u001b[38;5;124m>6d\u001b[39m\u001b[38;5;132;01m}\u001b[39;00m\u001b[38;5;124m\"\u001b[39m)\n\u001b[1;32m      4\u001b[0m \u001b[38;5;28mprint\u001b[39m(\u001b[38;5;124mf\u001b[39m\u001b[38;5;124m\"\u001b[39m\u001b[38;5;132;01m{\u001b[39;00m\u001b[38;5;124m'\u001b[39m\u001b[38;5;124mComptage des classes au sein de Y_train:\u001b[39m\u001b[38;5;124m'\u001b[39m\u001b[38;5;132;01m:\u001b[39;00m\u001b[38;5;124m45s\u001b[39m\u001b[38;5;132;01m}\u001b[39;00m\u001b[38;5;132;01m{\u001b[39;00m\u001b[38;5;28msum\u001b[39m(Y_train\u001b[38;5;250m \u001b[39m\u001b[38;5;241m==\u001b[39m\u001b[38;5;250m \u001b[39m\u001b[38;5;241m0\u001b[39m)\u001b[38;5;132;01m:\u001b[39;00m\u001b[38;5;124m>6d\u001b[39m\u001b[38;5;132;01m}\u001b[39;00m\u001b[38;5;132;01m{\u001b[39;00m\u001b[38;5;124m'\u001b[39m\u001b[38;5;124m'\u001b[39m\u001b[38;5;132;01m:\u001b[39;00m\u001b[38;5;124m2s\u001b[39m\u001b[38;5;132;01m}\u001b[39;00m\u001b[38;5;132;01m{\u001b[39;00m\u001b[38;5;28msum\u001b[39m(Y_train\u001b[38;5;250m \u001b[39m\u001b[38;5;241m==\u001b[39m\u001b[38;5;250m \u001b[39m\u001b[38;5;241m1\u001b[39m)\u001b[38;5;132;01m:\u001b[39;00m\u001b[38;5;124m>6d\u001b[39m\u001b[38;5;132;01m}\u001b[39;00m\u001b[38;5;124m\"\u001b[39m)\n\u001b[1;32m      5\u001b[0m \u001b[38;5;28mprint\u001b[39m(\u001b[38;5;124mf\u001b[39m\u001b[38;5;124m\"\u001b[39m\u001b[38;5;132;01m{\u001b[39;00m\u001b[38;5;124m'\u001b[39m\u001b[38;5;124mComptage des classes au sein de Y_test:\u001b[39m\u001b[38;5;124m'\u001b[39m\u001b[38;5;132;01m:\u001b[39;00m\u001b[38;5;124m45s\u001b[39m\u001b[38;5;132;01m}\u001b[39;00m\u001b[38;5;132;01m{\u001b[39;00m\u001b[38;5;28msum\u001b[39m(Y_test\u001b[38;5;250m \u001b[39m\u001b[38;5;241m==\u001b[39m\u001b[38;5;250m \u001b[39m\u001b[38;5;241m0\u001b[39m)\u001b[38;5;132;01m:\u001b[39;00m\u001b[38;5;124m>6d\u001b[39m\u001b[38;5;132;01m}\u001b[39;00m\u001b[38;5;132;01m{\u001b[39;00m\u001b[38;5;124m'\u001b[39m\u001b[38;5;124m'\u001b[39m\u001b[38;5;132;01m:\u001b[39;00m\u001b[38;5;124m2s\u001b[39m\u001b[38;5;132;01m}\u001b[39;00m\u001b[38;5;132;01m{\u001b[39;00m\u001b[38;5;28msum\u001b[39m(Y_test\u001b[38;5;250m \u001b[39m\u001b[38;5;241m==\u001b[39m\u001b[38;5;250m \u001b[39m\u001b[38;5;241m1\u001b[39m)\u001b[38;5;132;01m:\u001b[39;00m\u001b[38;5;124m>6d\u001b[39m\u001b[38;5;132;01m}\u001b[39;00m\u001b[38;5;124m\"\u001b[39m)\n",
      "\u001b[0;31mNameError\u001b[0m: name 'Y' is not defined"
     ]
    }
   ],
   "source": [
    "# print(f\"----- T enrichie -----\")\n",
    "print(f\"{'Classe :':^45s}{'0':>6s}{'':2s}{'1':>6s}\")\n",
    "print(f\"{'Comptage des classes au sein de y:':45s}{sum(y == 0):>6d}{'':2s}{sum(y == 1):>6d}\")\n",
    "print(f\"{'Comptage des classes au sein de y_train:':45s}{sum(y_train == 0):>6d}{'':2s}{sum(y_train == 1):>6d}\")\n",
    "print(f\"{'Comptage des classes au sein de y_test:':45s}{sum(y_test == 0):>6d}{'':2s}{sum(y_test == 1):>6d}\")\n",
    "print(f\"\\nNombre d'observations totales : {y.shape[0]:_}\")"
   ]
  },
  {
   "cell_type": "code",
   "execution_count": 36,
   "id": "4a70b89c",
   "metadata": {},
   "outputs": [
    {
     "ename": "NameError",
     "evalue": "name 'models' is not defined",
     "output_type": "error",
     "traceback": [
      "\u001b[0;31m---------------------------------------------------------------------------\u001b[0m",
      "\u001b[0;31mNameError\u001b[0m                                 Traceback (most recent call last)",
      "Cell \u001b[0;32mIn[36], line 4\u001b[0m\n\u001b[1;32m      1\u001b[0m max_depths_clf \u001b[38;5;241m=\u001b[39m [\u001b[38;5;241m2\u001b[39m, \u001b[38;5;241m4\u001b[39m, \u001b[38;5;241m6\u001b[39m, \u001b[38;5;241m8\u001b[39m, \u001b[38;5;241m10\u001b[39m, \u001b[38;5;241m15\u001b[39m, \u001b[38;5;241m20\u001b[39m]\n\u001b[1;32m      3\u001b[0m \u001b[38;5;66;03m# Best number of depth\u001b[39;00m\n\u001b[0;32m----> 4\u001b[0m results_t_enriched \u001b[38;5;241m=\u001b[39m models\u001b[38;5;241m.\u001b[39mforest_depth_acc(\n\u001b[1;32m      5\u001b[0m     X_train, Y_train, X_test, Y_test,\n\u001b[1;32m      6\u001b[0m     depths\u001b[38;5;241m=\u001b[39mmax_depths_clf, \n\u001b[1;32m      7\u001b[0m     classifier\u001b[38;5;241m=\u001b[39mDecisionTreeClassifier,\n\u001b[1;32m      8\u001b[0m     class_weight\u001b[38;5;241m=\u001b[39m\u001b[38;5;124m\"\u001b[39m\u001b[38;5;124mbalanced\u001b[39m\u001b[38;5;124m\"\u001b[39m\n\u001b[1;32m      9\u001b[0m )\n\u001b[1;32m     11\u001b[0m \u001b[38;5;66;03m# Best number of depth with Dist & Angle\u001b[39;00m\n\u001b[1;32m     12\u001b[0m results_dist_t_enriched \u001b[38;5;241m=\u001b[39m models\u001b[38;5;241m.\u001b[39mforest_depth_acc(\n\u001b[1;32m     13\u001b[0m     X_dist_train, Y_dist_train, X_dist_test, Y_dist_test,\n\u001b[1;32m     14\u001b[0m     depths\u001b[38;5;241m=\u001b[39mmax_depths_clf, \n\u001b[1;32m     15\u001b[0m     classifier\u001b[38;5;241m=\u001b[39mDecisionTreeClassifier,\n\u001b[1;32m     16\u001b[0m     class_weight\u001b[38;5;241m=\u001b[39m\u001b[38;5;124m\"\u001b[39m\u001b[38;5;124mbalanced\u001b[39m\u001b[38;5;124m\"\u001b[39m\n\u001b[1;32m     17\u001b[0m )\n",
      "\u001b[0;31mNameError\u001b[0m: name 'models' is not defined"
     ]
    }
   ],
   "source": [
    "# depths_dtree = [2, 4, 6, 8, 10, 15, 20]\n",
    "\n",
    "# Best number of depth\n",
    "results_t_enriched = models.forest_depth_acc(\n",
    "    x_train, y_train, x_test, y_test,\n",
    "    depths=depths_dtree, \n",
    "    classifier=DecisionTreeClassifier,\n",
    "    class_weight=\"balanced\"\n",
    ")\n",
    "\n",
    "# Best number of depth with Dist & Angle\n",
    "results_dist_t_enriched = models.forest_depth_acc(\n",
    "    x_loc_train, y_loc_train, x_loc_test, y_loc_test,\n",
    "    depths=depths_dtree, \n",
    "    classifier=DecisionTreeClassifier,\n",
    "    class_weight=\"balanced\"\n",
    ")"
   ]
  },
  {
   "cell_type": "code",
   "execution_count": 37,
   "id": "9fe81892",
   "metadata": {},
   "outputs": [
    {
     "ename": "NameError",
     "evalue": "name 'plt' is not defined",
     "output_type": "error",
     "traceback": [
      "\u001b[0;31m---------------------------------------------------------------------------\u001b[0m",
      "\u001b[0;31mNameError\u001b[0m                                 Traceback (most recent call last)",
      "Cell \u001b[0;32mIn[37], line 2\u001b[0m\n\u001b[1;32m      1\u001b[0m \u001b[38;5;66;03m# Plot\u001b[39;00m\n\u001b[0;32m----> 2\u001b[0m fig, (ax1, ax2) \u001b[38;5;241m=\u001b[39m plt\u001b[38;5;241m.\u001b[39msubplots(\u001b[38;5;241m1\u001b[39m, \u001b[38;5;241m2\u001b[39m, figsize\u001b[38;5;241m=\u001b[39m(\u001b[38;5;241m15\u001b[39m, \u001b[38;5;241m8\u001b[39m))\n\u001b[1;32m      3\u001b[0m plots\u001b[38;5;241m.\u001b[39mplot(\n\u001b[1;32m      4\u001b[0m     results_t_enriched[\u001b[38;5;124m\"\u001b[39m\u001b[38;5;124mauc_train\u001b[39m\u001b[38;5;124m\"\u001b[39m],\n\u001b[1;32m      5\u001b[0m     results_t_enriched[\u001b[38;5;124m\"\u001b[39m\u001b[38;5;124mauc_test\u001b[39m\u001b[38;5;124m\"\u001b[39m],\n\u001b[0;32m   (...)\u001b[0m\n\u001b[1;32m     11\u001b[0m     ytop\u001b[38;5;241m=\u001b[39m\u001b[38;5;241m1\u001b[39m, ybottom\u001b[38;5;241m=\u001b[39m\u001b[38;5;241m0.5\u001b[39m, figure\u001b[38;5;241m=\u001b[39m(fig, ax1)\n\u001b[1;32m     12\u001b[0m )\n\u001b[1;32m     14\u001b[0m plots\u001b[38;5;241m.\u001b[39mplot(\n\u001b[1;32m     15\u001b[0m     results_dist_t_enriched[\u001b[38;5;124m\"\u001b[39m\u001b[38;5;124mauc_train\u001b[39m\u001b[38;5;124m\"\u001b[39m],\n\u001b[1;32m     16\u001b[0m     results_dist_t_enriched[\u001b[38;5;124m\"\u001b[39m\u001b[38;5;124mauc_test\u001b[39m\u001b[38;5;124m\"\u001b[39m],\n\u001b[0;32m   (...)\u001b[0m\n\u001b[1;32m     22\u001b[0m     ytop\u001b[38;5;241m=\u001b[39m\u001b[38;5;241m1\u001b[39m, ybottom\u001b[38;5;241m=\u001b[39m\u001b[38;5;241m0.5\u001b[39m, figure\u001b[38;5;241m=\u001b[39m(fig, ax2)\n\u001b[1;32m     23\u001b[0m )\n",
      "\u001b[0;31mNameError\u001b[0m: name 'plt' is not defined"
     ]
    }
   ],
   "source": [
    "# Plot\n",
    "fig, (ax1, ax2) = plt.subplots(1, 2, figsize=(15, 8))\n",
    "plots.plot(\n",
    "    results_t_enriched[\"auc_train\"],\n",
    "    results_t_enriched[\"auc_test\"],\n",
    "    indices=depths_dtree,\n",
    "    label=(\"Train AUC\", \"Test AUC\"),\n",
    "    title=\"T enrichie\\nEvolution de l'AUC selon la profondeur de l'arbre de décision\",\n",
    "    xlabel=\"AUC score\", ylabel=\"Profondeur de l'arbre\",\n",
    "    xticks=depths_dtree, showR2=False, showY=False,\n",
    "    ytop=1, ybottom=0.5, figure=(fig, ax1)\n",
    ")\n",
    "\n",
    "plots.plot(\n",
    "    results_dist_t_enriched[\"auc_train\"],\n",
    "    results_dist_t_enriched[\"auc_test\"],\n",
    "    indices=depths_dtree,\n",
    "    label=(\"Train AUC\", \"Test AUC\"),\n",
    "    title=\"T enrichie\\nEvolution de l'AUC (avec Dist & Angle) selon\\nla profondeur de l'arbre de décision\",\n",
    "    xlabel=\"AUC score\", ylabel=\"Profondeur de l'arbre\",\n",
    "    xticks=depths_dtree, showR2=False, showY=False,\n",
    "    ytop=1, ybottom=0.5, figure=(fig, ax2)\n",
    ")\n",
    "plt.show()\n",
    "\n",
    "# Plot\n",
    "fig, (ax1, ax2) = plt.subplots(1, 2, figsize=(15, 8))\n",
    "\n",
    "plots.plot(\n",
    "    results_t_enriched[\"acc_train\"],\n",
    "    results_t_enriched[\"acc_test\"],\n",
    "    indices=depths_dtree,\n",
    "    label=(\"Train Accuracy\", \"Test Accuracy\"),\n",
    "    title=\"T enrichie\\nEvolution de l'accuracy en fonction de la profondeur de l'arbre de décision\",\n",
    "    xlabel=\"Accuracy\", ylabel=\"Profondeur de l'arbre\",\n",
    "    xticks=depths_dtree, showR2=False, showY=False,\n",
    "    ytop=1, ybottom=0.5, figure=(fig, ax1)\n",
    ")\n",
    "\n",
    "plots.plot(\n",
    "    results_dist_t_enriched[\"acc_train\"],\n",
    "    results_dist_t_enriched[\"acc_test\"],\n",
    "    indices=depths_dtree,\n",
    "    label=(\"Train Accuracy\", \"Test Accuracy\"),\n",
    "    title=\"T enrichie\\nEvolution de l'accuracy (avec Dist & Angle) en fonction de\\nla profondeur de l'arbre de décision\",\n",
    "    xlabel=\"Accuracy\", ylabel=\"Profondeur de l'arbre\",\n",
    "    xticks=depths_dtree, showR2=False, showY=False,\n",
    "    ytop=1, ybottom=0.5, figure=(fig, ax2)\n",
    ")\n",
    "\n",
    "plt.show()"
   ]
  },
  {
   "cell_type": "code",
   "execution_count": 38,
   "id": "06a9c91e",
   "metadata": {},
   "outputs": [
    {
     "name": "stdout",
     "output_type": "stream",
     "text": [
      "----- Résumé des performances T enrichie, arbre de décision -----\n",
      "Profondeur          : "
     ]
    },
    {
     "ename": "NameError",
     "evalue": "name 'results_t_enriched' is not defined",
     "output_type": "error",
     "traceback": [
      "\u001b[0;31m---------------------------------------------------------------------------\u001b[0m",
      "\u001b[0;31mNameError\u001b[0m                                 Traceback (most recent call last)",
      "Cell \u001b[0;32mIn[38], line 2\u001b[0m\n\u001b[1;32m      1\u001b[0m \u001b[38;5;28mprint\u001b[39m(\u001b[38;5;124m\"\u001b[39m\u001b[38;5;124m----- Résumé des performances T enrichie, arbre de décision -----\u001b[39m\u001b[38;5;124m\"\u001b[39m)\n\u001b[0;32m----> 2\u001b[0m \u001b[38;5;28mprint\u001b[39m(\u001b[38;5;124mf\u001b[39m\u001b[38;5;124m\"\u001b[39m\u001b[38;5;132;01m{\u001b[39;00m\u001b[38;5;124m'\u001b[39m\u001b[38;5;124mProfondeur\u001b[39m\u001b[38;5;124m'\u001b[39m\u001b[38;5;132;01m:\u001b[39;00m\u001b[38;5;124m<20s\u001b[39m\u001b[38;5;132;01m}\u001b[39;00m\u001b[38;5;124m:\u001b[39m\u001b[38;5;124m\"\u001b[39m, end\u001b[38;5;241m=\u001b[39m\u001b[38;5;124m\"\u001b[39m\u001b[38;5;124m \u001b[39m\u001b[38;5;124m\"\u001b[39m) ; [\u001b[38;5;28mprint\u001b[39m(\u001b[38;5;124mf\u001b[39m\u001b[38;5;124m\"\u001b[39m\u001b[38;5;132;01m{\u001b[39;00mi\u001b[38;5;132;01m:\u001b[39;00m\u001b[38;5;124m<4d\u001b[39m\u001b[38;5;132;01m}\u001b[39;00m\u001b[38;5;124m\"\u001b[39m, end\u001b[38;5;241m=\u001b[39m\u001b[38;5;124m\"\u001b[39m\u001b[38;5;124m  \u001b[39m\u001b[38;5;124m\"\u001b[39m) \u001b[38;5;28;01mfor\u001b[39;00m i \u001b[38;5;129;01min\u001b[39;00m results_t_enriched[\u001b[38;5;124m\"\u001b[39m\u001b[38;5;124mdepths\u001b[39m\u001b[38;5;124m\"\u001b[39m]] ; \u001b[38;5;28mprint\u001b[39m(\u001b[38;5;124m\"\u001b[39m\u001b[38;5;130;01m\\n\u001b[39;00m\u001b[38;5;124m\"\u001b[39m)\n\u001b[1;32m      3\u001b[0m \u001b[38;5;28mprint\u001b[39m(\u001b[38;5;124mf\u001b[39m\u001b[38;5;124m\"\u001b[39m\u001b[38;5;132;01m{\u001b[39;00m\u001b[38;5;124m'\u001b[39m\u001b[38;5;124mAUC_train\u001b[39m\u001b[38;5;124m'\u001b[39m\u001b[38;5;132;01m:\u001b[39;00m\u001b[38;5;124m<20s\u001b[39m\u001b[38;5;132;01m}\u001b[39;00m\u001b[38;5;124m:\u001b[39m\u001b[38;5;124m\"\u001b[39m, end\u001b[38;5;241m=\u001b[39m\u001b[38;5;124m\"\u001b[39m\u001b[38;5;124m \u001b[39m\u001b[38;5;124m\"\u001b[39m) ; [\u001b[38;5;28mprint\u001b[39m(\u001b[38;5;124mf\u001b[39m\u001b[38;5;124m\"\u001b[39m\u001b[38;5;132;01m{\u001b[39;00mi\u001b[38;5;132;01m:\u001b[39;00m\u001b[38;5;124m<.2f\u001b[39m\u001b[38;5;132;01m}\u001b[39;00m\u001b[38;5;124m\"\u001b[39m, end\u001b[38;5;241m=\u001b[39m\u001b[38;5;124m\"\u001b[39m\u001b[38;5;124m  \u001b[39m\u001b[38;5;124m\"\u001b[39m) \u001b[38;5;28;01mfor\u001b[39;00m i \u001b[38;5;129;01min\u001b[39;00m results_t_enriched[\u001b[38;5;124m\"\u001b[39m\u001b[38;5;124mauc_train\u001b[39m\u001b[38;5;124m\"\u001b[39m]] ; \u001b[38;5;28mprint\u001b[39m()\n\u001b[1;32m      4\u001b[0m \u001b[38;5;28mprint\u001b[39m(\u001b[38;5;124mf\u001b[39m\u001b[38;5;124m\"\u001b[39m\u001b[38;5;132;01m{\u001b[39;00m\u001b[38;5;124m'\u001b[39m\u001b[38;5;124mAUC_test\u001b[39m\u001b[38;5;124m'\u001b[39m\u001b[38;5;132;01m:\u001b[39;00m\u001b[38;5;124m<20s\u001b[39m\u001b[38;5;132;01m}\u001b[39;00m\u001b[38;5;124m:\u001b[39m\u001b[38;5;124m\"\u001b[39m, end\u001b[38;5;241m=\u001b[39m\u001b[38;5;124m\"\u001b[39m\u001b[38;5;124m \u001b[39m\u001b[38;5;124m\"\u001b[39m) ; [\u001b[38;5;28mprint\u001b[39m(\u001b[38;5;124mf\u001b[39m\u001b[38;5;124m\"\u001b[39m\u001b[38;5;132;01m{\u001b[39;00mi\u001b[38;5;132;01m:\u001b[39;00m\u001b[38;5;124m<.2f\u001b[39m\u001b[38;5;132;01m}\u001b[39;00m\u001b[38;5;124m\"\u001b[39m, end\u001b[38;5;241m=\u001b[39m\u001b[38;5;124m\"\u001b[39m\u001b[38;5;124m  \u001b[39m\u001b[38;5;124m\"\u001b[39m) \u001b[38;5;28;01mfor\u001b[39;00m i \u001b[38;5;129;01min\u001b[39;00m results_t_enriched[\u001b[38;5;124m\"\u001b[39m\u001b[38;5;124mauc_test\u001b[39m\u001b[38;5;124m\"\u001b[39m]] ; \u001b[38;5;28mprint\u001b[39m(\u001b[38;5;124m\"\u001b[39m\u001b[38;5;130;01m\\n\u001b[39;00m\u001b[38;5;124m\"\u001b[39m)\n",
      "\u001b[0;31mNameError\u001b[0m: name 'results_t_enriched' is not defined"
     ]
    }
   ],
   "source": [
    "# print(\"----- Résumé des performances T enrichie, arbre de décision -----\")\n",
    "print(f\"{'Profondeur':<20s}:\", end=\" \") ; [print(f\"{i:<4d}\", end=\"  \") for i in results_t_enriched[\"depths\"]] ; print(\"\\n\")\n",
    "print(f\"{'AUC_train':<20s}:\", end=\" \") ; [print(f\"{i:<.2f}\", end=\"  \") for i in results_t_enriched[\"auc_train\"]] ; print()\n",
    "print(f\"{'AUC_test':<20s}:\", end=\" \") ; [print(f\"{i:<.2f}\", end=\"  \") for i in results_t_enriched[\"auc_test\"]] ; print(\"\\n\")\n",
    "\n",
    "print(f\"{'Accuracy_train':<20s}:\", end=\" \") ; [print(f\"{i:<.2f}\", end=\"  \") for i in results_t_enriched[\"acc_train\"]] ; print()\n",
    "print(f\"{'Accuracy_test':<20s}:\", end=\" \") ; [print(f\"{i:<.2f}\", end=\"  \") for i in results_t_enriched[\"acc_test\"]] ; print(\"\\n\")\n",
    "\n",
    "print(\"---\")\n",
    "print(f\"{'AUC_train_dist':<20s}:\", end=\" \") ; [print(f\"{i:<.2f}\", end=\"  \") for i in results_dist_t_enriched[\"auc_train\"]] ; print()\n",
    "print(f\"{'AUC_test_dist':<20s}:\", end=\" \") ; [print(f\"{i:<.2f}\", end=\"  \") for i in results_dist_t_enriched[\"auc_test\"]] ; print(\"\\n\")\n",
    "\n",
    "print(f\"{'Accuracy_train_dist':<20s}:\", end=\" \") ; [print(f\"{i:<.2f}\", end=\"  \") for i in results_dist_t_enriched[\"acc_train\"]] ; print()\n",
    "print(f\"{'Accuracy_test_dist':<20s}:\", end=\" \") ; [print(f\"{i:<.2f}\", end=\"  \") for i in results_dist_t_enriched[\"acc_test\"]] ; print()"
   ]
  },
  {
   "cell_type": "code",
   "execution_count": 39,
   "id": "2d552209",
   "metadata": {},
   "outputs": [
    {
     "ename": "NameError",
     "evalue": "name 'DecisionTreeClassifier' is not defined",
     "output_type": "error",
     "traceback": [
      "\u001b[0;31m---------------------------------------------------------------------------\u001b[0m",
      "\u001b[0;31mNameError\u001b[0m                                 Traceback (most recent call last)",
      "Cell \u001b[0;32mIn[39], line 2\u001b[0m\n\u001b[1;32m      1\u001b[0m \u001b[38;5;66;03m# Decision Tree (CART)\u001b[39;00m\n\u001b[0;32m----> 2\u001b[0m clf_enriched \u001b[38;5;241m=\u001b[39m DecisionTreeClassifier(\n\u001b[1;32m      3\u001b[0m     criterion\u001b[38;5;241m=\u001b[39m\u001b[38;5;124m\"\u001b[39m\u001b[38;5;124mentropy\u001b[39m\u001b[38;5;124m\"\u001b[39m,\n\u001b[1;32m      4\u001b[0m     max_depth\u001b[38;5;241m=\u001b[39m\u001b[38;5;241m10\u001b[39m,\n\u001b[1;32m      5\u001b[0m     random_state\u001b[38;5;241m=\u001b[39m\u001b[38;5;241m42\u001b[39m,\n\u001b[1;32m      6\u001b[0m     class_weight\u001b[38;5;241m=\u001b[39m\u001b[38;5;124m\"\u001b[39m\u001b[38;5;124mbalanced\u001b[39m\u001b[38;5;124m\"\u001b[39m\n\u001b[1;32m      7\u001b[0m )\n\u001b[1;32m      9\u001b[0m clf_enriched\u001b[38;5;241m.\u001b[39mfit(X_train, Y_train)\n\u001b[1;32m     10\u001b[0m y_train_pred \u001b[38;5;241m=\u001b[39m clf_enriched\u001b[38;5;241m.\u001b[39mpredict(X_train)\n",
      "\u001b[0;31mNameError\u001b[0m: name 'DecisionTreeClassifier' is not defined"
     ]
    }
   ],
   "source": [
    "# Decision Tree (CART)\n",
    "dtree_enriched = DecisionTreeClassifier(\n",
    "    criterion=\"entropy\",\n",
    "    max_depth=10,\n",
    "    random_state=42,\n",
    "    class_weight=\"balanced\"\n",
    ")\n",
    "\n",
    "dtree_enriched.fit(x_train, y_train)\n",
    "y_train_pred = dtree_enriched.predict(x_train)\n",
    "y_test_pred = dtree_enriched.predict(x_test)\n",
    "\n",
    "# Decision Tree (CART) with Dist column\n",
    "dtree_dist_enriched = DecisionTreeClassifier(\n",
    "    criterion=\"entropy\",\n",
    "    max_depth=10,\n",
    "    random_state=42,\n",
    "    class_weight=\"balanced\"\n",
    ")\n",
    "\n",
    "dtree_dist_enriched.fit(x_loc_train, y_loc_train)\n",
    "y_loc_train_pred = dtree_dist_enriched.predict(x_loc_train)\n",
    "y_loc_test_pred = dtree_dist_enriched.predict(x_loc_test)\n",
    "dtree_dist_enriched"
   ]
  },
  {
   "cell_type": "code",
   "execution_count": 40,
   "id": "3e07d6f4",
   "metadata": {},
   "outputs": [
    {
     "ename": "NameError",
     "evalue": "name 'roc_curve' is not defined",
     "output_type": "error",
     "traceback": [
      "\u001b[0;31m---------------------------------------------------------------------------\u001b[0m",
      "\u001b[0;31mNameError\u001b[0m                                 Traceback (most recent call last)",
      "Cell \u001b[0;32mIn[40], line 1\u001b[0m\n\u001b[0;32m----> 1\u001b[0m false_pos_rate_train, true_pos_rate_train, _ \u001b[38;5;241m=\u001b[39m roc_curve(Y_train, y_train_pred)\n\u001b[1;32m      2\u001b[0m false_pos_rate_test, true_pos_rate_test, _ \u001b[38;5;241m=\u001b[39m roc_curve(Y_test, y_test_pred)\n\u001b[1;32m      4\u001b[0m false_pos_rate_dist_train, true_pos_rate_dist_train, _ \u001b[38;5;241m=\u001b[39m roc_curve(Y_dist_train, y_dist_train_pred)\n",
      "\u001b[0;31mNameError\u001b[0m: name 'roc_curve' is not defined"
     ]
    }
   ],
   "source": [
    "# fpr_train, tpr_train, _ = roc_curve(y_train, y_train_pred)\n",
    "fpr_test, tpr_test, _ = roc_curve(y_test, y_test_pred)\n",
    "\n",
    "fpr_loc_train, tpr_loc_train, _ = roc_curve(y_loc_train, y_loc_train_pred)\n",
    "fpr_loc_test, tpr_loc_test, _ = roc_curve(y_loc_test, y_loc_test_pred)"
   ]
  },
  {
   "cell_type": "code",
   "execution_count": 41,
   "id": "65089e7a-be77-41bb-887b-3514a0e30017",
   "metadata": {},
   "outputs": [
    {
     "ename": "NameError",
     "evalue": "name 'pd' is not defined",
     "output_type": "error",
     "traceback": [
      "\u001b[0;31m---------------------------------------------------------------------------\u001b[0m",
      "\u001b[0;31mNameError\u001b[0m                                 Traceback (most recent call last)",
      "Cell \u001b[0;32mIn[41], line 1\u001b[0m\n\u001b[0;32m----> 1\u001b[0m labels_class \u001b[38;5;241m=\u001b[39m pd\u001b[38;5;241m.\u001b[39mSeries(clf_enriched\u001b[38;5;241m.\u001b[39mclasses_)\u001b[38;5;241m.\u001b[39mmap({\u001b[38;5;241m0\u001b[39m: \u001b[38;5;124m'\u001b[39m\u001b[38;5;124mnot_enriched\u001b[39m\u001b[38;5;124m'\u001b[39m, \u001b[38;5;241m1\u001b[39m: \u001b[38;5;124m'\u001b[39m\u001b[38;5;124menriched\u001b[39m\u001b[38;5;124m'\u001b[39m})\u001b[38;5;241m.\u001b[39mvalues\n",
      "\u001b[0;31mNameError\u001b[0m: name 'pd' is not defined"
     ]
    }
   ],
   "source": [
    "# labels_class = pd.Series(dtree_enriched.classes_).map({0: 'not_enriched', 1: 'enriched'}).values"
   ]
  },
  {
   "cell_type": "code",
   "execution_count": 42,
   "id": "6990f125-c88b-4226-9162-ba9c03d74538",
   "metadata": {},
   "outputs": [
    {
     "name": "stdout",
     "output_type": "stream",
     "text": [
      "----- Arbre de décision -----\n"
     ]
    },
    {
     "ename": "NameError",
     "evalue": "name 'accuracy_score' is not defined",
     "output_type": "error",
     "traceback": [
      "\u001b[0;31m---------------------------------------------------------------------------\u001b[0m",
      "\u001b[0;31mNameError\u001b[0m                                 Traceback (most recent call last)",
      "Cell \u001b[0;32mIn[42], line 2\u001b[0m\n\u001b[1;32m      1\u001b[0m \u001b[38;5;28mprint\u001b[39m(\u001b[38;5;124m\"\u001b[39m\u001b[38;5;124m----- Arbre de décision -----\u001b[39m\u001b[38;5;124m\"\u001b[39m)\n\u001b[0;32m----> 2\u001b[0m \u001b[38;5;28mprint\u001b[39m(\u001b[38;5;124m\"\u001b[39m\u001b[38;5;124mAccuracy Train:\u001b[39m\u001b[38;5;124m\"\u001b[39m, accuracy_score(Y_train, y_train_pred))\n\u001b[1;32m      3\u001b[0m \u001b[38;5;28mprint\u001b[39m(\u001b[38;5;124m\"\u001b[39m\u001b[38;5;124mAUC Train:\u001b[39m\u001b[38;5;124m\"\u001b[39m, auc(false_pos_rate_train, true_pos_rate_train))\n\u001b[1;32m      4\u001b[0m \u001b[38;5;28mprint\u001b[39m()\n",
      "\u001b[0;31mNameError\u001b[0m: name 'accuracy_score' is not defined"
     ]
    }
   ],
   "source": [
    "# print(\"----- Arbre de décision -----\")\n",
    "print(\"Accuracy Train:\", accuracy_score(y_train, y_train_pred))\n",
    "print(\"AUC Train:\", auc(fpr_train, tpr_train))\n",
    "print()\n",
    "print(\"Accuracy Test:\", accuracy_score(y_test, y_test_pred))\n",
    "print(\"AUC Test:\", auc(fpr_test, tpr_test))\n",
    "print()\n",
    "\n",
    "fig, (ax1, ax2) = plt.subplots(1, 2, figsize=(14, 5))\n",
    "cm = confusion_matrix(y_test, y_test_pred)\n",
    "cm2 = confusion_matrix(y_test, y_test_pred, normalize=\"true\")\n",
    "ConfusionMatrixDisplay(confusion_matrix=cm, display_labels=labels_class).plot(ax=ax1)\n",
    "ConfusionMatrixDisplay(confusion_matrix=cm2, display_labels=labels_class).plot(ax=ax2)\n",
    "plt.show()"
   ]
  },
  {
   "cell_type": "code",
   "execution_count": 43,
   "id": "32ba122e-c648-45e8-ac8a-bc219e270e98",
   "metadata": {},
   "outputs": [
    {
     "name": "stdout",
     "output_type": "stream",
     "text": [
      "Arbre de décision, Angle avec Dist\n"
     ]
    },
    {
     "ename": "NameError",
     "evalue": "name 'accuracy_score' is not defined",
     "output_type": "error",
     "traceback": [
      "\u001b[0;31m---------------------------------------------------------------------------\u001b[0m",
      "\u001b[0;31mNameError\u001b[0m                                 Traceback (most recent call last)",
      "Cell \u001b[0;32mIn[43], line 2\u001b[0m\n\u001b[1;32m      1\u001b[0m \u001b[38;5;28mprint\u001b[39m(\u001b[38;5;124m\"\u001b[39m\u001b[38;5;124mArbre de décision, Angle avec Dist\u001b[39m\u001b[38;5;124m\"\u001b[39m)\n\u001b[0;32m----> 2\u001b[0m \u001b[38;5;28mprint\u001b[39m(\u001b[38;5;124m\"\u001b[39m\u001b[38;5;124mAccuracy Train:\u001b[39m\u001b[38;5;124m\"\u001b[39m, accuracy_score(Y_dist_train, y_dist_train_pred))\n\u001b[1;32m      3\u001b[0m \u001b[38;5;28mprint\u001b[39m(\u001b[38;5;124m\"\u001b[39m\u001b[38;5;124mAUC Train:\u001b[39m\u001b[38;5;124m\"\u001b[39m, auc(false_pos_rate_dist_train, true_pos_rate_dist_train))\n\u001b[1;32m      4\u001b[0m \u001b[38;5;28mprint\u001b[39m()\n",
      "\u001b[0;31mNameError\u001b[0m: name 'accuracy_score' is not defined"
     ]
    }
   ],
   "source": [
    "# print(\"Arbre de décision, Angle avec Dist\")\n",
    "print(\"Accuracy Train:\", accuracy_score(y_loc_train, y_loc_train_pred))\n",
    "print(\"AUC Train:\", auc(fpr_loc_train, tpr_loc_train))\n",
    "print()\n",
    "print(\"Accuracy Test:\", accuracy_score(y_loc_test, y_loc_test_pred))\n",
    "print(\"AUC Test:\", auc(fpr_loc_test, tpr_loc_test))\n",
    "\n",
    "fig, (ax1, ax2) = plt.subplots(1, 2, figsize=(14, 5))\n",
    "cm_dist = confusion_matrix(y_loc_test, y_loc_test_pred)\n",
    "cm2_dist = confusion_matrix(y_loc_test, y_loc_test_pred, normalize=\"true\")\n",
    "ConfusionMatrixDisplay(confusion_matrix=cm_dist, display_labels=labels_class).plot(ax=ax1)\n",
    "ConfusionMatrixDisplay(confusion_matrix=cm2_dist, display_labels=labels_class).plot(ax=ax2)\n",
    "plt.show()"
   ]
  },
  {
   "cell_type": "code",
   "execution_count": 44,
   "id": "39a7a9a8",
   "metadata": {},
   "outputs": [
    {
     "ename": "NameError",
     "evalue": "name 'plt' is not defined",
     "output_type": "error",
     "traceback": [
      "\u001b[0;31m---------------------------------------------------------------------------\u001b[0m",
      "\u001b[0;31mNameError\u001b[0m                                 Traceback (most recent call last)",
      "Cell \u001b[0;32mIn[44], line 2\u001b[0m\n\u001b[1;32m      1\u001b[0m \u001b[38;5;66;03m# Arbre de Décision\u001b[39;00m\n\u001b[0;32m----> 2\u001b[0m fig \u001b[38;5;241m=\u001b[39m plt\u001b[38;5;241m.\u001b[39mfigure(figsize\u001b[38;5;241m=\u001b[39m(\u001b[38;5;241m10\u001b[39m, \u001b[38;5;241m30\u001b[39m))\n\u001b[1;32m      3\u001b[0m dot_data \u001b[38;5;241m=\u001b[39m tree\u001b[38;5;241m.\u001b[39mexport_graphviz(\n\u001b[1;32m      4\u001b[0m     clf_enriched,\n\u001b[1;32m      5\u001b[0m     feature_names\u001b[38;5;241m=\u001b[39mx_columns,\n\u001b[1;32m      6\u001b[0m     class_names\u001b[38;5;241m=\u001b[39mlabels_class,\n\u001b[1;32m      7\u001b[0m     filled\u001b[38;5;241m=\u001b[39m\u001b[38;5;28;01mTrue\u001b[39;00m\n\u001b[1;32m      8\u001b[0m )\n\u001b[1;32m      9\u001b[0m graph \u001b[38;5;241m=\u001b[39m graphviz\u001b[38;5;241m.\u001b[39mSource(dot_data, \u001b[38;5;28mformat\u001b[39m\u001b[38;5;241m=\u001b[39m\u001b[38;5;124m\"\u001b[39m\u001b[38;5;124mpng\u001b[39m\u001b[38;5;124m\"\u001b[39m)\n",
      "\u001b[0;31mNameError\u001b[0m: name 'plt' is not defined"
     ]
    }
   ],
   "source": [
    "# Arbre de Décision\n",
    "fig = plt.figure(figsize=(10, 30))\n",
    "dot_data = tree.export_graphviz(\n",
    "    dtree_enriched,\n",
    "    feature_names=x_columns,\n",
    "    class_names=labels_class,\n",
    "    filled=True\n",
    ")\n",
    "graph = graphviz.Source(dot_data, format=\"png\")\n",
    "#graph.render(\"../out/KI_decision_tree_t-enriched\")\n",
    "graph"
   ]
  },
  {
   "cell_type": "code",
   "execution_count": 45,
   "id": "15247a29",
   "metadata": {},
   "outputs": [
    {
     "ename": "NameError",
     "evalue": "name 'plt' is not defined",
     "output_type": "error",
     "traceback": [
      "\u001b[0;31m---------------------------------------------------------------------------\u001b[0m",
      "\u001b[0;31mNameError\u001b[0m                                 Traceback (most recent call last)",
      "Cell \u001b[0;32mIn[45], line 2\u001b[0m\n\u001b[1;32m      1\u001b[0m \u001b[38;5;66;03m# Arbre de décision avec l'ajout de Dist & Angle\u001b[39;00m\n\u001b[0;32m----> 2\u001b[0m fig \u001b[38;5;241m=\u001b[39m plt\u001b[38;5;241m.\u001b[39mfigure(figsize\u001b[38;5;241m=\u001b[39m(\u001b[38;5;241m10\u001b[39m, \u001b[38;5;241m30\u001b[39m))\n\u001b[1;32m      3\u001b[0m dot_data \u001b[38;5;241m=\u001b[39m tree\u001b[38;5;241m.\u001b[39mexport_graphviz(\n\u001b[1;32m      4\u001b[0m     clf_dist_enriched,\n\u001b[1;32m      5\u001b[0m     feature_names\u001b[38;5;241m=\u001b[39mx_columns_dist,\n\u001b[1;32m      6\u001b[0m     class_names\u001b[38;5;241m=\u001b[39mlabels_class,\n\u001b[1;32m      7\u001b[0m     filled\u001b[38;5;241m=\u001b[39m\u001b[38;5;28;01mTrue\u001b[39;00m\n\u001b[1;32m      8\u001b[0m )\n\u001b[1;32m      9\u001b[0m graph \u001b[38;5;241m=\u001b[39m graphviz\u001b[38;5;241m.\u001b[39mSource(dot_data, \u001b[38;5;28mformat\u001b[39m\u001b[38;5;241m=\u001b[39m\u001b[38;5;124m\"\u001b[39m\u001b[38;5;124mpng\u001b[39m\u001b[38;5;124m\"\u001b[39m)\n",
      "\u001b[0;31mNameError\u001b[0m: name 'plt' is not defined"
     ]
    }
   ],
   "source": [
    "# Arbre de décision avec l'ajout de Dist & Angle\n",
    "fig = plt.figure(figsize=(10, 30))\n",
    "dot_data = tree.export_graphviz(\n",
    "    dtree_dist_enriched,\n",
    "    feature_names=x_columns_dist,\n",
    "    class_names=labels_class,\n",
    "    filled=True\n",
    ")\n",
    "graph = graphviz.Source(dot_data, format=\"png\")\n",
    "#graph.render(\"../out/KI_decision_tree_t-enriched_dist\")\n",
    "graph"
   ]
  },
  {
   "cell_type": "markdown",
   "id": "e43b833e",
   "metadata": {},
   "source": [
    "# Random Forest\n"
   ]
  },
  {
   "cell_type": "code",
   "execution_count": 46,
   "id": "e80c5591",
   "metadata": {},
   "outputs": [
    {
     "ename": "NameError",
     "evalue": "name 'models' is not defined",
     "output_type": "error",
     "traceback": [
      "\u001b[0;31m---------------------------------------------------------------------------\u001b[0m",
      "\u001b[0;31mNameError\u001b[0m                                 Traceback (most recent call last)",
      "Cell \u001b[0;32mIn[46], line 2\u001b[0m\n\u001b[1;32m      1\u001b[0m max_depths_rd \u001b[38;5;241m=\u001b[39m [\u001b[38;5;241m2\u001b[39m, \u001b[38;5;241m4\u001b[39m, \u001b[38;5;241m6\u001b[39m, \u001b[38;5;241m8\u001b[39m, \u001b[38;5;241m10\u001b[39m, \u001b[38;5;241m15\u001b[39m, \u001b[38;5;241m20\u001b[39m]\n\u001b[0;32m----> 2\u001b[0m results_t_enriched_rf \u001b[38;5;241m=\u001b[39m models\u001b[38;5;241m.\u001b[39mforest_depth_acc(\n\u001b[1;32m      3\u001b[0m     X_train, Y_train, X_test, Y_test,\n\u001b[1;32m      4\u001b[0m     depths\u001b[38;5;241m=\u001b[39mmax_depths_rd, \n\u001b[1;32m      5\u001b[0m     classifier\u001b[38;5;241m=\u001b[39mRandomForestClassifier,\n\u001b[1;32m      6\u001b[0m     n_estimators \u001b[38;5;241m=\u001b[39m \u001b[38;5;241m100\u001b[39m,\n\u001b[1;32m      7\u001b[0m     class_weight\u001b[38;5;241m=\u001b[39m\u001b[38;5;124m\"\u001b[39m\u001b[38;5;124mbalanced\u001b[39m\u001b[38;5;124m\"\u001b[39m,\n\u001b[1;32m      8\u001b[0m     n_jobs\u001b[38;5;241m=\u001b[39m\u001b[38;5;241m-\u001b[39m\u001b[38;5;241m1\u001b[39m\n\u001b[1;32m      9\u001b[0m )\n\u001b[1;32m     11\u001b[0m results_dist_t_enriched_rf \u001b[38;5;241m=\u001b[39m models\u001b[38;5;241m.\u001b[39mforest_depth_acc(\n\u001b[1;32m     12\u001b[0m     X_dist_train, Y_dist_train, X_dist_test, Y_dist_test,\n\u001b[1;32m     13\u001b[0m     depths\u001b[38;5;241m=\u001b[39mmax_depths_rd, \n\u001b[0;32m   (...)\u001b[0m\n\u001b[1;32m     17\u001b[0m     n_jobs\u001b[38;5;241m=\u001b[39m\u001b[38;5;241m-\u001b[39m\u001b[38;5;241m1\u001b[39m\n\u001b[1;32m     18\u001b[0m )\n",
      "\u001b[0;31mNameError\u001b[0m: name 'models' is not defined"
     ]
    }
   ],
   "source": [
    "# max_depths_rd = [2, 4, 6, 8, 10, 15, 20]\n",
    "results_t_enriched_rf = models.forest_depth_acc(\n",
    "    x_train, y_train, x_test, y_test,\n",
    "    depths=max_depths_rd, \n",
    "    classifier=RandomForestClassifier,\n",
    "    n_estimators = 100,\n",
    "    class_weight=\"balanced\",\n",
    "    n_jobs=-1\n",
    ")\n",
    "\n",
    "results_dist_t_enriched_rf = models.forest_depth_acc(\n",
    "    x_loc_train, y_loc_train, x_loc_test, y_loc_test,\n",
    "    depths=max_depths_rd, \n",
    "    classifier=RandomForestClassifier,\n",
    "    n_estimators = 100,\n",
    "    class_weight=\"balanced\",\n",
    "    n_jobs=-1\n",
    ")"
   ]
  },
  {
   "cell_type": "code",
   "execution_count": 47,
   "id": "7b12b7ac",
   "metadata": {},
   "outputs": [
    {
     "ename": "NameError",
     "evalue": "name 'plt' is not defined",
     "output_type": "error",
     "traceback": [
      "\u001b[0;31m---------------------------------------------------------------------------\u001b[0m",
      "\u001b[0;31mNameError\u001b[0m                                 Traceback (most recent call last)",
      "Cell \u001b[0;32mIn[47], line 2\u001b[0m\n\u001b[1;32m      1\u001b[0m \u001b[38;5;66;03m# Plot\u001b[39;00m\n\u001b[0;32m----> 2\u001b[0m fig, (ax1, ax2) \u001b[38;5;241m=\u001b[39m plt\u001b[38;5;241m.\u001b[39msubplots(\u001b[38;5;241m1\u001b[39m, \u001b[38;5;241m2\u001b[39m, figsize\u001b[38;5;241m=\u001b[39m(\u001b[38;5;241m15\u001b[39m, \u001b[38;5;241m8\u001b[39m))\n\u001b[1;32m      4\u001b[0m plots\u001b[38;5;241m.\u001b[39mplot(\n\u001b[1;32m      5\u001b[0m     results_t_enriched_rf[\u001b[38;5;124m\"\u001b[39m\u001b[38;5;124mauc_train\u001b[39m\u001b[38;5;124m\"\u001b[39m],\n\u001b[1;32m      6\u001b[0m     results_t_enriched_rf[\u001b[38;5;124m\"\u001b[39m\u001b[38;5;124mauc_test\u001b[39m\u001b[38;5;124m\"\u001b[39m],\n\u001b[0;32m   (...)\u001b[0m\n\u001b[1;32m     12\u001b[0m     ytop\u001b[38;5;241m=\u001b[39m\u001b[38;5;241m1\u001b[39m, ybottom\u001b[38;5;241m=\u001b[39m\u001b[38;5;241m0.58\u001b[39m, figure\u001b[38;5;241m=\u001b[39m(fig, ax1)\n\u001b[1;32m     13\u001b[0m )\n\u001b[1;32m     15\u001b[0m plots\u001b[38;5;241m.\u001b[39mplot(\n\u001b[1;32m     16\u001b[0m     results_dist_t_enriched_rf[\u001b[38;5;124m\"\u001b[39m\u001b[38;5;124mauc_train\u001b[39m\u001b[38;5;124m\"\u001b[39m],\n\u001b[1;32m     17\u001b[0m     results_dist_t_enriched_rf[\u001b[38;5;124m\"\u001b[39m\u001b[38;5;124mauc_test\u001b[39m\u001b[38;5;124m\"\u001b[39m],\n\u001b[0;32m   (...)\u001b[0m\n\u001b[1;32m     23\u001b[0m     ytop\u001b[38;5;241m=\u001b[39m\u001b[38;5;241m1\u001b[39m, ybottom\u001b[38;5;241m=\u001b[39m\u001b[38;5;241m0.58\u001b[39m, figure\u001b[38;5;241m=\u001b[39m(fig, ax2)\n\u001b[1;32m     24\u001b[0m )\n",
      "\u001b[0;31mNameError\u001b[0m: name 'plt' is not defined"
     ]
    }
   ],
   "source": [
    "# Plot\n",
    "fig, (ax1, ax2) = plt.subplots(1, 2, figsize=(15, 8))\n",
    "\n",
    "plots.plot(\n",
    "    results_t_enriched_rf[\"auc_train\"],\n",
    "    results_t_enriched_rf[\"auc_test\"],\n",
    "    indices=results_t_enriched_rf[\"depths\"],\n",
    "    label=(\"Train AUC\", \"Test AUC\"),\n",
    "    title=\"T enrichie\\nEvolution de l'AUC selon la profondeur des arbres du RandomForest\",\n",
    "    xlabel=\"AUC\", ylabel=\"Profondeur de l'arbre\",\n",
    "    xticks=results_t_enriched_rf[\"depths\"], showR2=False, showY=False,\n",
    "    ytop=1, ybottom=0.58, figure=(fig, ax1)\n",
    ")\n",
    "\n",
    "plots.plot(\n",
    "    results_dist_t_enriched_rf[\"auc_train\"],\n",
    "    results_dist_t_enriched_rf[\"auc_test\"],\n",
    "    indices=results_dist_t_enriched_rf[\"depths\"],\n",
    "    label=(\"Train AUC\", \"Test AUC\"),\n",
    "    title=\"T enrichie\\nEvolution de l'AUC (avec Dist & Angle)\\n selon la profondeur des arbres du RandomForest\",\n",
    "    xlabel=\"AUC\", ylabel=\"Profondeur de l'arbre\",\n",
    "    xticks=results_dist_t_enriched_rf[\"depths\"], showR2=False, showY=False,\n",
    "    ytop=1, ybottom=0.58, figure=(fig, ax2)\n",
    ")\n",
    "\n",
    "plt.show()\n",
    "\n",
    "# Plot\n",
    "fig, (ax1, ax2) = plt.subplots(1, 2, figsize=(15, 8))\n",
    "\n",
    "plots.plot(\n",
    "    results_t_enriched_rf[\"acc_train\"],\n",
    "    results_t_enriched_rf[\"acc_test\"],\n",
    "    indices=results_t_enriched_rf[\"depths\"],\n",
    "    label=(\"Train Accuracy\", \"Test Accuracy\"),\n",
    "    title=\"T enrichie\\nEvolution de l'accuracy selon la profondeur des arbres du RandomForest\",\n",
    "    xlabel=\"Accuracy\", ylabel=\"Profondeur de l'arbre\",\n",
    "    xticks=results_t_enriched_rf[\"depths\"], showR2=False, showY=False,\n",
    "    ytop=1, ybottom=0.58, figure=(fig, ax1)\n",
    ")\n",
    "\n",
    "plots.plot(\n",
    "    results_dist_t_enriched_rf[\"acc_train\"],\n",
    "    results_dist_t_enriched_rf[\"acc_test\"],\n",
    "    indices=results_dist_t_enriched_rf[\"depths\"],\n",
    "    label=(\"Train Accuracy\", \"Test Accuracy\"),\n",
    "    title=\"T enrichie\\nEvolution de l'Accuracy (avec Dist & Angle)\\n selon la profondeur des arbres du RandomForest\",\n",
    "    xlabel=\"Accuracy\", ylabel=\"Profondeur de l'arbre\",\n",
    "    xticks=results_dist_t_enriched_rf[\"depths\"], showR2=False, showY=False,\n",
    "    ytop=1, ybottom=0.58, figure=(fig, ax2)\n",
    ")\n",
    "\n",
    "plt.show()"
   ]
  },
  {
   "cell_type": "code",
   "execution_count": null,
   "id": "07987825",
   "metadata": {},
   "outputs": [],
   "source": [
    "# print(\"----- Résumé des performances T enrichie, arbre de décision -----\")\n",
    "print(f\"{'Profondeur':<20s}:\", end=\" \") ; [print(f\"{i:<4d}\", end=\"  \") for i in results_t_enriched_rf[\"depths\"]] ; print(\"\\n\")\n",
    "print(f\"{'AUC_train':<20s}:\", end=\" \") ; [print(f\"{i:<.2f}\", end=\"  \") for i in results_t_enriched_rf[\"auc_train\"]] ; print()\n",
    "print(f\"{'AUC_test':<20s}:\", end=\" \") ; [print(f\"{i:<.2f}\", end=\"  \") for i in results_t_enriched_rf[\"auc_test\"]] ; print(\"\\n\")\n",
    "\n",
    "print(f\"{'Accuracy_train':<20s}:\", end=\" \") ; [print(f\"{i:<.2f}\", end=\"  \") for i in results_t_enriched_rf[\"acc_train\"]] ; print()\n",
    "print(f\"{'Accuracy_test':<20s}:\", end=\" \") ; [print(f\"{i:<.2f}\", end=\"  \") for i in results_t_enriched_rf[\"acc_test\"]] ; print(\"\\n\")\n",
    "\n",
    "print(\"---\")\n",
    "print(f\"{'AUC_train_dist':<20s}:\", end=\" \") ; [print(f\"{i:<.2f}\", end=\"  \") for i in results_dist_t_enriched_rf[\"auc_train\"]] ; print()\n",
    "print(f\"{'AUC_test_dist':<20s}:\", end=\" \") ; [print(f\"{i:<.2f}\", end=\"  \") for i in results_dist_t_enriched_rf[\"auc_test\"]] ; print(\"\\n\")\n",
    "\n",
    "print(f\"{'Accuracy_train_dist':<20s}:\", end=\" \") ; [print(f\"{i:<.2f}\", end=\"  \") for i in results_dist_t_enriched_rf[\"acc_train\"]] ; print()\n",
    "print(f\"{'Accuracy_test_dist':<20s}:\", end=\" \") ; [print(f\"{i:<.2f}\", end=\"  \") for i in results_dist_t_enriched_rf[\"acc_test\"]] ; print()"
   ]
  },
  {
   "cell_type": "code",
   "execution_count": 48,
   "id": "c1178959",
   "metadata": {},
   "outputs": [
    {
     "ename": "NameError",
     "evalue": "name 'models' is not defined",
     "output_type": "error",
     "traceback": [
      "\u001b[0;31m---------------------------------------------------------------------------\u001b[0m",
      "\u001b[0;31mNameError\u001b[0m                                 Traceback (most recent call last)",
      "Cell \u001b[0;32mIn[48], line 2\u001b[0m\n\u001b[1;32m      1\u001b[0m \u001b[38;5;66;03m# RandomForest model\u001b[39;00m\n\u001b[0;32m----> 2\u001b[0m results_enriched \u001b[38;5;241m=\u001b[39m models\u001b[38;5;241m.\u001b[39mperform_random_forest(\n\u001b[1;32m      3\u001b[0m     X_train\u001b[38;5;241m=\u001b[39mX_train,\n\u001b[1;32m      4\u001b[0m     X_test\u001b[38;5;241m=\u001b[39mX_test,\n\u001b[1;32m      5\u001b[0m     y_train\u001b[38;5;241m=\u001b[39mY_train,\n\u001b[1;32m      6\u001b[0m     y_test\u001b[38;5;241m=\u001b[39mY_test,\n\u001b[1;32m      7\u001b[0m     columns\u001b[38;5;241m=\u001b[39mx_columns,\n\u001b[1;32m      8\u001b[0m     n_estimators\u001b[38;5;241m=\u001b[39m(\u001b[38;5;241m10\u001b[39m, \u001b[38;5;241m15\u001b[39m, \u001b[38;5;241m20\u001b[39m, \u001b[38;5;241m30\u001b[39m),\n\u001b[1;32m      9\u001b[0m     n_depths\u001b[38;5;241m=\u001b[39m(\u001b[38;5;241m2\u001b[39m, \u001b[38;5;241m4\u001b[39m, \u001b[38;5;241m8\u001b[39m, \u001b[38;5;241m10\u001b[39m, \u001b[38;5;241m15\u001b[39m),\n\u001b[1;32m     10\u001b[0m     class_weight\u001b[38;5;241m=\u001b[39m\u001b[38;5;124m\"\u001b[39m\u001b[38;5;124mbalanced\u001b[39m\u001b[38;5;124m\"\u001b[39m,\n\u001b[1;32m     11\u001b[0m     scale\u001b[38;5;241m=\u001b[39m\u001b[38;5;28;01mFalse\u001b[39;00m\n\u001b[1;32m     12\u001b[0m )\n\u001b[1;32m     14\u001b[0m rf_enriched \u001b[38;5;241m=\u001b[39m results_enriched[\u001b[38;5;124m\"\u001b[39m\u001b[38;5;124mmodel\u001b[39m\u001b[38;5;124m\"\u001b[39m]\n",
      "\u001b[0;31mNameError\u001b[0m: name 'models' is not defined"
     ]
    }
   ],
   "source": [
    "# RandomForest model\n",
    "results_enriched = models.perform_random_forest(\n",
    "    x_train=x_train,\n",
    "    x_test=x_test,\n",
    "    y_train=y_train,\n",
    "    y_test=y_test,\n",
    "    columns=x_columns,\n",
    "    n_estimators=(10, 15, 20, 30),\n",
    "    n_depths=(2, 4, 8, 10, 15),\n",
    "    class_weight=\"balanced\",\n",
    "    scale=False\n",
    ")\n",
    "\n",
    "rf_enriched = results_enriched[\"model\"]"
   ]
  },
  {
   "cell_type": "code",
   "execution_count": 49,
   "id": "00dfbcf8",
   "metadata": {},
   "outputs": [
    {
     "ename": "NameError",
     "evalue": "name 'pd' is not defined",
     "output_type": "error",
     "traceback": [
      "\u001b[0;31m---------------------------------------------------------------------------\u001b[0m",
      "\u001b[0;31mNameError\u001b[0m                                 Traceback (most recent call last)",
      "Cell \u001b[0;32mIn[49], line 1\u001b[0m\n\u001b[0;32m----> 1\u001b[0m df_mdi \u001b[38;5;241m=\u001b[39m pd\u001b[38;5;241m.\u001b[39mDataFrame(\n\u001b[1;32m      2\u001b[0m     {\n\u001b[1;32m      3\u001b[0m         \u001b[38;5;124m\"\u001b[39m\u001b[38;5;124mmean\u001b[39m\u001b[38;5;124m\"\u001b[39m: results_enriched[\u001b[38;5;124m\"\u001b[39m\u001b[38;5;124mimportance_mdi\u001b[39m\u001b[38;5;124m\"\u001b[39m][\u001b[38;5;124m\"\u001b[39m\u001b[38;5;124mmean\u001b[39m\u001b[38;5;124m\"\u001b[39m],\n\u001b[1;32m      4\u001b[0m         \u001b[38;5;124m\"\u001b[39m\u001b[38;5;124mstd\u001b[39m\u001b[38;5;124m\"\u001b[39m: results_enriched[\u001b[38;5;124m\"\u001b[39m\u001b[38;5;124mimportance_mdi\u001b[39m\u001b[38;5;124m\"\u001b[39m][\u001b[38;5;124m\"\u001b[39m\u001b[38;5;124mstd\u001b[39m\u001b[38;5;124m\"\u001b[39m]\n\u001b[1;32m      5\u001b[0m     }, index\u001b[38;5;241m=\u001b[39mx_columns\n\u001b[1;32m      6\u001b[0m )\n\u001b[1;32m      8\u001b[0m df_mdi\u001b[38;5;241m.\u001b[39mto_csv(\u001b[38;5;124m\"\u001b[39m\u001b[38;5;124mKI_CD3_enriched_importance-mdi.csv\u001b[39m\u001b[38;5;124m\"\u001b[39m)\n\u001b[1;32m     10\u001b[0m df_permutation \u001b[38;5;241m=\u001b[39m pd\u001b[38;5;241m.\u001b[39mDataFrame(\n\u001b[1;32m     11\u001b[0m     {\n\u001b[1;32m     12\u001b[0m         \u001b[38;5;124m\"\u001b[39m\u001b[38;5;124mmean\u001b[39m\u001b[38;5;124m\"\u001b[39m: results_enriched[\u001b[38;5;124m\"\u001b[39m\u001b[38;5;124mimportance_permutation\u001b[39m\u001b[38;5;124m\"\u001b[39m][\u001b[38;5;124m\"\u001b[39m\u001b[38;5;124mmean\u001b[39m\u001b[38;5;124m\"\u001b[39m],\n\u001b[1;32m     13\u001b[0m         \u001b[38;5;124m\"\u001b[39m\u001b[38;5;124mstd\u001b[39m\u001b[38;5;124m\"\u001b[39m: results_enriched[\u001b[38;5;124m\"\u001b[39m\u001b[38;5;124mimportance_permutation\u001b[39m\u001b[38;5;124m\"\u001b[39m][\u001b[38;5;124m\"\u001b[39m\u001b[38;5;124mstd\u001b[39m\u001b[38;5;124m\"\u001b[39m]\n\u001b[1;32m     14\u001b[0m     }, index\u001b[38;5;241m=\u001b[39mx_columns\n\u001b[1;32m     15\u001b[0m )\n",
      "\u001b[0;31mNameError\u001b[0m: name 'pd' is not defined"
     ]
    }
   ],
   "source": [
    "# df_mdi = pd.DataFrame(\n",
    "    {\n",
    "        \"mean\": results_enriched[\"importance_mdi\"][\"mean\"],\n",
    "        \"std\": results_enriched[\"importance_mdi\"][\"std\"]\n",
    "    }, index=x_columns\n",
    ")\n",
    "\n",
    "df_mdi.to_csv(\"KI_CD3_enriched_importance-mdi.csv\")\n",
    "\n",
    "df_permutation = pd.DataFrame(\n",
    "    {\n",
    "        \"mean\": results_enriched[\"importance_permutation\"][\"mean\"],\n",
    "        \"std\": results_enriched[\"importance_permutation\"][\"std\"]\n",
    "    }, index=x_columns\n",
    ")\n",
    "\n",
    "df_permutation.to_csv(\"KI_CD3_enriched_importance-permutation.csv\")"
   ]
  },
  {
   "cell_type": "code",
   "execution_count": 50,
   "id": "1a72835d",
   "metadata": {},
   "outputs": [
    {
     "ename": "NameError",
     "evalue": "name 'models' is not defined",
     "output_type": "error",
     "traceback": [
      "\u001b[0;31m---------------------------------------------------------------------------\u001b[0m",
      "\u001b[0;31mNameError\u001b[0m                                 Traceback (most recent call last)",
      "Cell \u001b[0;32mIn[50], line 2\u001b[0m\n\u001b[1;32m      1\u001b[0m \u001b[38;5;66;03m# RandomForest model with Dist & Angle columns\u001b[39;00m\n\u001b[0;32m----> 2\u001b[0m results_dist_enriched \u001b[38;5;241m=\u001b[39m models\u001b[38;5;241m.\u001b[39mperform_random_forest(\n\u001b[1;32m      3\u001b[0m     X_train\u001b[38;5;241m=\u001b[39mX_dist_train,\n\u001b[1;32m      4\u001b[0m     X_test\u001b[38;5;241m=\u001b[39mX_dist_test,\n\u001b[1;32m      5\u001b[0m     y_train\u001b[38;5;241m=\u001b[39mY_dist_train,\n\u001b[1;32m      6\u001b[0m     y_test\u001b[38;5;241m=\u001b[39mY_dist_test,\n\u001b[1;32m      7\u001b[0m     columns\u001b[38;5;241m=\u001b[39mx_columns_dist,\n\u001b[1;32m      8\u001b[0m     n_estimators\u001b[38;5;241m=\u001b[39m(\u001b[38;5;241m10\u001b[39m, \u001b[38;5;241m15\u001b[39m, \u001b[38;5;241m20\u001b[39m, \u001b[38;5;241m30\u001b[39m),\n\u001b[1;32m      9\u001b[0m     n_depths\u001b[38;5;241m=\u001b[39m(\u001b[38;5;241m2\u001b[39m, \u001b[38;5;241m4\u001b[39m, \u001b[38;5;241m8\u001b[39m, \u001b[38;5;241m10\u001b[39m, \u001b[38;5;241m15\u001b[39m),\n\u001b[1;32m     10\u001b[0m     class_weight\u001b[38;5;241m=\u001b[39m\u001b[38;5;124m\"\u001b[39m\u001b[38;5;124mbalanced\u001b[39m\u001b[38;5;124m\"\u001b[39m,\n\u001b[1;32m     11\u001b[0m     scale\u001b[38;5;241m=\u001b[39m\u001b[38;5;28;01mFalse\u001b[39;00m\n\u001b[1;32m     12\u001b[0m )\n\u001b[1;32m     14\u001b[0m rf_dist_enriched \u001b[38;5;241m=\u001b[39m results_dist_enriched[\u001b[38;5;124m\"\u001b[39m\u001b[38;5;124mmodel\u001b[39m\u001b[38;5;124m\"\u001b[39m]\n",
      "\u001b[0;31mNameError\u001b[0m: name 'models' is not defined"
     ]
    }
   ],
   "source": [
    "# RandomForest model with Dist & Angle columns\n",
    "results_dist_enriched = models.perform_random_forest(\n",
    "    x_train=x_loc_train,\n",
    "    x_test=x_loc_test,\n",
    "    y_train=y_loc_train,\n",
    "    y_test=y_loc_test,\n",
    "    columns=x_columns_dist,\n",
    "    n_estimators=(10, 15, 20, 30),\n",
    "    n_depths=(2, 4, 8, 10, 15),\n",
    "    class_weight=\"balanced\",\n",
    "    scale=False\n",
    ")\n",
    "\n",
    "rf_dist_enriched = results_dist_enriched[\"model\"]"
   ]
  },
  {
   "cell_type": "code",
   "execution_count": 51,
   "id": "c349abb0",
   "metadata": {},
   "outputs": [
    {
     "ename": "NameError",
     "evalue": "name 'pd' is not defined",
     "output_type": "error",
     "traceback": [
      "\u001b[0;31m---------------------------------------------------------------------------\u001b[0m",
      "\u001b[0;31mNameError\u001b[0m                                 Traceback (most recent call last)",
      "Cell \u001b[0;32mIn[51], line 1\u001b[0m\n\u001b[0;32m----> 1\u001b[0m df_mdi \u001b[38;5;241m=\u001b[39m pd\u001b[38;5;241m.\u001b[39mDataFrame(\n\u001b[1;32m      2\u001b[0m     {\n\u001b[1;32m      3\u001b[0m         \u001b[38;5;124m\"\u001b[39m\u001b[38;5;124mmean\u001b[39m\u001b[38;5;124m\"\u001b[39m: results_dist_enriched[\u001b[38;5;124m\"\u001b[39m\u001b[38;5;124mimportance_mdi\u001b[39m\u001b[38;5;124m\"\u001b[39m][\u001b[38;5;124m\"\u001b[39m\u001b[38;5;124mmean\u001b[39m\u001b[38;5;124m\"\u001b[39m],\n\u001b[1;32m      4\u001b[0m         \u001b[38;5;124m\"\u001b[39m\u001b[38;5;124mstd\u001b[39m\u001b[38;5;124m\"\u001b[39m: results_dist_enriched[\u001b[38;5;124m\"\u001b[39m\u001b[38;5;124mimportance_mdi\u001b[39m\u001b[38;5;124m\"\u001b[39m][\u001b[38;5;124m\"\u001b[39m\u001b[38;5;124mstd\u001b[39m\u001b[38;5;124m\"\u001b[39m]\n\u001b[1;32m      5\u001b[0m     }, index\u001b[38;5;241m=\u001b[39mx_columns_dist\n\u001b[1;32m      6\u001b[0m )\n\u001b[1;32m      8\u001b[0m df_mdi\u001b[38;5;241m.\u001b[39mto_csv(\u001b[38;5;124m\"\u001b[39m\u001b[38;5;124mKI_CD3_enriched-dist_importance-mdi.csv\u001b[39m\u001b[38;5;124m\"\u001b[39m)\n\u001b[1;32m     10\u001b[0m df_permutation \u001b[38;5;241m=\u001b[39m pd\u001b[38;5;241m.\u001b[39mDataFrame(\n\u001b[1;32m     11\u001b[0m     {\n\u001b[1;32m     12\u001b[0m         \u001b[38;5;124m\"\u001b[39m\u001b[38;5;124mmean\u001b[39m\u001b[38;5;124m\"\u001b[39m: results_dist_enriched[\u001b[38;5;124m\"\u001b[39m\u001b[38;5;124mimportance_permutation\u001b[39m\u001b[38;5;124m\"\u001b[39m][\u001b[38;5;124m\"\u001b[39m\u001b[38;5;124mmean\u001b[39m\u001b[38;5;124m\"\u001b[39m],\n\u001b[1;32m     13\u001b[0m         \u001b[38;5;124m\"\u001b[39m\u001b[38;5;124mstd\u001b[39m\u001b[38;5;124m\"\u001b[39m: results_dist_enriched[\u001b[38;5;124m\"\u001b[39m\u001b[38;5;124mimportance_permutation\u001b[39m\u001b[38;5;124m\"\u001b[39m][\u001b[38;5;124m\"\u001b[39m\u001b[38;5;124mstd\u001b[39m\u001b[38;5;124m\"\u001b[39m]\n\u001b[1;32m     14\u001b[0m     }, index\u001b[38;5;241m=\u001b[39mx_columns_dist\n\u001b[1;32m     15\u001b[0m )\n",
      "\u001b[0;31mNameError\u001b[0m: name 'pd' is not defined"
     ]
    }
   ],
   "source": [
    "# df_mdi = pd.DataFrame(\n",
    "    {\n",
    "        \"mean\": results_dist_enriched[\"importance_mdi\"][\"mean\"],\n",
    "        \"std\": results_dist_enriched[\"importance_mdi\"][\"std\"]\n",
    "    }, index=x_columns_dist\n",
    ")\n",
    "\n",
    "df_mdi.to_csv(\"KI_CD3_enriched-dist_importance-mdi.csv\")\n",
    "\n",
    "df_permutation = pd.DataFrame(\n",
    "    {\n",
    "        \"mean\": results_dist_enriched[\"importance_permutation\"][\"mean\"],\n",
    "        \"std\": results_dist_enriched[\"importance_permutation\"][\"std\"]\n",
    "    }, index=x_columns_dist\n",
    ")\n",
    "\n",
    "df_permutation.to_csv(\"KI_CD3_enriched-dist_importance-permutation.csv\")"
   ]
  },
  {
   "cell_type": "code",
   "execution_count": 72,
   "id": "3a6e6d93",
   "metadata": {},
   "outputs": [],
   "source": [
    "# Model Accuracy, how often is the classifier correct?\n",
    "y_train_pred = rf_enriched.predict(x_train)\n",
    "y_test_pred = rf_enriched.predict(x_test)\n",
    "y_loc_train_pred = rf_dist_enriched.predict(x_loc_train)\n",
    "y_loc_test_pred = rf_dist_enriched.predict(x_loc_test)"
   ]
  },
  {
   "cell_type": "code",
   "execution_count": 52,
   "id": "507ac8e1",
   "metadata": {},
   "outputs": [
    {
     "ename": "NameError",
     "evalue": "name 'roc_curve' is not defined",
     "output_type": "error",
     "traceback": [
      "\u001b[0;31m---------------------------------------------------------------------------\u001b[0m",
      "\u001b[0;31mNameError\u001b[0m                                 Traceback (most recent call last)",
      "Cell \u001b[0;32mIn[52], line 1\u001b[0m\n\u001b[0;32m----> 1\u001b[0m false_pos_rate_train, true_pos_rate_train, _ \u001b[38;5;241m=\u001b[39m roc_curve(Y_train, y_train_pred)\n\u001b[1;32m      2\u001b[0m false_pos_rate_test, true_pos_rate_test, _ \u001b[38;5;241m=\u001b[39m roc_curve(Y_test, y_test_pred)\n\u001b[1;32m      4\u001b[0m false_pos_rate_dist_train, true_pos_rate_dist_train, _ \u001b[38;5;241m=\u001b[39m roc_curve(Y_dist_train, y_dist_train_pred)\n",
      "\u001b[0;31mNameError\u001b[0m: name 'roc_curve' is not defined"
     ]
    }
   ],
   "source": [
    "# fpr_train, tpr_train, _ = roc_curve(y_train, y_train_pred)\n",
    "fpr_test, tpr_test, _ = roc_curve(y_test, y_test_pred)\n",
    "\n",
    "fpr_loc_train, tpr_loc_train, _ = roc_curve(y_loc_train, y_loc_train_pred)\n",
    "fpr_loc_test, tpr_loc_test, _ = roc_curve(y_loc_test, y_loc_test_pred)"
   ]
  },
  {
   "cell_type": "code",
   "execution_count": 53,
   "id": "d8c60e77-d615-4f5e-94f2-2f4917c921fc",
   "metadata": {},
   "outputs": [
    {
     "ename": "NameError",
     "evalue": "name 'pd' is not defined",
     "output_type": "error",
     "traceback": [
      "\u001b[0;31m---------------------------------------------------------------------------\u001b[0m",
      "\u001b[0;31mNameError\u001b[0m                                 Traceback (most recent call last)",
      "Cell \u001b[0;32mIn[53], line 1\u001b[0m\n\u001b[0;32m----> 1\u001b[0m labels_class \u001b[38;5;241m=\u001b[39m pd\u001b[38;5;241m.\u001b[39mSeries(rf_enriched\u001b[38;5;241m.\u001b[39mclasses_)\u001b[38;5;241m.\u001b[39mmap({\u001b[38;5;241m0\u001b[39m: \u001b[38;5;124m'\u001b[39m\u001b[38;5;124mnot_enriched\u001b[39m\u001b[38;5;124m'\u001b[39m, \u001b[38;5;241m1\u001b[39m: \u001b[38;5;124m'\u001b[39m\u001b[38;5;124menriched\u001b[39m\u001b[38;5;124m'\u001b[39m})\u001b[38;5;241m.\u001b[39mvalues\n",
      "\u001b[0;31mNameError\u001b[0m: name 'pd' is not defined"
     ]
    }
   ],
   "source": [
    "# labels_class = pd.Series(rf_enriched.classes_).map({0: 'not_enriched', 1: 'enriched'}).values"
   ]
  },
  {
   "cell_type": "code",
   "execution_count": 54,
   "id": "afa22be4-aef4-46ed-9c46-7aec05242e10",
   "metadata": {},
   "outputs": [
    {
     "name": "stdout",
     "output_type": "stream",
     "text": [
      "----- Random Forest -----\n"
     ]
    },
    {
     "ename": "NameError",
     "evalue": "name 'accuracy_score' is not defined",
     "output_type": "error",
     "traceback": [
      "\u001b[0;31m---------------------------------------------------------------------------\u001b[0m",
      "\u001b[0;31mNameError\u001b[0m                                 Traceback (most recent call last)",
      "Cell \u001b[0;32mIn[54], line 2\u001b[0m\n\u001b[1;32m      1\u001b[0m \u001b[38;5;28mprint\u001b[39m(\u001b[38;5;124m\"\u001b[39m\u001b[38;5;124m----- Random Forest -----\u001b[39m\u001b[38;5;124m\"\u001b[39m)\n\u001b[0;32m----> 2\u001b[0m \u001b[38;5;28mprint\u001b[39m(\u001b[38;5;124m\"\u001b[39m\u001b[38;5;124mAccuracy Train:\u001b[39m\u001b[38;5;124m\"\u001b[39m, accuracy_score(Y_train, y_train_pred))\n\u001b[1;32m      3\u001b[0m \u001b[38;5;28mprint\u001b[39m(\u001b[38;5;124m\"\u001b[39m\u001b[38;5;124mAUC Train:\u001b[39m\u001b[38;5;124m\"\u001b[39m, auc(false_pos_rate_train, true_pos_rate_train))\n\u001b[1;32m      4\u001b[0m \u001b[38;5;28mprint\u001b[39m()\n",
      "\u001b[0;31mNameError\u001b[0m: name 'accuracy_score' is not defined"
     ]
    }
   ],
   "source": [
    "# print(\"----- Random Forest -----\")\n",
    "print(\"Accuracy Train:\", accuracy_score(y_train, y_train_pred))\n",
    "print(\"AUC Train:\", auc(fpr_train, tpr_train))\n",
    "print()\n",
    "print(\"Accuracy Test:\", accuracy_score(y_test, y_test_pred))\n",
    "print(\"AUC Test:\", auc(fpr_test, tpr_test))\n",
    "print()\n",
    "\n",
    "fig, (ax1, ax2) = plt.subplots(1, 2, figsize=(14, 5))\n",
    "cm = confusion_matrix(y_test, y_test_pred)\n",
    "cm2 = confusion_matrix(y_test, y_test_pred, normalize=\"true\")\n",
    "ConfusionMatrixDisplay(confusion_matrix=cm, display_labels=labels_class).plot(ax=ax1)\n",
    "ConfusionMatrixDisplay(confusion_matrix=cm2, display_labels=labels_class).plot(ax=ax2)\n",
    "plt.show()"
   ]
  },
  {
   "cell_type": "code",
   "execution_count": 55,
   "id": "949240e6-5c24-45be-a891-045eda4a47a3",
   "metadata": {},
   "outputs": [
    {
     "name": "stdout",
     "output_type": "stream",
     "text": [
      "Random Forest, Angle avec Dist\n"
     ]
    },
    {
     "ename": "NameError",
     "evalue": "name 'accuracy_score' is not defined",
     "output_type": "error",
     "traceback": [
      "\u001b[0;31m---------------------------------------------------------------------------\u001b[0m",
      "\u001b[0;31mNameError\u001b[0m                                 Traceback (most recent call last)",
      "Cell \u001b[0;32mIn[55], line 2\u001b[0m\n\u001b[1;32m      1\u001b[0m \u001b[38;5;28mprint\u001b[39m(\u001b[38;5;124m\"\u001b[39m\u001b[38;5;124mRandom Forest, Angle avec Dist\u001b[39m\u001b[38;5;124m\"\u001b[39m)\n\u001b[0;32m----> 2\u001b[0m \u001b[38;5;28mprint\u001b[39m(\u001b[38;5;124m\"\u001b[39m\u001b[38;5;124mAccuracy Train:\u001b[39m\u001b[38;5;124m\"\u001b[39m, accuracy_score(Y_dist_train, y_dist_train_pred))\n\u001b[1;32m      3\u001b[0m \u001b[38;5;28mprint\u001b[39m(\u001b[38;5;124m\"\u001b[39m\u001b[38;5;124mAUC Train:\u001b[39m\u001b[38;5;124m\"\u001b[39m, auc(false_pos_rate_dist_train, true_pos_rate_dist_train))\n\u001b[1;32m      4\u001b[0m \u001b[38;5;28mprint\u001b[39m()\n",
      "\u001b[0;31mNameError\u001b[0m: name 'accuracy_score' is not defined"
     ]
    }
   ],
   "source": [
    "# print(\"Random Forest, Angle avec Dist\")\n",
    "print(\"Accuracy Train:\", accuracy_score(y_loc_train, y_loc_train_pred))\n",
    "print(\"AUC Train:\", auc(fpr_loc_train, tpr_loc_train))\n",
    "print()\n",
    "print(\"Accuracy Test:\", accuracy_score(y_loc_test, y_loc_test_pred))\n",
    "print(\"AUC Test:\", auc(fpr_loc_test, tpr_loc_test))\n",
    "\n",
    "fig, (ax1, ax2) = plt.subplots(1, 2, figsize=(14, 5))\n",
    "cm_dist = confusion_matrix(y_loc_test, y_loc_test_pred)\n",
    "cm2_dist = confusion_matrix(y_loc_test, y_loc_test_pred, normalize=\"true\")\n",
    "ConfusionMatrixDisplay(confusion_matrix=cm_dist, display_labels=labels_class).plot(ax=ax1)\n",
    "ConfusionMatrixDisplay(confusion_matrix=cm2_dist, display_labels=labels_class).plot(ax=ax2)\n",
    "plt.show()"
   ]
  },
  {
   "cell_type": "markdown",
   "id": "75a40c40",
   "metadata": {},
   "source": [
    "# T enrichie & Density20 > 0\n",
    "\n",
    "##### Jeu de données d'apprentissage et de validation (à densité20 > 0)"
   ]
  },
  {
   "cell_type": "code",
   "execution_count": 56,
   "id": "500892f7",
   "metadata": {},
   "outputs": [
    {
     "ename": "NameError",
     "evalue": "name 'data' is not defined",
     "output_type": "error",
     "traceback": [
      "\u001b[0;31m---------------------------------------------------------------------------\u001b[0m",
      "\u001b[0;31mNameError\u001b[0m                                 Traceback (most recent call last)",
      "Cell \u001b[0;32mIn[56], line 5\u001b[0m\n\u001b[1;32m      2\u001b[0m y_column \u001b[38;5;241m=\u001b[39m \u001b[38;5;124m\"\u001b[39m\u001b[38;5;124mclass_t_enriched\u001b[39m\u001b[38;5;124m\"\u001b[39m\n\u001b[1;32m      4\u001b[0m \u001b[38;5;66;03m# Define X and Y dataframe\u001b[39;00m\n\u001b[0;32m----> 5\u001b[0m dt_XY \u001b[38;5;241m=\u001b[39m data[mask_cd3_density_in][[\u001b[38;5;241m*\u001b[39mx_columns_dist, y_column]]\u001b[38;5;241m.\u001b[39mdropna()\n\u001b[1;32m      6\u001b[0m X_density \u001b[38;5;241m=\u001b[39m dt_XY[x_columns]\u001b[38;5;241m.\u001b[39mvalues  \u001b[38;5;66;03m# X\u001b[39;00m\n\u001b[1;32m      7\u001b[0m X_density_dist \u001b[38;5;241m=\u001b[39m dt_XY[x_columns_dist]\u001b[38;5;241m.\u001b[39mvalues  \u001b[38;5;66;03m# X_dist\u001b[39;00m\n",
      "\u001b[0;31mNameError\u001b[0m: name 'data' is not defined"
     ]
    }
   ],
   "source": [
    "# Target column\n",
    "y_column = \"class_t_enriched\"\n",
    "\n",
    "# Define x and y dataframe\n",
    "dt_xy = data[mask_cd3_density_in][[*x_columns_dist, y_column]].dropna()\n",
    "X_density = dt_xy[x_columns].values  # x\n",
    "X_densitY_loc = dt_xy[x_columns_dist].values  # x_loc\n",
    "Y_density = dt_xy[y_column].values  # y\n",
    "\n",
    "# Train and Validation set\n",
    "X_density_train, X_density_test, Y_density_train, Y_density_test = train_test_split(\n",
    "    X_density, Y_density, test_size=0.3, random_state=42, stratify=Y_density\n",
    ")\n",
    "\n",
    "# Train and Validation set (with Angle & Dist)\n",
    "X_densitY_loc_train, X_densitY_loc_test, Y_densitY_loc_train, Y_densitY_loc_test = train_test_split(\n",
    "    X_densitY_loc, Y_density, test_size=0.3, random_state=42, stratify=Y_density\n",
    ")"
   ]
  },
  {
   "cell_type": "code",
   "execution_count": 57,
   "id": "04057633",
   "metadata": {},
   "outputs": [
    {
     "name": "stdout",
     "output_type": "stream",
     "text": [
      "----- T enrichie (density20 > 0)-----\n",
      "                  Classe :                        0       1\n"
     ]
    },
    {
     "ename": "NameError",
     "evalue": "name 'Y_density' is not defined",
     "output_type": "error",
     "traceback": [
      "\u001b[0;31m---------------------------------------------------------------------------\u001b[0m",
      "\u001b[0;31mNameError\u001b[0m                                 Traceback (most recent call last)",
      "Cell \u001b[0;32mIn[57], line 3\u001b[0m\n\u001b[1;32m      1\u001b[0m \u001b[38;5;28mprint\u001b[39m(\u001b[38;5;124mf\u001b[39m\u001b[38;5;124m\"\u001b[39m\u001b[38;5;124m----- T enrichie (density20 > 0)-----\u001b[39m\u001b[38;5;124m\"\u001b[39m)\n\u001b[1;32m      2\u001b[0m \u001b[38;5;28mprint\u001b[39m(\u001b[38;5;124mf\u001b[39m\u001b[38;5;124m\"\u001b[39m\u001b[38;5;132;01m{\u001b[39;00m\u001b[38;5;124m'\u001b[39m\u001b[38;5;124mClasse :\u001b[39m\u001b[38;5;124m'\u001b[39m\u001b[38;5;132;01m:\u001b[39;00m\u001b[38;5;124m^45s\u001b[39m\u001b[38;5;132;01m}\u001b[39;00m\u001b[38;5;132;01m{\u001b[39;00m\u001b[38;5;124m'\u001b[39m\u001b[38;5;124m0\u001b[39m\u001b[38;5;124m'\u001b[39m\u001b[38;5;132;01m:\u001b[39;00m\u001b[38;5;124m>6s\u001b[39m\u001b[38;5;132;01m}\u001b[39;00m\u001b[38;5;132;01m{\u001b[39;00m\u001b[38;5;124m'\u001b[39m\u001b[38;5;124m'\u001b[39m\u001b[38;5;132;01m:\u001b[39;00m\u001b[38;5;124m2s\u001b[39m\u001b[38;5;132;01m}\u001b[39;00m\u001b[38;5;132;01m{\u001b[39;00m\u001b[38;5;124m'\u001b[39m\u001b[38;5;124m1\u001b[39m\u001b[38;5;124m'\u001b[39m\u001b[38;5;132;01m:\u001b[39;00m\u001b[38;5;124m>6s\u001b[39m\u001b[38;5;132;01m}\u001b[39;00m\u001b[38;5;124m\"\u001b[39m)\n\u001b[0;32m----> 3\u001b[0m \u001b[38;5;28mprint\u001b[39m(\u001b[38;5;124mf\u001b[39m\u001b[38;5;124m\"\u001b[39m\u001b[38;5;132;01m{\u001b[39;00m\u001b[38;5;124m'\u001b[39m\u001b[38;5;124mComptage des classes au sein de Y:\u001b[39m\u001b[38;5;124m'\u001b[39m\u001b[38;5;132;01m:\u001b[39;00m\u001b[38;5;124m45s\u001b[39m\u001b[38;5;132;01m}\u001b[39;00m\u001b[38;5;132;01m{\u001b[39;00m\u001b[38;5;28msum\u001b[39m(Y_density\u001b[38;5;250m \u001b[39m\u001b[38;5;241m==\u001b[39m\u001b[38;5;250m \u001b[39m\u001b[38;5;241m0\u001b[39m)\u001b[38;5;132;01m:\u001b[39;00m\u001b[38;5;124m>6d\u001b[39m\u001b[38;5;132;01m}\u001b[39;00m\u001b[38;5;132;01m{\u001b[39;00m\u001b[38;5;124m'\u001b[39m\u001b[38;5;124m'\u001b[39m\u001b[38;5;132;01m:\u001b[39;00m\u001b[38;5;124m2s\u001b[39m\u001b[38;5;132;01m}\u001b[39;00m\u001b[38;5;132;01m{\u001b[39;00m\u001b[38;5;28msum\u001b[39m(Y_density\u001b[38;5;250m \u001b[39m\u001b[38;5;241m==\u001b[39m\u001b[38;5;250m \u001b[39m\u001b[38;5;241m1\u001b[39m)\u001b[38;5;132;01m:\u001b[39;00m\u001b[38;5;124m>6d\u001b[39m\u001b[38;5;132;01m}\u001b[39;00m\u001b[38;5;124m\"\u001b[39m)\n\u001b[1;32m      4\u001b[0m \u001b[38;5;28mprint\u001b[39m(\u001b[38;5;124mf\u001b[39m\u001b[38;5;124m\"\u001b[39m\u001b[38;5;132;01m{\u001b[39;00m\u001b[38;5;124m'\u001b[39m\u001b[38;5;124mComptage des classes au sein de Y_train:\u001b[39m\u001b[38;5;124m'\u001b[39m\u001b[38;5;132;01m:\u001b[39;00m\u001b[38;5;124m45s\u001b[39m\u001b[38;5;132;01m}\u001b[39;00m\u001b[38;5;132;01m{\u001b[39;00m\u001b[38;5;28msum\u001b[39m(Y_density_train\u001b[38;5;250m \u001b[39m\u001b[38;5;241m==\u001b[39m\u001b[38;5;250m \u001b[39m\u001b[38;5;241m0\u001b[39m)\u001b[38;5;132;01m:\u001b[39;00m\u001b[38;5;124m>6d\u001b[39m\u001b[38;5;132;01m}\u001b[39;00m\u001b[38;5;132;01m{\u001b[39;00m\u001b[38;5;124m'\u001b[39m\u001b[38;5;124m'\u001b[39m\u001b[38;5;132;01m:\u001b[39;00m\u001b[38;5;124m2s\u001b[39m\u001b[38;5;132;01m}\u001b[39;00m\u001b[38;5;132;01m{\u001b[39;00m\u001b[38;5;28msum\u001b[39m(Y_density_train\u001b[38;5;250m \u001b[39m\u001b[38;5;241m==\u001b[39m\u001b[38;5;250m \u001b[39m\u001b[38;5;241m1\u001b[39m)\u001b[38;5;132;01m:\u001b[39;00m\u001b[38;5;124m>6d\u001b[39m\u001b[38;5;132;01m}\u001b[39;00m\u001b[38;5;124m\"\u001b[39m)\n\u001b[1;32m      5\u001b[0m \u001b[38;5;28mprint\u001b[39m(\u001b[38;5;124mf\u001b[39m\u001b[38;5;124m\"\u001b[39m\u001b[38;5;132;01m{\u001b[39;00m\u001b[38;5;124m'\u001b[39m\u001b[38;5;124mComptage des classes au sein de Y_test:\u001b[39m\u001b[38;5;124m'\u001b[39m\u001b[38;5;132;01m:\u001b[39;00m\u001b[38;5;124m45s\u001b[39m\u001b[38;5;132;01m}\u001b[39;00m\u001b[38;5;132;01m{\u001b[39;00m\u001b[38;5;28msum\u001b[39m(Y_density_test\u001b[38;5;250m \u001b[39m\u001b[38;5;241m==\u001b[39m\u001b[38;5;250m \u001b[39m\u001b[38;5;241m0\u001b[39m)\u001b[38;5;132;01m:\u001b[39;00m\u001b[38;5;124m>6d\u001b[39m\u001b[38;5;132;01m}\u001b[39;00m\u001b[38;5;132;01m{\u001b[39;00m\u001b[38;5;124m'\u001b[39m\u001b[38;5;124m'\u001b[39m\u001b[38;5;132;01m:\u001b[39;00m\u001b[38;5;124m2s\u001b[39m\u001b[38;5;132;01m}\u001b[39;00m\u001b[38;5;132;01m{\u001b[39;00m\u001b[38;5;28msum\u001b[39m(Y_density_test\u001b[38;5;250m \u001b[39m\u001b[38;5;241m==\u001b[39m\u001b[38;5;250m \u001b[39m\u001b[38;5;241m1\u001b[39m)\u001b[38;5;132;01m:\u001b[39;00m\u001b[38;5;124m>6d\u001b[39m\u001b[38;5;132;01m}\u001b[39;00m\u001b[38;5;124m\"\u001b[39m)\n",
      "\u001b[0;31mNameError\u001b[0m: name 'Y_density' is not defined"
     ]
    }
   ],
   "source": [
    "# print(f\"----- T enrichie (density20 > 0)-----\")\n",
    "print(f\"{'Classe :':^45s}{'0':>6s}{'':2s}{'1':>6s}\")\n",
    "print(f\"{'Comptage des classes au sein de y:':45s}{sum(Y_density == 0):>6d}{'':2s}{sum(Y_density == 1):>6d}\")\n",
    "print(f\"{'Comptage des classes au sein de y_train:':45s}{sum(Y_density_train == 0):>6d}{'':2s}{sum(Y_density_train == 1):>6d}\")\n",
    "print(f\"{'Comptage des classes au sein de y_test:':45s}{sum(Y_density_test == 0):>6d}{'':2s}{sum(Y_density_test == 1):>6d}\")\n",
    "print(f\"\\nNombre d'observations totales : {Y_density.shape[0]:_}\")"
   ]
  },
  {
   "cell_type": "markdown",
   "id": "d76a46bb",
   "metadata": {},
   "source": [
    "# Arbre de décision"
   ]
  },
  {
   "cell_type": "code",
   "execution_count": 58,
   "id": "51b72e4f",
   "metadata": {},
   "outputs": [
    {
     "ename": "NameError",
     "evalue": "name 'models' is not defined",
     "output_type": "error",
     "traceback": [
      "\u001b[0;31m---------------------------------------------------------------------------\u001b[0m",
      "\u001b[0;31mNameError\u001b[0m                                 Traceback (most recent call last)",
      "Cell \u001b[0;32mIn[58], line 4\u001b[0m\n\u001b[1;32m      1\u001b[0m max_depths_clf \u001b[38;5;241m=\u001b[39m [\u001b[38;5;241m2\u001b[39m, \u001b[38;5;241m4\u001b[39m, \u001b[38;5;241m6\u001b[39m, \u001b[38;5;241m8\u001b[39m, \u001b[38;5;241m10\u001b[39m, \u001b[38;5;241m15\u001b[39m, \u001b[38;5;241m20\u001b[39m]\n\u001b[1;32m      3\u001b[0m \u001b[38;5;66;03m# Best number of depth\u001b[39;00m\n\u001b[0;32m----> 4\u001b[0m results_density_t_enriched \u001b[38;5;241m=\u001b[39m models\u001b[38;5;241m.\u001b[39mforest_depth_acc(\n\u001b[1;32m      5\u001b[0m     X_density_train, Y_density_train,\n\u001b[1;32m      6\u001b[0m     X_density_test, Y_density_test,\n\u001b[1;32m      7\u001b[0m     depths\u001b[38;5;241m=\u001b[39mmax_depths_clf, \n\u001b[1;32m      8\u001b[0m     classifier\u001b[38;5;241m=\u001b[39mDecisionTreeClassifier,\n\u001b[1;32m      9\u001b[0m     class_weight\u001b[38;5;241m=\u001b[39m\u001b[38;5;124m\"\u001b[39m\u001b[38;5;124mbalanced\u001b[39m\u001b[38;5;124m\"\u001b[39m,\n\u001b[1;32m     10\u001b[0m )\n\u001b[1;32m     12\u001b[0m \u001b[38;5;66;03m# Best number of depth with Dist & Angle\u001b[39;00m\n\u001b[1;32m     13\u001b[0m results_density_dist_t_enriched \u001b[38;5;241m=\u001b[39m models\u001b[38;5;241m.\u001b[39mforest_depth_acc(\n\u001b[1;32m     14\u001b[0m     X_density_dist_train, Y_density_dist_train,\n\u001b[1;32m     15\u001b[0m     X_density_dist_test, Y_density_dist_test,\n\u001b[0;32m   (...)\u001b[0m\n\u001b[1;32m     18\u001b[0m     class_weight\u001b[38;5;241m=\u001b[39m\u001b[38;5;124m\"\u001b[39m\u001b[38;5;124mbalanced\u001b[39m\u001b[38;5;124m\"\u001b[39m,\n\u001b[1;32m     19\u001b[0m )\n",
      "\u001b[0;31mNameError\u001b[0m: name 'models' is not defined"
     ]
    }
   ],
   "source": [
    "# depths_dtree = [2, 4, 6, 8, 10, 15, 20]\n",
    "\n",
    "# Best number of depth\n",
    "results_density_t_enriched = models.forest_depth_acc(\n",
    "    X_density_train, Y_density_train,\n",
    "    X_density_test, Y_density_test,\n",
    "    depths=depths_dtree, \n",
    "    classifier=DecisionTreeClassifier,\n",
    "    class_weight=\"balanced\",\n",
    ")\n",
    "\n",
    "# Best number of depth with Dist & Angle\n",
    "results_densitY_loc_t_enriched = models.forest_depth_acc(\n",
    "    X_densitY_loc_train, Y_densitY_loc_train,\n",
    "    X_densitY_loc_test, Y_densitY_loc_test,\n",
    "    depths=depths_dtree, \n",
    "    classifier=DecisionTreeClassifier,\n",
    "    class_weight=\"balanced\",\n",
    ")"
   ]
  },
  {
   "cell_type": "code",
   "execution_count": 59,
   "id": "10975d98",
   "metadata": {},
   "outputs": [
    {
     "ename": "NameError",
     "evalue": "name 'plt' is not defined",
     "output_type": "error",
     "traceback": [
      "\u001b[0;31m---------------------------------------------------------------------------\u001b[0m",
      "\u001b[0;31mNameError\u001b[0m                                 Traceback (most recent call last)",
      "Cell \u001b[0;32mIn[59], line 2\u001b[0m\n\u001b[1;32m      1\u001b[0m \u001b[38;5;66;03m# Plot AUC\u001b[39;00m\n\u001b[0;32m----> 2\u001b[0m fig, (ax1, ax2) \u001b[38;5;241m=\u001b[39m plt\u001b[38;5;241m.\u001b[39msubplots(\u001b[38;5;241m1\u001b[39m, \u001b[38;5;241m2\u001b[39m, figsize\u001b[38;5;241m=\u001b[39m(\u001b[38;5;241m15\u001b[39m, \u001b[38;5;241m8\u001b[39m))\n\u001b[1;32m      3\u001b[0m plots\u001b[38;5;241m.\u001b[39mplot(\n\u001b[1;32m      4\u001b[0m     results_density_t_enriched[\u001b[38;5;124m\"\u001b[39m\u001b[38;5;124mauc_train\u001b[39m\u001b[38;5;124m\"\u001b[39m],\n\u001b[1;32m      5\u001b[0m     results_density_t_enriched[\u001b[38;5;124m\"\u001b[39m\u001b[38;5;124mauc_test\u001b[39m\u001b[38;5;124m\"\u001b[39m],\n\u001b[0;32m   (...)\u001b[0m\n\u001b[1;32m     11\u001b[0m     ytop\u001b[38;5;241m=\u001b[39m\u001b[38;5;241m1\u001b[39m, ybottom\u001b[38;5;241m=\u001b[39m\u001b[38;5;241m0.54\u001b[39m, figure\u001b[38;5;241m=\u001b[39m(fig, ax1)\n\u001b[1;32m     12\u001b[0m )\n\u001b[1;32m     14\u001b[0m plots\u001b[38;5;241m.\u001b[39mplot(\n\u001b[1;32m     15\u001b[0m     results_density_dist_t_enriched[\u001b[38;5;124m\"\u001b[39m\u001b[38;5;124mauc_train\u001b[39m\u001b[38;5;124m\"\u001b[39m],\n\u001b[1;32m     16\u001b[0m     results_density_dist_t_enriched[\u001b[38;5;124m\"\u001b[39m\u001b[38;5;124mauc_test\u001b[39m\u001b[38;5;124m\"\u001b[39m],\n\u001b[0;32m   (...)\u001b[0m\n\u001b[1;32m     22\u001b[0m     ytop\u001b[38;5;241m=\u001b[39m\u001b[38;5;241m1\u001b[39m, ybottom\u001b[38;5;241m=\u001b[39m\u001b[38;5;241m0.54\u001b[39m, figure\u001b[38;5;241m=\u001b[39m(fig, ax2)\n\u001b[1;32m     23\u001b[0m )\n",
      "\u001b[0;31mNameError\u001b[0m: name 'plt' is not defined"
     ]
    }
   ],
   "source": [
    "# Plot AUC\n",
    "fig, (ax1, ax2) = plt.subplots(1, 2, figsize=(15, 8))\n",
    "plots.plot(\n",
    "    results_density_t_enriched[\"auc_train\"],\n",
    "    results_density_t_enriched[\"auc_test\"],\n",
    "    indices=depths_dtree,\n",
    "    label=(\"Train AUC\", \"Test AUC\"),\n",
    "    title=\"T enriched density\\nEvolution de l'AUC selon la profondeur de l'arbre de décision\",\n",
    "    xlabel=\"AUC score\", ylabel=\"Profondeur de l'arbre\",\n",
    "    xticks=depths_dtree, showR2=False, showY=False,\n",
    "    ytop=1, ybottom=0.54, figure=(fig, ax1)\n",
    ")\n",
    "\n",
    "plots.plot(\n",
    "    results_densitY_loc_t_enriched[\"auc_train\"],\n",
    "    results_densitY_loc_t_enriched[\"auc_test\"],\n",
    "    indices=depths_dtree,\n",
    "    label=(\"Train AUC\", \"Test AUC\"),\n",
    "    title=\"T enriched density\\nEvolution de l'AUC (avec Dist & Angle) selon\\nla profondeur de l'arbre de décision\",\n",
    "    xlabel=\"AUC score\", ylabel=\"Profondeur de l'arbre\",\n",
    "    xticks=depths_dtree, showR2=False, showY=False,\n",
    "    ytop=1, ybottom=0.54, figure=(fig, ax2)\n",
    ")\n",
    "plt.show()\n",
    "\n",
    "# Plot accuracy\n",
    "fig, (ax1, ax2) = plt.subplots(1, 2, figsize=(15, 8))\n",
    "\n",
    "plots.plot(\n",
    "    results_density_t_enriched[\"acc_train\"],\n",
    "    results_density_t_enriched[\"acc_test\"],\n",
    "    indices=depths_dtree,\n",
    "    label=(\"Train Accuracy\", \"Test Accuracy\"),\n",
    "    title=\"T enriched density\\nEvolution de l'accuracy en fonction de la profondeur de l'arbre de décision\",\n",
    "    xlabel=\"Accuracy\", ylabel=\"Profondeur de l'arbre\",\n",
    "    xticks=depths_dtree, showR2=False, showY=False,\n",
    "    ytop=1, ybottom=0.54, figure=(fig, ax1)\n",
    ")\n",
    "\n",
    "plots.plot(\n",
    "    results_densitY_loc_t_enriched[\"acc_train\"],\n",
    "    results_densitY_loc_t_enriched[\"acc_test\"],\n",
    "    indices=depths_dtree,\n",
    "    label=(\"Train Accuracy\", \"Test Accuracy\"),\n",
    "    title=\"T enriched density\\nEvolution de l'accuracy (avec Dist & Angle) en fonction de\\nla profondeur de l'arbre de décision\",\n",
    "    xlabel=\"Accuracy\", ylabel=\"Profondeur de l'arbre\",\n",
    "    xticks=depths_dtree, showR2=False, showY=False,\n",
    "    ytop=1, ybottom=0.54, figure=(fig, ax2)\n",
    ")\n",
    "plt.show()"
   ]
  },
  {
   "cell_type": "code",
   "execution_count": 60,
   "id": "d8e3f6b5",
   "metadata": {},
   "outputs": [
    {
     "name": "stdout",
     "output_type": "stream",
     "text": [
      "----- Résumé des performances T plus (density20 > 0), arbre de décision -----\n",
      "Profondeur          : "
     ]
    },
    {
     "ename": "NameError",
     "evalue": "name 'results_density_t_enriched' is not defined",
     "output_type": "error",
     "traceback": [
      "\u001b[0;31m---------------------------------------------------------------------------\u001b[0m",
      "\u001b[0;31mNameError\u001b[0m                                 Traceback (most recent call last)",
      "Cell \u001b[0;32mIn[60], line 2\u001b[0m\n\u001b[1;32m      1\u001b[0m \u001b[38;5;28mprint\u001b[39m(\u001b[38;5;124m\"\u001b[39m\u001b[38;5;124m----- Résumé des performances T plus (density20 > 0), arbre de décision -----\u001b[39m\u001b[38;5;124m\"\u001b[39m)\n\u001b[0;32m----> 2\u001b[0m \u001b[38;5;28mprint\u001b[39m(\u001b[38;5;124mf\u001b[39m\u001b[38;5;124m\"\u001b[39m\u001b[38;5;132;01m{\u001b[39;00m\u001b[38;5;124m'\u001b[39m\u001b[38;5;124mProfondeur\u001b[39m\u001b[38;5;124m'\u001b[39m\u001b[38;5;132;01m:\u001b[39;00m\u001b[38;5;124m<20s\u001b[39m\u001b[38;5;132;01m}\u001b[39;00m\u001b[38;5;124m:\u001b[39m\u001b[38;5;124m\"\u001b[39m, end\u001b[38;5;241m=\u001b[39m\u001b[38;5;124m\"\u001b[39m\u001b[38;5;124m \u001b[39m\u001b[38;5;124m\"\u001b[39m) ; [\u001b[38;5;28mprint\u001b[39m(\u001b[38;5;124mf\u001b[39m\u001b[38;5;124m\"\u001b[39m\u001b[38;5;132;01m{\u001b[39;00mi\u001b[38;5;132;01m:\u001b[39;00m\u001b[38;5;124m<4d\u001b[39m\u001b[38;5;132;01m}\u001b[39;00m\u001b[38;5;124m\"\u001b[39m, end\u001b[38;5;241m=\u001b[39m\u001b[38;5;124m\"\u001b[39m\u001b[38;5;124m  \u001b[39m\u001b[38;5;124m\"\u001b[39m) \u001b[38;5;28;01mfor\u001b[39;00m i \u001b[38;5;129;01min\u001b[39;00m results_density_t_enriched[\u001b[38;5;124m\"\u001b[39m\u001b[38;5;124mdepths\u001b[39m\u001b[38;5;124m\"\u001b[39m]] ; \u001b[38;5;28mprint\u001b[39m(\u001b[38;5;124m\"\u001b[39m\u001b[38;5;130;01m\\n\u001b[39;00m\u001b[38;5;124m\"\u001b[39m)\n\u001b[1;32m      3\u001b[0m \u001b[38;5;28mprint\u001b[39m(\u001b[38;5;124mf\u001b[39m\u001b[38;5;124m\"\u001b[39m\u001b[38;5;132;01m{\u001b[39;00m\u001b[38;5;124m'\u001b[39m\u001b[38;5;124mAUC_train\u001b[39m\u001b[38;5;124m'\u001b[39m\u001b[38;5;132;01m:\u001b[39;00m\u001b[38;5;124m<20s\u001b[39m\u001b[38;5;132;01m}\u001b[39;00m\u001b[38;5;124m:\u001b[39m\u001b[38;5;124m\"\u001b[39m, end\u001b[38;5;241m=\u001b[39m\u001b[38;5;124m\"\u001b[39m\u001b[38;5;124m \u001b[39m\u001b[38;5;124m\"\u001b[39m) ; [\u001b[38;5;28mprint\u001b[39m(\u001b[38;5;124mf\u001b[39m\u001b[38;5;124m\"\u001b[39m\u001b[38;5;132;01m{\u001b[39;00mi\u001b[38;5;132;01m:\u001b[39;00m\u001b[38;5;124m<.2f\u001b[39m\u001b[38;5;132;01m}\u001b[39;00m\u001b[38;5;124m\"\u001b[39m, end\u001b[38;5;241m=\u001b[39m\u001b[38;5;124m\"\u001b[39m\u001b[38;5;124m  \u001b[39m\u001b[38;5;124m\"\u001b[39m) \u001b[38;5;28;01mfor\u001b[39;00m i \u001b[38;5;129;01min\u001b[39;00m results_density_t_enriched[\u001b[38;5;124m\"\u001b[39m\u001b[38;5;124mauc_train\u001b[39m\u001b[38;5;124m\"\u001b[39m]] ; \u001b[38;5;28mprint\u001b[39m()\n\u001b[1;32m      4\u001b[0m \u001b[38;5;28mprint\u001b[39m(\u001b[38;5;124mf\u001b[39m\u001b[38;5;124m\"\u001b[39m\u001b[38;5;132;01m{\u001b[39;00m\u001b[38;5;124m'\u001b[39m\u001b[38;5;124mAUC_test\u001b[39m\u001b[38;5;124m'\u001b[39m\u001b[38;5;132;01m:\u001b[39;00m\u001b[38;5;124m<20s\u001b[39m\u001b[38;5;132;01m}\u001b[39;00m\u001b[38;5;124m:\u001b[39m\u001b[38;5;124m\"\u001b[39m, end\u001b[38;5;241m=\u001b[39m\u001b[38;5;124m\"\u001b[39m\u001b[38;5;124m \u001b[39m\u001b[38;5;124m\"\u001b[39m) ; [\u001b[38;5;28mprint\u001b[39m(\u001b[38;5;124mf\u001b[39m\u001b[38;5;124m\"\u001b[39m\u001b[38;5;132;01m{\u001b[39;00mi\u001b[38;5;132;01m:\u001b[39;00m\u001b[38;5;124m<.2f\u001b[39m\u001b[38;5;132;01m}\u001b[39;00m\u001b[38;5;124m\"\u001b[39m, end\u001b[38;5;241m=\u001b[39m\u001b[38;5;124m\"\u001b[39m\u001b[38;5;124m  \u001b[39m\u001b[38;5;124m\"\u001b[39m) \u001b[38;5;28;01mfor\u001b[39;00m i \u001b[38;5;129;01min\u001b[39;00m results_density_t_enriched[\u001b[38;5;124m\"\u001b[39m\u001b[38;5;124mauc_test\u001b[39m\u001b[38;5;124m\"\u001b[39m]] ; \u001b[38;5;28mprint\u001b[39m(\u001b[38;5;124m\"\u001b[39m\u001b[38;5;130;01m\\n\u001b[39;00m\u001b[38;5;124m\"\u001b[39m)\n",
      "\u001b[0;31mNameError\u001b[0m: name 'results_density_t_enriched' is not defined"
     ]
    }
   ],
   "source": [
    "# print(\"----- Résumé des performances T plus (density20 > 0), arbre de décision -----\")\n",
    "print(f\"{'Profondeur':<20s}:\", end=\" \") ; [print(f\"{i:<4d}\", end=\"  \") for i in results_density_t_enriched[\"depths\"]] ; print(\"\\n\")\n",
    "print(f\"{'AUC_train':<20s}:\", end=\" \") ; [print(f\"{i:<.2f}\", end=\"  \") for i in results_density_t_enriched[\"auc_train\"]] ; print()\n",
    "print(f\"{'AUC_test':<20s}:\", end=\" \") ; [print(f\"{i:<.2f}\", end=\"  \") for i in results_density_t_enriched[\"auc_test\"]] ; print(\"\\n\")\n",
    "\n",
    "print(f\"{'Accuracy_train':<20s}:\", end=\" \") ; [print(f\"{i:<.2f}\", end=\"  \") for i in results_density_t_enriched[\"acc_train\"]] ; print()\n",
    "print(f\"{'Accuracy_test':<20s}:\", end=\" \") ; [print(f\"{i:<.2f}\", end=\"  \") for i in results_density_t_enriched[\"acc_test\"]] ; print(\"\\n\")\n",
    "\n",
    "print(\"---\")\n",
    "print(f\"{'AUC_train_dist':<20s}:\", end=\" \") ; [print(f\"{i:<.2f}\", end=\"  \") for i in results_densitY_loc_t_enriched[\"auc_train\"]] ; print()\n",
    "print(f\"{'AUC_test_dist':<20s}:\", end=\" \") ; [print(f\"{i:<.2f}\", end=\"  \") for i in results_densitY_loc_t_enriched[\"auc_test\"]] ; print(\"\\n\")\n",
    "\n",
    "print(f\"{'Accuracy_train_dist':<20s}:\", end=\" \") ; [print(f\"{i:<.2f}\", end=\"  \") for i in results_densitY_loc_t_enriched[\"acc_train\"]] ; print()\n",
    "print(f\"{'Accuracy_test_dist':<20s}:\", end=\" \") ; [print(f\"{i:<.2f}\", end=\"  \") for i in results_densitY_loc_t_enriched[\"acc_test\"]] ; print()"
   ]
  },
  {
   "cell_type": "code",
   "execution_count": null,
   "id": "76e9cd3c",
   "metadata": {},
   "outputs": [],
   "source": [
    "# Decision Tree (CART)\n",
    "dtree_density_enriched = DecisionTreeClassifier(\n",
    "    criterion=\"entropy\",\n",
    "    max_depth=10,\n",
    "    random_state=42,\n",
    "    class_weight=\"balanced\",\n",
    ")\n",
    "\n",
    "dtree_density_enriched.fit(X_density_train, Y_density_train)\n",
    "y_density_train_pred = dtree_density_enriched.predict(X_density_train)\n",
    "y_density_test_pred = dtree_density_enriched.predict(X_density_test)\n",
    "\n",
    "# Decision Tree (CART) with Dist column\n",
    "dtree_densitY_loc_enriched = DecisionTreeClassifier(\n",
    "    criterion=\"entropy\",\n",
    "    max_depth=10,\n",
    "    random_state=42,\n",
    "    class_weight=\"balanced\",\n",
    ")\n",
    "\n",
    "dtree_densitY_loc_enriched.fit(X_densitY_loc_train, Y_densitY_loc_train)\n",
    "y_density_loc_train_pred = dtree_densitY_loc_enriched.predict(X_densitY_loc_train)\n",
    "y_density_loc_test_pred = dtree_densitY_loc_enriched.predict(X_densitY_loc_test)\n",
    "\n",
    "# Performance\n",
    "fpr_train, tpr_train, _ = roc_curve(Y_density_train, y_density_train_pred)\n",
    "fpr_test, tpr_test, _ = roc_curve(Y_density_test, y_density_test_pred)\n",
    "\n",
    "fpr_loc_train, tpr_loc_train, _ = roc_curve(Y_densitY_loc_train, y_density_loc_train_pred)\n",
    "fpr_loc_test, tpr_loc_test, _ = roc_curve(Y_densitY_loc_test, y_density_loc_test_pred)"
   ]
  },
  {
   "cell_type": "code",
   "execution_count": 61,
   "id": "fe3e2eb5-4ae0-450a-ad63-2c4a2a84b626",
   "metadata": {},
   "outputs": [
    {
     "ename": "NameError",
     "evalue": "name 'pd' is not defined",
     "output_type": "error",
     "traceback": [
      "\u001b[0;31m---------------------------------------------------------------------------\u001b[0m",
      "\u001b[0;31mNameError\u001b[0m                                 Traceback (most recent call last)",
      "Cell \u001b[0;32mIn[61], line 1\u001b[0m\n\u001b[0;32m----> 1\u001b[0m labels_class \u001b[38;5;241m=\u001b[39m pd\u001b[38;5;241m.\u001b[39mSeries(clf_density_enriched\u001b[38;5;241m.\u001b[39mclasses_)\u001b[38;5;241m.\u001b[39mmap({\u001b[38;5;241m0\u001b[39m: \u001b[38;5;124m'\u001b[39m\u001b[38;5;124mnot_enriched\u001b[39m\u001b[38;5;124m'\u001b[39m, \u001b[38;5;241m1\u001b[39m: \u001b[38;5;124m'\u001b[39m\u001b[38;5;124menriched\u001b[39m\u001b[38;5;124m'\u001b[39m})\u001b[38;5;241m.\u001b[39mvalues\n",
      "\u001b[0;31mNameError\u001b[0m: name 'pd' is not defined"
     ]
    }
   ],
   "source": [
    "# labels_class = pd.Series(dtree_density_enriched.classes_).map({0: 'not_enriched', 1: 'enriched'}).values"
   ]
  },
  {
   "cell_type": "code",
   "execution_count": 62,
   "id": "e48f51b5-46b1-40cb-a30e-f5714adfb722",
   "metadata": {},
   "outputs": [
    {
     "name": "stdout",
     "output_type": "stream",
     "text": [
      "----- Arbre de décision (density20 > 0) -----\n"
     ]
    },
    {
     "ename": "NameError",
     "evalue": "name 'accuracy_score' is not defined",
     "output_type": "error",
     "traceback": [
      "\u001b[0;31m---------------------------------------------------------------------------\u001b[0m",
      "\u001b[0;31mNameError\u001b[0m                                 Traceback (most recent call last)",
      "Cell \u001b[0;32mIn[62], line 3\u001b[0m\n\u001b[1;32m      1\u001b[0m \u001b[38;5;66;03m# Model Accuracy, how often is the classifier correct?\u001b[39;00m\n\u001b[1;32m      2\u001b[0m \u001b[38;5;28mprint\u001b[39m(\u001b[38;5;124m\"\u001b[39m\u001b[38;5;124m----- Arbre de décision (density20 > 0) -----\u001b[39m\u001b[38;5;124m\"\u001b[39m)\n\u001b[0;32m----> 3\u001b[0m \u001b[38;5;28mprint\u001b[39m(\u001b[38;5;124m\"\u001b[39m\u001b[38;5;124mAccuracy Train:\u001b[39m\u001b[38;5;124m\"\u001b[39m, accuracy_score(Y_density_train, y_density_train_pred))\n\u001b[1;32m      4\u001b[0m \u001b[38;5;28mprint\u001b[39m(\u001b[38;5;124m\"\u001b[39m\u001b[38;5;124mAUC Train:\u001b[39m\u001b[38;5;124m\"\u001b[39m, auc(false_pos_rate_train, true_pos_rate_train))\n\u001b[1;32m      5\u001b[0m \u001b[38;5;28mprint\u001b[39m()\n",
      "\u001b[0;31mNameError\u001b[0m: name 'accuracy_score' is not defined"
     ]
    }
   ],
   "source": [
    "# Model Accuracy, how often is the classifier correct?\n",
    "print(\"----- Arbre de décision (density20 > 0) -----\")\n",
    "print(\"Accuracy Train:\", accuracy_score(Y_density_train, y_density_train_pred))\n",
    "print(\"AUC Train:\", auc(fpr_train, tpr_train))\n",
    "print()\n",
    "print(\"Accuracy Test:\", accuracy_score(Y_density_test, y_density_test_pred))\n",
    "print(\"AUC Test:\", auc(fpr_test, tpr_test))\n",
    "print()\n",
    "\n",
    "fig, (ax1, ax2) = plt.subplots(1, 2, figsize=(14, 5))\n",
    "cm = confusion_matrix(Y_density_test, y_density_test_pred)\n",
    "cm2 = confusion_matrix(Y_density_test, y_density_test_pred, normalize=\"true\")\n",
    "ConfusionMatrixDisplay(confusion_matrix=cm, display_labels=labels_class).plot(ax=ax1)\n",
    "ConfusionMatrixDisplay(confusion_matrix=cm2, display_labels=labels_class).plot(ax=ax2)\n",
    "plt.show()"
   ]
  },
  {
   "cell_type": "code",
   "execution_count": 63,
   "id": "02e41212-d530-4d59-bcb8-e58aaefb2eea",
   "metadata": {},
   "outputs": [
    {
     "name": "stdout",
     "output_type": "stream",
     "text": [
      "Arbre de décision acc, Angle avec Dist\n"
     ]
    },
    {
     "ename": "NameError",
     "evalue": "name 'accuracy_score' is not defined",
     "output_type": "error",
     "traceback": [
      "\u001b[0;31m---------------------------------------------------------------------------\u001b[0m",
      "\u001b[0;31mNameError\u001b[0m                                 Traceback (most recent call last)",
      "Cell \u001b[0;32mIn[63], line 2\u001b[0m\n\u001b[1;32m      1\u001b[0m \u001b[38;5;28mprint\u001b[39m(\u001b[38;5;124m\"\u001b[39m\u001b[38;5;124mArbre de décision acc, Angle avec Dist\u001b[39m\u001b[38;5;124m\"\u001b[39m)\n\u001b[0;32m----> 2\u001b[0m \u001b[38;5;28mprint\u001b[39m(\u001b[38;5;124m\"\u001b[39m\u001b[38;5;124mAccuracy Train:\u001b[39m\u001b[38;5;124m\"\u001b[39m, accuracy_score(Y_density_dist_train, y_density_dist_train_pred))\n\u001b[1;32m      3\u001b[0m \u001b[38;5;28mprint\u001b[39m(\u001b[38;5;124m\"\u001b[39m\u001b[38;5;124mAUC Train:\u001b[39m\u001b[38;5;124m\"\u001b[39m, auc(false_pos_rate_dist_train, true_pos_rate_dist_train))\n\u001b[1;32m      4\u001b[0m \u001b[38;5;28mprint\u001b[39m()\n",
      "\u001b[0;31mNameError\u001b[0m: name 'accuracy_score' is not defined"
     ]
    }
   ],
   "source": [
    "# print(\"Arbre de décision acc, Angle avec Dist\")\n",
    "print(\"Accuracy Train:\", accuracy_score(Y_densitY_loc_train, y_density_loc_train_pred))\n",
    "print(\"AUC Train:\", auc(fpr_loc_train, tpr_loc_train))\n",
    "print()\n",
    "print(\"Accuracy Test:\", accuracy_score(Y_densitY_loc_test, y_density_loc_test_pred))\n",
    "print(\"AUC Test:\", auc(fpr_loc_test, tpr_loc_test))\n",
    "\n",
    "fig, (ax1, ax2) = plt.subplots(1, 2, figsize=(14, 5))\n",
    "cm_dist = confusion_matrix(Y_densitY_loc_train, y_density_loc_train_pred)\n",
    "cm2_dist = confusion_matrix(Y_densitY_loc_train, y_density_loc_train_pred, normalize=\"true\")\n",
    "ConfusionMatrixDisplay(confusion_matrix=cm_dist, display_labels=labels_class).plot(ax=ax1)\n",
    "ConfusionMatrixDisplay(confusion_matrix=cm2_dist, display_labels=labels_class).plot(ax=ax2)\n",
    "plt.show()"
   ]
  },
  {
   "cell_type": "code",
   "execution_count": 64,
   "id": "655c300c",
   "metadata": {},
   "outputs": [
    {
     "ename": "NameError",
     "evalue": "name 'plt' is not defined",
     "output_type": "error",
     "traceback": [
      "\u001b[0;31m---------------------------------------------------------------------------\u001b[0m",
      "\u001b[0;31mNameError\u001b[0m                                 Traceback (most recent call last)",
      "Cell \u001b[0;32mIn[64], line 2\u001b[0m\n\u001b[1;32m      1\u001b[0m \u001b[38;5;66;03m# Arbre de Décision\u001b[39;00m\n\u001b[0;32m----> 2\u001b[0m fig \u001b[38;5;241m=\u001b[39m plt\u001b[38;5;241m.\u001b[39mfigure(figsize\u001b[38;5;241m=\u001b[39m(\u001b[38;5;241m10\u001b[39m, \u001b[38;5;241m30\u001b[39m))\n\u001b[1;32m      3\u001b[0m dot_data \u001b[38;5;241m=\u001b[39m tree\u001b[38;5;241m.\u001b[39mexport_graphviz(\n\u001b[1;32m      4\u001b[0m     clf_density_enriched,\n\u001b[1;32m      5\u001b[0m     feature_names\u001b[38;5;241m=\u001b[39mx_columns,\n\u001b[1;32m      6\u001b[0m     class_names\u001b[38;5;241m=\u001b[39mlabels_class,\n\u001b[1;32m      7\u001b[0m     filled\u001b[38;5;241m=\u001b[39m\u001b[38;5;28;01mTrue\u001b[39;00m\n\u001b[1;32m      8\u001b[0m )\n\u001b[1;32m      9\u001b[0m graph \u001b[38;5;241m=\u001b[39m graphviz\u001b[38;5;241m.\u001b[39mSource(dot_data, \u001b[38;5;28mformat\u001b[39m\u001b[38;5;241m=\u001b[39m\u001b[38;5;124m\"\u001b[39m\u001b[38;5;124mpng\u001b[39m\u001b[38;5;124m\"\u001b[39m)\n",
      "\u001b[0;31mNameError\u001b[0m: name 'plt' is not defined"
     ]
    }
   ],
   "source": [
    "# Arbre de Décision\n",
    "fig = plt.figure(figsize=(10, 30))\n",
    "dot_data = tree.export_graphviz(\n",
    "    dtree_density_enriched,\n",
    "    feature_names=x_columns,\n",
    "    class_names=labels_class,\n",
    "    filled=True\n",
    ")\n",
    "graph = graphviz.Source(dot_data, format=\"png\")\n",
    "#graph.render(\"../out/KI_decision_tree_density_t-plus_dist\")\n",
    "graph"
   ]
  },
  {
   "cell_type": "code",
   "execution_count": 65,
   "id": "e8c14ef2",
   "metadata": {},
   "outputs": [
    {
     "ename": "NameError",
     "evalue": "name 'plt' is not defined",
     "output_type": "error",
     "traceback": [
      "\u001b[0;31m---------------------------------------------------------------------------\u001b[0m",
      "\u001b[0;31mNameError\u001b[0m                                 Traceback (most recent call last)",
      "Cell \u001b[0;32mIn[65], line 2\u001b[0m\n\u001b[1;32m      1\u001b[0m \u001b[38;5;66;03m# Arbre de décision avec l'ajout de Dist & Angle\u001b[39;00m\n\u001b[0;32m----> 2\u001b[0m fig \u001b[38;5;241m=\u001b[39m plt\u001b[38;5;241m.\u001b[39mfigure(figsize\u001b[38;5;241m=\u001b[39m(\u001b[38;5;241m10\u001b[39m, \u001b[38;5;241m30\u001b[39m))\n\u001b[1;32m      3\u001b[0m dot_data \u001b[38;5;241m=\u001b[39m tree\u001b[38;5;241m.\u001b[39mexport_graphviz(\n\u001b[1;32m      4\u001b[0m     clf_density_dist_enriched,\n\u001b[1;32m      5\u001b[0m     feature_names\u001b[38;5;241m=\u001b[39mx_columns_dist,\n\u001b[1;32m      6\u001b[0m     class_names\u001b[38;5;241m=\u001b[39mlabels_class,\n\u001b[1;32m      7\u001b[0m     filled\u001b[38;5;241m=\u001b[39m\u001b[38;5;28;01mTrue\u001b[39;00m\n\u001b[1;32m      8\u001b[0m )\n\u001b[1;32m     10\u001b[0m graph \u001b[38;5;241m=\u001b[39m graphviz\u001b[38;5;241m.\u001b[39mSource(dot_data, \u001b[38;5;28mformat\u001b[39m\u001b[38;5;241m=\u001b[39m\u001b[38;5;124m\"\u001b[39m\u001b[38;5;124mpng\u001b[39m\u001b[38;5;124m\"\u001b[39m)\n",
      "\u001b[0;31mNameError\u001b[0m: name 'plt' is not defined"
     ]
    }
   ],
   "source": [
    "# Arbre de décision avec l'ajout de Dist & Angle\n",
    "fig = plt.figure(figsize=(10, 30))\n",
    "dot_data = tree.export_graphviz(\n",
    "    dtree_densitY_loc_enriched,\n",
    "    feature_names=x_columns_dist,\n",
    "    class_names=labels_class,\n",
    "    filled=True\n",
    ")\n",
    "\n",
    "graph = graphviz.Source(dot_data, format=\"png\")\n",
    "graph.render(\"../out/KI_decision_tree_density_t-plus_dist\")\n",
    "graph"
   ]
  },
  {
   "cell_type": "markdown",
   "id": "e663214b",
   "metadata": {},
   "source": [
    "# Random Forest"
   ]
  },
  {
   "cell_type": "code",
   "execution_count": 66,
   "id": "a1ac5353",
   "metadata": {},
   "outputs": [
    {
     "ename": "NameError",
     "evalue": "name 'models' is not defined",
     "output_type": "error",
     "traceback": [
      "\u001b[0;31m---------------------------------------------------------------------------\u001b[0m",
      "\u001b[0;31mNameError\u001b[0m                                 Traceback (most recent call last)",
      "Cell \u001b[0;32mIn[66], line 2\u001b[0m\n\u001b[1;32m      1\u001b[0m max_depths_rd \u001b[38;5;241m=\u001b[39m [\u001b[38;5;241m2\u001b[39m, \u001b[38;5;241m6\u001b[39m, \u001b[38;5;241m10\u001b[39m, \u001b[38;5;241m15\u001b[39m, \u001b[38;5;241m20\u001b[39m]\n\u001b[0;32m----> 2\u001b[0m results_density_t_enriched_rf \u001b[38;5;241m=\u001b[39m models\u001b[38;5;241m.\u001b[39mforest_depth_acc(\n\u001b[1;32m      3\u001b[0m     X_density_train, Y_density_train,\n\u001b[1;32m      4\u001b[0m     X_density_test, Y_density_test,\n\u001b[1;32m      5\u001b[0m     depths\u001b[38;5;241m=\u001b[39mmax_depths_rd, \n\u001b[1;32m      6\u001b[0m     classifier\u001b[38;5;241m=\u001b[39mRandomForestClassifier,\n\u001b[1;32m      7\u001b[0m     n_estimators \u001b[38;5;241m=\u001b[39m \u001b[38;5;241m100\u001b[39m,\n\u001b[1;32m      8\u001b[0m     class_weight\u001b[38;5;241m=\u001b[39m\u001b[38;5;124m\"\u001b[39m\u001b[38;5;124mbalanced\u001b[39m\u001b[38;5;124m\"\u001b[39m,\n\u001b[1;32m      9\u001b[0m     n_jobs\u001b[38;5;241m=\u001b[39m\u001b[38;5;241m-\u001b[39m\u001b[38;5;241m1\u001b[39m\n\u001b[1;32m     10\u001b[0m )\n\u001b[1;32m     12\u001b[0m results_density_dist_t_enriched_rf \u001b[38;5;241m=\u001b[39m models\u001b[38;5;241m.\u001b[39mforest_depth_acc(\n\u001b[1;32m     13\u001b[0m     X_density_dist_train, Y_density_dist_train,\n\u001b[1;32m     14\u001b[0m     X_density_dist_test, Y_density_dist_test,\n\u001b[0;32m   (...)\u001b[0m\n\u001b[1;32m     19\u001b[0m     n_jobs\u001b[38;5;241m=\u001b[39m\u001b[38;5;241m-\u001b[39m\u001b[38;5;241m1\u001b[39m\n\u001b[1;32m     20\u001b[0m )\n",
      "\u001b[0;31mNameError\u001b[0m: name 'models' is not defined"
     ]
    }
   ],
   "source": [
    "# max_depths_rd = [2, 6, 10, 15, 20]\n",
    "results_density_t_enriched_rf = models.forest_depth_acc(\n",
    "    X_density_train, Y_density_train,\n",
    "    X_density_test, Y_density_test,\n",
    "    depths=max_depths_rd, \n",
    "    classifier=RandomForestClassifier,\n",
    "    n_estimators = 100,\n",
    "    class_weight=\"balanced\",\n",
    "    n_jobs=-1\n",
    ")\n",
    "\n",
    "results_densitY_loc_t_enriched_rf = models.forest_depth_acc(\n",
    "    X_densitY_loc_train, Y_densitY_loc_train,\n",
    "    X_densitY_loc_test, Y_densitY_loc_test,\n",
    "    depths=max_depths_rd, \n",
    "    classifier=RandomForestClassifier,\n",
    "    n_estimators = 100,\n",
    "    class_weight=\"balanced\",\n",
    "    n_jobs=-1\n",
    ")"
   ]
  },
  {
   "cell_type": "code",
   "execution_count": 67,
   "id": "353c0901",
   "metadata": {},
   "outputs": [
    {
     "ename": "NameError",
     "evalue": "name 'plt' is not defined",
     "output_type": "error",
     "traceback": [
      "\u001b[0;31m---------------------------------------------------------------------------\u001b[0m",
      "\u001b[0;31mNameError\u001b[0m                                 Traceback (most recent call last)",
      "Cell \u001b[0;32mIn[67], line 2\u001b[0m\n\u001b[1;32m      1\u001b[0m \u001b[38;5;66;03m# Plot\u001b[39;00m\n\u001b[0;32m----> 2\u001b[0m fig, (ax1, ax2) \u001b[38;5;241m=\u001b[39m plt\u001b[38;5;241m.\u001b[39msubplots(\u001b[38;5;241m1\u001b[39m, \u001b[38;5;241m2\u001b[39m, figsize\u001b[38;5;241m=\u001b[39m(\u001b[38;5;241m15\u001b[39m, \u001b[38;5;241m8\u001b[39m))\n\u001b[1;32m      4\u001b[0m plots\u001b[38;5;241m.\u001b[39mplot(\n\u001b[1;32m      5\u001b[0m     results_density_t_enriched_rf[\u001b[38;5;124m\"\u001b[39m\u001b[38;5;124mauc_train\u001b[39m\u001b[38;5;124m\"\u001b[39m],\n\u001b[1;32m      6\u001b[0m     results_density_t_enriched_rf[\u001b[38;5;124m\"\u001b[39m\u001b[38;5;124mauc_test\u001b[39m\u001b[38;5;124m\"\u001b[39m],\n\u001b[0;32m   (...)\u001b[0m\n\u001b[1;32m     12\u001b[0m     ytop\u001b[38;5;241m=\u001b[39m\u001b[38;5;241m1\u001b[39m, ybottom\u001b[38;5;241m=\u001b[39m\u001b[38;5;241m0.58\u001b[39m, figure\u001b[38;5;241m=\u001b[39m(fig, ax1)\n\u001b[1;32m     13\u001b[0m )\n\u001b[1;32m     15\u001b[0m plots\u001b[38;5;241m.\u001b[39mplot(\n\u001b[1;32m     16\u001b[0m     results_density_dist_t_enriched_rf[\u001b[38;5;124m\"\u001b[39m\u001b[38;5;124mauc_train\u001b[39m\u001b[38;5;124m\"\u001b[39m],\n\u001b[1;32m     17\u001b[0m     results_density_dist_t_enriched_rf[\u001b[38;5;124m\"\u001b[39m\u001b[38;5;124mauc_test\u001b[39m\u001b[38;5;124m\"\u001b[39m],\n\u001b[0;32m   (...)\u001b[0m\n\u001b[1;32m     23\u001b[0m     ytop\u001b[38;5;241m=\u001b[39m\u001b[38;5;241m1\u001b[39m, ybottom\u001b[38;5;241m=\u001b[39m\u001b[38;5;241m0.58\u001b[39m, figure\u001b[38;5;241m=\u001b[39m(fig, ax2)\n\u001b[1;32m     24\u001b[0m )\n",
      "\u001b[0;31mNameError\u001b[0m: name 'plt' is not defined"
     ]
    }
   ],
   "source": [
    "# Plot\n",
    "fig, (ax1, ax2) = plt.subplots(1, 2, figsize=(15, 8))\n",
    "\n",
    "plots.plot(\n",
    "    results_density_t_enriched_rf[\"auc_train\"],\n",
    "    results_density_t_enriched_rf[\"auc_test\"],\n",
    "    indices=results_density_t_enriched_rf[\"depths\"],\n",
    "    label=(\"Train AUC\", \"Test AUC\"),\n",
    "    title=\"T enriched density\\nEvolution de l'AUC selon la profondeur des arbres\\ndu RandomForest\",\n",
    "    xlabel=\"AUC\", ylabel=\"Profondeur de l'arbre\",\n",
    "    xticks=results_density_t_enriched_rf[\"depths\"], showR2=False, showY=False,\n",
    "    ytop=1, ybottom=0.58, figure=(fig, ax1)\n",
    ")\n",
    "\n",
    "plots.plot(\n",
    "    results_densitY_loc_t_enriched_rf[\"auc_train\"],\n",
    "    results_densitY_loc_t_enriched_rf[\"auc_test\"],\n",
    "    indices=results_densitY_loc_t_enriched_rf[\"depths\"],\n",
    "    label=(\"Train AUC\", \"Test AUC\"),\n",
    "    title=\"T enriched density\\nEvolution de l'AUC (avec Dist & Angle) selon la profondeur des arbres\\ndu RandomForest\",\n",
    "    xlabel=\"AUC\", ylabel=\"Profondeur de l'arbre\",\n",
    "    xticks=results_densitY_loc_t_enriched_rf[\"depths\"], showR2=False, showY=False,\n",
    "    ytop=1, ybottom=0.58, figure=(fig, ax2)\n",
    ")\n",
    "\n",
    "plt.show()\n",
    "\n",
    "# Plot\n",
    "fig, (ax1, ax2) = plt.subplots(1, 2, figsize=(15, 8))\n",
    "\n",
    "plots.plot(\n",
    "    results_density_t_enriched_rf[\"acc_train\"],\n",
    "    results_density_t_enriched_rf[\"acc_test\"],\n",
    "    indices=results_density_t_enriched_rf[\"depths\"],\n",
    "    label=(\"Train Accuracy\", \"Test Accuracy\"),\n",
    "    title=\"T enriched density\\nEvolution de l'accuracy selon la profondeur des arbres\\ndu RandomForest\",\n",
    "    xlabel=\"Accuracy\", ylabel=\"Profondeur de l'arbre\",\n",
    "    xticks=results_density_t_enriched_rf[\"depths\"], showR2=False, showY=False,\n",
    "    ytop=1, ybottom=0.58, figure=(fig, ax1)\n",
    ")\n",
    "\n",
    "plots.plot(\n",
    "    results_densitY_loc_t_enriched_rf[\"acc_train\"],\n",
    "    results_densitY_loc_t_enriched_rf[\"acc_test\"],\n",
    "    indices=results_densitY_loc_t_enriched_rf[\"depths\"],\n",
    "    label=(\"Train Accuracy\", \"Test Accuracy\"),\n",
    "    title=\"T enriched density\\nEvolution de l'Accuracy (avec Dist & Angle) selon la profondeur des arbres\\ndu RandomForest\",\n",
    "    xlabel=\"Accuracy\", ylabel=\"Profondeur de l'arbre\",\n",
    "    xticks=results_densitY_loc_t_enriched_rf[\"depths\"], showR2=False, showY=False,\n",
    "    ytop=1, ybottom=0.58, figure=(fig, ax2)\n",
    ")\n",
    "\n",
    "plt.show()"
   ]
  },
  {
   "cell_type": "code",
   "execution_count": null,
   "id": "83dbabe7",
   "metadata": {},
   "outputs": [],
   "source": [
    "# print(\"----- Résumé des performances T enrichie (density20 > 0), Random Forest -----\")\n",
    "print(f\"{'Profondeur':<20s}:\", end=\" \") ; [print(f\"{i:<4d}\", end=\"  \") for i in results_density_t_enriched_rf[\"depths\"]] ; print(\"\\n\")\n",
    "print(f\"{'AUC_train':<20s}:\", end=\" \") ; [print(f\"{i:<.2f}\", end=\"  \") for i in results_density_t_enriched_rf[\"auc_train\"]] ; print()\n",
    "print(f\"{'AUC_test':<20s}:\", end=\" \") ; [print(f\"{i:<.2f}\", end=\"  \") for i in results_density_t_enriched_rf[\"auc_test\"]] ; print(\"\\n\")\n",
    "\n",
    "print(f\"{'Accuracy_train':<20s}:\", end=\" \") ; [print(f\"{i:<.2f}\", end=\"  \") for i in results_density_t_enriched_rf[\"acc_train\"]] ; print()\n",
    "print(f\"{'Accuracy_test':<20s}:\", end=\" \") ; [print(f\"{i:<.2f}\", end=\"  \") for i in results_density_t_enriched_rf[\"acc_test\"]] ; print(\"\\n\")\n",
    "\n",
    "print(\"---\")\n",
    "print(f\"{'AUC_train_dist':<20s}:\", end=\" \") ; [print(f\"{i:<.2f}\", end=\"  \") for i in results_densitY_loc_t_enriched_rf[\"auc_train\"]] ; print()\n",
    "print(f\"{'AUC_test_dist':<20s}:\", end=\" \") ; [print(f\"{i:<.2f}\", end=\"  \") for i in results_densitY_loc_t_enriched_rf[\"auc_test\"]] ; print(\"\\n\")\n",
    "\n",
    "print(f\"{'Accuracy_train_dist':<20s}:\", end=\" \") ; [print(f\"{i:<.2f}\", end=\"  \") for i in results_densitY_loc_t_enriched_rf[\"acc_train\"]] ; print()\n",
    "print(f\"{'Accuracy_test_dist':<20s}:\", end=\" \") ; [print(f\"{i:<.2f}\", end=\"  \") for i in results_densitY_loc_t_enriched_rf[\"acc_test\"]] ; print()"
   ]
  },
  {
   "cell_type": "code",
   "execution_count": 68,
   "id": "235251f7",
   "metadata": {},
   "outputs": [
    {
     "ename": "NameError",
     "evalue": "name 'models' is not defined",
     "output_type": "error",
     "traceback": [
      "\u001b[0;31m---------------------------------------------------------------------------\u001b[0m",
      "\u001b[0;31mNameError\u001b[0m                                 Traceback (most recent call last)",
      "Cell \u001b[0;32mIn[68], line 2\u001b[0m\n\u001b[1;32m      1\u001b[0m \u001b[38;5;66;03m# Random forest\u001b[39;00m\n\u001b[0;32m----> 2\u001b[0m results_density_enriched \u001b[38;5;241m=\u001b[39m models\u001b[38;5;241m.\u001b[39mperform_random_forest(\n\u001b[1;32m      3\u001b[0m     X_train\u001b[38;5;241m=\u001b[39mX_density_train,\n\u001b[1;32m      4\u001b[0m     X_test\u001b[38;5;241m=\u001b[39mX_density_test,\n\u001b[1;32m      5\u001b[0m     y_train\u001b[38;5;241m=\u001b[39mY_density_train,\n\u001b[1;32m      6\u001b[0m     y_test\u001b[38;5;241m=\u001b[39mY_density_test,\n\u001b[1;32m      7\u001b[0m     columns\u001b[38;5;241m=\u001b[39mx_columns,\n\u001b[1;32m      8\u001b[0m     n_estimators\u001b[38;5;241m=\u001b[39m(\u001b[38;5;241m10\u001b[39m, \u001b[38;5;241m15\u001b[39m, \u001b[38;5;241m20\u001b[39m, \u001b[38;5;241m30\u001b[39m),\n\u001b[1;32m      9\u001b[0m     n_depths\u001b[38;5;241m=\u001b[39m(\u001b[38;5;241m2\u001b[39m, \u001b[38;5;241m4\u001b[39m, \u001b[38;5;241m8\u001b[39m, \u001b[38;5;241m10\u001b[39m, \u001b[38;5;241m15\u001b[39m),\n\u001b[1;32m     10\u001b[0m     class_weight\u001b[38;5;241m=\u001b[39m\u001b[38;5;124m\"\u001b[39m\u001b[38;5;124mbalanced\u001b[39m\u001b[38;5;124m\"\u001b[39m,\n\u001b[1;32m     11\u001b[0m     scale\u001b[38;5;241m=\u001b[39m\u001b[38;5;28;01mFalse\u001b[39;00m\n\u001b[1;32m     12\u001b[0m )\n\u001b[1;32m     14\u001b[0m rf_density_enriched \u001b[38;5;241m=\u001b[39m results_density_enriched[\u001b[38;5;124m\"\u001b[39m\u001b[38;5;124mmodel\u001b[39m\u001b[38;5;124m\"\u001b[39m]\n",
      "\u001b[0;31mNameError\u001b[0m: name 'models' is not defined"
     ]
    }
   ],
   "source": [
    "# Random forest\n",
    "results_density_enriched = models.perform_random_forest(\n",
    "    x_train=X_density_train,\n",
    "    x_test=X_density_test,\n",
    "    y_train=Y_density_train,\n",
    "    y_test=Y_density_test,\n",
    "    columns=x_columns,\n",
    "    n_estimators=(10, 15, 20, 30),\n",
    "    n_depths=(2, 4, 8, 10, 15),\n",
    "    class_weight=\"balanced\",\n",
    "    scale=False\n",
    ")\n",
    "\n",
    "rf_density_enriched = results_density_enriched[\"model\"]"
   ]
  },
  {
   "cell_type": "code",
   "execution_count": 69,
   "id": "056c85bb",
   "metadata": {},
   "outputs": [
    {
     "ename": "NameError",
     "evalue": "name 'pd' is not defined",
     "output_type": "error",
     "traceback": [
      "\u001b[0;31m---------------------------------------------------------------------------\u001b[0m",
      "\u001b[0;31mNameError\u001b[0m                                 Traceback (most recent call last)",
      "Cell \u001b[0;32mIn[69], line 1\u001b[0m\n\u001b[0;32m----> 1\u001b[0m df_mdi \u001b[38;5;241m=\u001b[39m pd\u001b[38;5;241m.\u001b[39mDataFrame(\n\u001b[1;32m      2\u001b[0m     {\n\u001b[1;32m      3\u001b[0m         \u001b[38;5;124m\"\u001b[39m\u001b[38;5;124mmean\u001b[39m\u001b[38;5;124m\"\u001b[39m: results_density_enriched[\u001b[38;5;124m\"\u001b[39m\u001b[38;5;124mimportance_mdi\u001b[39m\u001b[38;5;124m\"\u001b[39m][\u001b[38;5;124m\"\u001b[39m\u001b[38;5;124mmean\u001b[39m\u001b[38;5;124m\"\u001b[39m],\n\u001b[1;32m      4\u001b[0m         \u001b[38;5;124m\"\u001b[39m\u001b[38;5;124mstd\u001b[39m\u001b[38;5;124m\"\u001b[39m: results_density_enriched[\u001b[38;5;124m\"\u001b[39m\u001b[38;5;124mimportance_mdi\u001b[39m\u001b[38;5;124m\"\u001b[39m][\u001b[38;5;124m\"\u001b[39m\u001b[38;5;124mstd\u001b[39m\u001b[38;5;124m\"\u001b[39m]\n\u001b[1;32m      5\u001b[0m     }, index\u001b[38;5;241m=\u001b[39mx_columns\n\u001b[1;32m      6\u001b[0m )\n\u001b[1;32m      8\u001b[0m df_mdi\u001b[38;5;241m.\u001b[39mto_csv(\u001b[38;5;124m\"\u001b[39m\u001b[38;5;124mKI_CD3_enriched_density_importance-mdi.csv\u001b[39m\u001b[38;5;124m\"\u001b[39m)\n\u001b[1;32m     10\u001b[0m df_permutation \u001b[38;5;241m=\u001b[39m pd\u001b[38;5;241m.\u001b[39mDataFrame(\n\u001b[1;32m     11\u001b[0m     {\n\u001b[1;32m     12\u001b[0m         \u001b[38;5;124m\"\u001b[39m\u001b[38;5;124mmean\u001b[39m\u001b[38;5;124m\"\u001b[39m: results_density_enriched[\u001b[38;5;124m\"\u001b[39m\u001b[38;5;124mimportance_permutation\u001b[39m\u001b[38;5;124m\"\u001b[39m][\u001b[38;5;124m\"\u001b[39m\u001b[38;5;124mmean\u001b[39m\u001b[38;5;124m\"\u001b[39m],\n\u001b[1;32m     13\u001b[0m         \u001b[38;5;124m\"\u001b[39m\u001b[38;5;124mstd\u001b[39m\u001b[38;5;124m\"\u001b[39m: results_density_enriched[\u001b[38;5;124m\"\u001b[39m\u001b[38;5;124mimportance_permutation\u001b[39m\u001b[38;5;124m\"\u001b[39m][\u001b[38;5;124m\"\u001b[39m\u001b[38;5;124mstd\u001b[39m\u001b[38;5;124m\"\u001b[39m]\n\u001b[1;32m     14\u001b[0m     }, index\u001b[38;5;241m=\u001b[39mx_columns\n\u001b[1;32m     15\u001b[0m )\n",
      "\u001b[0;31mNameError\u001b[0m: name 'pd' is not defined"
     ]
    }
   ],
   "source": [
    "# df_mdi = pd.DataFrame(\n",
    "    {\n",
    "        \"mean\": results_density_enriched[\"importance_mdi\"][\"mean\"],\n",
    "        \"std\": results_density_enriched[\"importance_mdi\"][\"std\"]\n",
    "    }, index=x_columns\n",
    ")\n",
    "\n",
    "df_mdi.to_csv(\"KI_CD3_enriched_density_importance-mdi.csv\")\n",
    "\n",
    "df_permutation = pd.DataFrame(\n",
    "    {\n",
    "        \"mean\": results_density_enriched[\"importance_permutation\"][\"mean\"],\n",
    "        \"std\": results_density_enriched[\"importance_permutation\"][\"std\"]\n",
    "    }, index=x_columns\n",
    ")\n",
    "\n",
    "df_permutation.to_csv(\"KI_CD3_enriched_density_importance-permutation.csv\")"
   ]
  },
  {
   "cell_type": "code",
   "execution_count": 70,
   "id": "2e88b8d7",
   "metadata": {},
   "outputs": [
    {
     "ename": "NameError",
     "evalue": "name 'models' is not defined",
     "output_type": "error",
     "traceback": [
      "\u001b[0;31m---------------------------------------------------------------------------\u001b[0m",
      "\u001b[0;31mNameError\u001b[0m                                 Traceback (most recent call last)",
      "Cell \u001b[0;32mIn[70], line 2\u001b[0m\n\u001b[1;32m      1\u001b[0m \u001b[38;5;66;03m# Random forest with Dist & Angle\u001b[39;00m\n\u001b[0;32m----> 2\u001b[0m results_density_dist_enriched \u001b[38;5;241m=\u001b[39m models\u001b[38;5;241m.\u001b[39mperform_random_forest(\n\u001b[1;32m      3\u001b[0m     X_train\u001b[38;5;241m=\u001b[39mX_density_dist_train,\n\u001b[1;32m      4\u001b[0m     X_test\u001b[38;5;241m=\u001b[39mX_density_dist_test,\n\u001b[1;32m      5\u001b[0m     y_train\u001b[38;5;241m=\u001b[39mY_density_dist_train,\n\u001b[1;32m      6\u001b[0m     y_test\u001b[38;5;241m=\u001b[39mY_density_dist_test,\n\u001b[1;32m      7\u001b[0m     columns\u001b[38;5;241m=\u001b[39mx_columns_dist,\n\u001b[1;32m      8\u001b[0m     n_estimators\u001b[38;5;241m=\u001b[39m(\u001b[38;5;241m10\u001b[39m, \u001b[38;5;241m15\u001b[39m, \u001b[38;5;241m20\u001b[39m, \u001b[38;5;241m30\u001b[39m),\n\u001b[1;32m      9\u001b[0m     n_depths\u001b[38;5;241m=\u001b[39m(\u001b[38;5;241m2\u001b[39m, \u001b[38;5;241m4\u001b[39m, \u001b[38;5;241m8\u001b[39m, \u001b[38;5;241m10\u001b[39m, \u001b[38;5;241m15\u001b[39m),\n\u001b[1;32m     10\u001b[0m     class_weight\u001b[38;5;241m=\u001b[39m\u001b[38;5;124m\"\u001b[39m\u001b[38;5;124mbalanced\u001b[39m\u001b[38;5;124m\"\u001b[39m,\n\u001b[1;32m     11\u001b[0m     scale\u001b[38;5;241m=\u001b[39m\u001b[38;5;28;01mFalse\u001b[39;00m\n\u001b[1;32m     12\u001b[0m )\n\u001b[1;32m     14\u001b[0m rf_density_dist_enriched \u001b[38;5;241m=\u001b[39m results_density_dist_enriched[\u001b[38;5;124m\"\u001b[39m\u001b[38;5;124mmodel\u001b[39m\u001b[38;5;124m\"\u001b[39m]\n",
      "\u001b[0;31mNameError\u001b[0m: name 'models' is not defined"
     ]
    }
   ],
   "source": [
    "# Random forest with Dist & Angle\n",
    "results_densitY_loc_enriched = models.perform_random_forest(\n",
    "    x_train=X_densitY_loc_train,\n",
    "    x_test=X_densitY_loc_test,\n",
    "    y_train=Y_densitY_loc_train,\n",
    "    y_test=Y_densitY_loc_test,\n",
    "    columns=x_columns_dist,\n",
    "    n_estimators=(10, 15, 20, 30),\n",
    "    n_depths=(2, 4, 8, 10, 15),\n",
    "    class_weight=\"balanced\",\n",
    "    scale=False\n",
    ")\n",
    "\n",
    "rf_densitY_loc_enriched = results_densitY_loc_enriched[\"model\"]"
   ]
  },
  {
   "cell_type": "code",
   "execution_count": 71,
   "id": "184dd91f",
   "metadata": {},
   "outputs": [
    {
     "ename": "NameError",
     "evalue": "name 'pd' is not defined",
     "output_type": "error",
     "traceback": [
      "\u001b[0;31m---------------------------------------------------------------------------\u001b[0m",
      "\u001b[0;31mNameError\u001b[0m                                 Traceback (most recent call last)",
      "Cell \u001b[0;32mIn[71], line 1\u001b[0m\n\u001b[0;32m----> 1\u001b[0m df_mdi \u001b[38;5;241m=\u001b[39m pd\u001b[38;5;241m.\u001b[39mDataFrame(\n\u001b[1;32m      2\u001b[0m     {\n\u001b[1;32m      3\u001b[0m         \u001b[38;5;124m\"\u001b[39m\u001b[38;5;124mmean\u001b[39m\u001b[38;5;124m\"\u001b[39m: results_density_dist_enriched[\u001b[38;5;124m\"\u001b[39m\u001b[38;5;124mimportance_mdi\u001b[39m\u001b[38;5;124m\"\u001b[39m][\u001b[38;5;124m\"\u001b[39m\u001b[38;5;124mmean\u001b[39m\u001b[38;5;124m\"\u001b[39m],\n\u001b[1;32m      4\u001b[0m         \u001b[38;5;124m\"\u001b[39m\u001b[38;5;124mstd\u001b[39m\u001b[38;5;124m\"\u001b[39m: results_density_dist_enriched[\u001b[38;5;124m\"\u001b[39m\u001b[38;5;124mimportance_mdi\u001b[39m\u001b[38;5;124m\"\u001b[39m][\u001b[38;5;124m\"\u001b[39m\u001b[38;5;124mstd\u001b[39m\u001b[38;5;124m\"\u001b[39m]\n\u001b[1;32m      5\u001b[0m     }, index\u001b[38;5;241m=\u001b[39mx_columns_dist\n\u001b[1;32m      6\u001b[0m )\n\u001b[1;32m      8\u001b[0m df_mdi\u001b[38;5;241m.\u001b[39mto_csv(\u001b[38;5;124m\"\u001b[39m\u001b[38;5;124mKI_CD3_enriched-dist_density_importance-mdi.csv\u001b[39m\u001b[38;5;124m\"\u001b[39m)\n\u001b[1;32m     10\u001b[0m df_permutation \u001b[38;5;241m=\u001b[39m pd\u001b[38;5;241m.\u001b[39mDataFrame(\n\u001b[1;32m     11\u001b[0m     {\n\u001b[1;32m     12\u001b[0m         \u001b[38;5;124m\"\u001b[39m\u001b[38;5;124mmean\u001b[39m\u001b[38;5;124m\"\u001b[39m: results_density_dist_enriched[\u001b[38;5;124m\"\u001b[39m\u001b[38;5;124mimportance_permutation\u001b[39m\u001b[38;5;124m\"\u001b[39m][\u001b[38;5;124m\"\u001b[39m\u001b[38;5;124mmean\u001b[39m\u001b[38;5;124m\"\u001b[39m],\n\u001b[1;32m     13\u001b[0m         \u001b[38;5;124m\"\u001b[39m\u001b[38;5;124mstd\u001b[39m\u001b[38;5;124m\"\u001b[39m: results_density_dist_enriched[\u001b[38;5;124m\"\u001b[39m\u001b[38;5;124mimportance_permutation\u001b[39m\u001b[38;5;124m\"\u001b[39m][\u001b[38;5;124m\"\u001b[39m\u001b[38;5;124mstd\u001b[39m\u001b[38;5;124m\"\u001b[39m]\n\u001b[1;32m     14\u001b[0m     }, index\u001b[38;5;241m=\u001b[39mx_columns_dist\n\u001b[1;32m     15\u001b[0m )\n",
      "\u001b[0;31mNameError\u001b[0m: name 'pd' is not defined"
     ]
    }
   ],
   "source": [
    "# df_mdi = pd.DataFrame(\n",
    "    {\n",
    "        \"mean\": results_densitY_loc_enriched[\"importance_mdi\"][\"mean\"],\n",
    "        \"std\": results_densitY_loc_enriched[\"importance_mdi\"][\"std\"]\n",
    "    }, index=x_columns_dist\n",
    ")\n",
    "\n",
    "df_mdi.to_csv(\"KI_CD3_enriched-dist_density_importance-mdi.csv\")\n",
    "\n",
    "df_permutation = pd.DataFrame(\n",
    "    {\n",
    "        \"mean\": results_densitY_loc_enriched[\"importance_permutation\"][\"mean\"],\n",
    "        \"std\": results_densitY_loc_enriched[\"importance_permutation\"][\"std\"]\n",
    "    }, index=x_columns_dist\n",
    ")\n",
    "\n",
    "df_permutation.to_csv(\"KI_CD3_enriched-dist_density_importance-permutation.csv\")"
   ]
  },
  {
   "cell_type": "code",
   "execution_count": 72,
   "id": "cc802a1f",
   "metadata": {},
   "outputs": [
    {
     "ename": "NameError",
     "evalue": "name 'rf_density_enriched' is not defined",
     "output_type": "error",
     "traceback": [
      "\u001b[0;31m---------------------------------------------------------------------------\u001b[0m",
      "\u001b[0;31mNameError\u001b[0m                                 Traceback (most recent call last)",
      "Cell \u001b[0;32mIn[72], line 2\u001b[0m\n\u001b[1;32m      1\u001b[0m \u001b[38;5;66;03m# Model Accuracy, how often is the classifier correct?\u001b[39;00m\n\u001b[0;32m----> 2\u001b[0m y_density_train_pred \u001b[38;5;241m=\u001b[39m rf_density_enriched\u001b[38;5;241m.\u001b[39mpredict(X_density_train)\n\u001b[1;32m      3\u001b[0m y_density_test_pred \u001b[38;5;241m=\u001b[39m rf_density_enriched\u001b[38;5;241m.\u001b[39mpredict(X_density_test)\n\u001b[1;32m      4\u001b[0m y_density_dist_train_pred \u001b[38;5;241m=\u001b[39m rf_density_dist_enriched\u001b[38;5;241m.\u001b[39mpredict(X_density_dist_train)\n",
      "\u001b[0;31mNameError\u001b[0m: name 'rf_density_enriched' is not defined"
     ]
    }
   ],
   "source": [
    "# Model Accuracy, how often is the classifier correct?\n",
    "y_density_train_pred = rf_density_enriched.predict(X_density_train)\n",
    "y_density_test_pred = rf_density_enriched.predict(X_density_test)\n",
    "y_density_loc_train_pred = rf_densitY_loc_enriched.predict(X_densitY_loc_train)\n",
    "y_density_loc_test_pred = rf_densitY_loc_enriched.predict(X_densitY_loc_test)\n",
    "\n",
    "# Performance\n",
    "# Model Accuracy, how often is the classifier correct?\n",
    "fpr_train, tpr_train, _ = roc_curve(Y_density_train, y_density_train_pred)\n",
    "fpr_test, tpr_test, _ = roc_curve(Y_density_test, y_density_test_pred)\n",
    "\n",
    "fpr_loc_train, tpr_loc_train, _ = roc_curve(Y_densitY_loc_train, y_density_loc_train_pred)\n",
    "fpr_loc_test, tpr_loc_test, _ = roc_curve(Y_densitY_loc_test, y_density_loc_test_pred)\n",
    "\n",
    "# Model Accuracy, how often is the classifier correct?\n",
    "print(\"----- Random Forest (density20 > 0) -----\")\n",
    "print(\"Accuracy Train:\", accuracy_score(Y_density_train, y_density_train_pred))\n",
    "print(\"AUC Train:\", auc(fpr_train, tpr_train))\n",
    "print()\n",
    "print(\"Accuracy Test:\", accuracy_score(Y_density_test, y_density_test_pred))\n",
    "print(\"AUC Test:\", auc(fpr_test, tpr_test))\n",
    "print()\n",
    "\n",
    "print(\"Random Forest, Angle avec Dist\")\n",
    "print(\"Accuracy Train:\", accuracy_score(Y_densitY_loc_train, y_density_loc_train_pred))\n",
    "print(\"AUC Train:\", auc(fpr_loc_train, tpr_loc_train))\n",
    "print()\n",
    "print(\"Accuracy Test:\", accuracy_score(Y_densitY_loc_test, y_density_loc_test_pred))\n",
    "print(\"AUC Test:\", auc(fpr_loc_test, tpr_loc_test))"
   ]
  },
  {
   "cell_type": "code",
   "execution_count": 73,
   "id": "90527d58-be1b-4e63-b344-221f1a8219bb",
   "metadata": {},
   "outputs": [
    {
     "ename": "NameError",
     "evalue": "name 'pd' is not defined",
     "output_type": "error",
     "traceback": [
      "\u001b[0;31m---------------------------------------------------------------------------\u001b[0m",
      "\u001b[0;31mNameError\u001b[0m                                 Traceback (most recent call last)",
      "Cell \u001b[0;32mIn[73], line 1\u001b[0m\n\u001b[0;32m----> 1\u001b[0m labels_class \u001b[38;5;241m=\u001b[39m pd\u001b[38;5;241m.\u001b[39mSeries(rf_density_enriched\u001b[38;5;241m.\u001b[39mclasses_)\u001b[38;5;241m.\u001b[39mmap({\u001b[38;5;241m0\u001b[39m: \u001b[38;5;124m'\u001b[39m\u001b[38;5;124mnot_enriched\u001b[39m\u001b[38;5;124m'\u001b[39m, \u001b[38;5;241m1\u001b[39m: \u001b[38;5;124m'\u001b[39m\u001b[38;5;124menriched\u001b[39m\u001b[38;5;124m'\u001b[39m})\u001b[38;5;241m.\u001b[39mvalues\n",
      "\u001b[0;31mNameError\u001b[0m: name 'pd' is not defined"
     ]
    }
   ],
   "source": [
    "# labels_class = pd.Series(rf_density_enriched.classes_).map({0: 'not_enriched', 1: 'enriched'}).values"
   ]
  },
  {
   "cell_type": "code",
   "execution_count": 74,
   "id": "62eaefc7-083d-4226-8cb1-847856305525",
   "metadata": {},
   "outputs": [
    {
     "name": "stdout",
     "output_type": "stream",
     "text": [
      "----- Random Forest (density20 > 0) -----\n"
     ]
    },
    {
     "ename": "NameError",
     "evalue": "name 'accuracy_score' is not defined",
     "output_type": "error",
     "traceback": [
      "\u001b[0;31m---------------------------------------------------------------------------\u001b[0m",
      "\u001b[0;31mNameError\u001b[0m                                 Traceback (most recent call last)",
      "Cell \u001b[0;32mIn[74], line 2\u001b[0m\n\u001b[1;32m      1\u001b[0m \u001b[38;5;28mprint\u001b[39m(\u001b[38;5;124m\"\u001b[39m\u001b[38;5;124m----- Random Forest (density20 > 0) -----\u001b[39m\u001b[38;5;124m\"\u001b[39m)\n\u001b[0;32m----> 2\u001b[0m \u001b[38;5;28mprint\u001b[39m(\u001b[38;5;124m\"\u001b[39m\u001b[38;5;124mAccuracy Train:\u001b[39m\u001b[38;5;124m\"\u001b[39m, accuracy_score(Y_density_train, y_density_train_pred))\n\u001b[1;32m      3\u001b[0m \u001b[38;5;28mprint\u001b[39m(\u001b[38;5;124m\"\u001b[39m\u001b[38;5;124mAUC Train:\u001b[39m\u001b[38;5;124m\"\u001b[39m, auc(false_pos_rate_train, true_pos_rate_train))\n\u001b[1;32m      4\u001b[0m \u001b[38;5;28mprint\u001b[39m()\n",
      "\u001b[0;31mNameError\u001b[0m: name 'accuracy_score' is not defined"
     ]
    }
   ],
   "source": [
    "# print(\"----- Random Forest (density20 > 0) -----\")\n",
    "print(\"Accuracy Train:\", accuracy_score(Y_density_train, y_density_train_pred))\n",
    "print(\"AUC Train:\", auc(fpr_train, tpr_train))\n",
    "print()\n",
    "print(\"Accuracy Test:\", accuracy_score(Y_density_test, y_density_test_pred))\n",
    "print(\"AUC Test:\", auc(fpr_test, tpr_test))\n",
    "print()\n",
    "\n",
    "fig, (ax1, ax2) = plt.subplots(1, 2, figsize=(14, 5))\n",
    "cm = confusion_matrix(Y_density_test, y_density_test_pred)\n",
    "cm2 = confusion_matrix(Y_density_test, y_density_test_pred, normalize=\"true\")\n",
    "ConfusionMatrixDisplay(confusion_matrix=cm, display_labels=labels_class).plot(ax=ax1)\n",
    "ConfusionMatrixDisplay(confusion_matrix=cm2, display_labels=labels_class).plot(ax=ax2)\n",
    "plt.show()"
   ]
  },
  {
   "cell_type": "code",
   "execution_count": 75,
   "id": "7d26c783-33ba-4aa0-93f7-019e4704e07c",
   "metadata": {},
   "outputs": [
    {
     "name": "stdout",
     "output_type": "stream",
     "text": [
      "Random Forest, Angle avec Dist\n"
     ]
    },
    {
     "ename": "NameError",
     "evalue": "name 'accuracy_score' is not defined",
     "output_type": "error",
     "traceback": [
      "\u001b[0;31m---------------------------------------------------------------------------\u001b[0m",
      "\u001b[0;31mNameError\u001b[0m                                 Traceback (most recent call last)",
      "Cell \u001b[0;32mIn[75], line 2\u001b[0m\n\u001b[1;32m      1\u001b[0m \u001b[38;5;28mprint\u001b[39m(\u001b[38;5;124m\"\u001b[39m\u001b[38;5;124mRandom Forest, Angle avec Dist\u001b[39m\u001b[38;5;124m\"\u001b[39m)\n\u001b[0;32m----> 2\u001b[0m \u001b[38;5;28mprint\u001b[39m(\u001b[38;5;124m\"\u001b[39m\u001b[38;5;124mAccuracy Train:\u001b[39m\u001b[38;5;124m\"\u001b[39m, accuracy_score(Y_density_dist_train, y_density_dist_train_pred))\n\u001b[1;32m      3\u001b[0m \u001b[38;5;28mprint\u001b[39m(\u001b[38;5;124m\"\u001b[39m\u001b[38;5;124mAUC Train:\u001b[39m\u001b[38;5;124m\"\u001b[39m, auc(false_pos_rate_dist_train, true_pos_rate_dist_train))\n\u001b[1;32m      4\u001b[0m \u001b[38;5;28mprint\u001b[39m()\n",
      "\u001b[0;31mNameError\u001b[0m: name 'accuracy_score' is not defined"
     ]
    }
   ],
   "source": [
    "# print(\"Random Forest, Angle avec Dist\")\n",
    "print(\"Accuracy Train:\", accuracy_score(Y_densitY_loc_train, y_density_loc_train_pred))\n",
    "print(\"AUC Train:\", auc(fpr_loc_train, tpr_loc_train))\n",
    "print()\n",
    "print(\"Accuracy Test:\", accuracy_score(Y_densitY_loc_test, y_density_loc_test_pred))\n",
    "print(\"AUC Test:\", auc(fpr_loc_test, tpr_loc_test))\n",
    "\n",
    "fig, (ax1, ax2) = plt.subplots(1, 2, figsize=(14, 5))\n",
    "cm_dist = confusion_matrix(Y_densitY_loc_test, y_density_loc_test_pred)\n",
    "cm2_dist = confusion_matrix(Y_densitY_loc_test, y_density_loc_test_pred, normalize=\"true\")\n",
    "ConfusionMatrixDisplay(confusion_matrix=cm_dist, display_labels=labels_class).plot(ax=ax1)\n",
    "ConfusionMatrixDisplay(confusion_matrix=cm2_dist, display_labels=labels_class).plot(ax=ax2)\n",
    "plt.show()"
   ]
  },
  {
   "cell_type": "markdown",
   "id": "85fd43f3-a72c-4beb-bcd4-e9ef0be16d50",
   "metadata": {},
   "source": [
    "# T enrichie 2\n",
    "\n",
    "##### Arbre de décision"
   ]
  },
  {
   "cell_type": "code",
   "execution_count": 76,
   "id": "d4fd0ce2-ce45-4e4a-a34e-9c033a605020",
   "metadata": {},
   "outputs": [
    {
     "ename": "NameError",
     "evalue": "name 'data' is not defined",
     "output_type": "error",
     "traceback": [
      "\u001b[0;31m---------------------------------------------------------------------------\u001b[0m",
      "\u001b[0;31mNameError\u001b[0m                                 Traceback (most recent call last)",
      "Cell \u001b[0;32mIn[76], line 5\u001b[0m\n\u001b[1;32m      2\u001b[0m y_column \u001b[38;5;241m=\u001b[39m \u001b[38;5;124m\"\u001b[39m\u001b[38;5;124mclass_t_enriched_2\u001b[39m\u001b[38;5;124m\"\u001b[39m\n\u001b[1;32m      4\u001b[0m \u001b[38;5;66;03m# Define X and Y dataframe\u001b[39;00m\n\u001b[0;32m----> 5\u001b[0m X \u001b[38;5;241m=\u001b[39m data\u001b[38;5;241m.\u001b[39mdropna()[x_columns]\u001b[38;5;241m.\u001b[39mvalues\n\u001b[1;32m      6\u001b[0m X_dist \u001b[38;5;241m=\u001b[39m data\u001b[38;5;241m.\u001b[39mdropna()[x_columns_dist]\u001b[38;5;241m.\u001b[39mvalues\n\u001b[1;32m      7\u001b[0m Y \u001b[38;5;241m=\u001b[39m data\u001b[38;5;241m.\u001b[39mdropna()[y_column]\u001b[38;5;241m.\u001b[39mvalues  \u001b[38;5;66;03m# t plus class\u001b[39;00m\n",
      "\u001b[0;31mNameError\u001b[0m: name 'data' is not defined"
     ]
    }
   ],
   "source": [
    "# Target column\n",
    "y_column = \"class_t_enriched_2\"\n",
    "\n",
    "# Define x and y dataframe\n",
    "x = data.dropna()[x_columns].values\n",
    "x_loc = data.dropna()[x_columns_dist].values\n",
    "y = data.dropna()[y_column].values  # t plus class\n",
    "\n",
    "# Train and Validation set\n",
    "x_train, x_test, y_train, y_test = train_test_split(\n",
    "    x, y, test_size=0.3, random_state=42, stratify=y\n",
    ")\n",
    "\n",
    "# Train and Validation set & (Angle & Dist) (to validate the model)\n",
    "x_loc_train, x_loc_test, y_loc_train, y_loc_test = train_test_split(\n",
    "    x_loc, y, test_size=0.3, random_state=42, stratify=y\n",
    ")"
   ]
  },
  {
   "cell_type": "code",
   "execution_count": 77,
   "id": "c5c8542a-0c49-4827-9cfc-bdc1ff745499",
   "metadata": {},
   "outputs": [
    {
     "name": "stdout",
     "output_type": "stream",
     "text": [
      "----- T enrichie 2 -----\n",
      "                  Classe :                        0       1\n"
     ]
    },
    {
     "ename": "NameError",
     "evalue": "name 'Y' is not defined",
     "output_type": "error",
     "traceback": [
      "\u001b[0;31m---------------------------------------------------------------------------\u001b[0m",
      "\u001b[0;31mNameError\u001b[0m                                 Traceback (most recent call last)",
      "Cell \u001b[0;32mIn[77], line 3\u001b[0m\n\u001b[1;32m      1\u001b[0m \u001b[38;5;28mprint\u001b[39m(\u001b[38;5;124mf\u001b[39m\u001b[38;5;124m\"\u001b[39m\u001b[38;5;124m----- T enrichie 2 -----\u001b[39m\u001b[38;5;124m\"\u001b[39m)\n\u001b[1;32m      2\u001b[0m \u001b[38;5;28mprint\u001b[39m(\u001b[38;5;124mf\u001b[39m\u001b[38;5;124m\"\u001b[39m\u001b[38;5;132;01m{\u001b[39;00m\u001b[38;5;124m'\u001b[39m\u001b[38;5;124mClasse :\u001b[39m\u001b[38;5;124m'\u001b[39m\u001b[38;5;132;01m:\u001b[39;00m\u001b[38;5;124m^45s\u001b[39m\u001b[38;5;132;01m}\u001b[39;00m\u001b[38;5;132;01m{\u001b[39;00m\u001b[38;5;124m'\u001b[39m\u001b[38;5;124m0\u001b[39m\u001b[38;5;124m'\u001b[39m\u001b[38;5;132;01m:\u001b[39;00m\u001b[38;5;124m>6s\u001b[39m\u001b[38;5;132;01m}\u001b[39;00m\u001b[38;5;132;01m{\u001b[39;00m\u001b[38;5;124m'\u001b[39m\u001b[38;5;124m'\u001b[39m\u001b[38;5;132;01m:\u001b[39;00m\u001b[38;5;124m2s\u001b[39m\u001b[38;5;132;01m}\u001b[39;00m\u001b[38;5;132;01m{\u001b[39;00m\u001b[38;5;124m'\u001b[39m\u001b[38;5;124m1\u001b[39m\u001b[38;5;124m'\u001b[39m\u001b[38;5;132;01m:\u001b[39;00m\u001b[38;5;124m>6s\u001b[39m\u001b[38;5;132;01m}\u001b[39;00m\u001b[38;5;124m\"\u001b[39m)\n\u001b[0;32m----> 3\u001b[0m \u001b[38;5;28mprint\u001b[39m(\u001b[38;5;124mf\u001b[39m\u001b[38;5;124m\"\u001b[39m\u001b[38;5;132;01m{\u001b[39;00m\u001b[38;5;124m'\u001b[39m\u001b[38;5;124mComptage des classes au sein de Y:\u001b[39m\u001b[38;5;124m'\u001b[39m\u001b[38;5;132;01m:\u001b[39;00m\u001b[38;5;124m45s\u001b[39m\u001b[38;5;132;01m}\u001b[39;00m\u001b[38;5;132;01m{\u001b[39;00m\u001b[38;5;28msum\u001b[39m(Y\u001b[38;5;250m \u001b[39m\u001b[38;5;241m==\u001b[39m\u001b[38;5;250m \u001b[39m\u001b[38;5;241m0\u001b[39m)\u001b[38;5;132;01m:\u001b[39;00m\u001b[38;5;124m>6d\u001b[39m\u001b[38;5;132;01m}\u001b[39;00m\u001b[38;5;132;01m{\u001b[39;00m\u001b[38;5;124m'\u001b[39m\u001b[38;5;124m'\u001b[39m\u001b[38;5;132;01m:\u001b[39;00m\u001b[38;5;124m2s\u001b[39m\u001b[38;5;132;01m}\u001b[39;00m\u001b[38;5;132;01m{\u001b[39;00m\u001b[38;5;28msum\u001b[39m(Y\u001b[38;5;250m \u001b[39m\u001b[38;5;241m==\u001b[39m\u001b[38;5;250m \u001b[39m\u001b[38;5;241m1\u001b[39m)\u001b[38;5;132;01m:\u001b[39;00m\u001b[38;5;124m>6d\u001b[39m\u001b[38;5;132;01m}\u001b[39;00m\u001b[38;5;124m\"\u001b[39m)\n\u001b[1;32m      4\u001b[0m \u001b[38;5;28mprint\u001b[39m(\u001b[38;5;124mf\u001b[39m\u001b[38;5;124m\"\u001b[39m\u001b[38;5;132;01m{\u001b[39;00m\u001b[38;5;124m'\u001b[39m\u001b[38;5;124mComptage des classes au sein de Y_train:\u001b[39m\u001b[38;5;124m'\u001b[39m\u001b[38;5;132;01m:\u001b[39;00m\u001b[38;5;124m45s\u001b[39m\u001b[38;5;132;01m}\u001b[39;00m\u001b[38;5;132;01m{\u001b[39;00m\u001b[38;5;28msum\u001b[39m(Y_train\u001b[38;5;250m \u001b[39m\u001b[38;5;241m==\u001b[39m\u001b[38;5;250m \u001b[39m\u001b[38;5;241m0\u001b[39m)\u001b[38;5;132;01m:\u001b[39;00m\u001b[38;5;124m>6d\u001b[39m\u001b[38;5;132;01m}\u001b[39;00m\u001b[38;5;132;01m{\u001b[39;00m\u001b[38;5;124m'\u001b[39m\u001b[38;5;124m'\u001b[39m\u001b[38;5;132;01m:\u001b[39;00m\u001b[38;5;124m2s\u001b[39m\u001b[38;5;132;01m}\u001b[39;00m\u001b[38;5;132;01m{\u001b[39;00m\u001b[38;5;28msum\u001b[39m(Y_train\u001b[38;5;250m \u001b[39m\u001b[38;5;241m==\u001b[39m\u001b[38;5;250m \u001b[39m\u001b[38;5;241m1\u001b[39m)\u001b[38;5;132;01m:\u001b[39;00m\u001b[38;5;124m>6d\u001b[39m\u001b[38;5;132;01m}\u001b[39;00m\u001b[38;5;124m\"\u001b[39m)\n\u001b[1;32m      5\u001b[0m \u001b[38;5;28mprint\u001b[39m(\u001b[38;5;124mf\u001b[39m\u001b[38;5;124m\"\u001b[39m\u001b[38;5;132;01m{\u001b[39;00m\u001b[38;5;124m'\u001b[39m\u001b[38;5;124mComptage des classes au sein de Y_test:\u001b[39m\u001b[38;5;124m'\u001b[39m\u001b[38;5;132;01m:\u001b[39;00m\u001b[38;5;124m45s\u001b[39m\u001b[38;5;132;01m}\u001b[39;00m\u001b[38;5;132;01m{\u001b[39;00m\u001b[38;5;28msum\u001b[39m(Y_test\u001b[38;5;250m \u001b[39m\u001b[38;5;241m==\u001b[39m\u001b[38;5;250m \u001b[39m\u001b[38;5;241m0\u001b[39m)\u001b[38;5;132;01m:\u001b[39;00m\u001b[38;5;124m>6d\u001b[39m\u001b[38;5;132;01m}\u001b[39;00m\u001b[38;5;132;01m{\u001b[39;00m\u001b[38;5;124m'\u001b[39m\u001b[38;5;124m'\u001b[39m\u001b[38;5;132;01m:\u001b[39;00m\u001b[38;5;124m2s\u001b[39m\u001b[38;5;132;01m}\u001b[39;00m\u001b[38;5;132;01m{\u001b[39;00m\u001b[38;5;28msum\u001b[39m(Y_test\u001b[38;5;250m \u001b[39m\u001b[38;5;241m==\u001b[39m\u001b[38;5;250m \u001b[39m\u001b[38;5;241m1\u001b[39m)\u001b[38;5;132;01m:\u001b[39;00m\u001b[38;5;124m>6d\u001b[39m\u001b[38;5;132;01m}\u001b[39;00m\u001b[38;5;124m\"\u001b[39m)\n",
      "\u001b[0;31mNameError\u001b[0m: name 'Y' is not defined"
     ]
    }
   ],
   "source": [
    "# print(f\"----- T enrichie 2 -----\")\n",
    "print(f\"{'Classe :':^45s}{'0':>6s}{'':2s}{'1':>6s}\")\n",
    "print(f\"{'Comptage des classes au sein de y:':45s}{sum(y == 0):>6d}{'':2s}{sum(y == 1):>6d}\")\n",
    "print(f\"{'Comptage des classes au sein de y_train:':45s}{sum(y_train == 0):>6d}{'':2s}{sum(y_train == 1):>6d}\")\n",
    "print(f\"{'Comptage des classes au sein de y_test:':45s}{sum(y_test == 0):>6d}{'':2s}{sum(y_test == 1):>6d}\")\n",
    "print(f\"\\nNombre d'observations totales : {y.shape[0]:_}\")"
   ]
  },
  {
   "cell_type": "code",
   "execution_count": 78,
   "id": "66f9d917-388b-4d78-86bf-09ad937e3305",
   "metadata": {},
   "outputs": [
    {
     "ename": "NameError",
     "evalue": "name 'models' is not defined",
     "output_type": "error",
     "traceback": [
      "\u001b[0;31m---------------------------------------------------------------------------\u001b[0m",
      "\u001b[0;31mNameError\u001b[0m                                 Traceback (most recent call last)",
      "Cell \u001b[0;32mIn[78], line 4\u001b[0m\n\u001b[1;32m      1\u001b[0m max_depths_clf \u001b[38;5;241m=\u001b[39m [\u001b[38;5;241m2\u001b[39m, \u001b[38;5;241m4\u001b[39m, \u001b[38;5;241m6\u001b[39m, \u001b[38;5;241m8\u001b[39m, \u001b[38;5;241m10\u001b[39m, \u001b[38;5;241m15\u001b[39m, \u001b[38;5;241m20\u001b[39m]\n\u001b[1;32m      3\u001b[0m \u001b[38;5;66;03m# Best number of depth\u001b[39;00m\n\u001b[0;32m----> 4\u001b[0m results_t_enriched_2 \u001b[38;5;241m=\u001b[39m models\u001b[38;5;241m.\u001b[39mforest_depth_acc(\n\u001b[1;32m      5\u001b[0m     X_train, Y_train, X_test, Y_test,\n\u001b[1;32m      6\u001b[0m     depths\u001b[38;5;241m=\u001b[39mmax_depths_clf, \n\u001b[1;32m      7\u001b[0m     classifier\u001b[38;5;241m=\u001b[39mDecisionTreeClassifier,\n\u001b[1;32m      8\u001b[0m     class_weight\u001b[38;5;241m=\u001b[39m\u001b[38;5;124m\"\u001b[39m\u001b[38;5;124mbalanced\u001b[39m\u001b[38;5;124m\"\u001b[39m\n\u001b[1;32m      9\u001b[0m )\n\u001b[1;32m     11\u001b[0m \u001b[38;5;66;03m# Best number of depth with Dist & Angle\u001b[39;00m\n\u001b[1;32m     12\u001b[0m results_dist_t_enriched_2 \u001b[38;5;241m=\u001b[39m models\u001b[38;5;241m.\u001b[39mforest_depth_acc(\n\u001b[1;32m     13\u001b[0m     X_dist_train, Y_dist_train, X_dist_test, Y_dist_test,\n\u001b[1;32m     14\u001b[0m     depths\u001b[38;5;241m=\u001b[39mmax_depths_clf, \n\u001b[1;32m     15\u001b[0m     classifier\u001b[38;5;241m=\u001b[39mDecisionTreeClassifier,\n\u001b[1;32m     16\u001b[0m     class_weight\u001b[38;5;241m=\u001b[39m\u001b[38;5;124m\"\u001b[39m\u001b[38;5;124mbalanced\u001b[39m\u001b[38;5;124m\"\u001b[39m\n\u001b[1;32m     17\u001b[0m )\n",
      "\u001b[0;31mNameError\u001b[0m: name 'models' is not defined"
     ]
    }
   ],
   "source": [
    "# depths_dtree = [2, 4, 6, 8, 10, 15, 20]\n",
    "\n",
    "# Best number of depth\n",
    "results_t_enriched_2 = models.forest_depth_acc(\n",
    "    x_train, y_train, x_test, y_test,\n",
    "    depths=depths_dtree, \n",
    "    classifier=DecisionTreeClassifier,\n",
    "    class_weight=\"balanced\"\n",
    ")\n",
    "\n",
    "# Best number of depth with Dist & Angle\n",
    "results_dist_t_enriched_2 = models.forest_depth_acc(\n",
    "    x_loc_train, y_loc_train, x_loc_test, y_loc_test,\n",
    "    depths=depths_dtree, \n",
    "    classifier=DecisionTreeClassifier,\n",
    "    class_weight=\"balanced\"\n",
    ")"
   ]
  },
  {
   "cell_type": "code",
   "execution_count": 79,
   "id": "bff2cee0-f666-49f3-9be7-69395ec4b799",
   "metadata": {},
   "outputs": [
    {
     "ename": "NameError",
     "evalue": "name 'plt' is not defined",
     "output_type": "error",
     "traceback": [
      "\u001b[0;31m---------------------------------------------------------------------------\u001b[0m",
      "\u001b[0;31mNameError\u001b[0m                                 Traceback (most recent call last)",
      "Cell \u001b[0;32mIn[79], line 2\u001b[0m\n\u001b[1;32m      1\u001b[0m \u001b[38;5;66;03m# Plot\u001b[39;00m\n\u001b[0;32m----> 2\u001b[0m fig, (ax1, ax2) \u001b[38;5;241m=\u001b[39m plt\u001b[38;5;241m.\u001b[39msubplots(\u001b[38;5;241m1\u001b[39m, \u001b[38;5;241m2\u001b[39m, figsize\u001b[38;5;241m=\u001b[39m(\u001b[38;5;241m15\u001b[39m, \u001b[38;5;241m8\u001b[39m))\n\u001b[1;32m      3\u001b[0m plots\u001b[38;5;241m.\u001b[39mplot(\n\u001b[1;32m      4\u001b[0m     results_t_enriched_2[\u001b[38;5;124m\"\u001b[39m\u001b[38;5;124mauc_train\u001b[39m\u001b[38;5;124m\"\u001b[39m],\n\u001b[1;32m      5\u001b[0m     results_t_enriched_2[\u001b[38;5;124m\"\u001b[39m\u001b[38;5;124mauc_test\u001b[39m\u001b[38;5;124m\"\u001b[39m],\n\u001b[0;32m   (...)\u001b[0m\n\u001b[1;32m     11\u001b[0m     ytop\u001b[38;5;241m=\u001b[39m\u001b[38;5;241m1\u001b[39m, ybottom\u001b[38;5;241m=\u001b[39m\u001b[38;5;241m0.57\u001b[39m, figure\u001b[38;5;241m=\u001b[39m(fig, ax1)\n\u001b[1;32m     12\u001b[0m )\n\u001b[1;32m     14\u001b[0m plots\u001b[38;5;241m.\u001b[39mplot(\n\u001b[1;32m     15\u001b[0m     results_dist_t_enriched_2[\u001b[38;5;124m\"\u001b[39m\u001b[38;5;124mauc_train\u001b[39m\u001b[38;5;124m\"\u001b[39m],\n\u001b[1;32m     16\u001b[0m     results_dist_t_enriched_2[\u001b[38;5;124m\"\u001b[39m\u001b[38;5;124mauc_test\u001b[39m\u001b[38;5;124m\"\u001b[39m],\n\u001b[0;32m   (...)\u001b[0m\n\u001b[1;32m     22\u001b[0m     ytop\u001b[38;5;241m=\u001b[39m\u001b[38;5;241m1\u001b[39m, ybottom\u001b[38;5;241m=\u001b[39m\u001b[38;5;241m0.57\u001b[39m, figure\u001b[38;5;241m=\u001b[39m(fig, ax2)\n\u001b[1;32m     23\u001b[0m )\n",
      "\u001b[0;31mNameError\u001b[0m: name 'plt' is not defined"
     ]
    }
   ],
   "source": [
    "# Plot\n",
    "fig, (ax1, ax2) = plt.subplots(1, 2, figsize=(15, 8))\n",
    "plots.plot(\n",
    "    results_t_enriched_2[\"auc_train\"],\n",
    "    results_t_enriched_2[\"auc_test\"],\n",
    "    indices=depths_dtree,\n",
    "    label=(\"Train AUC\", \"Test AUC\"),\n",
    "    title=\"T enrichie 2\\nEvolution de l'AUC selon la profondeur de l'arbre de décision\",\n",
    "    xlabel=\"AUC score\", ylabel=\"Profondeur de l'arbre\",\n",
    "    xticks=depths_dtree, showR2=False, showY=False,\n",
    "    ytop=1, ybottom=0.57, figure=(fig, ax1)\n",
    ")\n",
    "\n",
    "plots.plot(\n",
    "    results_dist_t_enriched_2[\"auc_train\"],\n",
    "    results_dist_t_enriched_2[\"auc_test\"],\n",
    "    indices=depths_dtree,\n",
    "    label=(\"Train AUC\", \"Test AUC\"),\n",
    "    title=\"T enrichie 2\\nEvolution de l'AUC (avec Dist & Angle) selon\\nla profondeur de l'arbre de décision\",\n",
    "    xlabel=\"AUC score\", ylabel=\"Profondeur de l'arbre\",\n",
    "    xticks=depths_dtree, showR2=False, showY=False,\n",
    "    ytop=1, ybottom=0.57, figure=(fig, ax2)\n",
    ")\n",
    "plt.show()\n",
    "\n",
    "# Plot\n",
    "fig, (ax1, ax2) = plt.subplots(1, 2, figsize=(15, 8))\n",
    "\n",
    "plots.plot(\n",
    "    results_t_enriched_2[\"acc_train\"],\n",
    "    results_t_enriched_2[\"acc_test\"],\n",
    "    indices=depths_dtree,\n",
    "    label=(\"Train Accuracy\", \"Test Accuracy\"),\n",
    "    title=\"T enrichie 2\\nEvolution de l'accuracy en fonction de la profondeur de l'arbre de décision\",\n",
    "    xlabel=\"Accuracy\", ylabel=\"Profondeur de l'arbre\",\n",
    "    xticks=depths_dtree, showR2=False, showY=False,\n",
    "    ytop=1, ybottom=0.50, figure=(fig, ax1)\n",
    ")\n",
    "\n",
    "plots.plot(\n",
    "    results_dist_t_enriched_2[\"acc_train\"],\n",
    "    results_dist_t_enriched_2[\"acc_test\"],\n",
    "    indices=depths_dtree,\n",
    "    label=(\"Train Accuracy\", \"Test Accuracy\"),\n",
    "    title=\"T enrichie 2\\nEvolution de l'accuracy (avec Dist & Angle) en fonction de\\nla profondeur de l'arbre de décision\",\n",
    "    xlabel=\"Accuracy\", ylabel=\"Profondeur de l'arbre\",\n",
    "    xticks=depths_dtree, showR2=False, showY=False,\n",
    "    ytop=1, ybottom=0.50, figure=(fig, ax2)\n",
    ")\n",
    "\n",
    "plt.show()"
   ]
  },
  {
   "cell_type": "code",
   "execution_count": 80,
   "id": "813c3447-3c3b-4a09-8808-c310c25e5307",
   "metadata": {},
   "outputs": [
    {
     "name": "stdout",
     "output_type": "stream",
     "text": [
      "----- Résumé des performances T enrichie 2, arbre de décision -----\n",
      "Profondeur          : "
     ]
    },
    {
     "ename": "NameError",
     "evalue": "name 'results_t_enriched_2' is not defined",
     "output_type": "error",
     "traceback": [
      "\u001b[0;31m---------------------------------------------------------------------------\u001b[0m",
      "\u001b[0;31mNameError\u001b[0m                                 Traceback (most recent call last)",
      "Cell \u001b[0;32mIn[80], line 2\u001b[0m\n\u001b[1;32m      1\u001b[0m \u001b[38;5;28mprint\u001b[39m(\u001b[38;5;124m\"\u001b[39m\u001b[38;5;124m----- Résumé des performances T enrichie 2, arbre de décision -----\u001b[39m\u001b[38;5;124m\"\u001b[39m)\n\u001b[0;32m----> 2\u001b[0m \u001b[38;5;28mprint\u001b[39m(\u001b[38;5;124mf\u001b[39m\u001b[38;5;124m\"\u001b[39m\u001b[38;5;132;01m{\u001b[39;00m\u001b[38;5;124m'\u001b[39m\u001b[38;5;124mProfondeur\u001b[39m\u001b[38;5;124m'\u001b[39m\u001b[38;5;132;01m:\u001b[39;00m\u001b[38;5;124m<20s\u001b[39m\u001b[38;5;132;01m}\u001b[39;00m\u001b[38;5;124m:\u001b[39m\u001b[38;5;124m\"\u001b[39m, end\u001b[38;5;241m=\u001b[39m\u001b[38;5;124m\"\u001b[39m\u001b[38;5;124m \u001b[39m\u001b[38;5;124m\"\u001b[39m) ; [\u001b[38;5;28mprint\u001b[39m(\u001b[38;5;124mf\u001b[39m\u001b[38;5;124m\"\u001b[39m\u001b[38;5;132;01m{\u001b[39;00mi\u001b[38;5;132;01m:\u001b[39;00m\u001b[38;5;124m<4d\u001b[39m\u001b[38;5;132;01m}\u001b[39;00m\u001b[38;5;124m\"\u001b[39m, end\u001b[38;5;241m=\u001b[39m\u001b[38;5;124m\"\u001b[39m\u001b[38;5;124m  \u001b[39m\u001b[38;5;124m\"\u001b[39m) \u001b[38;5;28;01mfor\u001b[39;00m i \u001b[38;5;129;01min\u001b[39;00m results_t_enriched_2[\u001b[38;5;124m\"\u001b[39m\u001b[38;5;124mdepths\u001b[39m\u001b[38;5;124m\"\u001b[39m]] ; \u001b[38;5;28mprint\u001b[39m(\u001b[38;5;124m\"\u001b[39m\u001b[38;5;130;01m\\n\u001b[39;00m\u001b[38;5;124m\"\u001b[39m)\n\u001b[1;32m      3\u001b[0m \u001b[38;5;28mprint\u001b[39m(\u001b[38;5;124mf\u001b[39m\u001b[38;5;124m\"\u001b[39m\u001b[38;5;132;01m{\u001b[39;00m\u001b[38;5;124m'\u001b[39m\u001b[38;5;124mAUC_train\u001b[39m\u001b[38;5;124m'\u001b[39m\u001b[38;5;132;01m:\u001b[39;00m\u001b[38;5;124m<20s\u001b[39m\u001b[38;5;132;01m}\u001b[39;00m\u001b[38;5;124m:\u001b[39m\u001b[38;5;124m\"\u001b[39m, end\u001b[38;5;241m=\u001b[39m\u001b[38;5;124m\"\u001b[39m\u001b[38;5;124m \u001b[39m\u001b[38;5;124m\"\u001b[39m) ; [\u001b[38;5;28mprint\u001b[39m(\u001b[38;5;124mf\u001b[39m\u001b[38;5;124m\"\u001b[39m\u001b[38;5;132;01m{\u001b[39;00mi\u001b[38;5;132;01m:\u001b[39;00m\u001b[38;5;124m<.2f\u001b[39m\u001b[38;5;132;01m}\u001b[39;00m\u001b[38;5;124m\"\u001b[39m, end\u001b[38;5;241m=\u001b[39m\u001b[38;5;124m\"\u001b[39m\u001b[38;5;124m  \u001b[39m\u001b[38;5;124m\"\u001b[39m) \u001b[38;5;28;01mfor\u001b[39;00m i \u001b[38;5;129;01min\u001b[39;00m results_t_enriched_2[\u001b[38;5;124m\"\u001b[39m\u001b[38;5;124mauc_train\u001b[39m\u001b[38;5;124m\"\u001b[39m]] ; \u001b[38;5;28mprint\u001b[39m()\n\u001b[1;32m      4\u001b[0m \u001b[38;5;28mprint\u001b[39m(\u001b[38;5;124mf\u001b[39m\u001b[38;5;124m\"\u001b[39m\u001b[38;5;132;01m{\u001b[39;00m\u001b[38;5;124m'\u001b[39m\u001b[38;5;124mAUC_test\u001b[39m\u001b[38;5;124m'\u001b[39m\u001b[38;5;132;01m:\u001b[39;00m\u001b[38;5;124m<20s\u001b[39m\u001b[38;5;132;01m}\u001b[39;00m\u001b[38;5;124m:\u001b[39m\u001b[38;5;124m\"\u001b[39m, end\u001b[38;5;241m=\u001b[39m\u001b[38;5;124m\"\u001b[39m\u001b[38;5;124m \u001b[39m\u001b[38;5;124m\"\u001b[39m) ; [\u001b[38;5;28mprint\u001b[39m(\u001b[38;5;124mf\u001b[39m\u001b[38;5;124m\"\u001b[39m\u001b[38;5;132;01m{\u001b[39;00mi\u001b[38;5;132;01m:\u001b[39;00m\u001b[38;5;124m<.2f\u001b[39m\u001b[38;5;132;01m}\u001b[39;00m\u001b[38;5;124m\"\u001b[39m, end\u001b[38;5;241m=\u001b[39m\u001b[38;5;124m\"\u001b[39m\u001b[38;5;124m  \u001b[39m\u001b[38;5;124m\"\u001b[39m) \u001b[38;5;28;01mfor\u001b[39;00m i \u001b[38;5;129;01min\u001b[39;00m results_t_enriched_2[\u001b[38;5;124m\"\u001b[39m\u001b[38;5;124mauc_test\u001b[39m\u001b[38;5;124m\"\u001b[39m]] ; \u001b[38;5;28mprint\u001b[39m(\u001b[38;5;124m\"\u001b[39m\u001b[38;5;130;01m\\n\u001b[39;00m\u001b[38;5;124m\"\u001b[39m)\n",
      "\u001b[0;31mNameError\u001b[0m: name 'results_t_enriched_2' is not defined"
     ]
    }
   ],
   "source": [
    "# print(\"----- Résumé des performances T enrichie 2, arbre de décision -----\")\n",
    "print(f\"{'Profondeur':<20s}:\", end=\" \") ; [print(f\"{i:<4d}\", end=\"  \") for i in results_t_enriched_2[\"depths\"]] ; print(\"\\n\")\n",
    "print(f\"{'AUC_train':<20s}:\", end=\" \") ; [print(f\"{i:<.2f}\", end=\"  \") for i in results_t_enriched_2[\"auc_train\"]] ; print()\n",
    "print(f\"{'AUC_test':<20s}:\", end=\" \") ; [print(f\"{i:<.2f}\", end=\"  \") for i in results_t_enriched_2[\"auc_test\"]] ; print(\"\\n\")\n",
    "\n",
    "print(f\"{'Accuracy_train':<20s}:\", end=\" \") ; [print(f\"{i:<.2f}\", end=\"  \") for i in results_t_enriched_2[\"acc_train\"]] ; print()\n",
    "print(f\"{'Accuracy_test':<20s}:\", end=\" \") ; [print(f\"{i:<.2f}\", end=\"  \") for i in results_t_enriched_2[\"acc_test\"]] ; print(\"\\n\")\n",
    "\n",
    "print(\"---\")\n",
    "print(f\"{'AUC_train_dist':<20s}:\", end=\" \") ; [print(f\"{i:<.2f}\", end=\"  \") for i in results_dist_t_enriched_2[\"auc_train\"]] ; print()\n",
    "print(f\"{'AUC_test_dist':<20s}:\", end=\" \") ; [print(f\"{i:<.2f}\", end=\"  \") for i in results_dist_t_enriched_2[\"auc_test\"]] ; print(\"\\n\")\n",
    "\n",
    "print(f\"{'Accuracy_train_dist':<20s}:\", end=\" \") ; [print(f\"{i:<.2f}\", end=\"  \") for i in results_dist_t_enriched_2[\"acc_train\"]] ; print()\n",
    "print(f\"{'Accuracy_test_dist':<20s}:\", end=\" \") ; [print(f\"{i:<.2f}\", end=\"  \") for i in results_dist_t_enriched_2[\"acc_test\"]] ; print()"
   ]
  },
  {
   "cell_type": "code",
   "execution_count": 81,
   "id": "4306a818-1a0b-4691-a3bd-af1d9f5734bd",
   "metadata": {},
   "outputs": [
    {
     "ename": "NameError",
     "evalue": "name 'DecisionTreeClassifier' is not defined",
     "output_type": "error",
     "traceback": [
      "\u001b[0;31m---------------------------------------------------------------------------\u001b[0m",
      "\u001b[0;31mNameError\u001b[0m                                 Traceback (most recent call last)",
      "Cell \u001b[0;32mIn[81], line 2\u001b[0m\n\u001b[1;32m      1\u001b[0m \u001b[38;5;66;03m# Decision Tree (CART)\u001b[39;00m\n\u001b[0;32m----> 2\u001b[0m clf_enriched_2 \u001b[38;5;241m=\u001b[39m DecisionTreeClassifier(\n\u001b[1;32m      3\u001b[0m     criterion\u001b[38;5;241m=\u001b[39m\u001b[38;5;124m\"\u001b[39m\u001b[38;5;124mentropy\u001b[39m\u001b[38;5;124m\"\u001b[39m,\n\u001b[1;32m      4\u001b[0m     max_depth\u001b[38;5;241m=\u001b[39m\u001b[38;5;241m10\u001b[39m,\n\u001b[1;32m      5\u001b[0m     random_state\u001b[38;5;241m=\u001b[39m\u001b[38;5;241m42\u001b[39m,\n\u001b[1;32m      6\u001b[0m     class_weight\u001b[38;5;241m=\u001b[39m\u001b[38;5;124m\"\u001b[39m\u001b[38;5;124mbalanced\u001b[39m\u001b[38;5;124m\"\u001b[39m\n\u001b[1;32m      7\u001b[0m )\n\u001b[1;32m      9\u001b[0m clf_enriched_2\u001b[38;5;241m.\u001b[39mfit(X_train, Y_train)\n\u001b[1;32m     10\u001b[0m y_train_pred \u001b[38;5;241m=\u001b[39m clf_enriched_2\u001b[38;5;241m.\u001b[39mpredict(X_train)\n",
      "\u001b[0;31mNameError\u001b[0m: name 'DecisionTreeClassifier' is not defined"
     ]
    }
   ],
   "source": [
    "# Decision Tree (CART)\n",
    "dtree_enriched_2 = DecisionTreeClassifier(\n",
    "    criterion=\"entropy\",\n",
    "    max_depth=10,\n",
    "    random_state=42,\n",
    "    class_weight=\"balanced\"\n",
    ")\n",
    "\n",
    "dtree_enriched_2.fit(x_train, y_train)\n",
    "y_train_pred = dtree_enriched_2.predict(x_train)\n",
    "y_test_pred = dtree_enriched_2.predict(x_test)\n",
    "\n",
    "# Decision Tree (CART) with Dist column\n",
    "dtree_dist_enriched_2 = DecisionTreeClassifier(\n",
    "    criterion=\"entropy\",\n",
    "    max_depth=10,\n",
    "    random_state=42,\n",
    "    class_weight=\"balanced\"\n",
    ")\n",
    "\n",
    "dtree_dist_enriched_2.fit(x_loc_train, y_loc_train)\n",
    "y_loc_train_pred = dtree_dist_enriched_2.predict(x_loc_train)\n",
    "y_loc_test_pred = dtree_dist_enriched_2.predict(x_loc_test)\n",
    "dtree_dist_enriched_2"
   ]
  },
  {
   "cell_type": "code",
   "execution_count": 82,
   "id": "458e79f2-03b8-4f43-8411-dc0d5144ee8a",
   "metadata": {},
   "outputs": [
    {
     "ename": "NameError",
     "evalue": "name 'roc_curve' is not defined",
     "output_type": "error",
     "traceback": [
      "\u001b[0;31m---------------------------------------------------------------------------\u001b[0m",
      "\u001b[0;31mNameError\u001b[0m                                 Traceback (most recent call last)",
      "Cell \u001b[0;32mIn[82], line 1\u001b[0m\n\u001b[0;32m----> 1\u001b[0m false_pos_rate_train, true_pos_rate_train, _ \u001b[38;5;241m=\u001b[39m roc_curve(Y_train, y_train_pred)\n\u001b[1;32m      2\u001b[0m false_pos_rate_test, true_pos_rate_test, _ \u001b[38;5;241m=\u001b[39m roc_curve(Y_test, y_test_pred)\n\u001b[1;32m      4\u001b[0m false_pos_rate_dist_train, true_pos_rate_dist_train, _ \u001b[38;5;241m=\u001b[39m roc_curve(Y_dist_train, y_dist_train_pred)\n",
      "\u001b[0;31mNameError\u001b[0m: name 'roc_curve' is not defined"
     ]
    }
   ],
   "source": [
    "# fpr_train, tpr_train, _ = roc_curve(y_train, y_train_pred)\n",
    "fpr_test, tpr_test, _ = roc_curve(y_test, y_test_pred)\n",
    "\n",
    "fpr_loc_train, tpr_loc_train, _ = roc_curve(y_loc_train, y_loc_train_pred)\n",
    "fpr_loc_test, tpr_loc_test, _ = roc_curve(y_loc_test, y_loc_test_pred)"
   ]
  },
  {
   "cell_type": "code",
   "execution_count": 83,
   "id": "41b97609-05d3-420e-88a1-90ca14698bc0",
   "metadata": {},
   "outputs": [
    {
     "ename": "NameError",
     "evalue": "name 'pd' is not defined",
     "output_type": "error",
     "traceback": [
      "\u001b[0;31m---------------------------------------------------------------------------\u001b[0m",
      "\u001b[0;31mNameError\u001b[0m                                 Traceback (most recent call last)",
      "Cell \u001b[0;32mIn[83], line 1\u001b[0m\n\u001b[0;32m----> 1\u001b[0m labels_class \u001b[38;5;241m=\u001b[39m pd\u001b[38;5;241m.\u001b[39mSeries(clf_enriched_2\u001b[38;5;241m.\u001b[39mclasses_)\u001b[38;5;241m.\u001b[39mmap({\u001b[38;5;241m0\u001b[39m: \u001b[38;5;124m'\u001b[39m\u001b[38;5;124mnot_enriched_2\u001b[39m\u001b[38;5;124m'\u001b[39m, \u001b[38;5;241m1\u001b[39m: \u001b[38;5;124m'\u001b[39m\u001b[38;5;124menriched_2\u001b[39m\u001b[38;5;124m'\u001b[39m})\u001b[38;5;241m.\u001b[39mvalues\n",
      "\u001b[0;31mNameError\u001b[0m: name 'pd' is not defined"
     ]
    }
   ],
   "source": [
    "# labels_class = pd.Series(dtree_enriched_2.classes_).map({0: 'not_enriched_2', 1: 'enriched_2'}).values"
   ]
  },
  {
   "cell_type": "code",
   "execution_count": 84,
   "id": "28577843-fd59-4392-a484-331492e165b7",
   "metadata": {},
   "outputs": [
    {
     "name": "stdout",
     "output_type": "stream",
     "text": [
      "----- Arbre de décision -----\n"
     ]
    },
    {
     "ename": "NameError",
     "evalue": "name 'accuracy_score' is not defined",
     "output_type": "error",
     "traceback": [
      "\u001b[0;31m---------------------------------------------------------------------------\u001b[0m",
      "\u001b[0;31mNameError\u001b[0m                                 Traceback (most recent call last)",
      "Cell \u001b[0;32mIn[84], line 2\u001b[0m\n\u001b[1;32m      1\u001b[0m \u001b[38;5;28mprint\u001b[39m(\u001b[38;5;124m\"\u001b[39m\u001b[38;5;124m----- Arbre de décision -----\u001b[39m\u001b[38;5;124m\"\u001b[39m)\n\u001b[0;32m----> 2\u001b[0m \u001b[38;5;28mprint\u001b[39m(\u001b[38;5;124m\"\u001b[39m\u001b[38;5;124mAccuracy Train:\u001b[39m\u001b[38;5;124m\"\u001b[39m, accuracy_score(Y_train, y_train_pred))\n\u001b[1;32m      3\u001b[0m \u001b[38;5;28mprint\u001b[39m(\u001b[38;5;124m\"\u001b[39m\u001b[38;5;124mAUC Train:\u001b[39m\u001b[38;5;124m\"\u001b[39m, auc(false_pos_rate_train, true_pos_rate_train))\n\u001b[1;32m      4\u001b[0m \u001b[38;5;28mprint\u001b[39m()\n",
      "\u001b[0;31mNameError\u001b[0m: name 'accuracy_score' is not defined"
     ]
    }
   ],
   "source": [
    "# print(\"----- Arbre de décision -----\")\n",
    "print(\"Accuracy Train:\", accuracy_score(y_train, y_train_pred))\n",
    "print(\"AUC Train:\", auc(fpr_train, tpr_train))\n",
    "print()\n",
    "print(\"Accuracy Test:\", accuracy_score(y_test, y_test_pred))\n",
    "print(\"AUC Test:\", auc(fpr_test, tpr_test))\n",
    "print()\n",
    "\n",
    "fig, (ax1, ax2) = plt.subplots(1, 2, figsize=(14, 5))\n",
    "cm = confusion_matrix(y_test, y_test_pred)\n",
    "cm2 = confusion_matrix(y_test, y_test_pred, normalize=\"true\")\n",
    "ConfusionMatrixDisplay(confusion_matrix=cm, display_labels=labels_class).plot(ax=ax1)\n",
    "ConfusionMatrixDisplay(confusion_matrix=cm2, display_labels=labels_class).plot(ax=ax2)\n",
    "plt.show()"
   ]
  },
  {
   "cell_type": "code",
   "execution_count": 85,
   "id": "e88da2fd-3994-4ef3-9270-124202811fe5",
   "metadata": {},
   "outputs": [
    {
     "name": "stdout",
     "output_type": "stream",
     "text": [
      "Arbre de décision, Angle avec Dist\n"
     ]
    },
    {
     "ename": "NameError",
     "evalue": "name 'accuracy_score' is not defined",
     "output_type": "error",
     "traceback": [
      "\u001b[0;31m---------------------------------------------------------------------------\u001b[0m",
      "\u001b[0;31mNameError\u001b[0m                                 Traceback (most recent call last)",
      "Cell \u001b[0;32mIn[85], line 2\u001b[0m\n\u001b[1;32m      1\u001b[0m \u001b[38;5;28mprint\u001b[39m(\u001b[38;5;124m\"\u001b[39m\u001b[38;5;124mArbre de décision, Angle avec Dist\u001b[39m\u001b[38;5;124m\"\u001b[39m)\n\u001b[0;32m----> 2\u001b[0m \u001b[38;5;28mprint\u001b[39m(\u001b[38;5;124m\"\u001b[39m\u001b[38;5;124mAccuracy Train:\u001b[39m\u001b[38;5;124m\"\u001b[39m, accuracy_score(Y_dist_train, y_dist_train_pred))\n\u001b[1;32m      3\u001b[0m \u001b[38;5;28mprint\u001b[39m(\u001b[38;5;124m\"\u001b[39m\u001b[38;5;124mAUC Train:\u001b[39m\u001b[38;5;124m\"\u001b[39m, auc(false_pos_rate_dist_train, true_pos_rate_dist_train))\n\u001b[1;32m      4\u001b[0m \u001b[38;5;28mprint\u001b[39m()\n",
      "\u001b[0;31mNameError\u001b[0m: name 'accuracy_score' is not defined"
     ]
    }
   ],
   "source": [
    "# print(\"Arbre de décision, Angle avec Dist\")\n",
    "print(\"Accuracy Train:\", accuracy_score(y_loc_train, y_loc_train_pred))\n",
    "print(\"AUC Train:\", auc(fpr_loc_train, tpr_loc_train))\n",
    "print()\n",
    "print(\"Accuracy Test:\", accuracy_score(y_loc_test, y_loc_test_pred))\n",
    "print(\"AUC Test:\", auc(fpr_loc_test, tpr_loc_test))\n",
    "\n",
    "fig, (ax1, ax2) = plt.subplots(1, 2, figsize=(14, 5))\n",
    "cm_dist = confusion_matrix(y_loc_test, y_loc_test_pred)\n",
    "cm2_dist = confusion_matrix(y_loc_test, y_loc_test_pred, normalize=\"true\")\n",
    "ConfusionMatrixDisplay(confusion_matrix=cm_dist, display_labels=labels_class).plot(ax=ax1)\n",
    "ConfusionMatrixDisplay(confusion_matrix=cm2_dist, display_labels=labels_class).plot(ax=ax2)\n",
    "plt.show()"
   ]
  },
  {
   "cell_type": "code",
   "execution_count": 86,
   "id": "74fcbbf6-eae1-45f0-beda-3fb7c6d7a86e",
   "metadata": {},
   "outputs": [
    {
     "ename": "NameError",
     "evalue": "name 'plt' is not defined",
     "output_type": "error",
     "traceback": [
      "\u001b[0;31m---------------------------------------------------------------------------\u001b[0m",
      "\u001b[0;31mNameError\u001b[0m                                 Traceback (most recent call last)",
      "Cell \u001b[0;32mIn[86], line 2\u001b[0m\n\u001b[1;32m      1\u001b[0m \u001b[38;5;66;03m# Arbre de Décision\u001b[39;00m\n\u001b[0;32m----> 2\u001b[0m fig \u001b[38;5;241m=\u001b[39m plt\u001b[38;5;241m.\u001b[39mfigure(figsize\u001b[38;5;241m=\u001b[39m(\u001b[38;5;241m10\u001b[39m, \u001b[38;5;241m30\u001b[39m))\n\u001b[1;32m      3\u001b[0m dot_data \u001b[38;5;241m=\u001b[39m tree\u001b[38;5;241m.\u001b[39mexport_graphviz(\n\u001b[1;32m      4\u001b[0m     clf_enriched_2,\n\u001b[1;32m      5\u001b[0m     feature_names\u001b[38;5;241m=\u001b[39mx_columns,\n\u001b[1;32m      6\u001b[0m     class_names\u001b[38;5;241m=\u001b[39mlabels_class,\n\u001b[1;32m      7\u001b[0m     filled\u001b[38;5;241m=\u001b[39m\u001b[38;5;28;01mTrue\u001b[39;00m\n\u001b[1;32m      8\u001b[0m )\n\u001b[1;32m      9\u001b[0m graph \u001b[38;5;241m=\u001b[39m graphviz\u001b[38;5;241m.\u001b[39mSource(dot_data, \u001b[38;5;28mformat\u001b[39m\u001b[38;5;241m=\u001b[39m\u001b[38;5;124m\"\u001b[39m\u001b[38;5;124mpng\u001b[39m\u001b[38;5;124m\"\u001b[39m)\n",
      "\u001b[0;31mNameError\u001b[0m: name 'plt' is not defined"
     ]
    }
   ],
   "source": [
    "# Arbre de Décision\n",
    "fig = plt.figure(figsize=(10, 30))\n",
    "dot_data = tree.export_graphviz(\n",
    "    dtree_enriched_2,\n",
    "    feature_names=x_columns,\n",
    "    class_names=labels_class,\n",
    "    filled=True\n",
    ")\n",
    "graph = graphviz.Source(dot_data, format=\"png\")\n",
    "#graph.render(\"../out/KI_decision_tree_t-enriched_2\")\n",
    "graph"
   ]
  },
  {
   "cell_type": "code",
   "execution_count": 87,
   "id": "31b1f4b7-1dd1-446c-bc4c-61d0ecdc5213",
   "metadata": {},
   "outputs": [
    {
     "ename": "NameError",
     "evalue": "name 'plt' is not defined",
     "output_type": "error",
     "traceback": [
      "\u001b[0;31m---------------------------------------------------------------------------\u001b[0m",
      "\u001b[0;31mNameError\u001b[0m                                 Traceback (most recent call last)",
      "Cell \u001b[0;32mIn[87], line 2\u001b[0m\n\u001b[1;32m      1\u001b[0m \u001b[38;5;66;03m# Arbre de décision avec l'ajout de Dist & Angle\u001b[39;00m\n\u001b[0;32m----> 2\u001b[0m fig \u001b[38;5;241m=\u001b[39m plt\u001b[38;5;241m.\u001b[39mfigure(figsize\u001b[38;5;241m=\u001b[39m(\u001b[38;5;241m10\u001b[39m, \u001b[38;5;241m30\u001b[39m))\n\u001b[1;32m      3\u001b[0m dot_data \u001b[38;5;241m=\u001b[39m tree\u001b[38;5;241m.\u001b[39mexport_graphviz(\n\u001b[1;32m      4\u001b[0m     clf_dist_enriched_2,\n\u001b[1;32m      5\u001b[0m     feature_names\u001b[38;5;241m=\u001b[39mx_columns_dist,\n\u001b[1;32m      6\u001b[0m     class_names\u001b[38;5;241m=\u001b[39mlabels_class,\n\u001b[1;32m      7\u001b[0m     filled\u001b[38;5;241m=\u001b[39m\u001b[38;5;28;01mTrue\u001b[39;00m\n\u001b[1;32m      8\u001b[0m )\n\u001b[1;32m      9\u001b[0m graph \u001b[38;5;241m=\u001b[39m graphviz\u001b[38;5;241m.\u001b[39mSource(dot_data, \u001b[38;5;28mformat\u001b[39m\u001b[38;5;241m=\u001b[39m\u001b[38;5;124m\"\u001b[39m\u001b[38;5;124mpng\u001b[39m\u001b[38;5;124m\"\u001b[39m)\n",
      "\u001b[0;31mNameError\u001b[0m: name 'plt' is not defined"
     ]
    }
   ],
   "source": [
    "# Arbre de décision avec l'ajout de Dist & Angle\n",
    "fig = plt.figure(figsize=(10, 30))\n",
    "dot_data = tree.export_graphviz(\n",
    "    dtree_dist_enriched_2,\n",
    "    feature_names=x_columns_dist,\n",
    "    class_names=labels_class,\n",
    "    filled=True\n",
    ")\n",
    "graph = graphviz.Source(dot_data, format=\"png\")\n",
    "#graph.render(\"../out/KI_decision_tree_t-enriched_2_dist\")\n",
    "graph"
   ]
  },
  {
   "cell_type": "markdown",
   "id": "f2f067e8-47f6-41e8-8771-875e159cbb7e",
   "metadata": {},
   "source": [
    "# Random Forest"
   ]
  },
  {
   "cell_type": "code",
   "execution_count": 88,
   "id": "73aa12d8-f19f-412c-acb4-cac2a38f5c42",
   "metadata": {},
   "outputs": [
    {
     "ename": "NameError",
     "evalue": "name 'models' is not defined",
     "output_type": "error",
     "traceback": [
      "\u001b[0;31m---------------------------------------------------------------------------\u001b[0m",
      "\u001b[0;31mNameError\u001b[0m                                 Traceback (most recent call last)",
      "Cell \u001b[0;32mIn[88], line 2\u001b[0m\n\u001b[1;32m      1\u001b[0m max_depths_rd \u001b[38;5;241m=\u001b[39m [\u001b[38;5;241m2\u001b[39m, \u001b[38;5;241m4\u001b[39m, \u001b[38;5;241m6\u001b[39m, \u001b[38;5;241m8\u001b[39m, \u001b[38;5;241m10\u001b[39m, \u001b[38;5;241m15\u001b[39m, \u001b[38;5;241m20\u001b[39m]\n\u001b[0;32m----> 2\u001b[0m results_t_enriched_2_rf \u001b[38;5;241m=\u001b[39m models\u001b[38;5;241m.\u001b[39mforest_depth_acc(\n\u001b[1;32m      3\u001b[0m     X_train, Y_train, X_test, Y_test,\n\u001b[1;32m      4\u001b[0m     depths\u001b[38;5;241m=\u001b[39mmax_depths_rd, \n\u001b[1;32m      5\u001b[0m     classifier\u001b[38;5;241m=\u001b[39mRandomForestClassifier,\n\u001b[1;32m      6\u001b[0m     n_estimators \u001b[38;5;241m=\u001b[39m \u001b[38;5;241m100\u001b[39m,\n\u001b[1;32m      7\u001b[0m     class_weight\u001b[38;5;241m=\u001b[39m\u001b[38;5;124m\"\u001b[39m\u001b[38;5;124mbalanced\u001b[39m\u001b[38;5;124m\"\u001b[39m,\n\u001b[1;32m      8\u001b[0m     n_jobs\u001b[38;5;241m=\u001b[39m\u001b[38;5;241m-\u001b[39m\u001b[38;5;241m1\u001b[39m\n\u001b[1;32m      9\u001b[0m )\n\u001b[1;32m     11\u001b[0m results_dist_t_enriched_2_rf \u001b[38;5;241m=\u001b[39m models\u001b[38;5;241m.\u001b[39mforest_depth_acc(\n\u001b[1;32m     12\u001b[0m     X_dist_train, Y_dist_train, X_dist_test, Y_dist_test,\n\u001b[1;32m     13\u001b[0m     depths\u001b[38;5;241m=\u001b[39mmax_depths_rd, \n\u001b[0;32m   (...)\u001b[0m\n\u001b[1;32m     17\u001b[0m     n_jobs\u001b[38;5;241m=\u001b[39m\u001b[38;5;241m-\u001b[39m\u001b[38;5;241m1\u001b[39m\n\u001b[1;32m     18\u001b[0m )\n",
      "\u001b[0;31mNameError\u001b[0m: name 'models' is not defined"
     ]
    }
   ],
   "source": [
    "# max_depths_rd = [2, 4, 6, 8, 10, 15, 20]\n",
    "results_t_enriched_2_rf = models.forest_depth_acc(\n",
    "    x_train, y_train, x_test, y_test,\n",
    "    depths=max_depths_rd, \n",
    "    classifier=RandomForestClassifier,\n",
    "    n_estimators = 100,\n",
    "    class_weight=\"balanced\",\n",
    "    n_jobs=-1\n",
    ")\n",
    "\n",
    "results_dist_t_enriched_2_rf = models.forest_depth_acc(\n",
    "    x_loc_train, y_loc_train, x_loc_test, y_loc_test,\n",
    "    depths=max_depths_rd, \n",
    "    classifier=RandomForestClassifier,\n",
    "    n_estimators = 100,\n",
    "    class_weight=\"balanced\",\n",
    "    n_jobs=-1\n",
    ")"
   ]
  },
  {
   "cell_type": "code",
   "execution_count": 89,
   "id": "eb1e3491-b245-40ed-b938-85efa0d4fc2a",
   "metadata": {},
   "outputs": [
    {
     "ename": "NameError",
     "evalue": "name 'plt' is not defined",
     "output_type": "error",
     "traceback": [
      "\u001b[0;31m---------------------------------------------------------------------------\u001b[0m",
      "\u001b[0;31mNameError\u001b[0m                                 Traceback (most recent call last)",
      "Cell \u001b[0;32mIn[89], line 2\u001b[0m\n\u001b[1;32m      1\u001b[0m \u001b[38;5;66;03m# Plot\u001b[39;00m\n\u001b[0;32m----> 2\u001b[0m fig, (ax1, ax2) \u001b[38;5;241m=\u001b[39m plt\u001b[38;5;241m.\u001b[39msubplots(\u001b[38;5;241m1\u001b[39m, \u001b[38;5;241m2\u001b[39m, figsize\u001b[38;5;241m=\u001b[39m(\u001b[38;5;241m15\u001b[39m, \u001b[38;5;241m8\u001b[39m))\n\u001b[1;32m      4\u001b[0m plots\u001b[38;5;241m.\u001b[39mplot(\n\u001b[1;32m      5\u001b[0m     results_t_enriched_2_rf[\u001b[38;5;124m\"\u001b[39m\u001b[38;5;124mauc_train\u001b[39m\u001b[38;5;124m\"\u001b[39m],\n\u001b[1;32m      6\u001b[0m     results_t_enriched_2_rf[\u001b[38;5;124m\"\u001b[39m\u001b[38;5;124mauc_test\u001b[39m\u001b[38;5;124m\"\u001b[39m],\n\u001b[0;32m   (...)\u001b[0m\n\u001b[1;32m     12\u001b[0m     ytop\u001b[38;5;241m=\u001b[39m\u001b[38;5;241m1\u001b[39m, ybottom\u001b[38;5;241m=\u001b[39m\u001b[38;5;241m0.58\u001b[39m, figure\u001b[38;5;241m=\u001b[39m(fig, ax1)\n\u001b[1;32m     13\u001b[0m )\n\u001b[1;32m     15\u001b[0m plots\u001b[38;5;241m.\u001b[39mplot(\n\u001b[1;32m     16\u001b[0m     results_dist_t_enriched_2_rf[\u001b[38;5;124m\"\u001b[39m\u001b[38;5;124mauc_train\u001b[39m\u001b[38;5;124m\"\u001b[39m],\n\u001b[1;32m     17\u001b[0m     results_dist_t_enriched_2_rf[\u001b[38;5;124m\"\u001b[39m\u001b[38;5;124mauc_test\u001b[39m\u001b[38;5;124m\"\u001b[39m],\n\u001b[0;32m   (...)\u001b[0m\n\u001b[1;32m     23\u001b[0m     ytop\u001b[38;5;241m=\u001b[39m\u001b[38;5;241m1\u001b[39m, ybottom\u001b[38;5;241m=\u001b[39m\u001b[38;5;241m0.58\u001b[39m, figure\u001b[38;5;241m=\u001b[39m(fig, ax2)\n\u001b[1;32m     24\u001b[0m )\n",
      "\u001b[0;31mNameError\u001b[0m: name 'plt' is not defined"
     ]
    }
   ],
   "source": [
    "# Plot\n",
    "fig, (ax1, ax2) = plt.subplots(1, 2, figsize=(15, 8))\n",
    "\n",
    "plots.plot(\n",
    "    results_t_enriched_2_rf[\"auc_train\"],\n",
    "    results_t_enriched_2_rf[\"auc_test\"],\n",
    "    indices=results_t_enriched_2_rf[\"depths\"],\n",
    "    label=(\"Train AUC\", \"Test AUC\"),\n",
    "    title=\"T enrichie 2\\nEvolution de l'AUC selon la profondeur des arbres du RandomForest\",\n",
    "    xlabel=\"AUC\", ylabel=\"Profondeur de l'arbre\",\n",
    "    xticks=results_t_enriched_2_rf[\"depths\"], showR2=False, showY=False,\n",
    "    ytop=1, ybottom=0.58, figure=(fig, ax1)\n",
    ")\n",
    "\n",
    "plots.plot(\n",
    "    results_dist_t_enriched_2_rf[\"auc_train\"],\n",
    "    results_dist_t_enriched_2_rf[\"auc_test\"],\n",
    "    indices=results_dist_t_enriched_2_rf[\"depths\"],\n",
    "    label=(\"Train AUC\", \"Test AUC\"),\n",
    "    title=\"T enrichie 2\\nEvolution de l'AUC (avec Dist & Angle)\\n selon la profondeur des arbres du RandomForest\",\n",
    "    xlabel=\"AUC\", ylabel=\"Profondeur de l'arbre\",\n",
    "    xticks=results_dist_t_enriched_2_rf[\"depths\"], showR2=False, showY=False,\n",
    "    ytop=1, ybottom=0.58, figure=(fig, ax2)\n",
    ")\n",
    "\n",
    "plt.show()\n",
    "\n",
    "# Plot\n",
    "fig, (ax1, ax2) = plt.subplots(1, 2, figsize=(15, 8))\n",
    "\n",
    "plots.plot(\n",
    "    results_t_enriched_2_rf[\"acc_train\"],\n",
    "    results_t_enriched_2_rf[\"acc_test\"],\n",
    "    indices=results_t_enriched_2_rf[\"depths\"],\n",
    "    label=(\"Train Accuracy\", \"Test Accuracy\"),\n",
    "    title=\"T enrichie 2\\nEvolution de l'accuracy selon la profondeur des arbres du RandomForest\",\n",
    "    xlabel=\"Accuracy\", ylabel=\"Profondeur de l'arbre\",\n",
    "    xticks=results_t_enriched_2_rf[\"depths\"], showR2=False, showY=False,\n",
    "    ytop=1, ybottom=0.65, figure=(fig, ax1)\n",
    ")\n",
    "\n",
    "plots.plot(\n",
    "    results_dist_t_enriched_2_rf[\"acc_train\"],\n",
    "    results_dist_t_enriched_2_rf[\"acc_test\"],\n",
    "    indices=results_dist_t_enriched_2_rf[\"depths\"],\n",
    "    label=(\"Train Accuracy\", \"Test Accuracy\"),\n",
    "    title=\"T enrichie 2\\nEvolution de l'Accuracy (avec Dist & Angle)\\n selon la profondeur des arbres du RandomForest\",\n",
    "    xlabel=\"Accuracy\", ylabel=\"Profondeur de l'arbre\",\n",
    "    xticks=results_dist_t_enriched_2_rf[\"depths\"], showR2=False, showY=False,\n",
    "    ytop=1, ybottom=0.65, figure=(fig, ax2)\n",
    ")\n",
    "\n",
    "plt.show()"
   ]
  },
  {
   "cell_type": "code",
   "execution_count": null,
   "id": "7a97e8d8-c1ee-440c-beca-87816d863c5d",
   "metadata": {},
   "outputs": [],
   "source": [
    "# print(\"----- Résumé des performances T enrichie, arbre de décision -----\")\n",
    "print(f\"{'Profondeur':<20s}:\", end=\" \") ; [print(f\"{i:<4d}\", end=\"  \") for i in results_t_enriched_2_rf[\"depths\"]] ; print(\"\\n\")\n",
    "print(f\"{'AUC_train':<20s}:\", end=\" \") ; [print(f\"{i:<.2f}\", end=\"  \") for i in results_t_enriched_2_rf[\"auc_train\"]] ; print()\n",
    "print(f\"{'AUC_test':<20s}:\", end=\" \") ; [print(f\"{i:<.2f}\", end=\"  \") for i in results_t_enriched_2_rf[\"auc_test\"]] ; print(\"\\n\")\n",
    "\n",
    "print(f\"{'Accuracy_train':<20s}:\", end=\" \") ; [print(f\"{i:<.2f}\", end=\"  \") for i in results_t_enriched_2_rf[\"acc_train\"]] ; print()\n",
    "print(f\"{'Accuracy_test':<20s}:\", end=\" \") ; [print(f\"{i:<.2f}\", end=\"  \") for i in results_t_enriched_2_rf[\"acc_test\"]] ; print(\"\\n\")\n",
    "\n",
    "print(\"---\")\n",
    "print(f\"{'AUC_train_dist':<20s}:\", end=\" \") ; [print(f\"{i:<.2f}\", end=\"  \") for i in results_dist_t_enriched_2_rf[\"auc_train\"]] ; print()\n",
    "print(f\"{'AUC_test_dist':<20s}:\", end=\" \") ; [print(f\"{i:<.2f}\", end=\"  \") for i in results_dist_t_enriched_2_rf[\"auc_test\"]] ; print(\"\\n\")\n",
    "\n",
    "print(f\"{'Accuracy_train_dist':<20s}:\", end=\" \") ; [print(f\"{i:<.2f}\", end=\"  \") for i in results_dist_t_enriched_2_rf[\"acc_train\"]] ; print()\n",
    "print(f\"{'Accuracy_test_dist':<20s}:\", end=\" \") ; [print(f\"{i:<.2f}\", end=\"  \") for i in results_dist_t_enriched_2_rf[\"acc_test\"]] ; print()"
   ]
  },
  {
   "cell_type": "code",
   "execution_count": 90,
   "id": "315929c5-c5a5-4f5d-8123-84914618afac",
   "metadata": {},
   "outputs": [
    {
     "ename": "NameError",
     "evalue": "name 'models' is not defined",
     "output_type": "error",
     "traceback": [
      "\u001b[0;31m---------------------------------------------------------------------------\u001b[0m",
      "\u001b[0;31mNameError\u001b[0m                                 Traceback (most recent call last)",
      "Cell \u001b[0;32mIn[90], line 2\u001b[0m\n\u001b[1;32m      1\u001b[0m \u001b[38;5;66;03m# RandomForest model\u001b[39;00m\n\u001b[0;32m----> 2\u001b[0m results_enriched_2 \u001b[38;5;241m=\u001b[39m models\u001b[38;5;241m.\u001b[39mperform_random_forest(\n\u001b[1;32m      3\u001b[0m     X_train\u001b[38;5;241m=\u001b[39mX_train,\n\u001b[1;32m      4\u001b[0m     X_test\u001b[38;5;241m=\u001b[39mX_test,\n\u001b[1;32m      5\u001b[0m     y_train\u001b[38;5;241m=\u001b[39mY_train,\n\u001b[1;32m      6\u001b[0m     y_test\u001b[38;5;241m=\u001b[39mY_test,\n\u001b[1;32m      7\u001b[0m     columns\u001b[38;5;241m=\u001b[39mx_columns,\n\u001b[1;32m      8\u001b[0m     n_estimators\u001b[38;5;241m=\u001b[39m(\u001b[38;5;241m10\u001b[39m, \u001b[38;5;241m15\u001b[39m, \u001b[38;5;241m20\u001b[39m, \u001b[38;5;241m30\u001b[39m),\n\u001b[1;32m      9\u001b[0m     n_depths\u001b[38;5;241m=\u001b[39m(\u001b[38;5;241m2\u001b[39m, \u001b[38;5;241m4\u001b[39m, \u001b[38;5;241m8\u001b[39m, \u001b[38;5;241m10\u001b[39m, \u001b[38;5;241m15\u001b[39m),\n\u001b[1;32m     10\u001b[0m     class_weight\u001b[38;5;241m=\u001b[39m\u001b[38;5;124m\"\u001b[39m\u001b[38;5;124mbalanced\u001b[39m\u001b[38;5;124m\"\u001b[39m,\n\u001b[1;32m     11\u001b[0m     scale\u001b[38;5;241m=\u001b[39m\u001b[38;5;28;01mFalse\u001b[39;00m\n\u001b[1;32m     12\u001b[0m )\n\u001b[1;32m     14\u001b[0m rf_enriched_2 \u001b[38;5;241m=\u001b[39m results_enriched_2[\u001b[38;5;124m\"\u001b[39m\u001b[38;5;124mmodel\u001b[39m\u001b[38;5;124m\"\u001b[39m]\n",
      "\u001b[0;31mNameError\u001b[0m: name 'models' is not defined"
     ]
    }
   ],
   "source": [
    "# RandomForest model\n",
    "results_enriched_2 = models.perform_random_forest(\n",
    "    x_train=x_train,\n",
    "    x_test=x_test,\n",
    "    y_train=y_train,\n",
    "    y_test=y_test,\n",
    "    columns=x_columns,\n",
    "    n_estimators=(10, 15, 20, 30),\n",
    "    n_depths=(2, 4, 8, 10, 15),\n",
    "    class_weight=\"balanced\",\n",
    "    scale=False\n",
    ")\n",
    "\n",
    "rf_enriched_2 = results_enriched_2[\"model\"]"
   ]
  },
  {
   "cell_type": "code",
   "execution_count": 91,
   "id": "e897478e-9ac2-43a2-b257-b4e0c6f5e024",
   "metadata": {},
   "outputs": [
    {
     "ename": "NameError",
     "evalue": "name 'pd' is not defined",
     "output_type": "error",
     "traceback": [
      "\u001b[0;31m---------------------------------------------------------------------------\u001b[0m",
      "\u001b[0;31mNameError\u001b[0m                                 Traceback (most recent call last)",
      "Cell \u001b[0;32mIn[91], line 1\u001b[0m\n\u001b[0;32m----> 1\u001b[0m df_mdi \u001b[38;5;241m=\u001b[39m pd\u001b[38;5;241m.\u001b[39mDataFrame(\n\u001b[1;32m      2\u001b[0m     {\n\u001b[1;32m      3\u001b[0m         \u001b[38;5;124m\"\u001b[39m\u001b[38;5;124mmean\u001b[39m\u001b[38;5;124m\"\u001b[39m: results_enriched_2[\u001b[38;5;124m\"\u001b[39m\u001b[38;5;124mimportance_mdi\u001b[39m\u001b[38;5;124m\"\u001b[39m][\u001b[38;5;124m\"\u001b[39m\u001b[38;5;124mmean\u001b[39m\u001b[38;5;124m\"\u001b[39m],\n\u001b[1;32m      4\u001b[0m         \u001b[38;5;124m\"\u001b[39m\u001b[38;5;124mstd\u001b[39m\u001b[38;5;124m\"\u001b[39m: results_enriched_2[\u001b[38;5;124m\"\u001b[39m\u001b[38;5;124mimportance_mdi\u001b[39m\u001b[38;5;124m\"\u001b[39m][\u001b[38;5;124m\"\u001b[39m\u001b[38;5;124mstd\u001b[39m\u001b[38;5;124m\"\u001b[39m]\n\u001b[1;32m      5\u001b[0m     }, index\u001b[38;5;241m=\u001b[39mx_columns\n\u001b[1;32m      6\u001b[0m )\n\u001b[1;32m      8\u001b[0m df_mdi\u001b[38;5;241m.\u001b[39mto_csv(\u001b[38;5;124m\"\u001b[39m\u001b[38;5;124mKI_CD3_enriched_2_importance-mdi.csv\u001b[39m\u001b[38;5;124m\"\u001b[39m)\n\u001b[1;32m     10\u001b[0m df_permutation \u001b[38;5;241m=\u001b[39m pd\u001b[38;5;241m.\u001b[39mDataFrame(\n\u001b[1;32m     11\u001b[0m     {\n\u001b[1;32m     12\u001b[0m         \u001b[38;5;124m\"\u001b[39m\u001b[38;5;124mmean\u001b[39m\u001b[38;5;124m\"\u001b[39m: results_enriched_2[\u001b[38;5;124m\"\u001b[39m\u001b[38;5;124mimportance_permutation\u001b[39m\u001b[38;5;124m\"\u001b[39m][\u001b[38;5;124m\"\u001b[39m\u001b[38;5;124mmean\u001b[39m\u001b[38;5;124m\"\u001b[39m],\n\u001b[1;32m     13\u001b[0m         \u001b[38;5;124m\"\u001b[39m\u001b[38;5;124mstd\u001b[39m\u001b[38;5;124m\"\u001b[39m: results_enriched_2[\u001b[38;5;124m\"\u001b[39m\u001b[38;5;124mimportance_permutation\u001b[39m\u001b[38;5;124m\"\u001b[39m][\u001b[38;5;124m\"\u001b[39m\u001b[38;5;124mstd\u001b[39m\u001b[38;5;124m\"\u001b[39m]\n\u001b[1;32m     14\u001b[0m     }, index\u001b[38;5;241m=\u001b[39mx_columns\n\u001b[1;32m     15\u001b[0m )\n",
      "\u001b[0;31mNameError\u001b[0m: name 'pd' is not defined"
     ]
    }
   ],
   "source": [
    "# df_mdi = pd.DataFrame(\n",
    "    {\n",
    "        \"mean\": results_enriched_2[\"importance_mdi\"][\"mean\"],\n",
    "        \"std\": results_enriched_2[\"importance_mdi\"][\"std\"]\n",
    "    }, index=x_columns\n",
    ")\n",
    "\n",
    "df_mdi.to_csv(\"KI_CD3_enriched_2_importance-mdi.csv\")\n",
    "\n",
    "df_permutation = pd.DataFrame(\n",
    "    {\n",
    "        \"mean\": results_enriched_2[\"importance_permutation\"][\"mean\"],\n",
    "        \"std\": results_enriched_2[\"importance_permutation\"][\"std\"]\n",
    "    }, index=x_columns\n",
    ")\n",
    "\n",
    "df_permutation.to_csv(\"KI_CD3_enriched_2_importance-permutation.csv\")"
   ]
  },
  {
   "cell_type": "code",
   "execution_count": 92,
   "id": "f9ece607-bfa9-4d74-8b6b-39c4ea577a11",
   "metadata": {},
   "outputs": [
    {
     "ename": "NameError",
     "evalue": "name 'models' is not defined",
     "output_type": "error",
     "traceback": [
      "\u001b[0;31m---------------------------------------------------------------------------\u001b[0m",
      "\u001b[0;31mNameError\u001b[0m                                 Traceback (most recent call last)",
      "Cell \u001b[0;32mIn[92], line 2\u001b[0m\n\u001b[1;32m      1\u001b[0m \u001b[38;5;66;03m# RandomForest model with Dist & Angle columns\u001b[39;00m\n\u001b[0;32m----> 2\u001b[0m results_dist_enriched_2 \u001b[38;5;241m=\u001b[39m models\u001b[38;5;241m.\u001b[39mperform_random_forest(\n\u001b[1;32m      3\u001b[0m     X_train\u001b[38;5;241m=\u001b[39mX_dist_train,\n\u001b[1;32m      4\u001b[0m     X_test\u001b[38;5;241m=\u001b[39mX_dist_test,\n\u001b[1;32m      5\u001b[0m     y_train\u001b[38;5;241m=\u001b[39mY_dist_train,\n\u001b[1;32m      6\u001b[0m     y_test\u001b[38;5;241m=\u001b[39mY_dist_test,\n\u001b[1;32m      7\u001b[0m     columns\u001b[38;5;241m=\u001b[39mx_columns_dist,\n\u001b[1;32m      8\u001b[0m     n_estimators\u001b[38;5;241m=\u001b[39m(\u001b[38;5;241m10\u001b[39m, \u001b[38;5;241m15\u001b[39m, \u001b[38;5;241m20\u001b[39m, \u001b[38;5;241m30\u001b[39m),\n\u001b[1;32m      9\u001b[0m     n_depths\u001b[38;5;241m=\u001b[39m(\u001b[38;5;241m2\u001b[39m, \u001b[38;5;241m4\u001b[39m, \u001b[38;5;241m8\u001b[39m, \u001b[38;5;241m10\u001b[39m, \u001b[38;5;241m15\u001b[39m),\n\u001b[1;32m     10\u001b[0m     class_weight\u001b[38;5;241m=\u001b[39m\u001b[38;5;124m\"\u001b[39m\u001b[38;5;124mbalanced\u001b[39m\u001b[38;5;124m\"\u001b[39m,\n\u001b[1;32m     11\u001b[0m     scale\u001b[38;5;241m=\u001b[39m\u001b[38;5;28;01mFalse\u001b[39;00m\n\u001b[1;32m     12\u001b[0m )\n\u001b[1;32m     14\u001b[0m rf_dist_enriched_2 \u001b[38;5;241m=\u001b[39m results_dist_enriched_2[\u001b[38;5;124m\"\u001b[39m\u001b[38;5;124mmodel\u001b[39m\u001b[38;5;124m\"\u001b[39m]\n",
      "\u001b[0;31mNameError\u001b[0m: name 'models' is not defined"
     ]
    }
   ],
   "source": [
    "# RandomForest model with Dist & Angle columns\n",
    "results_dist_enriched_2 = models.perform_random_forest(\n",
    "    x_train=x_loc_train,\n",
    "    x_test=x_loc_test,\n",
    "    y_train=y_loc_train,\n",
    "    y_test=y_loc_test,\n",
    "    columns=x_columns_dist,\n",
    "    n_estimators=(10, 15, 20, 30),\n",
    "    n_depths=(2, 4, 8, 10, 15),\n",
    "    class_weight=\"balanced\",\n",
    "    scale=False\n",
    ")\n",
    "\n",
    "rf_dist_enriched_2 = results_dist_enriched_2[\"model\"]"
   ]
  },
  {
   "cell_type": "code",
   "execution_count": 93,
   "id": "ab84b53b-b803-4d70-90af-b4a467a4e782",
   "metadata": {},
   "outputs": [
    {
     "ename": "NameError",
     "evalue": "name 'pd' is not defined",
     "output_type": "error",
     "traceback": [
      "\u001b[0;31m---------------------------------------------------------------------------\u001b[0m",
      "\u001b[0;31mNameError\u001b[0m                                 Traceback (most recent call last)",
      "Cell \u001b[0;32mIn[93], line 1\u001b[0m\n\u001b[0;32m----> 1\u001b[0m df_mdi \u001b[38;5;241m=\u001b[39m pd\u001b[38;5;241m.\u001b[39mDataFrame(\n\u001b[1;32m      2\u001b[0m     {\n\u001b[1;32m      3\u001b[0m         \u001b[38;5;124m\"\u001b[39m\u001b[38;5;124mmean\u001b[39m\u001b[38;5;124m\"\u001b[39m: results_dist_enriched_2[\u001b[38;5;124m\"\u001b[39m\u001b[38;5;124mimportance_mdi\u001b[39m\u001b[38;5;124m\"\u001b[39m][\u001b[38;5;124m\"\u001b[39m\u001b[38;5;124mmean\u001b[39m\u001b[38;5;124m\"\u001b[39m],\n\u001b[1;32m      4\u001b[0m         \u001b[38;5;124m\"\u001b[39m\u001b[38;5;124mstd\u001b[39m\u001b[38;5;124m\"\u001b[39m: results_dist_enriched_2[\u001b[38;5;124m\"\u001b[39m\u001b[38;5;124mimportance_mdi\u001b[39m\u001b[38;5;124m\"\u001b[39m][\u001b[38;5;124m\"\u001b[39m\u001b[38;5;124mstd\u001b[39m\u001b[38;5;124m\"\u001b[39m]\n\u001b[1;32m      5\u001b[0m     }, index\u001b[38;5;241m=\u001b[39mx_columns_dist\n\u001b[1;32m      6\u001b[0m )\n\u001b[1;32m      8\u001b[0m df_mdi\u001b[38;5;241m.\u001b[39mto_csv(\u001b[38;5;124m\"\u001b[39m\u001b[38;5;124mKI_CD3_enriched_2-dist_importance-mdi.csv\u001b[39m\u001b[38;5;124m\"\u001b[39m)\n\u001b[1;32m     10\u001b[0m df_permutation \u001b[38;5;241m=\u001b[39m pd\u001b[38;5;241m.\u001b[39mDataFrame(\n\u001b[1;32m     11\u001b[0m     {\n\u001b[1;32m     12\u001b[0m         \u001b[38;5;124m\"\u001b[39m\u001b[38;5;124mmean\u001b[39m\u001b[38;5;124m\"\u001b[39m: results_dist_enriched_2[\u001b[38;5;124m\"\u001b[39m\u001b[38;5;124mimportance_permutation\u001b[39m\u001b[38;5;124m\"\u001b[39m][\u001b[38;5;124m\"\u001b[39m\u001b[38;5;124mmean\u001b[39m\u001b[38;5;124m\"\u001b[39m],\n\u001b[1;32m     13\u001b[0m         \u001b[38;5;124m\"\u001b[39m\u001b[38;5;124mstd\u001b[39m\u001b[38;5;124m\"\u001b[39m: results_dist_enriched_2[\u001b[38;5;124m\"\u001b[39m\u001b[38;5;124mimportance_permutation\u001b[39m\u001b[38;5;124m\"\u001b[39m][\u001b[38;5;124m\"\u001b[39m\u001b[38;5;124mstd\u001b[39m\u001b[38;5;124m\"\u001b[39m]\n\u001b[1;32m     14\u001b[0m     }, index\u001b[38;5;241m=\u001b[39mx_columns_dist\n\u001b[1;32m     15\u001b[0m )\n",
      "\u001b[0;31mNameError\u001b[0m: name 'pd' is not defined"
     ]
    }
   ],
   "source": [
    "# df_mdi = pd.DataFrame(\n",
    "    {\n",
    "        \"mean\": results_dist_enriched_2[\"importance_mdi\"][\"mean\"],\n",
    "        \"std\": results_dist_enriched_2[\"importance_mdi\"][\"std\"]\n",
    "    }, index=x_columns_dist\n",
    ")\n",
    "\n",
    "df_mdi.to_csv(\"KI_CD3_enriched_2-dist_importance-mdi.csv\")\n",
    "\n",
    "df_permutation = pd.DataFrame(\n",
    "    {\n",
    "        \"mean\": results_dist_enriched_2[\"importance_permutation\"][\"mean\"],\n",
    "        \"std\": results_dist_enriched_2[\"importance_permutation\"][\"std\"]\n",
    "    }, index=x_columns_dist\n",
    ")\n",
    "\n",
    "df_permutation.to_csv(\"KI_CD3_enriched_2-dist_importance-permutation.csv\")"
   ]
  },
  {
   "cell_type": "code",
   "execution_count": 94,
   "id": "db8fa943-03ad-4dcb-9498-e93b41b618d9",
   "metadata": {},
   "outputs": [
    {
     "ename": "NameError",
     "evalue": "name 'rf_enriched_2' is not defined",
     "output_type": "error",
     "traceback": [
      "\u001b[0;31m---------------------------------------------------------------------------\u001b[0m",
      "\u001b[0;31mNameError\u001b[0m                                 Traceback (most recent call last)",
      "Cell \u001b[0;32mIn[94], line 2\u001b[0m\n\u001b[1;32m      1\u001b[0m \u001b[38;5;66;03m# Model Accuracy, how often is the classifier correct?\u001b[39;00m\n\u001b[0;32m----> 2\u001b[0m y_train_pred \u001b[38;5;241m=\u001b[39m rf_enriched_2\u001b[38;5;241m.\u001b[39mpredict(X_train)\n\u001b[1;32m      3\u001b[0m y_test_pred \u001b[38;5;241m=\u001b[39m rf_enriched_2\u001b[38;5;241m.\u001b[39mpredict(X_test)\n\u001b[1;32m      4\u001b[0m y_dist_train_pred \u001b[38;5;241m=\u001b[39m rf_dist_enriched_2\u001b[38;5;241m.\u001b[39mpredict(X_dist_train)\n",
      "\u001b[0;31mNameError\u001b[0m: name 'rf_enriched_2' is not defined"
     ]
    }
   ],
   "source": [
    "# Model Accuracy, how often is the classifier correct?\n",
    "y_train_pred = rf_enriched_2.predict(x_train)\n",
    "y_test_pred = rf_enriched_2.predict(x_test)\n",
    "y_loc_train_pred = rf_dist_enriched_2.predict(x_loc_train)\n",
    "y_loc_test_pred = rf_dist_enriched_2.predict(x_loc_test)"
   ]
  },
  {
   "cell_type": "code",
   "execution_count": 95,
   "id": "463c11fe-16b4-41e3-b8c1-dd76fb1035b9",
   "metadata": {},
   "outputs": [
    {
     "ename": "NameError",
     "evalue": "name 'roc_curve' is not defined",
     "output_type": "error",
     "traceback": [
      "\u001b[0;31m---------------------------------------------------------------------------\u001b[0m",
      "\u001b[0;31mNameError\u001b[0m                                 Traceback (most recent call last)",
      "Cell \u001b[0;32mIn[95], line 1\u001b[0m\n\u001b[0;32m----> 1\u001b[0m false_pos_rate_train, true_pos_rate_train, _ \u001b[38;5;241m=\u001b[39m roc_curve(Y_train, y_train_pred)\n\u001b[1;32m      2\u001b[0m false_pos_rate_test, true_pos_rate_test, _ \u001b[38;5;241m=\u001b[39m roc_curve(Y_test, y_test_pred)\n\u001b[1;32m      4\u001b[0m false_pos_rate_dist_train, true_pos_rate_dist_train, _ \u001b[38;5;241m=\u001b[39m roc_curve(Y_dist_train, y_dist_train_pred)\n",
      "\u001b[0;31mNameError\u001b[0m: name 'roc_curve' is not defined"
     ]
    }
   ],
   "source": [
    "# fpr_train, tpr_train, _ = roc_curve(y_train, y_train_pred)\n",
    "fpr_test, tpr_test, _ = roc_curve(y_test, y_test_pred)\n",
    "\n",
    "fpr_loc_train, tpr_loc_train, _ = roc_curve(y_loc_train, y_loc_train_pred)\n",
    "fpr_loc_test, tpr_loc_test, _ = roc_curve(y_loc_test, y_loc_test_pred)"
   ]
  },
  {
   "cell_type": "code",
   "execution_count": 96,
   "id": "9482324a-3990-4ba2-8654-cb099170417e",
   "metadata": {},
   "outputs": [
    {
     "ename": "NameError",
     "evalue": "name 'pd' is not defined",
     "output_type": "error",
     "traceback": [
      "\u001b[0;31m---------------------------------------------------------------------------\u001b[0m",
      "\u001b[0;31mNameError\u001b[0m                                 Traceback (most recent call last)",
      "Cell \u001b[0;32mIn[96], line 1\u001b[0m\n\u001b[0;32m----> 1\u001b[0m labels_class \u001b[38;5;241m=\u001b[39m pd\u001b[38;5;241m.\u001b[39mSeries(rf_enriched_2\u001b[38;5;241m.\u001b[39mclasses_)\u001b[38;5;241m.\u001b[39mmap({\u001b[38;5;241m0\u001b[39m: \u001b[38;5;124m'\u001b[39m\u001b[38;5;124mnot_enriched_2\u001b[39m\u001b[38;5;124m'\u001b[39m, \u001b[38;5;241m1\u001b[39m: \u001b[38;5;124m'\u001b[39m\u001b[38;5;124menriched_2\u001b[39m\u001b[38;5;124m'\u001b[39m})\u001b[38;5;241m.\u001b[39mvalues\n",
      "\u001b[0;31mNameError\u001b[0m: name 'pd' is not defined"
     ]
    }
   ],
   "source": [
    "# labels_class = pd.Series(rf_enriched_2.classes_).map({0: 'not_enriched_2', 1: 'enriched_2'}).values"
   ]
  },
  {
   "cell_type": "code",
   "execution_count": 97,
   "id": "bd40cc87-e2d6-45bf-bc13-33fe1b5f9463",
   "metadata": {},
   "outputs": [
    {
     "name": "stdout",
     "output_type": "stream",
     "text": [
      "----- Random Forest -----\n"
     ]
    },
    {
     "ename": "NameError",
     "evalue": "name 'accuracy_score' is not defined",
     "output_type": "error",
     "traceback": [
      "\u001b[0;31m---------------------------------------------------------------------------\u001b[0m",
      "\u001b[0;31mNameError\u001b[0m                                 Traceback (most recent call last)",
      "Cell \u001b[0;32mIn[97], line 2\u001b[0m\n\u001b[1;32m      1\u001b[0m \u001b[38;5;28mprint\u001b[39m(\u001b[38;5;124m\"\u001b[39m\u001b[38;5;124m----- Random Forest -----\u001b[39m\u001b[38;5;124m\"\u001b[39m)\n\u001b[0;32m----> 2\u001b[0m \u001b[38;5;28mprint\u001b[39m(\u001b[38;5;124m\"\u001b[39m\u001b[38;5;124mAccuracy Train:\u001b[39m\u001b[38;5;124m\"\u001b[39m, accuracy_score(Y_train, y_train_pred))\n\u001b[1;32m      3\u001b[0m \u001b[38;5;28mprint\u001b[39m(\u001b[38;5;124m\"\u001b[39m\u001b[38;5;124mAUC Train:\u001b[39m\u001b[38;5;124m\"\u001b[39m, auc(false_pos_rate_train, true_pos_rate_train))\n\u001b[1;32m      4\u001b[0m \u001b[38;5;28mprint\u001b[39m()\n",
      "\u001b[0;31mNameError\u001b[0m: name 'accuracy_score' is not defined"
     ]
    }
   ],
   "source": [
    "# print(\"----- Random Forest -----\")\n",
    "print(\"Accuracy Train:\", accuracy_score(y_train, y_train_pred))\n",
    "print(\"AUC Train:\", auc(fpr_train, tpr_train))\n",
    "print()\n",
    "print(\"Accuracy Test:\", accuracy_score(y_test, y_test_pred))\n",
    "print(\"AUC Test:\", auc(fpr_test, tpr_test))\n",
    "print()\n",
    "\n",
    "fig, (ax1, ax2) = plt.subplots(1, 2, figsize=(14, 5))\n",
    "cm = confusion_matrix(y_test, y_test_pred)\n",
    "cm2 = confusion_matrix(y_test, y_test_pred, normalize=\"true\")\n",
    "ConfusionMatrixDisplay(confusion_matrix=cm, display_labels=labels_class).plot(ax=ax1)\n",
    "ConfusionMatrixDisplay(confusion_matrix=cm2, display_labels=labels_class).plot(ax=ax2)\n",
    "plt.show()"
   ]
  },
  {
   "cell_type": "code",
   "execution_count": 98,
   "id": "1cf87d87-eb6f-4609-92c7-ea862a51a716",
   "metadata": {},
   "outputs": [
    {
     "name": "stdout",
     "output_type": "stream",
     "text": [
      "Random Forest, Angle avec Dist\n"
     ]
    },
    {
     "ename": "NameError",
     "evalue": "name 'accuracy_score' is not defined",
     "output_type": "error",
     "traceback": [
      "\u001b[0;31m---------------------------------------------------------------------------\u001b[0m",
      "\u001b[0;31mNameError\u001b[0m                                 Traceback (most recent call last)",
      "Cell \u001b[0;32mIn[98], line 2\u001b[0m\n\u001b[1;32m      1\u001b[0m \u001b[38;5;28mprint\u001b[39m(\u001b[38;5;124m\"\u001b[39m\u001b[38;5;124mRandom Forest, Angle avec Dist\u001b[39m\u001b[38;5;124m\"\u001b[39m)\n\u001b[0;32m----> 2\u001b[0m \u001b[38;5;28mprint\u001b[39m(\u001b[38;5;124m\"\u001b[39m\u001b[38;5;124mAccuracy Train:\u001b[39m\u001b[38;5;124m\"\u001b[39m, accuracy_score(Y_dist_train, y_dist_train_pred))\n\u001b[1;32m      3\u001b[0m \u001b[38;5;28mprint\u001b[39m(\u001b[38;5;124m\"\u001b[39m\u001b[38;5;124mAUC Train:\u001b[39m\u001b[38;5;124m\"\u001b[39m, auc(false_pos_rate_dist_train, true_pos_rate_dist_train))\n\u001b[1;32m      4\u001b[0m \u001b[38;5;28mprint\u001b[39m()\n",
      "\u001b[0;31mNameError\u001b[0m: name 'accuracy_score' is not defined"
     ]
    }
   ],
   "source": [
    "# print(\"Random Forest, Angle avec Dist\")\n",
    "print(\"Accuracy Train:\", accuracy_score(y_loc_train, y_loc_train_pred))\n",
    "print(\"AUC Train:\", auc(fpr_loc_train, tpr_loc_train))\n",
    "print()\n",
    "print(\"Accuracy Test:\", accuracy_score(y_loc_test, y_loc_test_pred))\n",
    "print(\"AUC Test:\", auc(fpr_loc_test, tpr_loc_test))\n",
    "\n",
    "fig, (ax1, ax2) = plt.subplots(1, 2, figsize=(14, 5))\n",
    "cm_dist = confusion_matrix(y_loc_test, y_loc_test_pred)\n",
    "cm2_dist = confusion_matrix(y_loc_test, y_loc_test_pred, normalize=\"true\")\n",
    "ConfusionMatrixDisplay(confusion_matrix=cm_dist, display_labels=labels_class).plot(ax=ax1)\n",
    "ConfusionMatrixDisplay(confusion_matrix=cm2_dist, display_labels=labels_class).plot(ax=ax2)\n",
    "plt.show()"
   ]
  },
  {
   "cell_type": "markdown",
   "id": "4b84d0ed-0894-4ebe-a2c6-4f4a082e60b4",
   "metadata": {},
   "source": [
    "# T enrichie 2 & Density20 > 0\n",
    "\n",
    "##### Jeu de données d'apprentissage et de validation (à densité20 > 0)"
   ]
  },
  {
   "cell_type": "code",
   "execution_count": 99,
   "id": "06ea7161-2f3a-4d18-b8c8-ad9c97106e3a",
   "metadata": {},
   "outputs": [
    {
     "ename": "NameError",
     "evalue": "name 'data' is not defined",
     "output_type": "error",
     "traceback": [
      "\u001b[0;31m---------------------------------------------------------------------------\u001b[0m",
      "\u001b[0;31mNameError\u001b[0m                                 Traceback (most recent call last)",
      "Cell \u001b[0;32mIn[99], line 5\u001b[0m\n\u001b[1;32m      2\u001b[0m y_column \u001b[38;5;241m=\u001b[39m \u001b[38;5;124m\"\u001b[39m\u001b[38;5;124mclass_t_enriched_2\u001b[39m\u001b[38;5;124m\"\u001b[39m\n\u001b[1;32m      4\u001b[0m \u001b[38;5;66;03m# Define X and Y dataframe\u001b[39;00m\n\u001b[0;32m----> 5\u001b[0m dt_XY \u001b[38;5;241m=\u001b[39m data[mask_cd3_density_in][[\u001b[38;5;241m*\u001b[39mx_columns_dist, y_column]]\u001b[38;5;241m.\u001b[39mdropna()\n\u001b[1;32m      6\u001b[0m X_density \u001b[38;5;241m=\u001b[39m dt_XY[x_columns]\u001b[38;5;241m.\u001b[39mvalues  \u001b[38;5;66;03m# X\u001b[39;00m\n\u001b[1;32m      7\u001b[0m X_density_dist \u001b[38;5;241m=\u001b[39m dt_XY[x_columns_dist]\u001b[38;5;241m.\u001b[39mvalues  \u001b[38;5;66;03m# X_dist\u001b[39;00m\n",
      "\u001b[0;31mNameError\u001b[0m: name 'data' is not defined"
     ]
    }
   ],
   "source": [
    "# Target column\n",
    "y_column = \"class_t_enriched_2\"\n",
    "\n",
    "# Define x and y dataframe\n",
    "dt_xy = data[mask_cd3_density_in][[*x_columns_dist, y_column]].dropna()\n",
    "X_density = dt_xy[x_columns].values  # x\n",
    "X_densitY_loc = dt_xy[x_columns_dist].values  # x_loc\n",
    "Y_density = dt_xy[y_column].values  # y\n",
    "\n",
    "# Train and Validation set\n",
    "X_density_train, X_density_test, Y_density_train, Y_density_test = train_test_split(\n",
    "    X_density, Y_density, test_size=0.3, random_state=42, stratify=Y_density\n",
    ")\n",
    "\n",
    "# Train and Validation set (with Angle & Dist)\n",
    "X_densitY_loc_train, X_densitY_loc_test, Y_densitY_loc_train, Y_densitY_loc_test = train_test_split(\n",
    "    X_densitY_loc, Y_density, test_size=0.3, random_state=42, stratify=Y_density\n",
    ")"
   ]
  },
  {
   "cell_type": "code",
   "execution_count": 100,
   "id": "06a20517-70a1-4265-ae6c-bc9883363751",
   "metadata": {},
   "outputs": [
    {
     "name": "stdout",
     "output_type": "stream",
     "text": [
      "----- T enrichie 2 (density20 > 0)-----\n",
      "                  Classe :                        0       1\n"
     ]
    },
    {
     "ename": "NameError",
     "evalue": "name 'Y_density' is not defined",
     "output_type": "error",
     "traceback": [
      "\u001b[0;31m---------------------------------------------------------------------------\u001b[0m",
      "\u001b[0;31mNameError\u001b[0m                                 Traceback (most recent call last)",
      "Cell \u001b[0;32mIn[100], line 3\u001b[0m\n\u001b[1;32m      1\u001b[0m \u001b[38;5;28mprint\u001b[39m(\u001b[38;5;124mf\u001b[39m\u001b[38;5;124m\"\u001b[39m\u001b[38;5;124m----- T enrichie 2 (density20 > 0)-----\u001b[39m\u001b[38;5;124m\"\u001b[39m)\n\u001b[1;32m      2\u001b[0m \u001b[38;5;28mprint\u001b[39m(\u001b[38;5;124mf\u001b[39m\u001b[38;5;124m\"\u001b[39m\u001b[38;5;132;01m{\u001b[39;00m\u001b[38;5;124m'\u001b[39m\u001b[38;5;124mClasse :\u001b[39m\u001b[38;5;124m'\u001b[39m\u001b[38;5;132;01m:\u001b[39;00m\u001b[38;5;124m^45s\u001b[39m\u001b[38;5;132;01m}\u001b[39;00m\u001b[38;5;132;01m{\u001b[39;00m\u001b[38;5;124m'\u001b[39m\u001b[38;5;124m0\u001b[39m\u001b[38;5;124m'\u001b[39m\u001b[38;5;132;01m:\u001b[39;00m\u001b[38;5;124m>6s\u001b[39m\u001b[38;5;132;01m}\u001b[39;00m\u001b[38;5;132;01m{\u001b[39;00m\u001b[38;5;124m'\u001b[39m\u001b[38;5;124m'\u001b[39m\u001b[38;5;132;01m:\u001b[39;00m\u001b[38;5;124m2s\u001b[39m\u001b[38;5;132;01m}\u001b[39;00m\u001b[38;5;132;01m{\u001b[39;00m\u001b[38;5;124m'\u001b[39m\u001b[38;5;124m1\u001b[39m\u001b[38;5;124m'\u001b[39m\u001b[38;5;132;01m:\u001b[39;00m\u001b[38;5;124m>6s\u001b[39m\u001b[38;5;132;01m}\u001b[39;00m\u001b[38;5;124m\"\u001b[39m)\n\u001b[0;32m----> 3\u001b[0m \u001b[38;5;28mprint\u001b[39m(\u001b[38;5;124mf\u001b[39m\u001b[38;5;124m\"\u001b[39m\u001b[38;5;132;01m{\u001b[39;00m\u001b[38;5;124m'\u001b[39m\u001b[38;5;124mComptage des classes au sein de Y:\u001b[39m\u001b[38;5;124m'\u001b[39m\u001b[38;5;132;01m:\u001b[39;00m\u001b[38;5;124m45s\u001b[39m\u001b[38;5;132;01m}\u001b[39;00m\u001b[38;5;132;01m{\u001b[39;00m\u001b[38;5;28msum\u001b[39m(Y_density\u001b[38;5;250m \u001b[39m\u001b[38;5;241m==\u001b[39m\u001b[38;5;250m \u001b[39m\u001b[38;5;241m0\u001b[39m)\u001b[38;5;132;01m:\u001b[39;00m\u001b[38;5;124m>6d\u001b[39m\u001b[38;5;132;01m}\u001b[39;00m\u001b[38;5;132;01m{\u001b[39;00m\u001b[38;5;124m'\u001b[39m\u001b[38;5;124m'\u001b[39m\u001b[38;5;132;01m:\u001b[39;00m\u001b[38;5;124m2s\u001b[39m\u001b[38;5;132;01m}\u001b[39;00m\u001b[38;5;132;01m{\u001b[39;00m\u001b[38;5;28msum\u001b[39m(Y_density\u001b[38;5;250m \u001b[39m\u001b[38;5;241m==\u001b[39m\u001b[38;5;250m \u001b[39m\u001b[38;5;241m1\u001b[39m)\u001b[38;5;132;01m:\u001b[39;00m\u001b[38;5;124m>6d\u001b[39m\u001b[38;5;132;01m}\u001b[39;00m\u001b[38;5;124m\"\u001b[39m)\n\u001b[1;32m      4\u001b[0m \u001b[38;5;28mprint\u001b[39m(\u001b[38;5;124mf\u001b[39m\u001b[38;5;124m\"\u001b[39m\u001b[38;5;132;01m{\u001b[39;00m\u001b[38;5;124m'\u001b[39m\u001b[38;5;124mComptage des classes au sein de Y_train:\u001b[39m\u001b[38;5;124m'\u001b[39m\u001b[38;5;132;01m:\u001b[39;00m\u001b[38;5;124m45s\u001b[39m\u001b[38;5;132;01m}\u001b[39;00m\u001b[38;5;132;01m{\u001b[39;00m\u001b[38;5;28msum\u001b[39m(Y_density_train\u001b[38;5;250m \u001b[39m\u001b[38;5;241m==\u001b[39m\u001b[38;5;250m \u001b[39m\u001b[38;5;241m0\u001b[39m)\u001b[38;5;132;01m:\u001b[39;00m\u001b[38;5;124m>6d\u001b[39m\u001b[38;5;132;01m}\u001b[39;00m\u001b[38;5;132;01m{\u001b[39;00m\u001b[38;5;124m'\u001b[39m\u001b[38;5;124m'\u001b[39m\u001b[38;5;132;01m:\u001b[39;00m\u001b[38;5;124m2s\u001b[39m\u001b[38;5;132;01m}\u001b[39;00m\u001b[38;5;132;01m{\u001b[39;00m\u001b[38;5;28msum\u001b[39m(Y_density_train\u001b[38;5;250m \u001b[39m\u001b[38;5;241m==\u001b[39m\u001b[38;5;250m \u001b[39m\u001b[38;5;241m1\u001b[39m)\u001b[38;5;132;01m:\u001b[39;00m\u001b[38;5;124m>6d\u001b[39m\u001b[38;5;132;01m}\u001b[39;00m\u001b[38;5;124m\"\u001b[39m)\n\u001b[1;32m      5\u001b[0m \u001b[38;5;28mprint\u001b[39m(\u001b[38;5;124mf\u001b[39m\u001b[38;5;124m\"\u001b[39m\u001b[38;5;132;01m{\u001b[39;00m\u001b[38;5;124m'\u001b[39m\u001b[38;5;124mComptage des classes au sein de Y_test:\u001b[39m\u001b[38;5;124m'\u001b[39m\u001b[38;5;132;01m:\u001b[39;00m\u001b[38;5;124m45s\u001b[39m\u001b[38;5;132;01m}\u001b[39;00m\u001b[38;5;132;01m{\u001b[39;00m\u001b[38;5;28msum\u001b[39m(Y_density_test\u001b[38;5;250m \u001b[39m\u001b[38;5;241m==\u001b[39m\u001b[38;5;250m \u001b[39m\u001b[38;5;241m0\u001b[39m)\u001b[38;5;132;01m:\u001b[39;00m\u001b[38;5;124m>6d\u001b[39m\u001b[38;5;132;01m}\u001b[39;00m\u001b[38;5;132;01m{\u001b[39;00m\u001b[38;5;124m'\u001b[39m\u001b[38;5;124m'\u001b[39m\u001b[38;5;132;01m:\u001b[39;00m\u001b[38;5;124m2s\u001b[39m\u001b[38;5;132;01m}\u001b[39;00m\u001b[38;5;132;01m{\u001b[39;00m\u001b[38;5;28msum\u001b[39m(Y_density_test\u001b[38;5;250m \u001b[39m\u001b[38;5;241m==\u001b[39m\u001b[38;5;250m \u001b[39m\u001b[38;5;241m1\u001b[39m)\u001b[38;5;132;01m:\u001b[39;00m\u001b[38;5;124m>6d\u001b[39m\u001b[38;5;132;01m}\u001b[39;00m\u001b[38;5;124m\"\u001b[39m)\n",
      "\u001b[0;31mNameError\u001b[0m: name 'Y_density' is not defined"
     ]
    }
   ],
   "source": [
    "# print(f\"----- T enrichie 2 (density20 > 0)-----\")\n",
    "print(f\"{'Classe :':^45s}{'0':>6s}{'':2s}{'1':>6s}\")\n",
    "print(f\"{'Comptage des classes au sein de y:':45s}{sum(Y_density == 0):>6d}{'':2s}{sum(Y_density == 1):>6d}\")\n",
    "print(f\"{'Comptage des classes au sein de y_train:':45s}{sum(Y_density_train == 0):>6d}{'':2s}{sum(Y_density_train == 1):>6d}\")\n",
    "print(f\"{'Comptage des classes au sein de y_test:':45s}{sum(Y_density_test == 0):>6d}{'':2s}{sum(Y_density_test == 1):>6d}\")\n",
    "print(f\"\\nNombre d'observations totales : {Y_density.shape[0]:_}\")"
   ]
  },
  {
   "cell_type": "markdown",
   "id": "17b9795c-63ec-4958-8b8d-7a143d4cea13",
   "metadata": {},
   "source": [
    "# Arbre de décision"
   ]
  },
  {
   "cell_type": "code",
   "execution_count": null,
   "id": "8c5f9d5c-2d47-40ca-b07c-9bb30541d9ba",
   "metadata": {},
   "outputs": [],
   "source": [
    "# depths_dtree = [2, 4, 6, 8, 10, 15, 20]\n",
    "\n",
    "# Best number of depth\n",
    "results_density_t_enriched_2 = models.forest_depth_acc(\n",
    "    X_density_train, Y_density_train,\n",
    "    X_density_test, Y_density_test,\n",
    "    depths=depths_dtree, \n",
    "    classifier=DecisionTreeClassifier,\n",
    "    class_weight=\"balanced\",\n",
    ")\n",
    "\n",
    "# Best number of depth with Dist & Angle\n",
    "results_densitY_loc_t_enriched_2 = models.forest_depth_acc(\n",
    "    X_densitY_loc_train, Y_densitY_loc_train,\n",
    "    X_densitY_loc_test, Y_densitY_loc_test,\n",
    "    depths=depths_dtree, \n",
    "    classifier=DecisionTreeClassifier,\n",
    "    class_weight=\"balanced\",\n",
    ")"
   ]
  },
  {
   "cell_type": "code",
   "execution_count": 101,
   "id": "e6995063-a678-4217-aa97-e0626d321378",
   "metadata": {},
   "outputs": [
    {
     "ename": "NameError",
     "evalue": "name 'plt' is not defined",
     "output_type": "error",
     "traceback": [
      "\u001b[0;31m---------------------------------------------------------------------------\u001b[0m",
      "\u001b[0;31mNameError\u001b[0m                                 Traceback (most recent call last)",
      "Cell \u001b[0;32mIn[101], line 2\u001b[0m\n\u001b[1;32m      1\u001b[0m \u001b[38;5;66;03m# Plot AUC\u001b[39;00m\n\u001b[0;32m----> 2\u001b[0m fig, (ax1, ax2) \u001b[38;5;241m=\u001b[39m plt\u001b[38;5;241m.\u001b[39msubplots(\u001b[38;5;241m1\u001b[39m, \u001b[38;5;241m2\u001b[39m, figsize\u001b[38;5;241m=\u001b[39m(\u001b[38;5;241m15\u001b[39m, \u001b[38;5;241m8\u001b[39m))\n\u001b[1;32m      3\u001b[0m plots\u001b[38;5;241m.\u001b[39mplot(\n\u001b[1;32m      4\u001b[0m     results_density_t_enriched_2[\u001b[38;5;124m\"\u001b[39m\u001b[38;5;124mauc_train\u001b[39m\u001b[38;5;124m\"\u001b[39m],\n\u001b[1;32m      5\u001b[0m     results_density_t_enriched_2[\u001b[38;5;124m\"\u001b[39m\u001b[38;5;124mauc_test\u001b[39m\u001b[38;5;124m\"\u001b[39m],\n\u001b[0;32m   (...)\u001b[0m\n\u001b[1;32m     11\u001b[0m     ytop\u001b[38;5;241m=\u001b[39m\u001b[38;5;241m1\u001b[39m, ybottom\u001b[38;5;241m=\u001b[39m\u001b[38;5;241m0.55\u001b[39m, figure\u001b[38;5;241m=\u001b[39m(fig, ax1)\n\u001b[1;32m     12\u001b[0m )\n\u001b[1;32m     14\u001b[0m plots\u001b[38;5;241m.\u001b[39mplot(\n\u001b[1;32m     15\u001b[0m     results_density_dist_t_enriched_2[\u001b[38;5;124m\"\u001b[39m\u001b[38;5;124mauc_train\u001b[39m\u001b[38;5;124m\"\u001b[39m],\n\u001b[1;32m     16\u001b[0m     results_density_dist_t_enriched_2[\u001b[38;5;124m\"\u001b[39m\u001b[38;5;124mauc_test\u001b[39m\u001b[38;5;124m\"\u001b[39m],\n\u001b[0;32m   (...)\u001b[0m\n\u001b[1;32m     22\u001b[0m     ytop\u001b[38;5;241m=\u001b[39m\u001b[38;5;241m1\u001b[39m, ybottom\u001b[38;5;241m=\u001b[39m\u001b[38;5;241m0.55\u001b[39m, figure\u001b[38;5;241m=\u001b[39m(fig, ax2)\n\u001b[1;32m     23\u001b[0m )\n",
      "\u001b[0;31mNameError\u001b[0m: name 'plt' is not defined"
     ]
    }
   ],
   "source": [
    "# Plot AUC\n",
    "fig, (ax1, ax2) = plt.subplots(1, 2, figsize=(15, 8))\n",
    "plots.plot(\n",
    "    results_density_t_enriched_2[\"auc_train\"],\n",
    "    results_density_t_enriched_2[\"auc_test\"],\n",
    "    indices=depths_dtree,\n",
    "    label=(\"Train AUC\", \"Test AUC\"),\n",
    "    title=\"T enriched 2 density\\nEvolution de l'AUC selon la profondeur de l'arbre de décision\",\n",
    "    xlabel=\"AUC score\", ylabel=\"Profondeur de l'arbre\",\n",
    "    xticks=depths_dtree, showR2=False, showY=False,\n",
    "    ytop=1, ybottom=0.55, figure=(fig, ax1)\n",
    ")\n",
    "\n",
    "plots.plot(\n",
    "    results_densitY_loc_t_enriched_2[\"auc_train\"],\n",
    "    results_densitY_loc_t_enriched_2[\"auc_test\"],\n",
    "    indices=depths_dtree,\n",
    "    label=(\"Train AUC\", \"Test AUC\"),\n",
    "    title=\"T enriched 2 density\\nEvolution de l'AUC (avec Dist & Angle) selon\\nla profondeur de l'arbre de décision\",\n",
    "    xlabel=\"AUC score\", ylabel=\"Profondeur de l'arbre\",\n",
    "    xticks=depths_dtree, showR2=False, showY=False,\n",
    "    ytop=1, ybottom=0.55, figure=(fig, ax2)\n",
    ")\n",
    "plt.show()\n",
    "\n",
    "# Plot accuracy\n",
    "fig, (ax1, ax2) = plt.subplots(1, 2, figsize=(15, 8))\n",
    "\n",
    "plots.plot(\n",
    "    results_density_t_enriched_2[\"acc_train\"],\n",
    "    results_density_t_enriched_2[\"acc_test\"],\n",
    "    indices=depths_dtree,\n",
    "    label=(\"Train Accuracy\", \"Test Accuracy\"),\n",
    "    title=\"T enriched 2 density\\nEvolution de l'accuracy en fonction de la profondeur de l'arbre de décision\",\n",
    "    xlabel=\"Accuracy\", ylabel=\"Profondeur de l'arbre\",\n",
    "    xticks=depths_dtree, showR2=False, showY=False,\n",
    "    ytop=1, ybottom=0.45, figure=(fig, ax1)\n",
    ")\n",
    "\n",
    "plots.plot(\n",
    "    results_densitY_loc_t_enriched_2[\"acc_train\"],\n",
    "    results_densitY_loc_t_enriched_2[\"acc_test\"],\n",
    "    indices=depths_dtree,\n",
    "    label=(\"Train Accuracy\", \"Test Accuracy\"),\n",
    "    title=\"T enriched 2 density\\nEvolution de l'accuracy (avec Dist & Angle) en fonction de\\nla profondeur de l'arbre de décision\",\n",
    "    xlabel=\"Accuracy\", ylabel=\"Profondeur de l'arbre\",\n",
    "    xticks=depths_dtree, showR2=False, showY=False,\n",
    "    ytop=1, ybottom=0.45, figure=(fig, ax2)\n",
    ")\n",
    "plt.show()"
   ]
  },
  {
   "cell_type": "code",
   "execution_count": null,
   "id": "b46f1c53-a248-4a92-83b0-ef6e6df5839a",
   "metadata": {},
   "outputs": [],
   "source": [
    "# print(\"----- Résumé des performances T plus (density20 > 0), arbre de décision -----\")\n",
    "print(f\"{'Profondeur':<20s}:\", end=\" \") ; [print(f\"{i:<4d}\", end=\"  \") for i in results_density_t_enriched_2[\"depths\"]] ; print(\"\\n\")\n",
    "print(f\"{'AUC_train':<20s}:\", end=\" \") ; [print(f\"{i:<.2f}\", end=\"  \") for i in results_density_t_enriched_2[\"auc_train\"]] ; print()\n",
    "print(f\"{'AUC_test':<20s}:\", end=\" \") ; [print(f\"{i:<.2f}\", end=\"  \") for i in results_density_t_enriched_2[\"auc_test\"]] ; print(\"\\n\")\n",
    "\n",
    "print(f\"{'Accuracy_train':<20s}:\", end=\" \") ; [print(f\"{i:<.2f}\", end=\"  \") for i in results_density_t_enriched_2[\"acc_train\"]] ; print()\n",
    "print(f\"{'Accuracy_test':<20s}:\", end=\" \") ; [print(f\"{i:<.2f}\", end=\"  \") for i in results_density_t_enriched_2[\"acc_test\"]] ; print(\"\\n\")\n",
    "\n",
    "print(\"---\")\n",
    "print(f\"{'AUC_train_dist':<20s}:\", end=\" \") ; [print(f\"{i:<.2f}\", end=\"  \") for i in results_densitY_loc_t_enriched_2[\"auc_train\"]] ; print()\n",
    "print(f\"{'AUC_test_dist':<20s}:\", end=\" \") ; [print(f\"{i:<.2f}\", end=\"  \") for i in results_densitY_loc_t_enriched_2[\"auc_test\"]] ; print(\"\\n\")\n",
    "\n",
    "print(f\"{'Accuracy_train_dist':<20s}:\", end=\" \") ; [print(f\"{i:<.2f}\", end=\"  \") for i in results_densitY_loc_t_enriched_2[\"acc_train\"]] ; print()\n",
    "print(f\"{'Accuracy_test_dist':<20s}:\", end=\" \") ; [print(f\"{i:<.2f}\", end=\"  \") for i in results_densitY_loc_t_enriched_2[\"acc_test\"]] ; print()"
   ]
  },
  {
   "cell_type": "code",
   "execution_count": 102,
   "id": "728bcfd3-e768-4322-b72d-a48285bc537d",
   "metadata": {},
   "outputs": [
    {
     "ename": "NameError",
     "evalue": "name 'DecisionTreeClassifier' is not defined",
     "output_type": "error",
     "traceback": [
      "\u001b[0;31m---------------------------------------------------------------------------\u001b[0m",
      "\u001b[0;31mNameError\u001b[0m                                 Traceback (most recent call last)",
      "Cell \u001b[0;32mIn[102], line 2\u001b[0m\n\u001b[1;32m      1\u001b[0m \u001b[38;5;66;03m# Decision Tree (CART)\u001b[39;00m\n\u001b[0;32m----> 2\u001b[0m clf_density_enriched_2 \u001b[38;5;241m=\u001b[39m DecisionTreeClassifier(\n\u001b[1;32m      3\u001b[0m     criterion\u001b[38;5;241m=\u001b[39m\u001b[38;5;124m\"\u001b[39m\u001b[38;5;124mentropy\u001b[39m\u001b[38;5;124m\"\u001b[39m,\n\u001b[1;32m      4\u001b[0m     max_depth\u001b[38;5;241m=\u001b[39m\u001b[38;5;241m10\u001b[39m,\n\u001b[1;32m      5\u001b[0m     random_state\u001b[38;5;241m=\u001b[39m\u001b[38;5;241m42\u001b[39m,\n\u001b[1;32m      6\u001b[0m     class_weight\u001b[38;5;241m=\u001b[39m\u001b[38;5;124m\"\u001b[39m\u001b[38;5;124mbalanced\u001b[39m\u001b[38;5;124m\"\u001b[39m,\n\u001b[1;32m      7\u001b[0m )\n\u001b[1;32m      9\u001b[0m clf_density_enriched_2\u001b[38;5;241m.\u001b[39mfit(X_density_train, Y_density_train)\n\u001b[1;32m     10\u001b[0m y_density_train_pred \u001b[38;5;241m=\u001b[39m clf_density_enriched_2\u001b[38;5;241m.\u001b[39mpredict(X_density_train)\n",
      "\u001b[0;31mNameError\u001b[0m: name 'DecisionTreeClassifier' is not defined"
     ]
    }
   ],
   "source": [
    "# Decision Tree (CART)\n",
    "dtree_density_enriched_2 = DecisionTreeClassifier(\n",
    "    criterion=\"entropy\",\n",
    "    max_depth=10,\n",
    "    random_state=42,\n",
    "    class_weight=\"balanced\",\n",
    ")\n",
    "\n",
    "dtree_density_enriched_2.fit(X_density_train, Y_density_train)\n",
    "y_density_train_pred = dtree_density_enriched_2.predict(X_density_train)\n",
    "y_density_test_pred = dtree_density_enriched_2.predict(X_density_test)\n",
    "\n",
    "# Decision Tree (CART) with Dist column\n",
    "dtree_densitY_loc_enriched_2 = DecisionTreeClassifier(\n",
    "    criterion=\"entropy\",\n",
    "    max_depth=10,\n",
    "    random_state=42,\n",
    "    class_weight=\"balanced\",\n",
    ")\n",
    "\n",
    "dtree_densitY_loc_enriched_2.fit(X_densitY_loc_train, Y_densitY_loc_train)\n",
    "y_density_loc_train_pred = dtree_densitY_loc_enriched_2.predict(X_densitY_loc_train)\n",
    "y_density_loc_test_pred = dtree_densitY_loc_enriched_2.predict(X_densitY_loc_test)\n",
    "\n",
    "# Performance\n",
    "fpr_train, tpr_train, _ = roc_curve(Y_density_train, y_density_train_pred)\n",
    "fpr_test, tpr_test, _ = roc_curve(Y_density_test, y_density_test_pred)\n",
    "\n",
    "fpr_loc_train, tpr_loc_train, _ = roc_curve(Y_densitY_loc_train, y_density_loc_train_pred)\n",
    "fpr_loc_test, tpr_loc_test, _ = roc_curve(Y_densitY_loc_test, y_density_loc_test_pred)"
   ]
  },
  {
   "cell_type": "code",
   "execution_count": 103,
   "id": "1265c166-75ba-4f41-b13b-45f82df7878b",
   "metadata": {},
   "outputs": [
    {
     "ename": "NameError",
     "evalue": "name 'pd' is not defined",
     "output_type": "error",
     "traceback": [
      "\u001b[0;31m---------------------------------------------------------------------------\u001b[0m",
      "\u001b[0;31mNameError\u001b[0m                                 Traceback (most recent call last)",
      "Cell \u001b[0;32mIn[103], line 1\u001b[0m\n\u001b[0;32m----> 1\u001b[0m labels_class \u001b[38;5;241m=\u001b[39m pd\u001b[38;5;241m.\u001b[39mSeries(clf_density_enriched_2\u001b[38;5;241m.\u001b[39mclasses_)\u001b[38;5;241m.\u001b[39mmap({\u001b[38;5;241m0\u001b[39m: \u001b[38;5;124m'\u001b[39m\u001b[38;5;124mnot_enriched_2\u001b[39m\u001b[38;5;124m'\u001b[39m, \u001b[38;5;241m1\u001b[39m: \u001b[38;5;124m'\u001b[39m\u001b[38;5;124menriched_2\u001b[39m\u001b[38;5;124m'\u001b[39m})\u001b[38;5;241m.\u001b[39mvalues\n",
      "\u001b[0;31mNameError\u001b[0m: name 'pd' is not defined"
     ]
    }
   ],
   "source": [
    "# labels_class = pd.Series(dtree_density_enriched_2.classes_).map({0: 'not_enriched_2', 1: 'enriched_2'}).values"
   ]
  },
  {
   "cell_type": "code",
   "execution_count": 104,
   "id": "8ce22c88-8c6e-45b9-b6da-b1e6af29b585",
   "metadata": {},
   "outputs": [
    {
     "name": "stdout",
     "output_type": "stream",
     "text": [
      "----- Arbre de décision (density20 > 0) -----\n"
     ]
    },
    {
     "ename": "NameError",
     "evalue": "name 'accuracy_score' is not defined",
     "output_type": "error",
     "traceback": [
      "\u001b[0;31m---------------------------------------------------------------------------\u001b[0m",
      "\u001b[0;31mNameError\u001b[0m                                 Traceback (most recent call last)",
      "Cell \u001b[0;32mIn[104], line 3\u001b[0m\n\u001b[1;32m      1\u001b[0m \u001b[38;5;66;03m# Model Accuracy, how often is the classifier correct?\u001b[39;00m\n\u001b[1;32m      2\u001b[0m \u001b[38;5;28mprint\u001b[39m(\u001b[38;5;124m\"\u001b[39m\u001b[38;5;124m----- Arbre de décision (density20 > 0) -----\u001b[39m\u001b[38;5;124m\"\u001b[39m)\n\u001b[0;32m----> 3\u001b[0m \u001b[38;5;28mprint\u001b[39m(\u001b[38;5;124m\"\u001b[39m\u001b[38;5;124mAccuracy Train:\u001b[39m\u001b[38;5;124m\"\u001b[39m, accuracy_score(Y_density_train, y_density_train_pred))\n\u001b[1;32m      4\u001b[0m \u001b[38;5;28mprint\u001b[39m(\u001b[38;5;124m\"\u001b[39m\u001b[38;5;124mAUC Train:\u001b[39m\u001b[38;5;124m\"\u001b[39m, auc(false_pos_rate_train, true_pos_rate_train))\n\u001b[1;32m      5\u001b[0m \u001b[38;5;28mprint\u001b[39m()\n",
      "\u001b[0;31mNameError\u001b[0m: name 'accuracy_score' is not defined"
     ]
    }
   ],
   "source": [
    "# Model Accuracy, how often is the classifier correct?\n",
    "print(\"----- Arbre de décision (density20 > 0) -----\")\n",
    "print(\"Accuracy Train:\", accuracy_score(Y_density_train, y_density_train_pred))\n",
    "print(\"AUC Train:\", auc(fpr_train, tpr_train))\n",
    "print()\n",
    "print(\"Accuracy Test:\", accuracy_score(Y_density_test, y_density_test_pred))\n",
    "print(\"AUC Test:\", auc(fpr_test, tpr_test))\n",
    "print()\n",
    "\n",
    "fig, (ax1, ax2) = plt.subplots(1, 2, figsize=(14, 5))\n",
    "cm = confusion_matrix(Y_density_test, y_density_test_pred)\n",
    "cm2 = confusion_matrix(Y_density_test, y_density_test_pred, normalize=\"true\")\n",
    "ConfusionMatrixDisplay(confusion_matrix=cm, display_labels=labels_class).plot(ax=ax1)\n",
    "ConfusionMatrixDisplay(confusion_matrix=cm2, display_labels=labels_class).plot(ax=ax2)\n",
    "plt.show()"
   ]
  },
  {
   "cell_type": "code",
   "execution_count": 105,
   "id": "17a1cca9-d2e7-4fd2-b7b7-2d0747ae6526",
   "metadata": {},
   "outputs": [
    {
     "name": "stdout",
     "output_type": "stream",
     "text": [
      "Arbre de décision acc, Angle avec Dist\n"
     ]
    },
    {
     "ename": "NameError",
     "evalue": "name 'accuracy_score' is not defined",
     "output_type": "error",
     "traceback": [
      "\u001b[0;31m---------------------------------------------------------------------------\u001b[0m",
      "\u001b[0;31mNameError\u001b[0m                                 Traceback (most recent call last)",
      "Cell \u001b[0;32mIn[105], line 2\u001b[0m\n\u001b[1;32m      1\u001b[0m \u001b[38;5;28mprint\u001b[39m(\u001b[38;5;124m\"\u001b[39m\u001b[38;5;124mArbre de décision acc, Angle avec Dist\u001b[39m\u001b[38;5;124m\"\u001b[39m)\n\u001b[0;32m----> 2\u001b[0m \u001b[38;5;28mprint\u001b[39m(\u001b[38;5;124m\"\u001b[39m\u001b[38;5;124mAccuracy Train:\u001b[39m\u001b[38;5;124m\"\u001b[39m, accuracy_score(Y_density_dist_train, y_density_dist_train_pred))\n\u001b[1;32m      3\u001b[0m \u001b[38;5;28mprint\u001b[39m(\u001b[38;5;124m\"\u001b[39m\u001b[38;5;124mAUC Train:\u001b[39m\u001b[38;5;124m\"\u001b[39m, auc(false_pos_rate_dist_train, true_pos_rate_dist_train))\n\u001b[1;32m      4\u001b[0m \u001b[38;5;28mprint\u001b[39m()\n",
      "\u001b[0;31mNameError\u001b[0m: name 'accuracy_score' is not defined"
     ]
    }
   ],
   "source": [
    "# print(\"Arbre de décision acc, Angle avec Dist\")\n",
    "print(\"Accuracy Train:\", accuracy_score(Y_densitY_loc_train, y_density_loc_train_pred))\n",
    "print(\"AUC Train:\", auc(fpr_loc_train, tpr_loc_train))\n",
    "print()\n",
    "print(\"Accuracy Test:\", accuracy_score(Y_densitY_loc_test, y_density_loc_test_pred))\n",
    "print(\"AUC Test:\", auc(fpr_loc_test, tpr_loc_test))\n",
    "\n",
    "fig, (ax1, ax2) = plt.subplots(1, 2, figsize=(14, 5))\n",
    "cm_dist = confusion_matrix(Y_densitY_loc_train, y_density_loc_train_pred)\n",
    "cm2_dist = confusion_matrix(Y_densitY_loc_train, y_density_loc_train_pred, normalize=\"true\")\n",
    "ConfusionMatrixDisplay(confusion_matrix=cm_dist, display_labels=labels_class).plot(ax=ax1)\n",
    "ConfusionMatrixDisplay(confusion_matrix=cm2_dist, display_labels=labels_class).plot(ax=ax2)\n",
    "plt.show()"
   ]
  },
  {
   "cell_type": "code",
   "execution_count": 106,
   "id": "304d36fd-9fcd-4b7a-839a-e5e185f593fb",
   "metadata": {},
   "outputs": [
    {
     "ename": "NameError",
     "evalue": "name 'plt' is not defined",
     "output_type": "error",
     "traceback": [
      "\u001b[0;31m---------------------------------------------------------------------------\u001b[0m",
      "\u001b[0;31mNameError\u001b[0m                                 Traceback (most recent call last)",
      "Cell \u001b[0;32mIn[106], line 2\u001b[0m\n\u001b[1;32m      1\u001b[0m \u001b[38;5;66;03m# Arbre de Décision\u001b[39;00m\n\u001b[0;32m----> 2\u001b[0m fig \u001b[38;5;241m=\u001b[39m plt\u001b[38;5;241m.\u001b[39mfigure(figsize\u001b[38;5;241m=\u001b[39m(\u001b[38;5;241m10\u001b[39m, \u001b[38;5;241m30\u001b[39m))\n\u001b[1;32m      3\u001b[0m dot_data \u001b[38;5;241m=\u001b[39m tree\u001b[38;5;241m.\u001b[39mexport_graphviz(\n\u001b[1;32m      4\u001b[0m     clf_density_enriched_2,\n\u001b[1;32m      5\u001b[0m     feature_names\u001b[38;5;241m=\u001b[39mx_columns,\n\u001b[1;32m      6\u001b[0m     class_names\u001b[38;5;241m=\u001b[39mlabels_class,\n\u001b[1;32m      7\u001b[0m     filled\u001b[38;5;241m=\u001b[39m\u001b[38;5;28;01mTrue\u001b[39;00m\n\u001b[1;32m      8\u001b[0m )\n\u001b[1;32m      9\u001b[0m graph \u001b[38;5;241m=\u001b[39m graphviz\u001b[38;5;241m.\u001b[39mSource(dot_data, \u001b[38;5;28mformat\u001b[39m\u001b[38;5;241m=\u001b[39m\u001b[38;5;124m\"\u001b[39m\u001b[38;5;124mpng\u001b[39m\u001b[38;5;124m\"\u001b[39m)\n",
      "\u001b[0;31mNameError\u001b[0m: name 'plt' is not defined"
     ]
    }
   ],
   "source": [
    "# Arbre de Décision\n",
    "fig = plt.figure(figsize=(10, 30))\n",
    "dot_data = tree.export_graphviz(\n",
    "    dtree_density_enriched_2,\n",
    "    feature_names=x_columns,\n",
    "    class_names=labels_class,\n",
    "    filled=True\n",
    ")\n",
    "graph = graphviz.Source(dot_data, format=\"png\")\n",
    "#graph.render(\"../out/KI_decision_tree_density_t-plus_dist\")\n",
    "graph"
   ]
  },
  {
   "cell_type": "code",
   "execution_count": 107,
   "id": "e4a025f1-077a-466c-a338-6fd9b03f8aa2",
   "metadata": {},
   "outputs": [
    {
     "ename": "NameError",
     "evalue": "name 'plt' is not defined",
     "output_type": "error",
     "traceback": [
      "\u001b[0;31m---------------------------------------------------------------------------\u001b[0m",
      "\u001b[0;31mNameError\u001b[0m                                 Traceback (most recent call last)",
      "Cell \u001b[0;32mIn[107], line 2\u001b[0m\n\u001b[1;32m      1\u001b[0m \u001b[38;5;66;03m# Arbre de décision avec l'ajout de Dist & Angle\u001b[39;00m\n\u001b[0;32m----> 2\u001b[0m fig \u001b[38;5;241m=\u001b[39m plt\u001b[38;5;241m.\u001b[39mfigure(figsize\u001b[38;5;241m=\u001b[39m(\u001b[38;5;241m10\u001b[39m, \u001b[38;5;241m30\u001b[39m))\n\u001b[1;32m      3\u001b[0m dot_data \u001b[38;5;241m=\u001b[39m tree\u001b[38;5;241m.\u001b[39mexport_graphviz(\n\u001b[1;32m      4\u001b[0m     clf_density_dist_enriched_2,\n\u001b[1;32m      5\u001b[0m     feature_names\u001b[38;5;241m=\u001b[39mx_columns_dist,\n\u001b[1;32m      6\u001b[0m     class_names\u001b[38;5;241m=\u001b[39mlabels_class,\n\u001b[1;32m      7\u001b[0m     filled\u001b[38;5;241m=\u001b[39m\u001b[38;5;28;01mTrue\u001b[39;00m\n\u001b[1;32m      8\u001b[0m )\n\u001b[1;32m     10\u001b[0m graph \u001b[38;5;241m=\u001b[39m graphviz\u001b[38;5;241m.\u001b[39mSource(dot_data, \u001b[38;5;28mformat\u001b[39m\u001b[38;5;241m=\u001b[39m\u001b[38;5;124m\"\u001b[39m\u001b[38;5;124mpng\u001b[39m\u001b[38;5;124m\"\u001b[39m)\n",
      "\u001b[0;31mNameError\u001b[0m: name 'plt' is not defined"
     ]
    }
   ],
   "source": [
    "# Arbre de décision avec l'ajout de Dist & Angle\n",
    "fig = plt.figure(figsize=(10, 30))\n",
    "dot_data = tree.export_graphviz(\n",
    "    dtree_densitY_loc_enriched_2,\n",
    "    feature_names=x_columns_dist,\n",
    "    class_names=labels_class,\n",
    "    filled=True\n",
    ")\n",
    "\n",
    "graph = graphviz.Source(dot_data, format=\"png\")\n",
    "graph.render(\"../out/KI_decision_tree_density_t-plus_dist\")\n",
    "graph"
   ]
  },
  {
   "cell_type": "markdown",
   "id": "8e6b92d5-3aa0-4160-bcc5-9f9f9451d9a9",
   "metadata": {},
   "source": [
    "# Random Forest"
   ]
  },
  {
   "cell_type": "code",
   "execution_count": 108,
   "id": "e8045aaa-a017-4be8-94e5-35286ac09dfb",
   "metadata": {},
   "outputs": [
    {
     "ename": "NameError",
     "evalue": "name 'models' is not defined",
     "output_type": "error",
     "traceback": [
      "\u001b[0;31m---------------------------------------------------------------------------\u001b[0m",
      "\u001b[0;31mNameError\u001b[0m                                 Traceback (most recent call last)",
      "Cell \u001b[0;32mIn[108], line 2\u001b[0m\n\u001b[1;32m      1\u001b[0m max_depths_rd \u001b[38;5;241m=\u001b[39m [\u001b[38;5;241m2\u001b[39m, \u001b[38;5;241m6\u001b[39m, \u001b[38;5;241m10\u001b[39m, \u001b[38;5;241m15\u001b[39m, \u001b[38;5;241m20\u001b[39m]\n\u001b[0;32m----> 2\u001b[0m results_density_t_enriched_2_rf \u001b[38;5;241m=\u001b[39m models\u001b[38;5;241m.\u001b[39mforest_depth_acc(\n\u001b[1;32m      3\u001b[0m     X_density_train, Y_density_train,\n\u001b[1;32m      4\u001b[0m     X_density_test, Y_density_test,\n\u001b[1;32m      5\u001b[0m     depths\u001b[38;5;241m=\u001b[39mmax_depths_rd, \n\u001b[1;32m      6\u001b[0m     classifier\u001b[38;5;241m=\u001b[39mRandomForestClassifier,\n\u001b[1;32m      7\u001b[0m     n_estimators \u001b[38;5;241m=\u001b[39m \u001b[38;5;241m100\u001b[39m,\n\u001b[1;32m      8\u001b[0m     class_weight\u001b[38;5;241m=\u001b[39m\u001b[38;5;124m\"\u001b[39m\u001b[38;5;124mbalanced\u001b[39m\u001b[38;5;124m\"\u001b[39m,\n\u001b[1;32m      9\u001b[0m     n_jobs\u001b[38;5;241m=\u001b[39m\u001b[38;5;241m-\u001b[39m\u001b[38;5;241m1\u001b[39m\n\u001b[1;32m     10\u001b[0m )\n\u001b[1;32m     12\u001b[0m results_density_dist_t_enriched_2_rf \u001b[38;5;241m=\u001b[39m models\u001b[38;5;241m.\u001b[39mforest_depth_acc(\n\u001b[1;32m     13\u001b[0m     X_density_dist_train, Y_density_dist_train,\n\u001b[1;32m     14\u001b[0m     X_density_dist_test, Y_density_dist_test,\n\u001b[0;32m   (...)\u001b[0m\n\u001b[1;32m     19\u001b[0m     n_jobs\u001b[38;5;241m=\u001b[39m\u001b[38;5;241m-\u001b[39m\u001b[38;5;241m1\u001b[39m\n\u001b[1;32m     20\u001b[0m )\n",
      "\u001b[0;31mNameError\u001b[0m: name 'models' is not defined"
     ]
    }
   ],
   "source": [
    "# max_depths_rd = [2, 6, 10, 15, 20]\n",
    "results_density_t_enriched_2_rf = models.forest_depth_acc(\n",
    "    X_density_train, Y_density_train,\n",
    "    X_density_test, Y_density_test,\n",
    "    depths=max_depths_rd, \n",
    "    classifier=RandomForestClassifier,\n",
    "    n_estimators = 100,\n",
    "    class_weight=\"balanced\",\n",
    "    n_jobs=-1\n",
    ")\n",
    "\n",
    "results_densitY_loc_t_enriched_2_rf = models.forest_depth_acc(\n",
    "    X_densitY_loc_train, Y_densitY_loc_train,\n",
    "    X_densitY_loc_test, Y_densitY_loc_test,\n",
    "    depths=max_depths_rd, \n",
    "    classifier=RandomForestClassifier,\n",
    "    n_estimators = 100,\n",
    "    class_weight=\"balanced\",\n",
    "    n_jobs=-1\n",
    ")"
   ]
  },
  {
   "cell_type": "code",
   "execution_count": 109,
   "id": "c276be14-98be-48d6-99f7-0ca9841442a7",
   "metadata": {},
   "outputs": [
    {
     "ename": "NameError",
     "evalue": "name 'plt' is not defined",
     "output_type": "error",
     "traceback": [
      "\u001b[0;31m---------------------------------------------------------------------------\u001b[0m",
      "\u001b[0;31mNameError\u001b[0m                                 Traceback (most recent call last)",
      "Cell \u001b[0;32mIn[109], line 2\u001b[0m\n\u001b[1;32m      1\u001b[0m \u001b[38;5;66;03m# Plot\u001b[39;00m\n\u001b[0;32m----> 2\u001b[0m fig, (ax1, ax2) \u001b[38;5;241m=\u001b[39m plt\u001b[38;5;241m.\u001b[39msubplots(\u001b[38;5;241m1\u001b[39m, \u001b[38;5;241m2\u001b[39m, figsize\u001b[38;5;241m=\u001b[39m(\u001b[38;5;241m15\u001b[39m, \u001b[38;5;241m8\u001b[39m))\n\u001b[1;32m      4\u001b[0m plots\u001b[38;5;241m.\u001b[39mplot(\n\u001b[1;32m      5\u001b[0m     results_density_t_enriched_2_rf[\u001b[38;5;124m\"\u001b[39m\u001b[38;5;124mauc_train\u001b[39m\u001b[38;5;124m\"\u001b[39m],\n\u001b[1;32m      6\u001b[0m     results_density_t_enriched_2_rf[\u001b[38;5;124m\"\u001b[39m\u001b[38;5;124mauc_test\u001b[39m\u001b[38;5;124m\"\u001b[39m],\n\u001b[0;32m   (...)\u001b[0m\n\u001b[1;32m     12\u001b[0m     ytop\u001b[38;5;241m=\u001b[39m\u001b[38;5;241m1\u001b[39m, ybottom\u001b[38;5;241m=\u001b[39m\u001b[38;5;241m0.58\u001b[39m, figure\u001b[38;5;241m=\u001b[39m(fig, ax1)\n\u001b[1;32m     13\u001b[0m )\n\u001b[1;32m     15\u001b[0m plots\u001b[38;5;241m.\u001b[39mplot(\n\u001b[1;32m     16\u001b[0m     results_density_dist_t_enriched_2_rf[\u001b[38;5;124m\"\u001b[39m\u001b[38;5;124mauc_train\u001b[39m\u001b[38;5;124m\"\u001b[39m],\n\u001b[1;32m     17\u001b[0m     results_density_dist_t_enriched_2_rf[\u001b[38;5;124m\"\u001b[39m\u001b[38;5;124mauc_test\u001b[39m\u001b[38;5;124m\"\u001b[39m],\n\u001b[0;32m   (...)\u001b[0m\n\u001b[1;32m     23\u001b[0m     ytop\u001b[38;5;241m=\u001b[39m\u001b[38;5;241m1\u001b[39m, ybottom\u001b[38;5;241m=\u001b[39m\u001b[38;5;241m0.58\u001b[39m, figure\u001b[38;5;241m=\u001b[39m(fig, ax2)\n\u001b[1;32m     24\u001b[0m )\n",
      "\u001b[0;31mNameError\u001b[0m: name 'plt' is not defined"
     ]
    }
   ],
   "source": [
    "# Plot\n",
    "fig, (ax1, ax2) = plt.subplots(1, 2, figsize=(15, 8))\n",
    "\n",
    "plots.plot(\n",
    "    results_density_t_enriched_2_rf[\"auc_train\"],\n",
    "    results_density_t_enriched_2_rf[\"auc_test\"],\n",
    "    indices=results_density_t_enriched_2_rf[\"depths\"],\n",
    "    label=(\"Train AUC\", \"Test AUC\"),\n",
    "    title=\"T enriched 2 density\\nEvolution de l'AUC selon la profondeur des arbres\\ndu RandomForest\",\n",
    "    xlabel=\"AUC\", ylabel=\"Profondeur de l'arbre\",\n",
    "    xticks=results_density_t_enriched_2_rf[\"depths\"], showR2=False, showY=False,\n",
    "    ytop=1, ybottom=0.58, figure=(fig, ax1)\n",
    ")\n",
    "\n",
    "plots.plot(\n",
    "    results_densitY_loc_t_enriched_2_rf[\"auc_train\"],\n",
    "    results_densitY_loc_t_enriched_2_rf[\"auc_test\"],\n",
    "    indices=results_densitY_loc_t_enriched_2_rf[\"depths\"],\n",
    "    label=(\"Train AUC\", \"Test AUC\"),\n",
    "    title=\"T enriched 2 density\\nEvolution de l'AUC (avec Dist & Angle) selon la profondeur des arbres\\ndu RandomForest\",\n",
    "    xlabel=\"AUC\", ylabel=\"Profondeur de l'arbre\",\n",
    "    xticks=results_densitY_loc_t_enriched_2_rf[\"depths\"], showR2=False, showY=False,\n",
    "    ytop=1, ybottom=0.58, figure=(fig, ax2)\n",
    ")\n",
    "\n",
    "plt.show()\n",
    "\n",
    "# Plot\n",
    "fig, (ax1, ax2) = plt.subplots(1, 2, figsize=(15, 8))\n",
    "\n",
    "plots.plot(\n",
    "    results_density_t_enriched_2_rf[\"acc_train\"],\n",
    "    results_density_t_enriched_2_rf[\"acc_test\"],\n",
    "    indices=results_density_t_enriched_2_rf[\"depths\"],\n",
    "    label=(\"Train Accuracy\", \"Test Accuracy\"),\n",
    "    title=\"T enriched 2 density\\nEvolution de l'accuracy selon la profondeur des arbres\\ndu RandomForest\",\n",
    "    xlabel=\"Accuracy\", ylabel=\"Profondeur de l'arbre\",\n",
    "    xticks=results_density_t_enriched_2_rf[\"depths\"], showR2=False, showY=False,\n",
    "    ytop=1, ybottom=0.65, figure=(fig, ax1)\n",
    ")\n",
    "\n",
    "plots.plot(\n",
    "    results_densitY_loc_t_enriched_2_rf[\"acc_train\"],\n",
    "    results_densitY_loc_t_enriched_2_rf[\"acc_test\"],\n",
    "    indices=results_densitY_loc_t_enriched_2_rf[\"depths\"],\n",
    "    label=(\"Train Accuracy\", \"Test Accuracy\"),\n",
    "    title=\"T enriched 2 density\\nEvolution de l'Accuracy (avec Dist & Angle) selon la profondeur des arbres\\ndu RandomForest\",\n",
    "    xlabel=\"Accuracy\", ylabel=\"Profondeur de l'arbre\",\n",
    "    xticks=results_densitY_loc_t_enriched_2_rf[\"depths\"], showR2=False, showY=False,\n",
    "    ytop=1, ybottom=0.65, figure=(fig, ax2)\n",
    ")\n",
    "\n",
    "plt.show()"
   ]
  },
  {
   "cell_type": "code",
   "execution_count": null,
   "id": "5225ecda-6682-4a72-bcea-50e1337d38fe",
   "metadata": {},
   "outputs": [],
   "source": [
    "# print(\"----- Résumé des performances T plus (density20 > 0), arbre de décision -----\")\n",
    "print(f\"{'Profondeur':<20s}:\", end=\" \") ; [print(f\"{i:<4d}\", end=\"  \") for i in results_density_t_enriched_2_rf[\"depths\"]] ; print(\"\\n\")\n",
    "print(f\"{'AUC_train':<20s}:\", end=\" \") ; [print(f\"{i:<.2f}\", end=\"  \") for i in results_density_t_enriched_2_rf[\"auc_train\"]] ; print()\n",
    "print(f\"{'AUC_test':<20s}:\", end=\" \") ; [print(f\"{i:<.2f}\", end=\"  \") for i in results_density_t_enriched_2_rf[\"auc_test\"]] ; print(\"\\n\")\n",
    "\n",
    "print(f\"{'Accuracy_train':<20s}:\", end=\" \") ; [print(f\"{i:<.2f}\", end=\"  \") for i in results_density_t_enriched_2_rf[\"acc_train\"]] ; print()\n",
    "print(f\"{'Accuracy_test':<20s}:\", end=\" \") ; [print(f\"{i:<.2f}\", end=\"  \") for i in results_density_t_enriched_2_rf[\"acc_test\"]] ; print(\"\\n\")\n",
    "\n",
    "print(\"---\")\n",
    "print(f\"{'AUC_train_dist':<20s}:\", end=\" \") ; [print(f\"{i:<.2f}\", end=\"  \") for i in results_densitY_loc_t_enriched_2_rf[\"auc_train\"]] ; print()\n",
    "print(f\"{'AUC_test_dist':<20s}:\", end=\" \") ; [print(f\"{i:<.2f}\", end=\"  \") for i in results_densitY_loc_t_enriched_2_rf[\"auc_test\"]] ; print(\"\\n\")\n",
    "\n",
    "print(f\"{'Accuracy_train_dist':<20s}:\", end=\" \") ; [print(f\"{i:<.2f}\", end=\"  \") for i in results_densitY_loc_t_enriched_2_rf[\"acc_train\"]] ; print()\n",
    "print(f\"{'Accuracy_test_dist':<20s}:\", end=\" \") ; [print(f\"{i:<.2f}\", end=\"  \") for i in results_densitY_loc_t_enriched_2_rf[\"acc_test\"]] ; print()"
   ]
  },
  {
   "cell_type": "code",
   "execution_count": 110,
   "id": "2dcf0476-45d5-4f9c-8e62-314a3470240f",
   "metadata": {},
   "outputs": [
    {
     "ename": "NameError",
     "evalue": "name 'models' is not defined",
     "output_type": "error",
     "traceback": [
      "\u001b[0;31m---------------------------------------------------------------------------\u001b[0m",
      "\u001b[0;31mNameError\u001b[0m                                 Traceback (most recent call last)",
      "Cell \u001b[0;32mIn[110], line 2\u001b[0m\n\u001b[1;32m      1\u001b[0m \u001b[38;5;66;03m# RandomForest model\u001b[39;00m\n\u001b[0;32m----> 2\u001b[0m results_density_enriched_2 \u001b[38;5;241m=\u001b[39m models\u001b[38;5;241m.\u001b[39mperform_random_forest(\n\u001b[1;32m      3\u001b[0m     X_train\u001b[38;5;241m=\u001b[39mX_density_train,\n\u001b[1;32m      4\u001b[0m     X_test\u001b[38;5;241m=\u001b[39mX_density_test,\n\u001b[1;32m      5\u001b[0m     y_train\u001b[38;5;241m=\u001b[39mY_density_train,\n\u001b[1;32m      6\u001b[0m     y_test\u001b[38;5;241m=\u001b[39mY_density_test,\n\u001b[1;32m      7\u001b[0m     columns\u001b[38;5;241m=\u001b[39mx_columns,\n\u001b[1;32m      8\u001b[0m     n_estimators\u001b[38;5;241m=\u001b[39m(\u001b[38;5;241m10\u001b[39m, \u001b[38;5;241m15\u001b[39m, \u001b[38;5;241m20\u001b[39m, \u001b[38;5;241m30\u001b[39m),\n\u001b[1;32m      9\u001b[0m     n_depths\u001b[38;5;241m=\u001b[39m(\u001b[38;5;241m2\u001b[39m, \u001b[38;5;241m4\u001b[39m, \u001b[38;5;241m8\u001b[39m, \u001b[38;5;241m10\u001b[39m, \u001b[38;5;241m15\u001b[39m),\n\u001b[1;32m     10\u001b[0m     class_weight\u001b[38;5;241m=\u001b[39m\u001b[38;5;124m\"\u001b[39m\u001b[38;5;124mbalanced\u001b[39m\u001b[38;5;124m\"\u001b[39m,\n\u001b[1;32m     11\u001b[0m     scale\u001b[38;5;241m=\u001b[39m\u001b[38;5;28;01mFalse\u001b[39;00m\n\u001b[1;32m     12\u001b[0m )\n\u001b[1;32m     14\u001b[0m rf_density_enriched_2 \u001b[38;5;241m=\u001b[39m results_density_enriched_2[\u001b[38;5;124m\"\u001b[39m\u001b[38;5;124mmodel\u001b[39m\u001b[38;5;124m\"\u001b[39m]\n",
      "\u001b[0;31mNameError\u001b[0m: name 'models' is not defined"
     ]
    }
   ],
   "source": [
    "# RandomForest model\n",
    "results_density_enriched_2 = models.perform_random_forest(\n",
    "    x_train=X_density_train,\n",
    "    x_test=X_density_test,\n",
    "    y_train=Y_density_train,\n",
    "    y_test=Y_density_test,\n",
    "    columns=x_columns,\n",
    "    n_estimators=(10, 15, 20, 30),\n",
    "    n_depths=(2, 4, 8, 10, 15),\n",
    "    class_weight=\"balanced\",\n",
    "    scale=False\n",
    ")\n",
    "\n",
    "rf_density_enriched_2 = results_density_enriched_2[\"model\"]"
   ]
  },
  {
   "cell_type": "code",
   "execution_count": 111,
   "id": "1cb33ec9-4146-4c8a-a5e3-a2363d1080ea",
   "metadata": {},
   "outputs": [
    {
     "ename": "NameError",
     "evalue": "name 'pd' is not defined",
     "output_type": "error",
     "traceback": [
      "\u001b[0;31m---------------------------------------------------------------------------\u001b[0m",
      "\u001b[0;31mNameError\u001b[0m                                 Traceback (most recent call last)",
      "Cell \u001b[0;32mIn[111], line 1\u001b[0m\n\u001b[0;32m----> 1\u001b[0m df_mdi \u001b[38;5;241m=\u001b[39m pd\u001b[38;5;241m.\u001b[39mDataFrame(\n\u001b[1;32m      2\u001b[0m     {\n\u001b[1;32m      3\u001b[0m         \u001b[38;5;124m\"\u001b[39m\u001b[38;5;124mmean\u001b[39m\u001b[38;5;124m\"\u001b[39m: results_density_plus[\u001b[38;5;124m\"\u001b[39m\u001b[38;5;124mimportance_mdi\u001b[39m\u001b[38;5;124m\"\u001b[39m][\u001b[38;5;124m\"\u001b[39m\u001b[38;5;124mmean\u001b[39m\u001b[38;5;124m\"\u001b[39m],\n\u001b[1;32m      4\u001b[0m         \u001b[38;5;124m\"\u001b[39m\u001b[38;5;124mstd\u001b[39m\u001b[38;5;124m\"\u001b[39m: results_density_plus[\u001b[38;5;124m\"\u001b[39m\u001b[38;5;124mimportance_mdi\u001b[39m\u001b[38;5;124m\"\u001b[39m][\u001b[38;5;124m\"\u001b[39m\u001b[38;5;124mstd\u001b[39m\u001b[38;5;124m\"\u001b[39m]\n\u001b[1;32m      5\u001b[0m     }, index\u001b[38;5;241m=\u001b[39mx_columns\n\u001b[1;32m      6\u001b[0m )\n\u001b[1;32m      8\u001b[0m df_mdi\u001b[38;5;241m.\u001b[39mto_csv(\u001b[38;5;124m\"\u001b[39m\u001b[38;5;124mWT_CD3_t-plus_density_importance-mdi.csv\u001b[39m\u001b[38;5;124m\"\u001b[39m)\n\u001b[1;32m     10\u001b[0m df_permutation \u001b[38;5;241m=\u001b[39m pd\u001b[38;5;241m.\u001b[39mDataFrame(\n\u001b[1;32m     11\u001b[0m     {\n\u001b[1;32m     12\u001b[0m         \u001b[38;5;124m\"\u001b[39m\u001b[38;5;124mmean\u001b[39m\u001b[38;5;124m\"\u001b[39m: results_density_plus[\u001b[38;5;124m\"\u001b[39m\u001b[38;5;124mimportance_permutation\u001b[39m\u001b[38;5;124m\"\u001b[39m][\u001b[38;5;124m\"\u001b[39m\u001b[38;5;124mmean\u001b[39m\u001b[38;5;124m\"\u001b[39m],\n\u001b[1;32m     13\u001b[0m         \u001b[38;5;124m\"\u001b[39m\u001b[38;5;124mstd\u001b[39m\u001b[38;5;124m\"\u001b[39m: results_density_plus[\u001b[38;5;124m\"\u001b[39m\u001b[38;5;124mimportance_permutation\u001b[39m\u001b[38;5;124m\"\u001b[39m][\u001b[38;5;124m\"\u001b[39m\u001b[38;5;124mstd\u001b[39m\u001b[38;5;124m\"\u001b[39m]\n\u001b[1;32m     14\u001b[0m     }, index\u001b[38;5;241m=\u001b[39mx_columns\n\u001b[1;32m     15\u001b[0m )\n",
      "\u001b[0;31mNameError\u001b[0m: name 'pd' is not defined"
     ]
    }
   ],
   "source": [
    "# df_mdi = pd.DataFrame(\n",
    "    {\n",
    "        \"mean\": results_density_plus[\"importance_mdi\"][\"mean\"],\n",
    "        \"std\": results_density_plus[\"importance_mdi\"][\"std\"]\n",
    "    }, index=x_columns\n",
    ")\n",
    "\n",
    "df_mdi.to_csv(\"WT_CD3_t-plus_density_importance-mdi.csv\")\n",
    "\n",
    "df_permutation = pd.DataFrame(\n",
    "    {\n",
    "        \"mean\": results_density_plus[\"importance_permutation\"][\"mean\"],\n",
    "        \"std\": results_density_plus[\"importance_permutation\"][\"std\"]\n",
    "    }, index=x_columns\n",
    ")\n",
    "\n",
    "df_permutation.to_csv(\"WT_CD3_t-plus_density_importance-permutation.csv\")"
   ]
  }
 ],
 "metadata": {
  "kernelspec": {
   "display_name": "Python 3 (ipykernel)",
   "language": "python",
   "name": "python3"
  },
  "language_info": {
   "codemirror_mode": {
    "name": "ipython",
    "version": 3
   },
   "file_extension": ".py",
   "mimetype": "text/x-python",
   "name": "python",
   "nbconvert_exporter": "python",
   "pygments_lexer": "ipython3",
   "version": "3.11.5"
  }
 },
 "nbformat": 4,
 "nbformat_minor": 5
}
